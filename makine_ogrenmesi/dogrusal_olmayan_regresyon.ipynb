{
 "cells": [
  {
   "cell_type": "markdown",
   "id": "bf810afc-9ae0-4750-930f-1bcd103b2de2",
   "metadata": {},
   "source": [
    "# Doğrusal Olmayan Regresyon Modelleri"
   ]
  },
  {
   "cell_type": "code",
   "execution_count": 1,
   "id": "332512be-204c-41c1-955d-dd21f796ada7",
   "metadata": {},
   "outputs": [],
   "source": [
    "import numpy as np\n",
    "import pandas as pd \n",
    "from sklearn.model_selection import train_test_split, GridSearchCV\n",
    "from sklearn.metrics import mean_squared_error, r2_score\n",
    "import matplotlib.pyplot as plt\n",
    "from sklearn.preprocessing import scale \n",
    "from sklearn.preprocessing import StandardScaler\n",
    "from sklearn import model_selection\n",
    "from sklearn.linear_model import LinearRegression\n",
    "from sklearn.tree import DecisionTreeRegressor\n",
    "from sklearn.neighbors import KNeighborsRegressor\n",
    "from sklearn.neural_network import MLPRegressor\n",
    "from sklearn.ensemble import RandomForestRegressor\n",
    "from sklearn.ensemble import GradientBoostingRegressor\n",
    "from sklearn import neighbors\n",
    "from sklearn.svm import SVR\n",
    "#Gerekli kütüphaneleri import ettik"
   ]
  },
  {
   "cell_type": "code",
   "execution_count": 2,
   "id": "08d1ef12-452d-4e2e-9a0c-9cd29a8fa39e",
   "metadata": {},
   "outputs": [],
   "source": [
    "from warnings import filterwarnings\n",
    "filterwarnings('ignore')"
   ]
  },
  {
   "cell_type": "markdown",
   "id": "481db501-db39-4ef3-ac6d-20458aa50aaf",
   "metadata": {},
   "source": [
    "# KNN (K En Yakın Komşu)"
   ]
  },
  {
   "cell_type": "code",
   "execution_count": 65,
   "id": "2230f6ec-99ad-40ca-aa4c-2b119fd2c710",
   "metadata": {},
   "outputs": [],
   "source": [
    "df = pd.read_csv(\"Hitters.csv\")\n",
    "#veri setimizi okuttuk\n",
    "df = df.dropna()\n",
    "#eksik değerleri sildik.\n",
    "dms = pd.get_dummies(df[['League', 'Division', 'NewLeague']])\n",
    "#kategorik değişkenleri kukla değişkenlere çevirdik.\n",
    "y = df[\"Salary\"]\n",
    "#bağımlı değişkenimizi belirledik.\n",
    "X_ = df.drop(['Salary', 'League', 'Division', 'NewLeague'], axis=1).astype('float64')\n",
    "#bağımlı değişkeni ve diğer kategorik değişkenlerin asıl halini silmiş olduk.\n",
    "X = pd.concat([X_, dms[['League_N', 'Division_W', 'NewLeague_N']]], axis=1)\n",
    "#bağımsız değişkenlerimizi oluşturmak için kukla değişkenleri ve kalan değerlerimizi birleştirdik.\n",
    "X_train, X_test, y_train, y_test = train_test_split(X, y, test_size=0.25, random_state=42)\n",
    "#veri setini train ve test olarak ayırdık."
   ]
  },
  {
   "cell_type": "code",
   "execution_count": 66,
   "id": "6cd05a30-bfd3-41a9-9146-44ca7bd2361b",
   "metadata": {},
   "outputs": [
    {
     "data": {
      "text/html": [
       "<div>\n",
       "<style scoped>\n",
       "    .dataframe tbody tr th:only-of-type {\n",
       "        vertical-align: middle;\n",
       "    }\n",
       "\n",
       "    .dataframe tbody tr th {\n",
       "        vertical-align: top;\n",
       "    }\n",
       "\n",
       "    .dataframe thead th {\n",
       "        text-align: right;\n",
       "    }\n",
       "</style>\n",
       "<table border=\"1\" class=\"dataframe\">\n",
       "  <thead>\n",
       "    <tr style=\"text-align: right;\">\n",
       "      <th></th>\n",
       "      <th>AtBat</th>\n",
       "      <th>Hits</th>\n",
       "      <th>HmRun</th>\n",
       "      <th>Runs</th>\n",
       "      <th>RBI</th>\n",
       "      <th>Walks</th>\n",
       "      <th>Years</th>\n",
       "      <th>CAtBat</th>\n",
       "      <th>CHits</th>\n",
       "      <th>CHmRun</th>\n",
       "      <th>CRuns</th>\n",
       "      <th>CRBI</th>\n",
       "      <th>CWalks</th>\n",
       "      <th>PutOuts</th>\n",
       "      <th>Assists</th>\n",
       "      <th>Errors</th>\n",
       "      <th>League_N</th>\n",
       "      <th>Division_W</th>\n",
       "      <th>NewLeague_N</th>\n",
       "    </tr>\n",
       "  </thead>\n",
       "  <tbody>\n",
       "    <tr>\n",
       "      <th>1</th>\n",
       "      <td>315.0</td>\n",
       "      <td>81.0</td>\n",
       "      <td>7.0</td>\n",
       "      <td>24.0</td>\n",
       "      <td>38.0</td>\n",
       "      <td>39.0</td>\n",
       "      <td>14.0</td>\n",
       "      <td>3449.0</td>\n",
       "      <td>835.0</td>\n",
       "      <td>69.0</td>\n",
       "      <td>321.0</td>\n",
       "      <td>414.0</td>\n",
       "      <td>375.0</td>\n",
       "      <td>632.0</td>\n",
       "      <td>43.0</td>\n",
       "      <td>10.0</td>\n",
       "      <td>1</td>\n",
       "      <td>1</td>\n",
       "      <td>1</td>\n",
       "    </tr>\n",
       "    <tr>\n",
       "      <th>2</th>\n",
       "      <td>479.0</td>\n",
       "      <td>130.0</td>\n",
       "      <td>18.0</td>\n",
       "      <td>66.0</td>\n",
       "      <td>72.0</td>\n",
       "      <td>76.0</td>\n",
       "      <td>3.0</td>\n",
       "      <td>1624.0</td>\n",
       "      <td>457.0</td>\n",
       "      <td>63.0</td>\n",
       "      <td>224.0</td>\n",
       "      <td>266.0</td>\n",
       "      <td>263.0</td>\n",
       "      <td>880.0</td>\n",
       "      <td>82.0</td>\n",
       "      <td>14.0</td>\n",
       "      <td>0</td>\n",
       "      <td>1</td>\n",
       "      <td>0</td>\n",
       "    </tr>\n",
       "    <tr>\n",
       "      <th>3</th>\n",
       "      <td>496.0</td>\n",
       "      <td>141.0</td>\n",
       "      <td>20.0</td>\n",
       "      <td>65.0</td>\n",
       "      <td>78.0</td>\n",
       "      <td>37.0</td>\n",
       "      <td>11.0</td>\n",
       "      <td>5628.0</td>\n",
       "      <td>1575.0</td>\n",
       "      <td>225.0</td>\n",
       "      <td>828.0</td>\n",
       "      <td>838.0</td>\n",
       "      <td>354.0</td>\n",
       "      <td>200.0</td>\n",
       "      <td>11.0</td>\n",
       "      <td>3.0</td>\n",
       "      <td>1</td>\n",
       "      <td>0</td>\n",
       "      <td>1</td>\n",
       "    </tr>\n",
       "    <tr>\n",
       "      <th>4</th>\n",
       "      <td>321.0</td>\n",
       "      <td>87.0</td>\n",
       "      <td>10.0</td>\n",
       "      <td>39.0</td>\n",
       "      <td>42.0</td>\n",
       "      <td>30.0</td>\n",
       "      <td>2.0</td>\n",
       "      <td>396.0</td>\n",
       "      <td>101.0</td>\n",
       "      <td>12.0</td>\n",
       "      <td>48.0</td>\n",
       "      <td>46.0</td>\n",
       "      <td>33.0</td>\n",
       "      <td>805.0</td>\n",
       "      <td>40.0</td>\n",
       "      <td>4.0</td>\n",
       "      <td>1</td>\n",
       "      <td>0</td>\n",
       "      <td>1</td>\n",
       "    </tr>\n",
       "    <tr>\n",
       "      <th>5</th>\n",
       "      <td>594.0</td>\n",
       "      <td>169.0</td>\n",
       "      <td>4.0</td>\n",
       "      <td>74.0</td>\n",
       "      <td>51.0</td>\n",
       "      <td>35.0</td>\n",
       "      <td>11.0</td>\n",
       "      <td>4408.0</td>\n",
       "      <td>1133.0</td>\n",
       "      <td>19.0</td>\n",
       "      <td>501.0</td>\n",
       "      <td>336.0</td>\n",
       "      <td>194.0</td>\n",
       "      <td>282.0</td>\n",
       "      <td>421.0</td>\n",
       "      <td>25.0</td>\n",
       "      <td>0</td>\n",
       "      <td>1</td>\n",
       "      <td>0</td>\n",
       "    </tr>\n",
       "  </tbody>\n",
       "</table>\n",
       "</div>"
      ],
      "text/plain": [
       "   AtBat   Hits  HmRun  Runs   RBI  Walks  Years  CAtBat   CHits  CHmRun  \\\n",
       "1  315.0   81.0    7.0  24.0  38.0   39.0   14.0  3449.0   835.0    69.0   \n",
       "2  479.0  130.0   18.0  66.0  72.0   76.0    3.0  1624.0   457.0    63.0   \n",
       "3  496.0  141.0   20.0  65.0  78.0   37.0   11.0  5628.0  1575.0   225.0   \n",
       "4  321.0   87.0   10.0  39.0  42.0   30.0    2.0   396.0   101.0    12.0   \n",
       "5  594.0  169.0    4.0  74.0  51.0   35.0   11.0  4408.0  1133.0    19.0   \n",
       "\n",
       "   CRuns   CRBI  CWalks  PutOuts  Assists  Errors  League_N  Division_W  \\\n",
       "1  321.0  414.0   375.0    632.0     43.0    10.0         1           1   \n",
       "2  224.0  266.0   263.0    880.0     82.0    14.0         0           1   \n",
       "3  828.0  838.0   354.0    200.0     11.0     3.0         1           0   \n",
       "4   48.0   46.0    33.0    805.0     40.0     4.0         1           0   \n",
       "5  501.0  336.0   194.0    282.0    421.0    25.0         0           1   \n",
       "\n",
       "   NewLeague_N  \n",
       "1            1  \n",
       "2            0  \n",
       "3            1  \n",
       "4            1  \n",
       "5            0  "
      ]
     },
     "execution_count": 66,
     "metadata": {},
     "output_type": "execute_result"
    }
   ],
   "source": [
    "X.head()"
   ]
  },
  {
   "cell_type": "markdown",
   "id": "b708af79-4ecf-4048-bc4c-76c1d8b29dc4",
   "metadata": {},
   "source": [
    "## Model"
   ]
  },
  {
   "cell_type": "code",
   "execution_count": 67,
   "id": "96b0fa35-3033-4d9d-b423-7da3679167f6",
   "metadata": {},
   "outputs": [],
   "source": [
    "knn_model = KNeighborsRegressor().fit(X_train, y_train)\n",
    "#Medelimizi fit ederek modelimi kurmuş, eğitmiş oluyoruz."
   ]
  },
  {
   "cell_type": "code",
   "execution_count": 68,
   "id": "e5fd4c55-ab5d-4636-b5d7-fded041ab3c6",
   "metadata": {},
   "outputs": [
    {
     "data": {
      "text/plain": [
       "KNeighborsRegressor()"
      ]
     },
     "execution_count": 68,
     "metadata": {},
     "output_type": "execute_result"
    }
   ],
   "source": [
    "knn_model"
   ]
  },
  {
   "cell_type": "code",
   "execution_count": 69,
   "id": "a3d40b3a-606e-47cd-846b-2377dc1fe129",
   "metadata": {},
   "outputs": [
    {
     "data": {
      "text/plain": [
       "5"
      ]
     },
     "execution_count": 69,
     "metadata": {},
     "output_type": "execute_result"
    }
   ],
   "source": [
    "knn_model.n_neighbors\n",
    "#komşu sayısınıa ulaşıyoruz"
   ]
  },
  {
   "cell_type": "code",
   "execution_count": 70,
   "id": "e6186495-9032-45fa-a444-e9831cfb5079",
   "metadata": {},
   "outputs": [
    {
     "data": {
      "text/plain": [
       "'minkowski'"
      ]
     },
     "execution_count": 70,
     "metadata": {},
     "output_type": "execute_result"
    }
   ],
   "source": [
    "knn_model.metric"
   ]
  },
  {
   "cell_type": "code",
   "execution_count": 71,
   "id": "ec110f01-2e11-4180-823e-8205c48ca95f",
   "metadata": {
    "collapsed": true,
    "jupyter": {
     "outputs_hidden": true
    },
    "tags": []
   },
   "outputs": [
    {
     "data": {
      "text/plain": [
       "['__abstractmethods__',\n",
       " '__class__',\n",
       " '__delattr__',\n",
       " '__dict__',\n",
       " '__dir__',\n",
       " '__doc__',\n",
       " '__eq__',\n",
       " '__format__',\n",
       " '__ge__',\n",
       " '__getattribute__',\n",
       " '__getstate__',\n",
       " '__gt__',\n",
       " '__hash__',\n",
       " '__init__',\n",
       " '__init_subclass__',\n",
       " '__le__',\n",
       " '__lt__',\n",
       " '__module__',\n",
       " '__ne__',\n",
       " '__new__',\n",
       " '__reduce__',\n",
       " '__reduce_ex__',\n",
       " '__repr__',\n",
       " '__setattr__',\n",
       " '__setstate__',\n",
       " '__sizeof__',\n",
       " '__str__',\n",
       " '__subclasshook__',\n",
       " '__weakref__',\n",
       " '_abc_impl',\n",
       " '_check_algorithm_metric',\n",
       " '_check_feature_names',\n",
       " '_check_n_features',\n",
       " '_estimator_type',\n",
       " '_fit',\n",
       " '_fit_X',\n",
       " '_fit_method',\n",
       " '_get_param_names',\n",
       " '_get_tags',\n",
       " '_kneighbors_reduce_func',\n",
       " '_more_tags',\n",
       " '_pairwise',\n",
       " '_repr_html_',\n",
       " '_repr_html_inner',\n",
       " '_repr_mimebundle_',\n",
       " '_tree',\n",
       " '_validate_data',\n",
       " '_y',\n",
       " 'algorithm',\n",
       " 'effective_metric_',\n",
       " 'effective_metric_params_',\n",
       " 'feature_names_in_',\n",
       " 'fit',\n",
       " 'get_params',\n",
       " 'kneighbors',\n",
       " 'kneighbors_graph',\n",
       " 'leaf_size',\n",
       " 'metric',\n",
       " 'metric_params',\n",
       " 'n_features_in_',\n",
       " 'n_jobs',\n",
       " 'n_neighbors',\n",
       " 'n_samples_fit_',\n",
       " 'p',\n",
       " 'predict',\n",
       " 'radius',\n",
       " 'score',\n",
       " 'set_params',\n",
       " 'weights']"
      ]
     },
     "execution_count": 71,
     "metadata": {},
     "output_type": "execute_result"
    }
   ],
   "source": [
    "dir(knn_model)\n",
    "#model nesnesi içerisinden alınabilecek değerler verilmiştir."
   ]
  },
  {
   "cell_type": "code",
   "execution_count": 72,
   "id": "e60e1e62-3b00-4e21-8680-8594fc8f165d",
   "metadata": {},
   "outputs": [
    {
     "data": {
      "text/plain": [
       "array([ 510.3334,  808.3334,  772.5   ,  125.5   , 1005.    ])"
      ]
     },
     "execution_count": 72,
     "metadata": {},
     "output_type": "execute_result"
    }
   ],
   "source": [
    "knn_model.predict(X_test)[0:5]\n",
    "#Burada bağımsız değişkenleri kullanarak bağımlı değişken değerlerini tahmin etmiş olacağız."
   ]
  },
  {
   "cell_type": "code",
   "execution_count": 73,
   "id": "9e1466a1-646b-4f5f-90e4-fbe35711995a",
   "metadata": {},
   "outputs": [],
   "source": [
    "y_pred = knn_model.predict(X_test)"
   ]
  },
  {
   "cell_type": "code",
   "execution_count": 74,
   "id": "c7762bb6-69ac-4f71-a6d5-12c25ea79c9a",
   "metadata": {},
   "outputs": [
    {
     "data": {
      "text/plain": [
       "426.6570764525201"
      ]
     },
     "execution_count": 74,
     "metadata": {},
     "output_type": "execute_result"
    }
   ],
   "source": [
    "np.sqrt(mean_squared_error(y_test, y_pred))\n",
    "#Hata kareler ortalamasının karekökünü hesapladık.Bu bizim İlkel Test Hatamızdır."
   ]
  },
  {
   "cell_type": "markdown",
   "id": "691450ed-93f2-431e-999a-abe35d1a0c0a",
   "metadata": {},
   "source": [
    "## Model Tuning"
   ]
  },
  {
   "cell_type": "code",
   "execution_count": 75,
   "id": "89185caa-a4a0-403c-8da1-6ab923efbaa8",
   "metadata": {},
   "outputs": [
    {
     "data": {
      "text/plain": [
       "KNeighborsRegressor()"
      ]
     },
     "execution_count": 75,
     "metadata": {},
     "output_type": "execute_result"
    }
   ],
   "source": [
    "knn_model"
   ]
  },
  {
   "cell_type": "code",
   "execution_count": 76,
   "id": "a87865d7-cc95-47c9-ac83-da889aba4581",
   "metadata": {},
   "outputs": [
    {
     "name": "stdout",
     "output_type": "stream",
     "text": [
      "k= 1 için RMSE değeri: 455.03925390751965\n",
      "k= 2 için RMSE değeri: 415.99629571490965\n",
      "k= 3 için RMSE değeri: 420.6765370082348\n",
      "k= 4 için RMSE değeri: 428.8564674588792\n",
      "k= 5 için RMSE değeri: 426.6570764525201\n",
      "k= 6 için RMSE değeri: 423.5071669008732\n",
      "k= 7 için RMSE değeri: 414.9361222421057\n",
      "k= 8 için RMSE değeri: 413.7094731463598\n",
      "k= 9 için RMSE değeri: 417.84419990871265\n",
      "k= 10 için RMSE değeri: 421.6252180741266\n"
     ]
    }
   ],
   "source": [
    "RMSE = []\n",
    "\n",
    "for k in range(10):\n",
    "    k = k + 1\n",
    "    knn_model = KNeighborsRegressor(n_neighbors = k).fit(X_train, y_train)\n",
    "    y_pred = knn_model.predict(X_test)\n",
    "    rmse = np.sqrt(mean_squared_error(y_test, y_pred))\n",
    "    RMSE.append(rmse)\n",
    "    print(\"k=\", k, \"için RMSE değeri:\", rmse)\n",
    "#Buradaki en küçük RMSE değeri k komşu sayısı için seçilebilir."
   ]
  },
  {
   "cell_type": "code",
   "execution_count": 77,
   "id": "3498fcb1-cb2e-4ecc-9c31-ba88be12c3c2",
   "metadata": {},
   "outputs": [],
   "source": [
    "#GridSearchCV\n",
    "#Kullanacak oldupumuz Makine Öğrenmesi Algoritmalarında belirlemeye çalıştığımız hiperparametrelerin değerlerini belirlemek için kullanılan bir fonksiyondur.\n",
    "#Bu fonksiyon en iyi değeri bize otomatik olarak veriyor."
   ]
  },
  {
   "cell_type": "code",
   "execution_count": 78,
   "id": "53a11ac0-6d6c-465e-b6ff-8576b5089492",
   "metadata": {},
   "outputs": [],
   "source": [
    "knn_params = {\"n_neighbors\": np.arange(1,30,1)}\n",
    "#aranacak olan parametre değerlerimiz."
   ]
  },
  {
   "cell_type": "code",
   "execution_count": 79,
   "id": "bb355bc9-e3de-4b89-a2f0-6e71d9e2fa05",
   "metadata": {},
   "outputs": [],
   "source": [
    "knn = KNeighborsRegressor()"
   ]
  },
  {
   "cell_type": "code",
   "execution_count": 80,
   "id": "acf143e4-3ab0-4c5e-b2d7-18bf8b71648f",
   "metadata": {},
   "outputs": [],
   "source": [
    "knn_cv_model = GridSearchCV(knn, knn_params, cv = 10).fit(X_train, y_train)"
   ]
  },
  {
   "cell_type": "code",
   "execution_count": 81,
   "id": "c9a2d826-8e79-498a-8dc2-9b6281d28f87",
   "metadata": {},
   "outputs": [
    {
     "data": {
      "text/plain": [
       "{'n_neighbors': 8}"
      ]
     },
     "execution_count": 81,
     "metadata": {},
     "output_type": "execute_result"
    }
   ],
   "source": [
    "knn_cv_model.best_params_\n",
    "#En iyi parametre değerini veriyor bize.Bizim el yordamıyla hesapladığımız değeri otomatik olarak vermiş oldu."
   ]
  },
  {
   "cell_type": "code",
   "execution_count": 82,
   "id": "3586b700-9a53-4676-b63c-1ef00627f693",
   "metadata": {},
   "outputs": [],
   "source": [
    "#final model\n",
    "knn_tuned = KNeighborsRegressor(n_neighbors = knn_cv_model.best_params_[\"n_neighbors\"]).fit(X_train, y_train)"
   ]
  },
  {
   "cell_type": "code",
   "execution_count": 83,
   "id": "70637c37-f346-4656-815a-61b815faba4c",
   "metadata": {},
   "outputs": [],
   "source": [
    "y_pred = knn_tuned.predict(X_test)"
   ]
  },
  {
   "cell_type": "code",
   "execution_count": 84,
   "id": "bf8a8972-f0d6-44dd-9268-3abffd4e0bda",
   "metadata": {},
   "outputs": [
    {
     "data": {
      "text/plain": [
       "413.7094731463598"
      ]
     },
     "execution_count": 84,
     "metadata": {},
     "output_type": "execute_result"
    }
   ],
   "source": [
    "np.sqrt(mean_squared_error(y_test, y_pred))"
   ]
  },
  {
   "cell_type": "markdown",
   "id": "c069ddc1-2bdb-4b5e-b71f-649226cb6bc1",
   "metadata": {},
   "source": [
    "# Destek Vektör Regresyonu (Support Vector Regression)"
   ]
  },
  {
   "cell_type": "code",
   "execution_count": 85,
   "id": "7b05b6ba-6f60-4a5c-8bfa-59a21446238e",
   "metadata": {},
   "outputs": [],
   "source": [
    "df = pd.read_csv(\"Hitters.csv\")\n",
    "df = df.dropna()\n",
    "dms = pd.get_dummies(df[['League', 'Division', 'NewLeague']])\n",
    "y = df[\"Salary\"]\n",
    "X_ = df.drop(['Salary', 'League', 'Division', 'NewLeague'], axis=1).astype('float64')\n",
    "X = pd.concat([X_, dms[['League_N', 'Division_W', 'NewLeague_N']]], axis=1)\n",
    "X_train, X_test, y_train, y_test = train_test_split(X, y, test_size=0.25, random_state=42)"
   ]
  },
  {
   "cell_type": "markdown",
   "id": "4a2301ee-f5a1-4004-a9ed-9008367804d9",
   "metadata": {},
   "source": [
    "## Model & Tahmin"
   ]
  },
  {
   "cell_type": "code",
   "execution_count": 92,
   "id": "e5f0131e-b447-455a-8eb6-3cbff5ce3365",
   "metadata": {},
   "outputs": [],
   "source": [
    "svr_model = SVR().fit(X_train, y_train)"
   ]
  },
  {
   "cell_type": "code",
   "execution_count": 93,
   "id": "32c43c4a-d19b-4e5a-a278-794351f3d094",
   "metadata": {},
   "outputs": [
    {
     "data": {
      "text/plain": [
       "SVR()"
      ]
     },
     "execution_count": 93,
     "metadata": {},
     "output_type": "execute_result"
    }
   ],
   "source": [
    "svr_model"
   ]
  },
  {
   "cell_type": "code",
   "execution_count": 94,
   "id": "49310c40-c5fe-43b3-ad79-a2d4e1e6f52e",
   "metadata": {},
   "outputs": [
    {
     "data": {
      "text/plain": [
       "array([404.04653122, 475.7979806 , 447.47083279, 416.62375328,\n",
       "       451.10639712])"
      ]
     },
     "execution_count": 94,
     "metadata": {},
     "output_type": "execute_result"
    }
   ],
   "source": [
    "svr_model.predict(X_train)[0:5]"
   ]
  },
  {
   "cell_type": "code",
   "execution_count": 95,
   "id": "94b6bd5c-d3b8-466f-b946-7e7c4abfcb4c",
   "metadata": {},
   "outputs": [
    {
     "data": {
      "text/plain": [
       "array([467.17641555, 446.40313543, 478.61634896, 407.90736132,\n",
       "       478.21333994])"
      ]
     },
     "execution_count": 95,
     "metadata": {},
     "output_type": "execute_result"
    }
   ],
   "source": [
    "svr_model.predict(X_test)[0:5]"
   ]
  },
  {
   "cell_type": "code",
   "execution_count": 96,
   "id": "bc8329a3-855c-4ee5-9a8f-08ef8f768cdb",
   "metadata": {},
   "outputs": [
    {
     "data": {
      "text/plain": [
       "array([445.20012207])"
      ]
     },
     "execution_count": 96,
     "metadata": {},
     "output_type": "execute_result"
    }
   ],
   "source": [
    "svr_model.intercept_"
   ]
  },
  {
   "cell_type": "code",
   "execution_count": 99,
   "id": "c699b919-64bf-41e1-a23b-b65a1c16a040",
   "metadata": {},
   "outputs": [
    {
     "data": {
      "text/plain": [
       "460.0032657244849"
      ]
     },
     "execution_count": 99,
     "metadata": {},
     "output_type": "execute_result"
    }
   ],
   "source": [
    "#test\n",
    "y_pred = svr_model.predict(X_test)\n",
    "np.sqrt(mean_squared_error(y_test, y_pred))"
   ]
  },
  {
   "cell_type": "markdown",
   "id": "71151cce-e81e-4fe6-adfd-022496ce9ab9",
   "metadata": {},
   "source": [
    "## Model Tuning"
   ]
  },
  {
   "cell_type": "code",
   "execution_count": 102,
   "id": "854d2fed-ac92-45c8-b8b7-cd086ce5dc5d",
   "metadata": {},
   "outputs": [],
   "source": [
    "svr_model = SVR()"
   ]
  },
  {
   "cell_type": "code",
   "execution_count": 103,
   "id": "55a16596-faac-4f16-ac10-74a60983be6e",
   "metadata": {},
   "outputs": [
    {
     "data": {
      "text/plain": [
       "SVR()"
      ]
     },
     "execution_count": 103,
     "metadata": {},
     "output_type": "execute_result"
    }
   ],
   "source": [
    "svr_model"
   ]
  },
  {
   "cell_type": "code",
   "execution_count": 104,
   "id": "1f11ff22-69ef-44be-8e8a-84df8e08ec02",
   "metadata": {},
   "outputs": [],
   "source": [
    "svr_params = {\"C\": [0.1,0.5,1,3]}"
   ]
  },
  {
   "cell_type": "code",
   "execution_count": 106,
   "id": "194f6114-54a5-4115-a4bd-b6791a1a3b01",
   "metadata": {},
   "outputs": [
    {
     "name": "stdout",
     "output_type": "stream",
     "text": [
      "Fitting 5 folds for each of 4 candidates, totalling 20 fits\n"
     ]
    }
   ],
   "source": [
    "svr_cv_model = GridSearchCV(svr_model, svr_params, cv = 5, verbose = 2, n_jobs = -1).fit(X_train, y_train)"
   ]
  },
  {
   "cell_type": "code",
   "execution_count": 108,
   "id": "76664976-268d-4d38-8fd6-676cb431db3c",
   "metadata": {},
   "outputs": [
    {
     "data": {
      "text/plain": [
       "{'C': 3}"
      ]
     },
     "execution_count": 108,
     "metadata": {},
     "output_type": "execute_result"
    }
   ],
   "source": [
    "svr_cv_model.best_params_\n",
    "#ceza parametresi değeri"
   ]
  },
  {
   "cell_type": "code",
   "execution_count": 110,
   "id": "aaf1812b-d5c8-421f-a6de-0fa3f6f9e47e",
   "metadata": {},
   "outputs": [],
   "source": [
    "svr_tuned = SVR(C = 0.5).fit(X_train, y_train)"
   ]
  },
  {
   "cell_type": "code",
   "execution_count": 111,
   "id": "714734cf-8775-4c29-82c5-99a7a18fed72",
   "metadata": {},
   "outputs": [],
   "source": [
    "y_pred = svr_tuned.predict(X_test)"
   ]
  },
  {
   "cell_type": "code",
   "execution_count": 112,
   "id": "312edfa5-cb81-4f3c-83e5-1fa5c01641df",
   "metadata": {},
   "outputs": [
    {
     "data": {
      "text/plain": [
       "466.43275094828505"
      ]
     },
     "execution_count": 112,
     "metadata": {},
     "output_type": "execute_result"
    }
   ],
   "source": [
    "np.sqrt(mean_squared_error(y_test, y_pred))"
   ]
  },
  {
   "cell_type": "markdown",
   "id": "5d2f0cb4-6cc9-4c17-87f6-54002a5d5e7c",
   "metadata": {},
   "source": [
    "# Yapay Sinir Ağları"
   ]
  },
  {
   "cell_type": "code",
   "execution_count": 113,
   "id": "0a7419b9-9820-4fc2-a643-d51c5d950c44",
   "metadata": {},
   "outputs": [],
   "source": [
    "df = pd.read_csv(\"Hitters.csv\")\n",
    "df = df.dropna()\n",
    "dms = pd.get_dummies(df[['League', 'Division', 'NewLeague']])\n",
    "y = df[\"Salary\"]\n",
    "X_ = df.drop(['Salary', 'League', 'Division', 'NewLeague'], axis=1).astype('float64')\n",
    "X = pd.concat([X_, dms[['League_N', 'Division_W', 'NewLeague_N']]], axis=1)\n",
    "X_train, X_test, y_train, y_test = train_test_split(X, y, test_size=0.25, random_state=42)"
   ]
  },
  {
   "cell_type": "markdown",
   "id": "e83e03eb-4619-426c-8082-7090e371f0b8",
   "metadata": {},
   "source": [
    "## Model & Tahmin"
   ]
  },
  {
   "cell_type": "code",
   "execution_count": 114,
   "id": "8fb33c63-6d93-44cf-a627-3486a89bd55e",
   "metadata": {},
   "outputs": [],
   "source": [
    "#Bu bölümde diğerlerinden farklı olarak değişkenlerimize standartlaştırma işlemleri gerçekleştiricez.Makine Öğrenmesinde bazı algoritmalar heterojen veri setleri üzerinde iyi çalışırken\n",
    "#bazı algoritmalar homojen veri setleri üzerinde iyi çalışır.Yapay Sinir ağları da homojen veri setleri üzerinde daha iyi çalışan bir algoritmadır.Çünkü hataların optimizasyonu noktasın\n",
    "#da yapılan türevleme işlemlerinde ortaya çıkmış olan aykırıklıkların yani gerçek değerler ile tahmin değerleri arasında ciddi farklar oluşturan değerlerin ortaya çıkarabildiği bazı\n",
    "#değerler söz konusudur.Bundan dolayı Yapay Sinir Ağlarını standartlaştırma işlemi sonrasında kullanmak daha sağlıklı olmaktadır."
   ]
  },
  {
   "cell_type": "code",
   "execution_count": 122,
   "id": "8740dff7-8100-4f4a-8291-b985ee58c879",
   "metadata": {},
   "outputs": [],
   "source": [
    "scaler = StandardScaler()"
   ]
  },
  {
   "cell_type": "code",
   "execution_count": 120,
   "id": "56307184-0cc4-4f72-b796-92190a092320",
   "metadata": {},
   "outputs": [],
   "source": [
    "scaler.fit(X_train)\n",
    "X_train_scaled = scaler.transform(X_train)"
   ]
  },
  {
   "cell_type": "code",
   "execution_count": 124,
   "id": "e75ff80d-5cb8-4fe5-9fdc-bbc3109b5ee9",
   "metadata": {},
   "outputs": [],
   "source": [
    "scaler.fit(X_test)\n",
    "X_test_scaled = scaler.transform(X_test)\n",
    "#Test ve train için dönüştürme işlemini gerçekleştirmiş olduk."
   ]
  },
  {
   "cell_type": "code",
   "execution_count": 126,
   "id": "10d31228-7a39-414c-820c-cd4f50863e1c",
   "metadata": {},
   "outputs": [],
   "source": [
    "mlp_model = MLPRegressor().fit(X_train_scaled, y_train)"
   ]
  },
  {
   "cell_type": "code",
   "execution_count": 127,
   "id": "2b4c0759-9147-4207-af7f-dfc8e2619bd5",
   "metadata": {},
   "outputs": [
    {
     "data": {
      "text/plain": [
       "array([21.0623233 , 34.68864082, 64.2275605 , 11.54748812, 25.66656928])"
      ]
     },
     "execution_count": 127,
     "metadata": {},
     "output_type": "execute_result"
    }
   ],
   "source": [
    "mlp_model.predict(X_test_scaled)[0:5]"
   ]
  },
  {
   "cell_type": "code",
   "execution_count": 128,
   "id": "ec21a438-86ca-47d9-b837-cd49e9a85542",
   "metadata": {},
   "outputs": [],
   "source": [
    "y_pred = mlp_model.predict(X_test_scaled)"
   ]
  },
  {
   "cell_type": "code",
   "execution_count": 130,
   "id": "7f5cdca6-937e-40e0-b12c-f8f71f892a90",
   "metadata": {},
   "outputs": [
    {
     "data": {
      "text/plain": [
       "661.1662770596461"
      ]
     },
     "execution_count": 130,
     "metadata": {},
     "output_type": "execute_result"
    }
   ],
   "source": [
    "np.sqrt(mean_squared_error(y_test, y_pred))"
   ]
  },
  {
   "cell_type": "markdown",
   "id": "8d2842b6-3b95-4d5c-a20a-64db6704047a",
   "metadata": {},
   "source": [
    "## Model Tuning"
   ]
  },
  {
   "cell_type": "code",
   "execution_count": 131,
   "id": "865ad3ce-a9e3-438d-bcd2-25dc67227dcc",
   "metadata": {},
   "outputs": [
    {
     "data": {
      "text/plain": [
       "MLPRegressor()"
      ]
     },
     "execution_count": 131,
     "metadata": {},
     "output_type": "execute_result"
    }
   ],
   "source": [
    "mlp_model"
   ]
  },
  {
   "cell_type": "code",
   "execution_count": 133,
   "id": "c9de034e-7f39-422a-9f65-4a8b9d812e28",
   "metadata": {},
   "outputs": [],
   "source": [
    "mlp_params = {\"alpha\": [0.1, 0.01, 0.02, 0.001, 0.0001],\n",
    "             \"hidden_layer_sizes\": [(10,20), (5,5), (100,100)]}\n",
    "#hidden_layer_sizes gizli katman sayısını ifade ediyor.Mesela burada (10,20) iki katman var ve nöron sayısı 10 ve 20'dir."
   ]
  },
  {
   "cell_type": "code",
   "execution_count": 135,
   "id": "6b503308-82ac-45f7-84d4-14a9b3d0bf9a",
   "metadata": {},
   "outputs": [
    {
     "name": "stdout",
     "output_type": "stream",
     "text": [
      "Fitting 10 folds for each of 15 candidates, totalling 150 fits\n"
     ]
    }
   ],
   "source": [
    "mlp_model_cv = GridSearchCV(mlp_model, mlp_params, cv = 10, verbose = 2, n_jobs = -1).fit(X_train_scaled, y_train)"
   ]
  },
  {
   "cell_type": "code",
   "execution_count": 136,
   "id": "37645ed1-3c9d-40e5-a900-0691913caa00",
   "metadata": {},
   "outputs": [
    {
     "data": {
      "text/plain": [
       "{'alpha': 0.02, 'hidden_layer_sizes': (100, 100)}"
      ]
     },
     "execution_count": 136,
     "metadata": {},
     "output_type": "execute_result"
    }
   ],
   "source": [
    "mlp_model_cv.best_params_"
   ]
  },
  {
   "cell_type": "code",
   "execution_count": 139,
   "id": "6435244c-6a1e-4269-9459-d0203643931b",
   "metadata": {},
   "outputs": [],
   "source": [
    "#final modelimiz.\n",
    "mlp_tuned = MLPRegressor(alpha = 0.02, hidden_layer_sizes = (100,100)).fit(X_train_scaled, y_train)"
   ]
  },
  {
   "cell_type": "code",
   "execution_count": 140,
   "id": "edb7d6a0-1ac9-40de-9eca-f5b15abf6e03",
   "metadata": {},
   "outputs": [],
   "source": [
    "y_pred = mlp_tuned.predict(X_test_scaled)"
   ]
  },
  {
   "cell_type": "code",
   "execution_count": 141,
   "id": "667c2a47-799d-41ac-8ca3-5d415b0e2eac",
   "metadata": {},
   "outputs": [
    {
     "data": {
      "text/plain": [
       "354.59766893005036"
      ]
     },
     "execution_count": 141,
     "metadata": {},
     "output_type": "execute_result"
    }
   ],
   "source": [
    "np.sqrt(mean_squared_error(y_test, y_pred))"
   ]
  },
  {
   "cell_type": "markdown",
   "id": "89d2b131-c33a-4617-bbdc-1a9d51c77c46",
   "metadata": {},
   "source": [
    "# CART (Classification and Regression Tree)"
   ]
  },
  {
   "cell_type": "code",
   "execution_count": 3,
   "id": "ff8f86a4-cbf5-4fed-ae77-87494fb024a7",
   "metadata": {},
   "outputs": [],
   "source": [
    "df = pd.read_csv(\"Hitters.csv\")\n",
    "df = df.dropna()\n",
    "dms = pd.get_dummies(df[['League', 'Division', 'NewLeague']])\n",
    "y = df[\"Salary\"]\n",
    "X_ = df.drop(['Salary', 'League', 'Division', 'NewLeague'], axis=1).astype('float64')\n",
    "X = pd.concat([X_, dms[['League_N', 'Division_W', 'NewLeague_N']]], axis=1)\n",
    "X_train, X_test, y_train, y_test = train_test_split(X, \n",
    "                                                    y, \n",
    "                                                    test_size=0.25, \n",
    "                                                    random_state=42)"
   ]
  },
  {
   "cell_type": "code",
   "execution_count": 4,
   "id": "220d8276-d71b-4d4b-bab6-ac83cc1d2863",
   "metadata": {},
   "outputs": [],
   "source": [
    "X_train = pd.DataFrame(X_train[\"Hits\"])\n",
    "X_test = pd.DataFrame(X_test[\"Hits\"])\n",
    "#Burada yeni bir metodolojiye giriş yapıyor olduğumuz için yani CART ağaca dayalı bir yöntemle ilk defa karşılaşıyor olduğumuz için 2 tane değişken seçip işlemlerimizi bu iki değişken\n",
    "#üzerinden sürdürmeye devam edeceğiz."
   ]
  },
  {
   "cell_type": "markdown",
   "id": "af286765-861d-475e-8584-0cf77243ae86",
   "metadata": {},
   "source": [
    "## Model & Tahmin"
   ]
  },
  {
   "cell_type": "code",
   "execution_count": 9,
   "id": "09a5460c-1a57-4d15-9b37-612ce8919f6d",
   "metadata": {},
   "outputs": [],
   "source": [
    "cart_model = DecisionTreeRegressor(max_leaf_nodes = 3)\n",
    "#max_leaf_nodes maksimum yaprak node sayısını ifade ediyor.Dallanma kontrolünü sağlayacak bir parametredir."
   ]
  },
  {
   "cell_type": "code",
   "execution_count": 10,
   "id": "bf0945cc-5b0b-47b4-b4d0-9f3d77d04128",
   "metadata": {},
   "outputs": [
    {
     "data": {
      "text/plain": [
       "DecisionTreeRegressor(max_leaf_nodes=3)"
      ]
     },
     "execution_count": 10,
     "metadata": {},
     "output_type": "execute_result"
    }
   ],
   "source": [
    "cart_model.fit(X_train, y_train)"
   ]
  },
  {
   "cell_type": "code",
   "execution_count": 11,
   "id": "2a5d675b-595d-4e3e-8caa-51cbcc702faa",
   "metadata": {},
   "outputs": [
    {
     "data": {
      "image/png": "[encoded data removed]",
      "text/plain": [
       "<Figure size 432x288 with 1 Axes>"
      ]
     },
     "metadata": {
      "needs_background": "light"
     },
     "output_type": "display_data"
    }
   ],
   "source": [
    "X_grid = np.arange(min(np.array(X_train)),max(np.array(X_train)), 0.01) \n",
    "X_grid = X_grid.reshape((len(X_grid), 1))  \n",
    "  \n",
    "plt.scatter(X_train, y_train, color = 'red') \n",
    "  \n",
    "plt.plot(X_grid, cart_model.predict(X_grid), color = 'blue')  \n",
    "\n",
    "plt.title('CART REGRESYON AĞACI')  \n",
    "plt.xlabel('Atış Sayısı(Hits)') \n",
    "plt.ylabel('Maaş (Salary)') ;\n",
    "#Atış sayısı ile maaş arasındaki ilişkiyi görselleştirdik."
   ]
  },
  {
   "cell_type": "code",
   "execution_count": 12,
   "id": "987440f1-efc0-48c3-841c-021e6591706c",
   "metadata": {},
   "outputs": [],
   "source": [
    "#tek değişkenli tahmin"
   ]
  },
  {
   "cell_type": "code",
   "execution_count": 14,
   "id": "1d0cc927-7b24-4dab-a4bb-23f9b1941654",
   "metadata": {},
   "outputs": [
    {
     "data": {
      "text/plain": [
       "array([813.0988    , 813.0988    , 813.0988    , 345.20115517,\n",
       "       345.20115517])"
      ]
     },
     "execution_count": 14,
     "metadata": {},
     "output_type": "execute_result"
    }
   ],
   "source": [
    "cart_model.predict(X_test)[0:5]"
   ]
  },
  {
   "cell_type": "code",
   "execution_count": 15,
   "id": "fe4d4d4f-83bd-4fc0-8b39-844f38265be1",
   "metadata": {},
   "outputs": [
    {
     "data": {
      "text/plain": [
       "460.0663148428844"
      ]
     },
     "execution_count": 15,
     "metadata": {},
     "output_type": "execute_result"
    }
   ],
   "source": [
    "y_pred = cart_model.predict(X_test)\n",
    "np.sqrt(mean_squared_error(y_test, y_pred))"
   ]
  },
  {
   "cell_type": "code",
   "execution_count": 16,
   "id": "74b613c8-7487-480b-9dbe-aeb1d3a70aaf",
   "metadata": {},
   "outputs": [],
   "source": [
    "#tüm değişkenler için"
   ]
  },
  {
   "cell_type": "code",
   "execution_count": 30,
   "id": "245241a3-5041-450c-9abe-0ad0d27d0c78",
   "metadata": {},
   "outputs": [],
   "source": [
    "df = pd.read_csv(\"Hitters.csv\")\n",
    "df = df.dropna()\n",
    "dms = pd.get_dummies(df[['League', 'Division', 'NewLeague']])\n",
    "y = df[\"Salary\"]\n",
    "X_ = df.drop(['Salary', 'League', 'Division', 'NewLeague'], axis=1).astype('float64')\n",
    "X = pd.concat([X_, dms[['League_N', 'Division_W', 'NewLeague_N']]], axis=1)\n",
    "X_train, X_test, y_train, y_test = train_test_split(X, \n",
    "                                                    y, \n",
    "                                                    test_size=0.25, \n",
    "                                                    random_state=42)"
   ]
  },
  {
   "cell_type": "code",
   "execution_count": 31,
   "id": "d8163d04-4b02-4a0e-902e-2bd1f4e92495",
   "metadata": {},
   "outputs": [],
   "source": [
    "cart_model = DecisionTreeRegressor().fit(X_train, y_train)"
   ]
  },
  {
   "cell_type": "code",
   "execution_count": 32,
   "id": "a491cc8f-da64-4a5e-a37e-8a932446d0de",
   "metadata": {},
   "outputs": [
    {
     "data": {
      "text/plain": [
       "439.5948377750468"
      ]
     },
     "execution_count": 32,
     "metadata": {},
     "output_type": "execute_result"
    }
   ],
   "source": [
    "y_pred = cart_model.predict(X_test)\n",
    "np.sqrt(mean_squared_error(y_test, y_pred))"
   ]
  },
  {
   "cell_type": "markdown",
   "id": "6bee4a00-0937-4809-b10b-3acf4ee4a2ad",
   "metadata": {},
   "source": [
    "## Model Tuning"
   ]
  },
  {
   "cell_type": "code",
   "execution_count": 33,
   "id": "dc4b4b41-cd4e-4913-a44c-b89c9a42ac09",
   "metadata": {},
   "outputs": [
    {
     "data": {
      "text/plain": [
       "DecisionTreeRegressor()"
      ]
     },
     "execution_count": 33,
     "metadata": {},
     "output_type": "execute_result"
    }
   ],
   "source": [
    "cart_model"
   ]
  },
  {
   "cell_type": "code",
   "execution_count": 40,
   "id": "df74dd14-3f7f-47cd-ae90-e40446cbe689",
   "metadata": {},
   "outputs": [
    {
     "data": {
      "text/plain": [
       "391.5530522634766"
      ]
     },
     "execution_count": 40,
     "metadata": {},
     "output_type": "execute_result"
    }
   ],
   "source": [
    "cart_model = DecisionTreeRegressor(max_depth = 3).fit(X_train, y_train)\n",
    "y_pred = cart_model.predict(X_test)\n",
    "np.sqrt(mean_squared_error(y_test, y_pred))"
   ]
  },
  {
   "cell_type": "code",
   "execution_count": 37,
   "id": "fdd9cc9c-976c-4d3c-a770-3eec1af068c7",
   "metadata": {},
   "outputs": [],
   "source": [
    "#CART yöntemi genellenebilirlik kaygısı olmayan ve mevcut durumu ifade etmek için makine öğrenmesi algoritması kullanmak istediğimiz senaryolarda en başarılı olan algoritmalardan birisidir."
   ]
  },
  {
   "cell_type": "code",
   "execution_count": 41,
   "id": "99957c63-18c7-4de8-b068-f63074395833",
   "metadata": {},
   "outputs": [],
   "source": [
    "# max_depth: maksimum derinlik bu ağacın ne kadar derinleşeceğini ifade ediyor\n",
    "# min_samples_split: bölünmelerde son nodeda, en son bir dala indik diyelim, bir yaprağa indik diyelim, bu yaprakda bölme işlemi yapacak mıyız, yapmayacak mıyız? Bu yaprağı bir dala dönüştürecek miyiz dönüştür\n",
    "# meyecek miyiz sorusuna karar vermek için o yaprakda minimum olması gereken gözlem sayısını ifade etnektedir. Yani örneğin dallanmalar başladı. Peki nereye kadar dallanma işlemi gerçekleşecek? İşte burada \n",
    "# bu dallanmayı kontrol edebilmek adına kullanılan bir hiperparametredir. Örneğin burada 2 dediğimizde bir dalda 2 gözlem varsa dallanma devam edecektir.2'den az kaldığında dallanma olmayacaktır.Gereken minimum\n",
    "# örnek sayısı ifade edilmektedir bölme işlemi olarak değerlendirebilmek adına.\n",
    "# min_samples_leaf: Bir leaf nodeun yani son yaprak nodeun en sonda kalan yaprağın yaprak olarak tanımlanması için gerekli olan örnek sayısını ifade etmektedir.Bu bir yapraktır artık demek için göz önünde\n",
    "# bulundurulması gereken hiperparametre değeridir."
   ]
  },
  {
   "cell_type": "code",
   "execution_count": 46,
   "id": "ee5df724-0ef7-4f53-b668-a350d3a8efdb",
   "metadata": {},
   "outputs": [],
   "source": [
    "cart_params = {\"max_depth\": [2,3,4,5,10,20],\n",
    "              \"min_samples_split\": [2,10,5,50,30,10]}"
   ]
  },
  {
   "cell_type": "code",
   "execution_count": 47,
   "id": "fc3fade1-d3c0-4c89-afa8-33286cd2af1a",
   "metadata": {},
   "outputs": [],
   "source": [
    "cart_model = DecisionTreeRegressor()"
   ]
  },
  {
   "cell_type": "code",
   "execution_count": 48,
   "id": "a09ccbb8-748f-4290-a667-1a239b32f8b2",
   "metadata": {},
   "outputs": [],
   "source": [
    "cart_cv_model = GridSearchCV(cart_model, cart_params, cv = 10).fit(X_train, y_train)"
   ]
  },
  {
   "cell_type": "code",
   "execution_count": 49,
   "id": "930fcb61-dc62-4722-aa60-955f33d65dea",
   "metadata": {},
   "outputs": [
    {
     "data": {
      "text/plain": [
       "{'max_depth': 4, 'min_samples_split': 50}"
      ]
     },
     "execution_count": 49,
     "metadata": {},
     "output_type": "execute_result"
    }
   ],
   "source": [
    "cart_cv_model.best_params_"
   ]
  },
  {
   "cell_type": "code",
   "execution_count": 52,
   "id": "c89eafbf-1f74-48ea-bde5-018eed9a7af8",
   "metadata": {},
   "outputs": [],
   "source": [
    "cart_tuned_model =  DecisionTreeRegressor(max_depth = 10, min_samples_split = 50).fit(X_train, y_train)"
   ]
  },
  {
   "cell_type": "code",
   "execution_count": 54,
   "id": "0d667be0-7565-48a1-bfdc-a569e7788b4f",
   "metadata": {},
   "outputs": [
    {
     "data": {
      "text/plain": [
       "361.0876906511434"
      ]
     },
     "execution_count": 54,
     "metadata": {},
     "output_type": "execute_result"
    }
   ],
   "source": [
    "y_pred = cart_tuned_model.predict(X_test)\n",
    "np.sqrt(mean_squared_error(y_test, y_pred))"
   ]
  },
  {
   "cell_type": "markdown",
   "id": "9c703a2a-5ddb-4440-8137-324e83409b1e",
   "metadata": {},
   "source": [
    "# Random Forests"
   ]
  },
  {
   "cell_type": "code",
   "execution_count": 55,
   "id": "a39d6e34-3d6f-4582-934d-134058c9377d",
   "metadata": {},
   "outputs": [],
   "source": [
    "df = pd.read_csv(\"Hitters.csv\")\n",
    "df = df.dropna()\n",
    "dms = pd.get_dummies(df[['League', 'Division', 'NewLeague']])\n",
    "y = df[\"Salary\"]\n",
    "X_ = df.drop(['Salary', 'League', 'Division', 'NewLeague'], axis=1).astype('float64')\n",
    "X = pd.concat([X_, dms[['League_N', 'Division_W', 'NewLeague_N']]], axis=1)\n",
    "X_train, X_test, y_train, y_test = train_test_split(X, \n",
    "                                                    y, \n",
    "                                                    test_size=0.25, \n",
    "                                                    random_state=42)"
   ]
  },
  {
   "cell_type": "markdown",
   "id": "12903853-d831-43cc-afab-cd36821ce076",
   "metadata": {},
   "source": [
    "## Model & Tahmin"
   ]
  },
  {
   "cell_type": "code",
   "execution_count": 56,
   "id": "4c823180-0a2f-424c-8a15-a497ca19cbc6",
   "metadata": {},
   "outputs": [],
   "source": [
    "rf_model = RandomForestRegressor(random_state = 42).fit(X_train, y_train)"
   ]
  },
  {
   "cell_type": "code",
   "execution_count": 57,
   "id": "28603953-493c-49bf-a563-99e34a5523da",
   "metadata": {},
   "outputs": [
    {
     "data": {
      "text/plain": [
       "RandomForestRegressor(random_state=42)"
      ]
     },
     "execution_count": 57,
     "metadata": {},
     "output_type": "execute_result"
    }
   ],
   "source": [
    "rf_model"
   ]
  },
  {
   "cell_type": "code",
   "execution_count": 58,
   "id": "ffaa3d7f-c29e-4747-8b05-0ce359727da9",
   "metadata": {},
   "outputs": [],
   "source": [
    "# max_features: bölünmelerde göz önünde bulundurulacak olan değişken sayısını ifade ediyor.\n",
    "# max_leaf_modes: maksimum yaprak nodelarını ifade ediyor.\n",
    "# min_samples_split: bir node bölünmeden önce bu nodedaki minimum gözlem sayısını ifade ediyor.Yani ancak bu kadar gözlem varsa bölmeye devam et işlemi için kullanılıyor.\n",
    "# min_sampkes_leaf: leaf nodedaki minimum gözlem sayısını ifade ediyor.\n",
    "# n_estimators: kullanılacak olan ağaç sayısını ifade ediyor."
   ]
  },
  {
   "cell_type": "code",
   "execution_count": 59,
   "id": "c185ac2a-6c89-47ae-a153-7feb271db72b",
   "metadata": {},
   "outputs": [
    {
     "data": {
      "text/plain": [
       "344.8191624908484"
      ]
     },
     "execution_count": 59,
     "metadata": {},
     "output_type": "execute_result"
    }
   ],
   "source": [
    "y_pred = rf_model.predict(X_test)\n",
    "np.sqrt(mean_squared_error(y_test, y_pred))"
   ]
  },
  {
   "cell_type": "markdown",
   "id": "e864a4f5-f8b6-49b3-bc44-537c20dac492",
   "metadata": {},
   "source": [
    "## Model & Tahmin"
   ]
  },
  {
   "cell_type": "code",
   "execution_count": 61,
   "id": "7848d1fe-bb25-482f-abb1-227a33b7f2a3",
   "metadata": {},
   "outputs": [
    {
     "data": {
      "text/plain": [
       "RandomForestRegressor(random_state=42)"
      ]
     },
     "execution_count": 61,
     "metadata": {},
     "output_type": "execute_result"
    }
   ],
   "source": [
    "rf_model = RandomForestRegressor(random_state = 42).fit(X_train, y_train)\n",
    "rf_model\n",
    "# en önemli iki hiperparametre fit edilecek ağaç sayısıdır yani n_estimators parametresidir.İkincisi ise bölünme işlemlerinde göz önünde bulundurulacak olan değişken sayısıdır.Üçüncüsü ise min_samples_splittir."
   ]
  },
  {
   "cell_type": "code",
   "execution_count": 62,
   "id": "6d2668d3-8a1c-4fa0-a2de-192826fab000",
   "metadata": {},
   "outputs": [],
   "source": [
    "rf_params = {\"max_depth\": [5,8,10],\n",
    "            \"max_features\": [2,5,10],\n",
    "            \"n_estimators\": [200,500,1000,2000],\n",
    "            \"min_samples_split\": [2,10,80,100]}"
   ]
  },
  {
   "cell_type": "code",
   "execution_count": 63,
   "id": "faa83f00-6ee1-454f-b6df-cb603646356b",
   "metadata": {},
   "outputs": [
    {
     "name": "stdout",
     "output_type": "stream",
     "text": [
      "Fitting 10 folds for each of 144 candidates, totalling 1440 fits\n"
     ]
    }
   ],
   "source": [
    "rf_cv_model = GridSearchCV(rf_model, rf_params, cv = 10, n_jobs = -1, verbose = 2).fit(X_train, y_train)"
   ]
  },
  {
   "cell_type": "code",
   "execution_count": 65,
   "id": "ae356470-cf71-4928-9c13-76da24a091a6",
   "metadata": {},
   "outputs": [
    {
     "data": {
      "text/plain": [
       "{'max_depth': 8,\n",
       " 'max_features': 2,\n",
       " 'min_samples_split': 2,\n",
       " 'n_estimators': 200}"
      ]
     },
     "execution_count": 65,
     "metadata": {},
     "output_type": "execute_result"
    }
   ],
   "source": [
    "rf_cv_model.best_params_"
   ]
  },
  {
   "cell_type": "code",
   "execution_count": 69,
   "id": "0d16c24e-61c5-4dfe-8d88-463cc4e91c84",
   "metadata": {},
   "outputs": [],
   "source": [
    "rf_model = RandomForestRegressor(random_state = 42,max_depth = 8, max_features = 2, min_samples_split = 2, n_estimators = 200)\n",
    "rf_tuned = rf_model.fit(X_train, y_train)"
   ]
  },
  {
   "cell_type": "code",
   "execution_count": 70,
   "id": "cd7efa95-18e8-4019-8cc7-87f423dbd8ad",
   "metadata": {},
   "outputs": [
    {
     "data": {
      "text/plain": [
       "RandomForestRegressor(max_depth=8, max_features=2, n_estimators=200,\n",
       "                      random_state=42)"
      ]
     },
     "execution_count": 70,
     "metadata": {},
     "output_type": "execute_result"
    }
   ],
   "source": [
    "rf_tuned"
   ]
  },
  {
   "cell_type": "code",
   "execution_count": 71,
   "id": "b88cb1c4-cbab-44a0-a102-828405878bec",
   "metadata": {},
   "outputs": [
    {
     "data": {
      "text/plain": [
       "349.1649379391149"
      ]
     },
     "execution_count": 71,
     "metadata": {},
     "output_type": "execute_result"
    }
   ],
   "source": [
    "y_pred = rf_tuned.predict(X_test)\n",
    "np.sqrt(mean_squared_error(y_test, y_pred))"
   ]
  },
  {
   "cell_type": "markdown",
   "id": "30ebc16c-8e5b-4990-af37-8e6f1e260507",
   "metadata": {},
   "source": [
    "## Değişken Önem Düzeyi"
   ]
  },
  {
   "cell_type": "markdown",
   "id": "319dab21-5d59-44b5-8dca-643a989a7045",
   "metadata": {},
   "source": [
    "Bu kavram bize modelleme işlemleri sırasında göz önünde bulundurmamız gereken ya da odaklanmamız gereken değişkenleri görmek adına bir imkan sağlamaktadır.Örneğin buradaki random foresta ilişkin yapılan model\n",
    "leme çalışmasında değişkenlerin önem düzeyine erişmek istiyoruz."
   ]
  },
  {
   "cell_type": "code",
   "execution_count": 72,
   "id": "05bc73b7-9b9b-4e42-ab27-b3c79f588eca",
   "metadata": {},
   "outputs": [
    {
     "data": {
      "text/plain": [
       "array([5.81548333, 6.38504706, 3.52630602, 4.18186433, 4.68121896,\n",
       "       4.92291235, 7.38388416, 9.72940722, 8.68736867, 7.89130478,\n",
       "       8.78157948, 8.30862336, 9.69431474, 4.71131944, 2.04114365,\n",
       "       1.83878075, 0.38469815, 0.55485771, 0.47988582])"
      ]
     },
     "execution_count": 72,
     "metadata": {},
     "output_type": "execute_result"
    }
   ],
   "source": [
    "rf_tuned.feature_importances_*100"
   ]
  },
  {
   "cell_type": "code",
   "execution_count": 73,
   "id": "92c7c0b9-3051-4f8d-89df-c1eec627a614",
   "metadata": {},
   "outputs": [
    {
     "data": {
      "image/png": "[encoded data removed]",
      "text/plain": [
       "<Figure size 432x288 with 1 Axes>"
      ]
     },
     "metadata": {
      "needs_background": "light"
     },
     "output_type": "display_data"
    }
   ],
   "source": [
    "Importance = pd.DataFrame({'Importance':rf_tuned.feature_importances_*100}, \n",
    "                          index = X_train.columns)\n",
    "\n",
    "\n",
    "Importance.sort_values(by = 'Importance', \n",
    "                       axis = 0, \n",
    "                       ascending = True).plot(kind = 'barh', \n",
    "                                              color = 'r', )\n",
    "\n",
    "plt.xlabel('Variable Importance')\n",
    "plt.gca().legend_ = None"
   ]
  },
  {
   "cell_type": "markdown",
   "id": "60242ed7-9db4-44a7-9dee-727f90dfd9cc",
   "metadata": {},
   "source": [
    "# Gradient Boosting Machines"
   ]
  },
  {
   "cell_type": "code",
   "execution_count": 3,
   "id": "91cdf033-ab50-4e99-9c87-ba7e68edc0fa",
   "metadata": {},
   "outputs": [],
   "source": [
    "df = pd.read_csv(\"Hitters.csv\")\n",
    "df = df.dropna()\n",
    "dms = pd.get_dummies(df[['League', 'Division', 'NewLeague']])\n",
    "y = df[\"Salary\"]\n",
    "X_ = df.drop(['Salary', 'League', 'Division', 'NewLeague'], axis=1).astype('float64')\n",
    "X = pd.concat([X_, dms[['League_N', 'Division_W', 'NewLeague_N']]], axis=1)\n",
    "X_train, X_test, y_train, y_test = train_test_split(X, \n",
    "                                                    y, \n",
    "                                                    test_size=0.25, \n",
    "                                                    random_state=42)"
   ]
  },
  {
   "cell_type": "markdown",
   "id": "cf606941-193e-4572-9b89-f2540b0bff52",
   "metadata": {},
   "source": [
    "## Model & Tahmin"
   ]
  },
  {
   "cell_type": "code",
   "execution_count": 4,
   "id": "eaccd340-8e0e-4f2f-a8dd-03715b76867c",
   "metadata": {},
   "outputs": [],
   "source": [
    "gbm_model = GradientBoostingRegressor().fit(X_train, y_train)"
   ]
  },
  {
   "cell_type": "code",
   "execution_count": 5,
   "id": "2434b659-3c38-4050-bfe3-cee93d3286f0",
   "metadata": {},
   "outputs": [
    {
     "data": {
      "text/plain": [
       "GradientBoostingRegressor()"
      ]
     },
     "execution_count": 5,
     "metadata": {},
     "output_type": "execute_result"
    }
   ],
   "source": [
    "gbm_model"
   ]
  },
  {
   "cell_type": "code",
   "execution_count": 6,
   "id": "ff506220-c743-4b56-a62c-6ad9486aa748",
   "metadata": {},
   "outputs": [],
   "source": [
    "y_pred = gbm_model.predict(X_test)"
   ]
  },
  {
   "cell_type": "code",
   "execution_count": 7,
   "id": "1f97e9f9-392a-414d-9445-76e8d5f7dfec",
   "metadata": {},
   "outputs": [
    {
     "data": {
      "text/plain": [
       "352.75331749961015"
      ]
     },
     "execution_count": 7,
     "metadata": {},
     "output_type": "execute_result"
    }
   ],
   "source": [
    "np.sqrt(mean_squared_error(y_test, y_pred))"
   ]
  },
  {
   "cell_type": "markdown",
   "id": "df00186a-0da0-4a0e-8000-86ad62aadb46",
   "metadata": {},
   "source": [
    "## Model Tuning"
   ]
  },
  {
   "cell_type": "code",
   "execution_count": 8,
   "id": "cdc5028d-f05f-4b2d-b9cb-882fb246b5e7",
   "metadata": {},
   "outputs": [
    {
     "data": {
      "text/plain": [
       "GradientBoostingRegressor()"
      ]
     },
     "execution_count": 8,
     "metadata": {},
     "output_type": "execute_result"
    }
   ],
   "source": [
    "gbm_model = GradientBoostingRegressor().fit(X_train, y_train)\n",
    "gbm_model"
   ]
  },
  {
   "cell_type": "code",
   "execution_count": 9,
   "id": "110557e1-80a8-4d49-bdd8-5c295854c137",
   "metadata": {
    "collapsed": true,
    "jupyter": {
     "outputs_hidden": true
    },
    "tags": []
   },
   "outputs": [
    {
     "data": {
      "text/plain": [
       "\u001b[1;31mType:\u001b[0m        GradientBoostingRegressor\n",
       "\u001b[1;31mString form:\u001b[0m GradientBoostingRegressor()\n",
       "\u001b[1;31mLength:\u001b[0m      100\n",
       "\u001b[1;31mFile:\u001b[0m        c:\\programdata\\anaconda3\\lib\\site-packages\\sklearn\\ensemble\\_gb.py\n",
       "\u001b[1;31mDocstring:\u001b[0m  \n",
       "Gradient Boosting for regression.\n",
       "\n",
       "GB builds an additive model in a forward stage-wise fashion;\n",
       "it allows for the optimization of arbitrary differentiable loss functions.\n",
       "In each stage a regression tree is fit on the negative gradient of the\n",
       "given loss function.\n",
       "\n",
       "Read more in the :ref:`User Guide <gradient_boosting>`.\n",
       "\n",
       "Parameters\n",
       "----------\n",
       "loss : {'squared_error', 'absolute_error', 'huber', 'quantile'},             default='squared_error'\n",
       "    Loss function to be optimized. 'squared_error' refers to the squared\n",
       "    error for regression. 'absolute_error' refers to the absolute error of\n",
       "    regression and is a robust loss function. 'huber' is a\n",
       "    combination of the two. 'quantile' allows quantile regression (use\n",
       "    `alpha` to specify the quantile).\n",
       "\n",
       "    .. deprecated:: 1.0\n",
       "        The loss 'ls' was deprecated in v1.0 and will be removed in\n",
       "        version 1.2. Use `loss='squared_error'` which is equivalent.\n",
       "\n",
       "    .. deprecated:: 1.0\n",
       "        The loss 'lad' was deprecated in v1.0 and will be removed in\n",
       "        version 1.2. Use `loss='absolute_error'` which is equivalent.\n",
       "\n",
       "learning_rate : float, default=0.1\n",
       "    Learning rate shrinks the contribution of each tree by `learning_rate`.\n",
       "    There is a trade-off between learning_rate and n_estimators.\n",
       "\n",
       "n_estimators : int, default=100\n",
       "    The number of boosting stages to perform. Gradient boosting\n",
       "    is fairly robust to over-fitting so a large number usually\n",
       "    results in better performance.\n",
       "\n",
       "subsample : float, default=1.0\n",
       "    The fraction of samples to be used for fitting the individual base\n",
       "    learners. If smaller than 1.0 this results in Stochastic Gradient\n",
       "    Boosting. `subsample` interacts with the parameter `n_estimators`.\n",
       "    Choosing `subsample < 1.0` leads to a reduction of variance\n",
       "    and an increase in bias.\n",
       "\n",
       "criterion : {'friedman_mse', 'squared_error', 'mse', 'mae'},             default='friedman_mse'\n",
       "    The function to measure the quality of a split. Supported criteria\n",
       "    are \"friedman_mse\" for the mean squared error with improvement\n",
       "    score by Friedman, \"squared_error\" for mean squared error, and \"mae\"\n",
       "    for the mean absolute error. The default value of \"friedman_mse\" is\n",
       "    generally the best as it can provide a better approximation in some\n",
       "    cases.\n",
       "\n",
       "    .. versionadded:: 0.18\n",
       "\n",
       "    .. deprecated:: 0.24\n",
       "        `criterion='mae'` is deprecated and will be removed in version\n",
       "        1.1 (renaming of 0.26). The correct way of minimizing the absolute\n",
       "        error is to use `loss='absolute_error'` instead.\n",
       "\n",
       "    .. deprecated:: 1.0\n",
       "        Criterion 'mse' was deprecated in v1.0 and will be removed in\n",
       "        version 1.2. Use `criterion='squared_error'` which is equivalent.\n",
       "\n",
       "min_samples_split : int or float, default=2\n",
       "    The minimum number of samples required to split an internal node:\n",
       "\n",
       "    - If int, then consider `min_samples_split` as the minimum number.\n",
       "    - If float, then `min_samples_split` is a fraction and\n",
       "      `ceil(min_samples_split * n_samples)` are the minimum\n",
       "      number of samples for each split.\n",
       "\n",
       "    .. versionchanged:: 0.18\n",
       "       Added float values for fractions.\n",
       "\n",
       "min_samples_leaf : int or float, default=1\n",
       "    The minimum number of samples required to be at a leaf node.\n",
       "    A split point at any depth will only be considered if it leaves at\n",
       "    least ``min_samples_leaf`` training samples in each of the left and\n",
       "    right branches.  This may have the effect of smoothing the model,\n",
       "    especially in regression.\n",
       "\n",
       "    - If int, then consider `min_samples_leaf` as the minimum number.\n",
       "    - If float, then `min_samples_leaf` is a fraction and\n",
       "      `ceil(min_samples_leaf * n_samples)` are the minimum\n",
       "      number of samples for each node.\n",
       "\n",
       "    .. versionchanged:: 0.18\n",
       "       Added float values for fractions.\n",
       "\n",
       "min_weight_fraction_leaf : float, default=0.0\n",
       "    The minimum weighted fraction of the sum total of weights (of all\n",
       "    the input samples) required to be at a leaf node. Samples have\n",
       "    equal weight when sample_weight is not provided.\n",
       "\n",
       "max_depth : int, default=3\n",
       "    Maximum depth of the individual regression estimators. The maximum\n",
       "    depth limits the number of nodes in the tree. Tune this parameter\n",
       "    for best performance; the best value depends on the interaction\n",
       "    of the input variables.\n",
       "\n",
       "min_impurity_decrease : float, default=0.0\n",
       "    A node will be split if this split induces a decrease of the impurity\n",
       "    greater than or equal to this value.\n",
       "\n",
       "    The weighted impurity decrease equation is the following::\n",
       "\n",
       "        N_t / N * (impurity - N_t_R / N_t * right_impurity\n",
       "                            - N_t_L / N_t * left_impurity)\n",
       "\n",
       "    where ``N`` is the total number of samples, ``N_t`` is the number of\n",
       "    samples at the current node, ``N_t_L`` is the number of samples in the\n",
       "    left child, and ``N_t_R`` is the number of samples in the right child.\n",
       "\n",
       "    ``N``, ``N_t``, ``N_t_R`` and ``N_t_L`` all refer to the weighted sum,\n",
       "    if ``sample_weight`` is passed.\n",
       "\n",
       "    .. versionadded:: 0.19\n",
       "\n",
       "init : estimator or 'zero', default=None\n",
       "    An estimator object that is used to compute the initial predictions.\n",
       "    ``init`` has to provide :term:`fit` and :term:`predict`. If 'zero', the\n",
       "    initial raw predictions are set to zero. By default a\n",
       "    ``DummyEstimator`` is used, predicting either the average target value\n",
       "    (for loss='squared_error'), or a quantile for the other losses.\n",
       "\n",
       "random_state : int, RandomState instance or None, default=None\n",
       "    Controls the random seed given to each Tree estimator at each\n",
       "    boosting iteration.\n",
       "    In addition, it controls the random permutation of the features at\n",
       "    each split (see Notes for more details).\n",
       "    It also controls the random splitting of the training data to obtain a\n",
       "    validation set if `n_iter_no_change` is not None.\n",
       "    Pass an int for reproducible output across multiple function calls.\n",
       "    See :term:`Glossary <random_state>`.\n",
       "\n",
       "max_features : {'auto', 'sqrt', 'log2'}, int or float, default=None\n",
       "    The number of features to consider when looking for the best split:\n",
       "\n",
       "    - If int, then consider `max_features` features at each split.\n",
       "    - If float, then `max_features` is a fraction and\n",
       "      `int(max_features * n_features)` features are considered at each\n",
       "      split.\n",
       "    - If \"auto\", then `max_features=n_features`.\n",
       "    - If \"sqrt\", then `max_features=sqrt(n_features)`.\n",
       "    - If \"log2\", then `max_features=log2(n_features)`.\n",
       "    - If None, then `max_features=n_features`.\n",
       "\n",
       "    Choosing `max_features < n_features` leads to a reduction of variance\n",
       "    and an increase in bias.\n",
       "\n",
       "    Note: the search for a split does not stop until at least one\n",
       "    valid partition of the node samples is found, even if it requires to\n",
       "    effectively inspect more than ``max_features`` features.\n",
       "\n",
       "alpha : float, default=0.9\n",
       "    The alpha-quantile of the huber loss function and the quantile\n",
       "    loss function. Only if ``loss='huber'`` or ``loss='quantile'``.\n",
       "\n",
       "verbose : int, default=0\n",
       "    Enable verbose output. If 1 then it prints progress and performance\n",
       "    once in a while (the more trees the lower the frequency). If greater\n",
       "    than 1 then it prints progress and performance for every tree.\n",
       "\n",
       "max_leaf_nodes : int, default=None\n",
       "    Grow trees with ``max_leaf_nodes`` in best-first fashion.\n",
       "    Best nodes are defined as relative reduction in impurity.\n",
       "    If None then unlimited number of leaf nodes.\n",
       "\n",
       "warm_start : bool, default=False\n",
       "    When set to ``True``, reuse the solution of the previous call to fit\n",
       "    and add more estimators to the ensemble, otherwise, just erase the\n",
       "    previous solution. See :term:`the Glossary <warm_start>`.\n",
       "\n",
       "validation_fraction : float, default=0.1\n",
       "    The proportion of training data to set aside as validation set for\n",
       "    early stopping. Must be between 0 and 1.\n",
       "    Only used if ``n_iter_no_change`` is set to an integer.\n",
       "\n",
       "    .. versionadded:: 0.20\n",
       "\n",
       "n_iter_no_change : int, default=None\n",
       "    ``n_iter_no_change`` is used to decide if early stopping will be used\n",
       "    to terminate training when validation score is not improving. By\n",
       "    default it is set to None to disable early stopping. If set to a\n",
       "    number, it will set aside ``validation_fraction`` size of the training\n",
       "    data as validation and terminate training when validation score is not\n",
       "    improving in all of the previous ``n_iter_no_change`` numbers of\n",
       "    iterations.\n",
       "\n",
       "    .. versionadded:: 0.20\n",
       "\n",
       "tol : float, default=1e-4\n",
       "    Tolerance for the early stopping. When the loss is not improving\n",
       "    by at least tol for ``n_iter_no_change`` iterations (if set to a\n",
       "    number), the training stops.\n",
       "\n",
       "    .. versionadded:: 0.20\n",
       "\n",
       "ccp_alpha : non-negative float, default=0.0\n",
       "    Complexity parameter used for Minimal Cost-Complexity Pruning. The\n",
       "    subtree with the largest cost complexity that is smaller than\n",
       "    ``ccp_alpha`` will be chosen. By default, no pruning is performed. See\n",
       "    :ref:`minimal_cost_complexity_pruning` for details.\n",
       "\n",
       "    .. versionadded:: 0.22\n",
       "\n",
       "Attributes\n",
       "----------\n",
       "feature_importances_ : ndarray of shape (n_features,)\n",
       "    The impurity-based feature importances.\n",
       "    The higher, the more important the feature.\n",
       "    The importance of a feature is computed as the (normalized)\n",
       "    total reduction of the criterion brought by that feature.  It is also\n",
       "    known as the Gini importance.\n",
       "\n",
       "    Warning: impurity-based feature importances can be misleading for\n",
       "    high cardinality features (many unique values). See\n",
       "    :func:`sklearn.inspection.permutation_importance` as an alternative.\n",
       "\n",
       "oob_improvement_ : ndarray of shape (n_estimators,)\n",
       "    The improvement in loss (= deviance) on the out-of-bag samples\n",
       "    relative to the previous iteration.\n",
       "    ``oob_improvement_[0]`` is the improvement in\n",
       "    loss of the first stage over the ``init`` estimator.\n",
       "    Only available if ``subsample < 1.0``\n",
       "\n",
       "train_score_ : ndarray of shape (n_estimators,)\n",
       "    The i-th score ``train_score_[i]`` is the deviance (= loss) of the\n",
       "    model at iteration ``i`` on the in-bag sample.\n",
       "    If ``subsample == 1`` this is the deviance on the training data.\n",
       "\n",
       "loss_ : LossFunction\n",
       "    The concrete ``LossFunction`` object.\n",
       "\n",
       "init_ : estimator\n",
       "    The estimator that provides the initial predictions.\n",
       "    Set via the ``init`` argument or ``loss.init_estimator``.\n",
       "\n",
       "estimators_ : ndarray of DecisionTreeRegressor of shape (n_estimators, 1)\n",
       "    The collection of fitted sub-estimators.\n",
       "\n",
       "n_classes_ : int\n",
       "    The number of classes, set to 1 for regressors.\n",
       "\n",
       "    .. deprecated:: 0.24\n",
       "        Attribute ``n_classes_`` was deprecated in version 0.24 and\n",
       "        will be removed in 1.1 (renaming of 0.26).\n",
       "\n",
       "n_estimators_ : int\n",
       "    The number of estimators as selected by early stopping (if\n",
       "    ``n_iter_no_change`` is specified). Otherwise it is set to\n",
       "    ``n_estimators``.\n",
       "\n",
       "n_features_ : int\n",
       "    The number of data features.\n",
       "\n",
       "    .. deprecated:: 1.0\n",
       "        Attribute `n_features_` was deprecated in version 1.0 and will be\n",
       "        removed in 1.2. Use `n_features_in_` instead.\n",
       "\n",
       "n_features_in_ : int\n",
       "    Number of features seen during :term:`fit`.\n",
       "\n",
       "    .. versionadded:: 0.24\n",
       "\n",
       "feature_names_in_ : ndarray of shape (`n_features_in_`,)\n",
       "    Names of features seen during :term:`fit`. Defined only when `X`\n",
       "    has feature names that are all strings.\n",
       "\n",
       "    .. versionadded:: 1.0\n",
       "\n",
       "max_features_ : int\n",
       "    The inferred value of max_features.\n",
       "\n",
       "See Also\n",
       "--------\n",
       "HistGradientBoostingRegressor : Histogram-based Gradient Boosting\n",
       "    Classification Tree.\n",
       "sklearn.tree.DecisionTreeRegressor : A decision tree regressor.\n",
       "sklearn.ensemble.RandomForestRegressor : A random forest regressor.\n",
       "\n",
       "Notes\n",
       "-----\n",
       "The features are always randomly permuted at each split. Therefore,\n",
       "the best found split may vary, even with the same training data and\n",
       "``max_features=n_features``, if the improvement of the criterion is\n",
       "identical for several splits enumerated during the search of the best\n",
       "split. To obtain a deterministic behaviour during fitting,\n",
       "``random_state`` has to be fixed.\n",
       "\n",
       "References\n",
       "----------\n",
       "J. Friedman, Greedy Function Approximation: A Gradient Boosting\n",
       "Machine, The Annals of Statistics, Vol. 29, No. 5, 2001.\n",
       "\n",
       "J. Friedman, Stochastic Gradient Boosting, 1999\n",
       "\n",
       "T. Hastie, R. Tibshirani and J. Friedman.\n",
       "Elements of Statistical Learning Ed. 2, Springer, 2009.\n",
       "\n",
       "Examples\n",
       "--------\n",
       ">>> from sklearn.datasets import make_regression\n",
       ">>> from sklearn.ensemble import GradientBoostingRegressor\n",
       ">>> from sklearn.model_selection import train_test_split\n",
       ">>> X, y = make_regression(random_state=0)\n",
       ">>> X_train, X_test, y_train, y_test = train_test_split(\n",
       "...     X, y, random_state=0)\n",
       ">>> reg = GradientBoostingRegressor(random_state=0)\n",
       ">>> reg.fit(X_train, y_train)\n",
       "GradientBoostingRegressor(random_state=0)\n",
       ">>> reg.predict(X_test[1:2])\n",
       "array([-61...])\n",
       ">>> reg.score(X_test, y_test)\n",
       "0.4...\n"
      ]
     },
     "metadata": {},
     "output_type": "display_data"
    }
   ],
   "source": [
    "?gbm_model"
   ]
  },
  {
   "cell_type": "code",
   "execution_count": 10,
   "id": "049bbf77-b4a1-48f1-92dc-5ed659431930",
   "metadata": {},
   "outputs": [],
   "source": [
    "gbm_params = {\"learning_rate\": [0.001,0.1,0.01],\n",
    "             \"max_depth\": [3,5,8],\n",
    "             \"n_estimators\": [100,200,500],\n",
    "             \"subsample\": [1,0.5,0.8],\n",
    "             \"loss\": [\"ls\",\"lad\",\"quantile\"]}"
   ]
  },
  {
   "cell_type": "code",
   "execution_count": 11,
   "id": "3972481b-8f7b-47fe-86fc-9b0621e53b64",
   "metadata": {},
   "outputs": [],
   "source": [
    "gbm_model = GradientBoostingRegressor().fit(X_train, y_train)"
   ]
  },
  {
   "cell_type": "code",
   "execution_count": 12,
   "id": "c73020be-ecaf-4d41-bc8d-709ba566a381",
   "metadata": {},
   "outputs": [
    {
     "name": "stdout",
     "output_type": "stream",
     "text": [
      "Fitting 10 folds for each of 243 candidates, totalling 2430 fits\n"
     ]
    }
   ],
   "source": [
    "gbm_cv_model = GridSearchCV(gbm_model, gbm_params, cv = 10, n_jobs=-1, verbose = 2).fit(X_train, y_train)"
   ]
  },
  {
   "cell_type": "code",
   "execution_count": 13,
   "id": "fe011243-349c-4fbf-8f06-89ee4e0e946f",
   "metadata": {},
   "outputs": [
    {
     "data": {
      "text/plain": [
       "{'learning_rate': 0.01,\n",
       " 'loss': 'lad',\n",
       " 'max_depth': 3,\n",
       " 'n_estimators': 500,\n",
       " 'subsample': 0.5}"
      ]
     },
     "execution_count": 13,
     "metadata": {},
     "output_type": "execute_result"
    }
   ],
   "source": [
    "gbm_cv_model.best_params_"
   ]
  },
  {
   "cell_type": "code",
   "execution_count": 14,
   "id": "e1eae749-c3b5-40ce-82c0-5c8f4d2f0260",
   "metadata": {},
   "outputs": [],
   "source": [
    "gbm_tuned =  GradientBoostingRegressor(learning_rate=0.01, loss=\"lad\", max_depth=3,n_estimators=500, subsample=0.5).fit(X_train, y_train)"
   ]
  },
  {
   "cell_type": "code",
   "execution_count": 15,
   "id": "5a3a51e9-34dc-4a09-a2dc-7d9e72fc65a8",
   "metadata": {},
   "outputs": [],
   "source": [
    "y_pred = gbm_tuned.predict(X_test)"
   ]
  },
  {
   "cell_type": "code",
   "execution_count": 16,
   "id": "8375c67f-0a3c-470e-85cd-a2233220ac9d",
   "metadata": {},
   "outputs": [
    {
     "data": {
      "text/plain": [
       "330.6005114797945"
      ]
     },
     "execution_count": 16,
     "metadata": {},
     "output_type": "execute_result"
    }
   ],
   "source": [
    "np.sqrt(mean_squared_error(y_test, y_pred))"
   ]
  },
  {
   "cell_type": "code",
   "execution_count": 17,
   "id": "49251d68-f291-44f4-b309-4ccdc9ed3297",
   "metadata": {},
   "outputs": [],
   "source": [
    "#Değişken Önem Düzeyleri"
   ]
  },
  {
   "cell_type": "code",
   "execution_count": 18,
   "id": "0da7e35a-c9ab-42b3-88d7-edcc410123fb",
   "metadata": {},
   "outputs": [
    {
     "data": {
      "image/png": "[encoded data removed]",
      "text/plain": [
       "<Figure size 432x288 with 1 Axes>"
      ]
     },
     "metadata": {
      "needs_background": "light"
     },
     "output_type": "display_data"
    }
   ],
   "source": [
    "Importance = pd.DataFrame({'Importance':gbm_tuned.feature_importances_*100}, \n",
    "                          index = X_train.columns)\n",
    "\n",
    "\n",
    "Importance.sort_values(by = 'Importance', \n",
    "                       axis = 0, \n",
    "                       ascending = True).plot(kind = 'barh', \n",
    "                                              color = 'r', )\n",
    "\n",
    "plt.xlabel('Variable Importance')\n",
    "plt.gca().legend_ = None"
   ]
  },
  {
   "cell_type": "markdown",
   "id": "47b49bf1-c4fa-48c9-9477-29145b1f0b87",
   "metadata": {},
   "source": [
    "# XGBoost"
   ]
  },
  {
   "cell_type": "code",
   "execution_count": 19,
   "id": "1359948a-483c-4d20-9800-8d62a54ef1a7",
   "metadata": {},
   "outputs": [],
   "source": [
    "df = pd.read_csv(\"Hitters.csv\")\n",
    "df = df.dropna()\n",
    "dms = pd.get_dummies(df[['League', 'Division', 'NewLeague']])\n",
    "y = df[\"Salary\"]\n",
    "X_ = df.drop(['Salary', 'League', 'Division', 'NewLeague'], axis=1).astype('float64')\n",
    "X = pd.concat([X_, dms[['League_N', 'Division_W', 'NewLeague_N']]], axis=1)\n",
    "X_train, X_test, y_train, y_test = train_test_split(X, \n",
    "                                                    y, \n",
    "                                                    test_size=0.25, \n",
    "                                                    random_state=42)"
   ]
  },
  {
   "cell_type": "markdown",
   "id": "c1f9a922-fe64-4268-ac9c-c35907862d89",
   "metadata": {},
   "source": [
    "## Model & Tahmin"
   ]
  },
  {
   "cell_type": "code",
   "execution_count": 20,
   "id": "f7561110-0a40-48c1-8b17-64b2f013443e",
   "metadata": {},
   "outputs": [
    {
     "name": "stdout",
     "output_type": "stream",
     "text": [
      "Collecting xgboost\n",
      "  Downloading xgboost-1.6.1-py3-none-win_amd64.whl (125.4 MB)\n",
      "Requirement already satisfied: scipy in c:\\programdata\\anaconda3\\lib\\site-packages (from xgboost) (1.7.3)\n",
      "Requirement already satisfied: numpy in c:\\programdata\\anaconda3\\lib\\site-packages (from xgboost) (1.21.5)\n",
      "Installing collected packages: xgboost\n",
      "Successfully installed xgboost-1.6.1\n"
     ]
    }
   ],
   "source": [
    "!pip install xgboost"
   ]
  },
  {
   "cell_type": "code",
   "execution_count": 23,
   "id": "272cd472-1eec-48f7-9502-3df0f360762b",
   "metadata": {},
   "outputs": [],
   "source": [
    "import xgboost"
   ]
  },
  {
   "cell_type": "code",
   "execution_count": 24,
   "id": "ad9db005-fa11-41c4-ba30-410c26b81559",
   "metadata": {},
   "outputs": [],
   "source": [
    "from xgboost import XGBRegressor"
   ]
  },
  {
   "cell_type": "code",
   "execution_count": 25,
   "id": "11ad1a2b-284a-4270-a198-8ea269ae37d0",
   "metadata": {},
   "outputs": [],
   "source": [
    "xgb = XGBRegressor().fit(X_train, y_train)"
   ]
  },
  {
   "cell_type": "code",
   "execution_count": 26,
   "id": "f321e5f6-a4b1-4990-90dc-28c6feae7c98",
   "metadata": {},
   "outputs": [
    {
     "data": {
      "text/plain": [
       "XGBRegressor(base_score=0.5, booster='gbtree', callbacks=None,\n",
       "             colsample_bylevel=1, colsample_bynode=1, colsample_bytree=1,\n",
       "             early_stopping_rounds=None, enable_categorical=False,\n",
       "             eval_metric=None, gamma=0, gpu_id=-1, grow_policy='depthwise',\n",
       "             importance_type=None, interaction_constraints='',\n",
       "             learning_rate=0.300000012, max_bin=256, max_cat_to_onehot=4,\n",
       "             max_delta_step=0, max_depth=6, max_leaves=0, min_child_weight=1,\n",
       "             missing=nan, monotone_constraints='()', n_estimators=100, n_jobs=0,\n",
       "             num_parallel_tree=1, predictor='auto', random_state=0, reg_alpha=0,\n",
       "             reg_lambda=1, ...)"
      ]
     },
     "execution_count": 26,
     "metadata": {},
     "output_type": "execute_result"
    }
   ],
   "source": [
    "xgb"
   ]
  },
  {
   "cell_type": "code",
   "execution_count": 27,
   "id": "f6630cbc-f965-448a-922b-4b598cf87aec",
   "metadata": {},
   "outputs": [],
   "source": [
    "y_pred = xgb.predict(X_test)"
   ]
  },
  {
   "cell_type": "code",
   "execution_count": 28,
   "id": "43600f80-9663-4673-8497-16a3539ff2d1",
   "metadata": {},
   "outputs": [
    {
     "data": {
      "text/plain": [
       "355.46515176059927"
      ]
     },
     "execution_count": 28,
     "metadata": {},
     "output_type": "execute_result"
    }
   ],
   "source": [
    "np.sqrt(mean_squared_error(y_test, y_pred))"
   ]
  },
  {
   "cell_type": "markdown",
   "id": "dc42df77-e3ff-460a-8333-30daf4a5dc4b",
   "metadata": {},
   "source": [
    "## Model Tuning"
   ]
  },
  {
   "cell_type": "code",
   "execution_count": 29,
   "id": "a479c2fa-87db-470b-b4fc-0b56701011bb",
   "metadata": {},
   "outputs": [
    {
     "data": {
      "text/plain": [
       "XGBRegressor(base_score=None, booster=None, callbacks=None,\n",
       "             colsample_bylevel=None, colsample_bynode=None,\n",
       "             colsample_bytree=None, early_stopping_rounds=None,\n",
       "             enable_categorical=False, eval_metric=None, gamma=None,\n",
       "             gpu_id=None, grow_policy=None, importance_type=None,\n",
       "             interaction_constraints=None, learning_rate=None, max_bin=None,\n",
       "             max_cat_to_onehot=None, max_delta_step=None, max_depth=None,\n",
       "             max_leaves=None, min_child_weight=None, missing=nan,\n",
       "             monotone_constraints=None, n_estimators=100, n_jobs=None,\n",
       "             num_parallel_tree=None, predictor=None, random_state=None,\n",
       "             reg_alpha=None, reg_lambda=None, ...)"
      ]
     },
     "execution_count": 29,
     "metadata": {},
     "output_type": "execute_result"
    }
   ],
   "source": [
    "xgb = XGBRegressor()\n",
    "xgb"
   ]
  },
  {
   "cell_type": "code",
   "execution_count": 32,
   "id": "e715df18-2ce8-42ce-8ad6-7bff6b2f283a",
   "metadata": {},
   "outputs": [],
   "source": [
    "xgb_params = {\"learning_rate\": [0.1,0.01,0.5],\n",
    "             \"max_depth\": [2,3,4,5,8],\n",
    "             \"n_estimators\": [100,200,500,1000],\n",
    "             \"colsample_bytree\": [0.4,0.7,1]}\n",
    "# learning_rate overfittingi engellemek adına kullanılan bir parametredir.Daraltma adım boyunu ifade etmektedir.\n",
    "# n_estimators kullanılacak olan ağaç sayısını ifade ediyor.Tahminci sayısını ifade ediyor.\n",
    "# colsample_bytree oluşturulacak olan ağaçlarda değişkenlerden alınacak olan alt küme oranını ifade ediyor."
   ]
  },
  {
   "cell_type": "code",
   "execution_count": 31,
   "id": "dcb67e8d-cdc6-4e74-af65-7f682e798793",
   "metadata": {},
   "outputs": [
    {
     "name": "stdout",
     "output_type": "stream",
     "text": [
      "Fitting 10 folds for each of 180 candidates, totalling 1800 fits\n"
     ]
    }
   ],
   "source": [
    "xgb_cv_model = GridSearchCV(xgb, xgb_params, cv = 10, n_jobs = -1, verbose = 2).fit(X_train, y_train)"
   ]
  },
  {
   "cell_type": "code",
   "execution_count": 33,
   "id": "eff2280e-7f6b-4e98-8387-677cd0eb4076",
   "metadata": {},
   "outputs": [
    {
     "data": {
      "text/plain": [
       "{'colsample_bytree': 0.4,\n",
       " 'learning_rate': 0.1,\n",
       " 'max_depth': 2,\n",
       " 'n_estimators': 1000}"
      ]
     },
     "execution_count": 33,
     "metadata": {},
     "output_type": "execute_result"
    }
   ],
   "source": [
    "xgb_cv_model.best_params_"
   ]
  },
  {
   "cell_type": "code",
   "execution_count": 34,
   "id": "c6defcc2-637f-4196-8c30-e996b6843a23",
   "metadata": {},
   "outputs": [],
   "source": [
    "xgb_tuned = XGBRegressor(colsample_bytree = 0.4, learning_rate = 0.1, max_depth = 2, n_estimators = 1000).fit(X_train, y_train)"
   ]
  },
  {
   "cell_type": "code",
   "execution_count": 36,
   "id": "3a120f4a-c558-4fee-bf53-a25b1590efb3",
   "metadata": {},
   "outputs": [],
   "source": [
    "y_pred = xgb_tuned.predict(X_test)"
   ]
  },
  {
   "cell_type": "code",
   "execution_count": 37,
   "id": "02d1c1ac-7439-4f7d-b45f-79d4796b98e2",
   "metadata": {},
   "outputs": [
    {
     "data": {
      "text/plain": [
       "367.8515299923177"
      ]
     },
     "execution_count": 37,
     "metadata": {},
     "output_type": "execute_result"
    }
   ],
   "source": [
    "np.sqrt(mean_squared_error(y_test, y_pred))"
   ]
  },
  {
   "cell_type": "markdown",
   "id": "48792afd-0267-47d2-ab3c-90d10773fe0b",
   "metadata": {},
   "source": [
    "# LightGBM"
   ]
  },
  {
   "cell_type": "code",
   "execution_count": 38,
   "id": "534c179b-9478-4010-bd46-3576d83a36b1",
   "metadata": {},
   "outputs": [],
   "source": [
    "df = pd.read_csv(\"Hitters.csv\")\n",
    "df = df.dropna()\n",
    "dms = pd.get_dummies(df[['League', 'Division', 'NewLeague']])\n",
    "y = df[\"Salary\"]\n",
    "X_ = df.drop(['Salary', 'League', 'Division', 'NewLeague'], axis=1).astype('float64')\n",
    "X = pd.concat([X_, dms[['League_N', 'Division_W', 'NewLeague_N']]], axis=1)\n",
    "X_train, X_test, y_train, y_test = train_test_split(X, \n",
    "                                                    y, \n",
    "                                                    test_size=0.25, \n",
    "                                                    random_state=42)"
   ]
  },
  {
   "cell_type": "code",
   "execution_count": 39,
   "id": "16023398-05fb-440a-9890-2d15a1dacd42",
   "metadata": {},
   "outputs": [
    {
     "name": "stdout",
     "output_type": "stream",
     "text": [
      "Collecting lightgbm\n",
      "  Downloading lightgbm-3.3.2-py3-none-win_amd64.whl (1.0 MB)\n",
      "Requirement already satisfied: wheel in c:\\programdata\\anaconda3\\lib\\site-packages (from lightgbm) (0.37.1)\n",
      "Requirement already satisfied: scipy in c:\\programdata\\anaconda3\\lib\\site-packages (from lightgbm) (1.7.3)\n",
      "Requirement already satisfied: numpy in c:\\programdata\\anaconda3\\lib\\site-packages (from lightgbm) (1.21.5)\n",
      "Requirement already satisfied: scikit-learn!=0.22.0 in c:\\programdata\\anaconda3\\lib\\site-packages (from lightgbm) (1.0.2)\n",
      "Requirement already satisfied: joblib>=0.11 in c:\\programdata\\anaconda3\\lib\\site-packages (from scikit-learn!=0.22.0->lightgbm) (1.1.0)\n",
      "Requirement already satisfied: threadpoolctl>=2.0.0 in c:\\programdata\\anaconda3\\lib\\site-packages (from scikit-learn!=0.22.0->lightgbm) (2.2.0)\n",
      "Installing collected packages: lightgbm\n",
      "Successfully installed lightgbm-3.3.2\n"
     ]
    }
   ],
   "source": [
    "!pip install lightgbm"
   ]
  },
  {
   "cell_type": "code",
   "execution_count": 40,
   "id": "50853593-ace3-4a2e-8d75-e781122c1775",
   "metadata": {},
   "outputs": [],
   "source": [
    "from lightgbm import LGBMRegressor"
   ]
  },
  {
   "cell_type": "markdown",
   "id": "445b2eb3-7f12-4f1f-aeb5-71cd8df37e87",
   "metadata": {},
   "source": [
    "## Model & Tahmin"
   ]
  },
  {
   "cell_type": "code",
   "execution_count": 42,
   "id": "7b013a13-2f3a-4460-99c8-5dd4a32aa570",
   "metadata": {},
   "outputs": [],
   "source": [
    "lgb_model = LGBMRegressor().fit(X_train, y_train)"
   ]
  },
  {
   "cell_type": "code",
   "execution_count": 43,
   "id": "5b904e1d-21eb-40bd-b744-b0014fe5ab9f",
   "metadata": {},
   "outputs": [
    {
     "data": {
      "text/plain": [
       "LGBMRegressor()"
      ]
     },
     "execution_count": 43,
     "metadata": {},
     "output_type": "execute_result"
    }
   ],
   "source": [
    "lgb_model"
   ]
  },
  {
   "cell_type": "code",
   "execution_count": 44,
   "id": "e72b7fb7-356e-41b2-8363-dc2444832e47",
   "metadata": {},
   "outputs": [],
   "source": [
    "y_pred = lgb_model.predict(X_test)"
   ]
  },
  {
   "cell_type": "code",
   "execution_count": 45,
   "id": "7c59697d-8857-4d95-acfd-be74f5a65e71",
   "metadata": {},
   "outputs": [
    {
     "data": {
      "text/plain": [
       "363.8712087611089"
      ]
     },
     "execution_count": 45,
     "metadata": {},
     "output_type": "execute_result"
    }
   ],
   "source": [
    "np.sqrt(mean_squared_error(y_test, y_pred))"
   ]
  },
  {
   "cell_type": "markdown",
   "id": "50be685a-f7b7-4246-89d7-7128a828944e",
   "metadata": {},
   "source": [
    "## Model Tuning"
   ]
  },
  {
   "cell_type": "code",
   "execution_count": 46,
   "id": "9d22c189-5b68-44f7-b7b6-b218d8bdace9",
   "metadata": {},
   "outputs": [
    {
     "data": {
      "text/plain": [
       "LGBMRegressor()"
      ]
     },
     "execution_count": 46,
     "metadata": {},
     "output_type": "execute_result"
    }
   ],
   "source": [
    "lgb_model = LGBMRegressor()\n",
    "lgb_model"
   ]
  },
  {
   "cell_type": "code",
   "execution_count": 47,
   "id": "b623e669-6017-4cf4-ae7f-3a522891f190",
   "metadata": {},
   "outputs": [],
   "source": [
    "lgbm_params = {\"learning_rate\": [0.01, 0.1, 0.5, 1],\n",
    "              \"n_estimators\": [20,40,100,200,500,1000],\n",
    "              \"max_depth\": [1,2,3,4,5,6,7,8,9,10]}"
   ]
  },
  {
   "cell_type": "code",
   "execution_count": 48,
   "id": "927534c7-6d0b-4964-80e4-344f7e33311a",
   "metadata": {},
   "outputs": [
    {
     "name": "stdout",
     "output_type": "stream",
     "text": [
      "Fitting 10 folds for each of 240 candidates, totalling 2400 fits\n"
     ]
    }
   ],
   "source": [
    "lgbm_cv_model = GridSearchCV(lgb_model, \n",
    "                             lgbm_params, \n",
    "                             cv = 10, \n",
    "                             n_jobs = -1, \n",
    "                             verbose =2).fit(X_train, y_train)"
   ]
  },
  {
   "cell_type": "code",
   "execution_count": 49,
   "id": "aa34dd15-30bc-4465-832a-8746e0b90ab1",
   "metadata": {},
   "outputs": [
    {
     "data": {
      "text/plain": [
       "{'learning_rate': 0.1, 'max_depth': 6, 'n_estimators': 20}"
      ]
     },
     "execution_count": 49,
     "metadata": {},
     "output_type": "execute_result"
    }
   ],
   "source": [
    "lgbm_cv_model.best_params_"
   ]
  },
  {
   "cell_type": "code",
   "execution_count": 50,
   "id": "f5254fbe-b8a0-495a-a62d-98c3ffdfb805",
   "metadata": {},
   "outputs": [],
   "source": [
    "lgbm_tuned = LGBMRegressor(learning_rate = 0.1, max_depth = 6, n_estimators = 20).fit(X_train, y_train)"
   ]
  },
  {
   "cell_type": "code",
   "execution_count": 52,
   "id": "c0e4d320-6796-4311-b3b8-ff23706c845f",
   "metadata": {},
   "outputs": [],
   "source": [
    "y_pred = lgbm_tuned.predict(X_test)"
   ]
  },
  {
   "cell_type": "code",
   "execution_count": 53,
   "id": "603fc242-a71a-49c8-b995-0040567c920a",
   "metadata": {},
   "outputs": [
    {
     "data": {
      "text/plain": [
       "371.5044868943621"
      ]
     },
     "execution_count": 53,
     "metadata": {},
     "output_type": "execute_result"
    }
   ],
   "source": [
    "np.sqrt(mean_squared_error(y_test, y_pred))"
   ]
  },
  {
   "cell_type": "markdown",
   "id": "a246bb74-a4ba-4685-969d-cdb3b410d326",
   "metadata": {},
   "source": [
    "# CatBoost"
   ]
  },
  {
   "cell_type": "code",
   "execution_count": 54,
   "id": "b81817ea-697e-4599-882a-424e79a707f0",
   "metadata": {},
   "outputs": [],
   "source": [
    "df = pd.read_csv(\"Hitters.csv\")\n",
    "df = df.dropna()\n",
    "dms = pd.get_dummies(df[['League', 'Division', 'NewLeague']])\n",
    "\n",
    "y = df[\"Salary\"]\n",
    "X_ = df.drop(['Salary', 'League', 'Division', 'NewLeague'], axis=1).astype('float64')\n",
    "X = pd.concat([X_, dms[['League_N', 'Division_W', 'NewLeague_N']]], axis=1)\n",
    "X_train, X_test, y_train, y_test = train_test_split(X, \n",
    "                                                    y, \n",
    "                                                    test_size=0.25, \n",
    "                                                    random_state=42)"
   ]
  },
  {
   "cell_type": "code",
   "execution_count": 55,
   "id": "46a3f4d9-4605-4250-b7e9-c1f62dd1e969",
   "metadata": {},
   "outputs": [
    {
     "name": "stdout",
     "output_type": "stream",
     "text": [
      "Collecting catboost\n",
      "  Downloading catboost-1.0.6-cp39-none-win_amd64.whl (73.9 MB)\n",
      "Requirement already satisfied: numpy>=1.16.0 in c:\\programdata\\anaconda3\\lib\\site-packages (from catboost) (1.21.5)\n",
      "Collecting graphviz\n",
      "  Downloading graphviz-0.20.1-py3-none-any.whl (47 kB)\n",
      "Requirement already satisfied: pandas>=0.24.0 in c:\\programdata\\anaconda3\\lib\\site-packages (from catboost) (1.4.2)\n",
      "Requirement already satisfied: plotly in c:\\programdata\\anaconda3\\lib\\site-packages (from catboost) (5.6.0)\n",
      "Requirement already satisfied: six in c:\\programdata\\anaconda3\\lib\\site-packages (from catboost) (1.16.0)\n",
      "Requirement already satisfied: matplotlib in c:\\programdata\\anaconda3\\lib\\site-packages (from catboost) (3.5.1)\n",
      "Requirement already satisfied: scipy in c:\\programdata\\anaconda3\\lib\\site-packages (from catboost) (1.7.3)\n",
      "Requirement already satisfied: python-dateutil>=2.8.1 in c:\\programdata\\anaconda3\\lib\\site-packages (from pandas>=0.24.0->catboost) (2.8.2)\n",
      "Requirement already satisfied: pytz>=2020.1 in c:\\programdata\\anaconda3\\lib\\site-packages (from pandas>=0.24.0->catboost) (2021.3)\n",
      "Requirement already satisfied: kiwisolver>=1.0.1 in c:\\programdata\\anaconda3\\lib\\site-packages (from matplotlib->catboost) (1.3.2)\n",
      "Requirement already satisfied: pillow>=6.2.0 in c:\\programdata\\anaconda3\\lib\\site-packages (from matplotlib->catboost) (9.0.1)\n",
      "Requirement already satisfied: fonttools>=4.22.0 in c:\\programdata\\anaconda3\\lib\\site-packages (from matplotlib->catboost) (4.25.0)\n",
      "Requirement already satisfied: cycler>=0.10 in c:\\programdata\\anaconda3\\lib\\site-packages (from matplotlib->catboost) (0.11.0)\n",
      "Requirement already satisfied: pyparsing>=2.2.1 in c:\\programdata\\anaconda3\\lib\\site-packages (from matplotlib->catboost) (3.0.4)\n",
      "Requirement already satisfied: packaging>=20.0 in c:\\programdata\\anaconda3\\lib\\site-packages (from matplotlib->catboost) (21.3)\n",
      "Requirement already satisfied: tenacity>=6.2.0 in c:\\programdata\\anaconda3\\lib\\site-packages (from plotly->catboost) (8.0.1)\n",
      "Installing collected packages: graphviz, catboost\n",
      "Successfully installed catboost-1.0.6 graphviz-0.20.1\n"
     ]
    }
   ],
   "source": [
    "!pip install catboost"
   ]
  },
  {
   "cell_type": "markdown",
   "id": "6edc47b0-bbe8-45a6-b861-c564c034b699",
   "metadata": {},
   "source": [
    "## Model & Tahmin"
   ]
  },
  {
   "cell_type": "code",
   "execution_count": 56,
   "id": "1a1d63d5-11f8-44fd-ba9d-9cbbacd4a683",
   "metadata": {},
   "outputs": [],
   "source": [
    "from catboost import CatBoostRegressor"
   ]
  },
  {
   "cell_type": "code",
   "execution_count": 57,
   "id": "75d4c449-537a-4762-aa22-511611b15415",
   "metadata": {
    "collapsed": true,
    "jupyter": {
     "outputs_hidden": true
    },
    "tags": []
   },
   "outputs": [
    {
     "name": "stdout",
     "output_type": "stream",
     "text": [
      "Learning rate set to 0.031674\n",
      "0:\tlearn: 437.6430699\ttotal: 153ms\tremaining: 2m 33s\n",
      "1:\tlearn: 431.3923642\ttotal: 156ms\tremaining: 1m 17s\n",
      "2:\tlearn: 424.8820360\ttotal: 158ms\tremaining: 52.4s\n",
      "3:\tlearn: 418.2514904\ttotal: 160ms\tremaining: 39.8s\n",
      "4:\tlearn: 412.6394021\ttotal: 163ms\tremaining: 32.4s\n",
      "5:\tlearn: 406.6247020\ttotal: 164ms\tremaining: 27.2s\n",
      "6:\tlearn: 400.5321206\ttotal: 166ms\tremaining: 23.6s\n",
      "7:\tlearn: 394.6683437\ttotal: 168ms\tremaining: 20.9s\n",
      "8:\tlearn: 388.2496484\ttotal: 170ms\tremaining: 18.7s\n",
      "9:\tlearn: 382.9448842\ttotal: 172ms\tremaining: 17s\n",
      "10:\tlearn: 377.2600080\ttotal: 174ms\tremaining: 15.7s\n",
      "11:\tlearn: 372.4829606\ttotal: 176ms\tremaining: 14.5s\n",
      "12:\tlearn: 366.6823437\ttotal: 178ms\tremaining: 13.5s\n",
      "13:\tlearn: 362.6076230\ttotal: 181ms\tremaining: 12.7s\n",
      "14:\tlearn: 358.0107745\ttotal: 183ms\tremaining: 12s\n",
      "15:\tlearn: 353.2802665\ttotal: 185ms\tremaining: 11.4s\n",
      "16:\tlearn: 348.5646265\ttotal: 187ms\tremaining: 10.8s\n",
      "17:\tlearn: 343.6407912\ttotal: 189ms\tremaining: 10.3s\n",
      "18:\tlearn: 339.2363847\ttotal: 191ms\tremaining: 9.86s\n",
      "19:\tlearn: 334.3431252\ttotal: 193ms\tremaining: 9.46s\n",
      "20:\tlearn: 330.3247028\ttotal: 195ms\tremaining: 9.09s\n",
      "21:\tlearn: 326.6118334\ttotal: 197ms\tremaining: 8.76s\n",
      "22:\tlearn: 322.7759981\ttotal: 199ms\tremaining: 8.45s\n",
      "23:\tlearn: 318.9511822\ttotal: 201ms\tremaining: 8.17s\n",
      "24:\tlearn: 315.4216253\ttotal: 203ms\tremaining: 7.92s\n",
      "25:\tlearn: 311.3551377\ttotal: 205ms\tremaining: 7.69s\n",
      "26:\tlearn: 308.1492371\ttotal: 207ms\tremaining: 7.46s\n",
      "27:\tlearn: 304.7284729\ttotal: 209ms\tremaining: 7.25s\n",
      "28:\tlearn: 301.3893204\ttotal: 211ms\tremaining: 7.05s\n",
      "29:\tlearn: 298.2080758\ttotal: 212ms\tremaining: 6.87s\n",
      "30:\tlearn: 295.6878398\ttotal: 214ms\tremaining: 6.69s\n",
      "31:\tlearn: 292.3912243\ttotal: 216ms\tremaining: 6.53s\n",
      "32:\tlearn: 289.6345744\ttotal: 218ms\tremaining: 6.38s\n",
      "33:\tlearn: 287.2158711\ttotal: 219ms\tremaining: 6.23s\n",
      "34:\tlearn: 284.3879081\ttotal: 221ms\tremaining: 6.1s\n",
      "35:\tlearn: 281.7994818\ttotal: 223ms\tremaining: 5.97s\n",
      "36:\tlearn: 279.2028261\ttotal: 225ms\tremaining: 5.84s\n",
      "37:\tlearn: 276.5821160\ttotal: 227ms\tremaining: 5.74s\n",
      "38:\tlearn: 273.8890894\ttotal: 228ms\tremaining: 5.63s\n",
      "39:\tlearn: 271.1681677\ttotal: 230ms\tremaining: 5.52s\n",
      "40:\tlearn: 269.0159531\ttotal: 232ms\tremaining: 5.42s\n",
      "41:\tlearn: 266.3601804\ttotal: 234ms\tremaining: 5.33s\n",
      "42:\tlearn: 263.8608958\ttotal: 236ms\tremaining: 5.25s\n",
      "43:\tlearn: 261.1405566\ttotal: 238ms\tremaining: 5.16s\n",
      "44:\tlearn: 258.9314736\ttotal: 239ms\tremaining: 5.08s\n",
      "45:\tlearn: 256.3885577\ttotal: 241ms\tremaining: 5s\n",
      "46:\tlearn: 254.2857349\ttotal: 243ms\tremaining: 4.93s\n",
      "47:\tlearn: 252.2347121\ttotal: 245ms\tremaining: 4.86s\n",
      "48:\tlearn: 250.1779367\ttotal: 247ms\tremaining: 4.79s\n",
      "49:\tlearn: 248.2687430\ttotal: 249ms\tremaining: 4.72s\n",
      "50:\tlearn: 246.3685582\ttotal: 250ms\tremaining: 4.66s\n",
      "51:\tlearn: 244.8719988\ttotal: 252ms\tremaining: 4.6s\n",
      "52:\tlearn: 242.7348892\ttotal: 254ms\tremaining: 4.54s\n",
      "53:\tlearn: 241.1611112\ttotal: 256ms\tremaining: 4.48s\n",
      "54:\tlearn: 239.4819462\ttotal: 257ms\tremaining: 4.42s\n",
      "55:\tlearn: 237.3877895\ttotal: 259ms\tremaining: 4.37s\n",
      "56:\tlearn: 235.7619262\ttotal: 261ms\tremaining: 4.32s\n",
      "57:\tlearn: 233.9604804\ttotal: 263ms\tremaining: 4.27s\n",
      "58:\tlearn: 232.4948011\ttotal: 264ms\tremaining: 4.22s\n",
      "59:\tlearn: 230.6283304\ttotal: 266ms\tremaining: 4.17s\n",
      "60:\tlearn: 228.9920307\ttotal: 268ms\tremaining: 4.12s\n",
      "61:\tlearn: 227.5197637\ttotal: 269ms\tremaining: 4.08s\n",
      "62:\tlearn: 226.0561213\ttotal: 271ms\tremaining: 4.03s\n",
      "63:\tlearn: 224.3484762\ttotal: 273ms\tremaining: 3.99s\n",
      "64:\tlearn: 223.0652023\ttotal: 275ms\tremaining: 3.95s\n",
      "65:\tlearn: 221.6608069\ttotal: 277ms\tremaining: 3.91s\n",
      "66:\tlearn: 220.2445284\ttotal: 278ms\tremaining: 3.88s\n",
      "67:\tlearn: 219.0044262\ttotal: 280ms\tremaining: 3.84s\n",
      "68:\tlearn: 217.4624313\ttotal: 282ms\tremaining: 3.8s\n",
      "69:\tlearn: 216.0502248\ttotal: 284ms\tremaining: 3.77s\n",
      "70:\tlearn: 214.5361705\ttotal: 286ms\tremaining: 3.74s\n",
      "71:\tlearn: 213.1812509\ttotal: 287ms\tremaining: 3.7s\n",
      "72:\tlearn: 211.7399390\ttotal: 289ms\tremaining: 3.67s\n",
      "73:\tlearn: 210.5557639\ttotal: 291ms\tremaining: 3.64s\n",
      "74:\tlearn: 209.4242283\ttotal: 292ms\tremaining: 3.61s\n",
      "75:\tlearn: 208.4366109\ttotal: 294ms\tremaining: 3.58s\n",
      "76:\tlearn: 207.4514860\ttotal: 297ms\tremaining: 3.56s\n",
      "77:\tlearn: 206.1912213\ttotal: 299ms\tremaining: 3.53s\n",
      "78:\tlearn: 205.2585316\ttotal: 300ms\tremaining: 3.5s\n",
      "79:\tlearn: 203.8747879\ttotal: 302ms\tremaining: 3.47s\n",
      "80:\tlearn: 202.5993031\ttotal: 304ms\tremaining: 3.44s\n",
      "81:\tlearn: 201.4719061\ttotal: 305ms\tremaining: 3.42s\n",
      "82:\tlearn: 200.2871874\ttotal: 307ms\tremaining: 3.39s\n",
      "83:\tlearn: 199.1074683\ttotal: 309ms\tremaining: 3.37s\n",
      "84:\tlearn: 197.8511342\ttotal: 310ms\tremaining: 3.34s\n",
      "85:\tlearn: 196.8788042\ttotal: 312ms\tremaining: 3.32s\n",
      "86:\tlearn: 195.9815130\ttotal: 314ms\tremaining: 3.3s\n",
      "87:\tlearn: 195.0807956\ttotal: 316ms\tremaining: 3.27s\n",
      "88:\tlearn: 193.9775466\ttotal: 318ms\tremaining: 3.25s\n",
      "89:\tlearn: 192.8810426\ttotal: 319ms\tremaining: 3.23s\n",
      "90:\tlearn: 192.5363626\ttotal: 321ms\tremaining: 3.2s\n",
      "91:\tlearn: 191.3259849\ttotal: 322ms\tremaining: 3.18s\n",
      "92:\tlearn: 190.3650025\ttotal: 324ms\tremaining: 3.16s\n",
      "93:\tlearn: 189.3255643\ttotal: 325ms\tremaining: 3.13s\n",
      "94:\tlearn: 188.2433480\ttotal: 327ms\tremaining: 3.12s\n",
      "95:\tlearn: 187.2786096\ttotal: 329ms\tremaining: 3.1s\n",
      "96:\tlearn: 186.1284681\ttotal: 330ms\tremaining: 3.07s\n",
      "97:\tlearn: 185.0190872\ttotal: 332ms\tremaining: 3.05s\n",
      "98:\tlearn: 184.2888024\ttotal: 333ms\tremaining: 3.04s\n",
      "99:\tlearn: 183.3111217\ttotal: 336ms\tremaining: 3.02s\n",
      "100:\tlearn: 182.2519940\ttotal: 337ms\tremaining: 3s\n",
      "101:\tlearn: 181.0186200\ttotal: 339ms\tremaining: 2.99s\n",
      "102:\tlearn: 179.9672344\ttotal: 341ms\tremaining: 2.97s\n",
      "103:\tlearn: 178.9776753\ttotal: 343ms\tremaining: 2.95s\n",
      "104:\tlearn: 178.2445101\ttotal: 344ms\tremaining: 2.94s\n",
      "105:\tlearn: 177.4055906\ttotal: 346ms\tremaining: 2.92s\n",
      "106:\tlearn: 176.2405445\ttotal: 348ms\tremaining: 2.9s\n",
      "107:\tlearn: 175.1813091\ttotal: 349ms\tremaining: 2.88s\n",
      "108:\tlearn: 174.5537682\ttotal: 351ms\tremaining: 2.87s\n",
      "109:\tlearn: 173.8231890\ttotal: 352ms\tremaining: 2.85s\n",
      "110:\tlearn: 172.9324461\ttotal: 354ms\tremaining: 2.83s\n",
      "111:\tlearn: 172.0019421\ttotal: 355ms\tremaining: 2.82s\n",
      "112:\tlearn: 171.2945678\ttotal: 357ms\tremaining: 2.8s\n",
      "113:\tlearn: 170.4815313\ttotal: 359ms\tremaining: 2.79s\n",
      "114:\tlearn: 169.9491294\ttotal: 360ms\tremaining: 2.77s\n",
      "115:\tlearn: 169.2483859\ttotal: 362ms\tremaining: 2.76s\n",
      "116:\tlearn: 168.7342383\ttotal: 363ms\tremaining: 2.74s\n",
      "117:\tlearn: 168.1837140\ttotal: 365ms\tremaining: 2.73s\n",
      "118:\tlearn: 167.1222358\ttotal: 366ms\tremaining: 2.71s\n",
      "119:\tlearn: 166.3472734\ttotal: 368ms\tremaining: 2.7s\n",
      "120:\tlearn: 165.5330342\ttotal: 369ms\tremaining: 2.68s\n",
      "121:\tlearn: 164.8476246\ttotal: 371ms\tremaining: 2.67s\n",
      "122:\tlearn: 164.2399797\ttotal: 373ms\tremaining: 2.66s\n",
      "123:\tlearn: 164.0121571\ttotal: 374ms\tremaining: 2.64s\n",
      "124:\tlearn: 162.9794212\ttotal: 376ms\tremaining: 2.63s\n",
      "125:\tlearn: 162.2095741\ttotal: 377ms\tremaining: 2.62s\n",
      "126:\tlearn: 161.1695920\ttotal: 379ms\tremaining: 2.6s\n",
      "127:\tlearn: 160.3516612\ttotal: 380ms\tremaining: 2.59s\n",
      "128:\tlearn: 159.1596356\ttotal: 382ms\tremaining: 2.58s\n",
      "129:\tlearn: 158.5354394\ttotal: 383ms\tremaining: 2.56s\n",
      "130:\tlearn: 157.5922383\ttotal: 384ms\tremaining: 2.55s\n",
      "131:\tlearn: 156.9689796\ttotal: 386ms\tremaining: 2.54s\n",
      "132:\tlearn: 156.4170623\ttotal: 388ms\tremaining: 2.53s\n",
      "133:\tlearn: 156.1222595\ttotal: 389ms\tremaining: 2.51s\n",
      "134:\tlearn: 155.5996569\ttotal: 391ms\tremaining: 2.5s\n",
      "135:\tlearn: 154.8990155\ttotal: 392ms\tremaining: 2.49s\n",
      "136:\tlearn: 154.3704896\ttotal: 393ms\tremaining: 2.48s\n",
      "137:\tlearn: 153.8560012\ttotal: 395ms\tremaining: 2.47s\n",
      "138:\tlearn: 153.2399938\ttotal: 396ms\tremaining: 2.46s\n",
      "139:\tlearn: 152.2142414\ttotal: 398ms\tremaining: 2.44s\n",
      "140:\tlearn: 151.5976950\ttotal: 399ms\tremaining: 2.43s\n",
      "141:\tlearn: 151.4426506\ttotal: 401ms\tremaining: 2.42s\n",
      "142:\tlearn: 150.8467135\ttotal: 402ms\tremaining: 2.41s\n",
      "143:\tlearn: 150.0175883\ttotal: 404ms\tremaining: 2.4s\n",
      "144:\tlearn: 149.6327647\ttotal: 405ms\tremaining: 2.39s\n",
      "145:\tlearn: 148.9265718\ttotal: 407ms\tremaining: 2.38s\n",
      "146:\tlearn: 148.4460764\ttotal: 408ms\tremaining: 2.37s\n",
      "147:\tlearn: 147.8108318\ttotal: 409ms\tremaining: 2.36s\n",
      "148:\tlearn: 147.2766525\ttotal: 411ms\tremaining: 2.35s\n",
      "149:\tlearn: 146.8537279\ttotal: 412ms\tremaining: 2.33s\n",
      "150:\tlearn: 146.0227438\ttotal: 413ms\tremaining: 2.32s\n",
      "151:\tlearn: 145.5603059\ttotal: 415ms\tremaining: 2.31s\n",
      "152:\tlearn: 145.0318400\ttotal: 416ms\tremaining: 2.3s\n",
      "153:\tlearn: 144.6082188\ttotal: 418ms\tremaining: 2.29s\n",
      "154:\tlearn: 144.2070501\ttotal: 419ms\tremaining: 2.28s\n",
      "155:\tlearn: 143.8060676\ttotal: 420ms\tremaining: 2.27s\n",
      "156:\tlearn: 143.3819707\ttotal: 422ms\tremaining: 2.26s\n",
      "157:\tlearn: 143.0764402\ttotal: 423ms\tremaining: 2.25s\n",
      "158:\tlearn: 142.4609449\ttotal: 425ms\tremaining: 2.25s\n",
      "159:\tlearn: 142.3321970\ttotal: 426ms\tremaining: 2.23s\n",
      "160:\tlearn: 141.9044208\ttotal: 427ms\tremaining: 2.23s\n",
      "161:\tlearn: 141.4544471\ttotal: 429ms\tremaining: 2.22s\n",
      "162:\tlearn: 140.9391569\ttotal: 430ms\tremaining: 2.21s\n",
      "163:\tlearn: 140.3413557\ttotal: 431ms\tremaining: 2.2s\n",
      "164:\tlearn: 139.7992277\ttotal: 433ms\tremaining: 2.19s\n",
      "165:\tlearn: 139.3139418\ttotal: 434ms\tremaining: 2.18s\n",
      "166:\tlearn: 139.1617594\ttotal: 435ms\tremaining: 2.17s\n",
      "167:\tlearn: 138.8837397\ttotal: 437ms\tremaining: 2.16s\n",
      "168:\tlearn: 138.6951410\ttotal: 438ms\tremaining: 2.15s\n",
      "169:\tlearn: 138.0167618\ttotal: 439ms\tremaining: 2.15s\n",
      "170:\tlearn: 137.7020324\ttotal: 441ms\tremaining: 2.14s\n",
      "171:\tlearn: 137.1976478\ttotal: 442ms\tremaining: 2.13s\n",
      "172:\tlearn: 136.6670434\ttotal: 444ms\tremaining: 2.12s\n",
      "173:\tlearn: 136.4670074\ttotal: 445ms\tremaining: 2.11s\n",
      "174:\tlearn: 136.0663779\ttotal: 446ms\tremaining: 2.1s\n",
      "175:\tlearn: 135.9542221\ttotal: 448ms\tremaining: 2.1s\n",
      "176:\tlearn: 135.6178437\ttotal: 449ms\tremaining: 2.09s\n",
      "177:\tlearn: 134.6062854\ttotal: 450ms\tremaining: 2.08s\n",
      "178:\tlearn: 134.5063344\ttotal: 451ms\tremaining: 2.07s\n",
      "179:\tlearn: 133.9371247\ttotal: 452ms\tremaining: 2.06s\n",
      "180:\tlearn: 133.8431589\ttotal: 453ms\tremaining: 2.05s\n",
      "181:\tlearn: 133.4293648\ttotal: 454ms\tremaining: 2.04s\n",
      "182:\tlearn: 133.2065999\ttotal: 456ms\tremaining: 2.03s\n",
      "183:\tlearn: 132.9235113\ttotal: 457ms\tremaining: 2.03s\n",
      "184:\tlearn: 132.6695944\ttotal: 459ms\tremaining: 2.02s\n",
      "185:\tlearn: 132.3135234\ttotal: 460ms\tremaining: 2.01s\n",
      "186:\tlearn: 132.2233433\ttotal: 462ms\tremaining: 2.01s\n",
      "187:\tlearn: 132.0628764\ttotal: 463ms\tremaining: 2s\n",
      "188:\tlearn: 131.8624217\ttotal: 465ms\tremaining: 1.99s\n",
      "189:\tlearn: 131.3846390\ttotal: 466ms\tremaining: 1.99s\n",
      "190:\tlearn: 131.0638781\ttotal: 468ms\tremaining: 1.98s\n",
      "191:\tlearn: 130.4721276\ttotal: 469ms\tremaining: 1.97s\n",
      "192:\tlearn: 129.9910319\ttotal: 471ms\tremaining: 1.97s\n",
      "193:\tlearn: 129.7074214\ttotal: 472ms\tremaining: 1.96s\n",
      "194:\tlearn: 129.0491404\ttotal: 474ms\tremaining: 1.96s\n",
      "195:\tlearn: 128.6928621\ttotal: 475ms\tremaining: 1.95s\n",
      "196:\tlearn: 128.5117514\ttotal: 477ms\tremaining: 1.94s\n",
      "197:\tlearn: 128.4035709\ttotal: 478ms\tremaining: 1.94s\n",
      "198:\tlearn: 127.9924182\ttotal: 480ms\tremaining: 1.93s\n",
      "199:\tlearn: 127.7690317\ttotal: 481ms\tremaining: 1.92s\n",
      "200:\tlearn: 127.6252249\ttotal: 482ms\tremaining: 1.92s\n",
      "201:\tlearn: 127.4951417\ttotal: 484ms\tremaining: 1.91s\n",
      "202:\tlearn: 127.0315349\ttotal: 486ms\tremaining: 1.91s\n",
      "203:\tlearn: 126.7791475\ttotal: 487ms\tremaining: 1.9s\n",
      "204:\tlearn: 126.4903107\ttotal: 489ms\tremaining: 1.9s\n",
      "205:\tlearn: 126.0664803\ttotal: 490ms\tremaining: 1.89s\n",
      "206:\tlearn: 125.3934071\ttotal: 492ms\tremaining: 1.88s\n",
      "207:\tlearn: 125.0899622\ttotal: 493ms\tremaining: 1.88s\n",
      "208:\tlearn: 124.7757310\ttotal: 495ms\tremaining: 1.87s\n",
      "209:\tlearn: 124.5475960\ttotal: 496ms\tremaining: 1.87s\n",
      "210:\tlearn: 124.1962887\ttotal: 498ms\tremaining: 1.86s\n",
      "211:\tlearn: 123.9686937\ttotal: 499ms\tremaining: 1.85s\n",
      "212:\tlearn: 123.0280048\ttotal: 501ms\tremaining: 1.85s\n",
      "213:\tlearn: 122.5447141\ttotal: 502ms\tremaining: 1.84s\n",
      "214:\tlearn: 122.1785305\ttotal: 503ms\tremaining: 1.84s\n",
      "215:\tlearn: 121.4403560\ttotal: 505ms\tremaining: 1.83s\n",
      "216:\tlearn: 120.8269584\ttotal: 506ms\tremaining: 1.83s\n",
      "217:\tlearn: 120.2399329\ttotal: 508ms\tremaining: 1.82s\n",
      "218:\tlearn: 119.4852557\ttotal: 510ms\tremaining: 1.82s\n",
      "219:\tlearn: 119.2094151\ttotal: 511ms\tremaining: 1.81s\n",
      "220:\tlearn: 119.0417229\ttotal: 513ms\tremaining: 1.81s\n",
      "221:\tlearn: 118.9557915\ttotal: 514ms\tremaining: 1.8s\n",
      "222:\tlearn: 118.3082421\ttotal: 516ms\tremaining: 1.8s\n",
      "223:\tlearn: 117.7364211\ttotal: 517ms\tremaining: 1.79s\n",
      "224:\tlearn: 117.6324235\ttotal: 518ms\tremaining: 1.78s\n",
      "225:\tlearn: 117.2879743\ttotal: 520ms\tremaining: 1.78s\n",
      "226:\tlearn: 117.0422612\ttotal: 521ms\tremaining: 1.77s\n",
      "227:\tlearn: 116.8001379\ttotal: 523ms\tremaining: 1.77s\n",
      "228:\tlearn: 116.4854978\ttotal: 524ms\tremaining: 1.76s\n",
      "229:\tlearn: 115.7559740\ttotal: 525ms\tremaining: 1.76s\n",
      "230:\tlearn: 115.1896271\ttotal: 527ms\tremaining: 1.75s\n",
      "231:\tlearn: 114.9666291\ttotal: 528ms\tremaining: 1.75s\n",
      "232:\tlearn: 114.1239318\ttotal: 529ms\tremaining: 1.74s\n",
      "233:\tlearn: 113.9964466\ttotal: 531ms\tremaining: 1.74s\n",
      "234:\tlearn: 113.8912592\ttotal: 532ms\tremaining: 1.73s\n",
      "235:\tlearn: 113.4606970\ttotal: 533ms\tremaining: 1.73s\n",
      "236:\tlearn: 113.0958922\ttotal: 535ms\tremaining: 1.72s\n",
      "237:\tlearn: 113.0091361\ttotal: 536ms\tremaining: 1.72s\n",
      "238:\tlearn: 112.7657197\ttotal: 537ms\tremaining: 1.71s\n",
      "239:\tlearn: 112.2315070\ttotal: 539ms\tremaining: 1.71s\n",
      "240:\tlearn: 111.9507125\ttotal: 540ms\tremaining: 1.7s\n",
      "241:\tlearn: 111.7384492\ttotal: 542ms\tremaining: 1.7s\n",
      "242:\tlearn: 111.0693763\ttotal: 543ms\tremaining: 1.69s\n",
      "243:\tlearn: 110.3499926\ttotal: 544ms\tremaining: 1.69s\n",
      "244:\tlearn: 110.2316231\ttotal: 546ms\tremaining: 1.68s\n",
      "245:\tlearn: 109.6985998\ttotal: 547ms\tremaining: 1.68s\n",
      "246:\tlearn: 109.4279824\ttotal: 548ms\tremaining: 1.67s\n",
      "247:\tlearn: 109.1466762\ttotal: 550ms\tremaining: 1.67s\n",
      "248:\tlearn: 108.9628542\ttotal: 551ms\tremaining: 1.66s\n",
      "249:\tlearn: 108.7268676\ttotal: 552ms\tremaining: 1.66s\n",
      "250:\tlearn: 108.0921190\ttotal: 554ms\tremaining: 1.65s\n",
      "251:\tlearn: 107.6167844\ttotal: 555ms\tremaining: 1.65s\n",
      "252:\tlearn: 106.9716563\ttotal: 557ms\tremaining: 1.64s\n",
      "253:\tlearn: 106.4272485\ttotal: 558ms\tremaining: 1.64s\n",
      "254:\tlearn: 106.2032614\ttotal: 559ms\tremaining: 1.63s\n",
      "255:\tlearn: 105.5756794\ttotal: 561ms\tremaining: 1.63s\n",
      "256:\tlearn: 105.4918649\ttotal: 562ms\tremaining: 1.62s\n",
      "257:\tlearn: 105.2466976\ttotal: 563ms\tremaining: 1.62s\n",
      "258:\tlearn: 105.0461428\ttotal: 565ms\tremaining: 1.61s\n",
      "259:\tlearn: 104.5887628\ttotal: 566ms\tremaining: 1.61s\n",
      "260:\tlearn: 104.1305873\ttotal: 567ms\tremaining: 1.61s\n",
      "261:\tlearn: 103.5527158\ttotal: 569ms\tremaining: 1.6s\n",
      "262:\tlearn: 103.0334823\ttotal: 570ms\tremaining: 1.6s\n",
      "263:\tlearn: 102.6732388\ttotal: 571ms\tremaining: 1.59s\n",
      "264:\tlearn: 102.4678728\ttotal: 573ms\tremaining: 1.59s\n",
      "265:\tlearn: 101.9608852\ttotal: 574ms\tremaining: 1.58s\n",
      "266:\tlearn: 101.4449668\ttotal: 575ms\tremaining: 1.58s\n",
      "267:\tlearn: 100.9647899\ttotal: 577ms\tremaining: 1.57s\n",
      "268:\tlearn: 100.4376357\ttotal: 578ms\tremaining: 1.57s\n",
      "269:\tlearn: 100.1038322\ttotal: 580ms\tremaining: 1.57s\n",
      "270:\tlearn: 99.8991183\ttotal: 581ms\tremaining: 1.56s\n",
      "271:\tlearn: 99.4016031\ttotal: 582ms\tremaining: 1.56s\n",
      "272:\tlearn: 98.9231252\ttotal: 584ms\tremaining: 1.55s\n",
      "273:\tlearn: 98.5734863\ttotal: 585ms\tremaining: 1.55s\n",
      "274:\tlearn: 98.3333355\ttotal: 586ms\tremaining: 1.54s\n",
      "275:\tlearn: 97.9164082\ttotal: 588ms\tremaining: 1.54s\n",
      "276:\tlearn: 97.3911203\ttotal: 589ms\tremaining: 1.54s\n",
      "277:\tlearn: 96.9317789\ttotal: 590ms\tremaining: 1.53s\n",
      "278:\tlearn: 96.6243997\ttotal: 592ms\tremaining: 1.53s\n",
      "279:\tlearn: 96.3288821\ttotal: 593ms\tremaining: 1.52s\n",
      "280:\tlearn: 95.8579534\ttotal: 595ms\tremaining: 1.52s\n",
      "281:\tlearn: 95.4136026\ttotal: 596ms\tremaining: 1.52s\n",
      "282:\tlearn: 95.3442077\ttotal: 597ms\tremaining: 1.51s\n",
      "283:\tlearn: 95.1166584\ttotal: 599ms\tremaining: 1.51s\n",
      "284:\tlearn: 94.8017360\ttotal: 600ms\tremaining: 1.5s\n",
      "285:\tlearn: 94.5863908\ttotal: 601ms\tremaining: 1.5s\n",
      "286:\tlearn: 94.4111694\ttotal: 603ms\tremaining: 1.5s\n",
      "287:\tlearn: 94.2678024\ttotal: 604ms\tremaining: 1.49s\n",
      "288:\tlearn: 93.7753419\ttotal: 606ms\tremaining: 1.49s\n",
      "289:\tlearn: 93.3772710\ttotal: 607ms\tremaining: 1.49s\n",
      "290:\tlearn: 92.8750904\ttotal: 608ms\tremaining: 1.48s\n",
      "291:\tlearn: 92.6654794\ttotal: 610ms\tremaining: 1.48s\n",
      "292:\tlearn: 92.2659876\ttotal: 611ms\tremaining: 1.47s\n",
      "293:\tlearn: 92.0282495\ttotal: 612ms\tremaining: 1.47s\n",
      "294:\tlearn: 91.8288855\ttotal: 614ms\tremaining: 1.47s\n",
      "295:\tlearn: 91.6752612\ttotal: 615ms\tremaining: 1.46s\n",
      "296:\tlearn: 91.2561883\ttotal: 616ms\tremaining: 1.46s\n",
      "297:\tlearn: 91.0227123\ttotal: 618ms\tremaining: 1.46s\n",
      "298:\tlearn: 90.8392142\ttotal: 619ms\tremaining: 1.45s\n",
      "299:\tlearn: 90.6853014\ttotal: 621ms\tremaining: 1.45s\n",
      "300:\tlearn: 90.5986761\ttotal: 622ms\tremaining: 1.44s\n",
      "301:\tlearn: 90.2180036\ttotal: 624ms\tremaining: 1.44s\n",
      "302:\tlearn: 89.8313622\ttotal: 626ms\tremaining: 1.44s\n",
      "303:\tlearn: 89.6872837\ttotal: 627ms\tremaining: 1.44s\n",
      "304:\tlearn: 89.3853276\ttotal: 629ms\tremaining: 1.43s\n",
      "305:\tlearn: 88.9459206\ttotal: 631ms\tremaining: 1.43s\n",
      "306:\tlearn: 88.7258770\ttotal: 632ms\tremaining: 1.43s\n",
      "307:\tlearn: 88.5374358\ttotal: 634ms\tremaining: 1.42s\n",
      "308:\tlearn: 88.0624447\ttotal: 635ms\tremaining: 1.42s\n",
      "309:\tlearn: 87.7942692\ttotal: 637ms\tremaining: 1.42s\n",
      "310:\tlearn: 87.6354184\ttotal: 638ms\tremaining: 1.41s\n",
      "311:\tlearn: 87.4879486\ttotal: 640ms\tremaining: 1.41s\n",
      "312:\tlearn: 87.0294739\ttotal: 641ms\tremaining: 1.41s\n",
      "313:\tlearn: 86.6746221\ttotal: 643ms\tremaining: 1.4s\n",
      "314:\tlearn: 86.2792146\ttotal: 644ms\tremaining: 1.4s\n",
      "315:\tlearn: 86.2127070\ttotal: 646ms\tremaining: 1.4s\n",
      "316:\tlearn: 86.1507368\ttotal: 647ms\tremaining: 1.39s\n",
      "317:\tlearn: 85.7089141\ttotal: 649ms\tremaining: 1.39s\n",
      "318:\tlearn: 85.6035137\ttotal: 650ms\tremaining: 1.39s\n",
      "319:\tlearn: 85.3587988\ttotal: 652ms\tremaining: 1.38s\n",
      "320:\tlearn: 84.9660906\ttotal: 653ms\tremaining: 1.38s\n",
      "321:\tlearn: 84.5474713\ttotal: 655ms\tremaining: 1.38s\n",
      "322:\tlearn: 84.1996852\ttotal: 657ms\tremaining: 1.38s\n",
      "323:\tlearn: 84.0654282\ttotal: 659ms\tremaining: 1.37s\n",
      "324:\tlearn: 83.7937327\ttotal: 661ms\tremaining: 1.37s\n",
      "325:\tlearn: 83.5064288\ttotal: 662ms\tremaining: 1.37s\n",
      "326:\tlearn: 83.3997655\ttotal: 664ms\tremaining: 1.37s\n",
      "327:\tlearn: 83.2958622\ttotal: 665ms\tremaining: 1.36s\n",
      "328:\tlearn: 82.9877578\ttotal: 667ms\tremaining: 1.36s\n",
      "329:\tlearn: 82.6286638\ttotal: 669ms\tremaining: 1.36s\n",
      "330:\tlearn: 82.2827132\ttotal: 670ms\tremaining: 1.35s\n",
      "331:\tlearn: 82.0895251\ttotal: 672ms\tremaining: 1.35s\n",
      "332:\tlearn: 82.0130649\ttotal: 673ms\tremaining: 1.35s\n",
      "333:\tlearn: 81.6771734\ttotal: 675ms\tremaining: 1.34s\n",
      "334:\tlearn: 81.3519124\ttotal: 676ms\tremaining: 1.34s\n",
      "335:\tlearn: 81.0170326\ttotal: 678ms\tremaining: 1.34s\n",
      "336:\tlearn: 80.6917886\ttotal: 679ms\tremaining: 1.34s\n",
      "337:\tlearn: 80.3455177\ttotal: 681ms\tremaining: 1.33s\n",
      "338:\tlearn: 80.0260727\ttotal: 682ms\tremaining: 1.33s\n",
      "339:\tlearn: 79.9154748\ttotal: 684ms\tremaining: 1.33s\n",
      "340:\tlearn: 79.7813079\ttotal: 686ms\tremaining: 1.32s\n",
      "341:\tlearn: 79.3513293\ttotal: 687ms\tremaining: 1.32s\n",
      "342:\tlearn: 78.8666019\ttotal: 689ms\tremaining: 1.32s\n",
      "343:\tlearn: 78.7959013\ttotal: 690ms\tremaining: 1.32s\n",
      "344:\tlearn: 78.7081334\ttotal: 692ms\tremaining: 1.31s\n",
      "345:\tlearn: 78.3354931\ttotal: 693ms\tremaining: 1.31s\n",
      "346:\tlearn: 77.9475067\ttotal: 695ms\tremaining: 1.31s\n",
      "347:\tlearn: 77.8910420\ttotal: 697ms\tremaining: 1.3s\n",
      "348:\tlearn: 77.5461672\ttotal: 698ms\tremaining: 1.3s\n",
      "349:\tlearn: 77.3717101\ttotal: 700ms\tremaining: 1.3s\n",
      "350:\tlearn: 77.0729657\ttotal: 702ms\tremaining: 1.3s\n",
      "351:\tlearn: 76.7699287\ttotal: 703ms\tremaining: 1.29s\n",
      "352:\tlearn: 76.6029759\ttotal: 705ms\tremaining: 1.29s\n",
      "353:\tlearn: 76.1642615\ttotal: 706ms\tremaining: 1.29s\n",
      "354:\tlearn: 76.1202523\ttotal: 708ms\tremaining: 1.29s\n",
      "355:\tlearn: 75.9487132\ttotal: 710ms\tremaining: 1.28s\n",
      "356:\tlearn: 75.6748479\ttotal: 711ms\tremaining: 1.28s\n",
      "357:\tlearn: 75.4290864\ttotal: 713ms\tremaining: 1.28s\n",
      "358:\tlearn: 75.0463849\ttotal: 714ms\tremaining: 1.27s\n",
      "359:\tlearn: 74.9902381\ttotal: 716ms\tremaining: 1.27s\n",
      "360:\tlearn: 74.5243875\ttotal: 718ms\tremaining: 1.27s\n",
      "361:\tlearn: 74.1913065\ttotal: 719ms\tremaining: 1.27s\n",
      "362:\tlearn: 73.8413359\ttotal: 721ms\tremaining: 1.26s\n",
      "363:\tlearn: 73.7602119\ttotal: 722ms\tremaining: 1.26s\n",
      "364:\tlearn: 73.3278135\ttotal: 724ms\tremaining: 1.26s\n",
      "365:\tlearn: 72.9524336\ttotal: 725ms\tremaining: 1.26s\n",
      "366:\tlearn: 72.6791856\ttotal: 727ms\tremaining: 1.25s\n",
      "367:\tlearn: 72.4333577\ttotal: 728ms\tremaining: 1.25s\n",
      "368:\tlearn: 72.1672937\ttotal: 730ms\tremaining: 1.25s\n",
      "369:\tlearn: 71.9070276\ttotal: 731ms\tremaining: 1.25s\n",
      "370:\tlearn: 71.5496196\ttotal: 733ms\tremaining: 1.24s\n",
      "371:\tlearn: 71.3161902\ttotal: 735ms\tremaining: 1.24s\n",
      "372:\tlearn: 71.1259191\ttotal: 736ms\tremaining: 1.24s\n",
      "373:\tlearn: 70.9889962\ttotal: 738ms\tremaining: 1.23s\n",
      "374:\tlearn: 70.7417966\ttotal: 740ms\tremaining: 1.23s\n",
      "375:\tlearn: 70.4931174\ttotal: 741ms\tremaining: 1.23s\n",
      "376:\tlearn: 70.3300576\ttotal: 743ms\tremaining: 1.23s\n",
      "377:\tlearn: 69.9233248\ttotal: 745ms\tremaining: 1.23s\n",
      "378:\tlearn: 69.6261005\ttotal: 747ms\tremaining: 1.22s\n",
      "379:\tlearn: 69.3989708\ttotal: 749ms\tremaining: 1.22s\n",
      "380:\tlearn: 69.0085387\ttotal: 751ms\tremaining: 1.22s\n",
      "381:\tlearn: 68.7604153\ttotal: 752ms\tremaining: 1.22s\n",
      "382:\tlearn: 68.4602767\ttotal: 754ms\tremaining: 1.21s\n",
      "383:\tlearn: 68.1005452\ttotal: 756ms\tremaining: 1.21s\n",
      "384:\tlearn: 68.0540467\ttotal: 757ms\tremaining: 1.21s\n",
      "385:\tlearn: 67.8972753\ttotal: 759ms\tremaining: 1.21s\n",
      "386:\tlearn: 67.5389629\ttotal: 761ms\tremaining: 1.21s\n",
      "387:\tlearn: 67.2390178\ttotal: 763ms\tremaining: 1.2s\n",
      "388:\tlearn: 67.0279888\ttotal: 764ms\tremaining: 1.2s\n",
      "389:\tlearn: 66.8375919\ttotal: 766ms\tremaining: 1.2s\n",
      "390:\tlearn: 66.4118315\ttotal: 768ms\tremaining: 1.2s\n",
      "391:\tlearn: 66.3642690\ttotal: 769ms\tremaining: 1.19s\n",
      "392:\tlearn: 66.1673138\ttotal: 772ms\tremaining: 1.19s\n",
      "393:\tlearn: 66.0177482\ttotal: 774ms\tremaining: 1.19s\n",
      "394:\tlearn: 65.8018038\ttotal: 776ms\tremaining: 1.19s\n",
      "395:\tlearn: 65.6886505\ttotal: 777ms\tremaining: 1.19s\n",
      "396:\tlearn: 65.6120185\ttotal: 779ms\tremaining: 1.18s\n",
      "397:\tlearn: 65.5746662\ttotal: 781ms\tremaining: 1.18s\n",
      "398:\tlearn: 65.2974851\ttotal: 782ms\tremaining: 1.18s\n",
      "399:\tlearn: 65.2464764\ttotal: 784ms\tremaining: 1.18s\n",
      "400:\tlearn: 65.1241314\ttotal: 786ms\tremaining: 1.17s\n",
      "401:\tlearn: 65.0515740\ttotal: 788ms\tremaining: 1.17s\n",
      "402:\tlearn: 64.8089636\ttotal: 789ms\tremaining: 1.17s\n",
      "403:\tlearn: 64.5992230\ttotal: 791ms\tremaining: 1.17s\n",
      "404:\tlearn: 64.2907010\ttotal: 793ms\tremaining: 1.16s\n",
      "405:\tlearn: 64.1568642\ttotal: 794ms\tremaining: 1.16s\n",
      "406:\tlearn: 63.8279106\ttotal: 796ms\tremaining: 1.16s\n",
      "407:\tlearn: 63.5558565\ttotal: 798ms\tremaining: 1.16s\n",
      "408:\tlearn: 63.3865445\ttotal: 799ms\tremaining: 1.15s\n",
      "409:\tlearn: 63.2752408\ttotal: 801ms\tremaining: 1.15s\n",
      "410:\tlearn: 63.1070190\ttotal: 802ms\tremaining: 1.15s\n",
      "411:\tlearn: 62.7868376\ttotal: 804ms\tremaining: 1.15s\n",
      "412:\tlearn: 62.5345803\ttotal: 806ms\tremaining: 1.15s\n",
      "413:\tlearn: 62.2729058\ttotal: 808ms\tremaining: 1.14s\n",
      "414:\tlearn: 61.9850985\ttotal: 809ms\tremaining: 1.14s\n",
      "415:\tlearn: 61.7784164\ttotal: 811ms\tremaining: 1.14s\n",
      "416:\tlearn: 61.7431976\ttotal: 813ms\tremaining: 1.14s\n",
      "417:\tlearn: 61.4309964\ttotal: 814ms\tremaining: 1.13s\n",
      "418:\tlearn: 61.3513660\ttotal: 816ms\tremaining: 1.13s\n",
      "419:\tlearn: 61.1253739\ttotal: 818ms\tremaining: 1.13s\n",
      "420:\tlearn: 61.0742571\ttotal: 819ms\tremaining: 1.13s\n",
      "421:\tlearn: 61.0390980\ttotal: 821ms\tremaining: 1.12s\n",
      "422:\tlearn: 61.0095757\ttotal: 822ms\tremaining: 1.12s\n",
      "423:\tlearn: 60.6843255\ttotal: 824ms\tremaining: 1.12s\n",
      "424:\tlearn: 60.4045551\ttotal: 826ms\tremaining: 1.12s\n",
      "425:\tlearn: 60.3649587\ttotal: 827ms\tremaining: 1.11s\n",
      "426:\tlearn: 60.3315828\ttotal: 828ms\tremaining: 1.11s\n",
      "427:\tlearn: 60.1047027\ttotal: 830ms\tremaining: 1.11s\n",
      "428:\tlearn: 59.9170736\ttotal: 832ms\tremaining: 1.11s\n",
      "429:\tlearn: 59.6875648\ttotal: 833ms\tremaining: 1.1s\n",
      "430:\tlearn: 59.6662150\ttotal: 835ms\tremaining: 1.1s\n",
      "431:\tlearn: 59.4208112\ttotal: 837ms\tremaining: 1.1s\n",
      "432:\tlearn: 59.2358034\ttotal: 838ms\tremaining: 1.1s\n",
      "433:\tlearn: 58.9818868\ttotal: 840ms\tremaining: 1.09s\n",
      "434:\tlearn: 58.7089433\ttotal: 842ms\tremaining: 1.09s\n",
      "435:\tlearn: 58.5898817\ttotal: 844ms\tremaining: 1.09s\n",
      "436:\tlearn: 58.5425342\ttotal: 845ms\tremaining: 1.09s\n",
      "437:\tlearn: 58.2884605\ttotal: 847ms\tremaining: 1.09s\n",
      "438:\tlearn: 58.2643873\ttotal: 848ms\tremaining: 1.08s\n",
      "439:\tlearn: 58.2330868\ttotal: 850ms\tremaining: 1.08s\n",
      "440:\tlearn: 57.9676592\ttotal: 851ms\tremaining: 1.08s\n",
      "441:\tlearn: 57.7670212\ttotal: 853ms\tremaining: 1.08s\n",
      "442:\tlearn: 57.5322464\ttotal: 855ms\tremaining: 1.07s\n",
      "443:\tlearn: 57.2771620\ttotal: 856ms\tremaining: 1.07s\n",
      "444:\tlearn: 57.0227885\ttotal: 858ms\tremaining: 1.07s\n",
      "445:\tlearn: 56.7616770\ttotal: 860ms\tremaining: 1.07s\n",
      "446:\tlearn: 56.7367450\ttotal: 861ms\tremaining: 1.06s\n",
      "447:\tlearn: 56.6715001\ttotal: 863ms\tremaining: 1.06s\n",
      "448:\tlearn: 56.4881346\ttotal: 864ms\tremaining: 1.06s\n",
      "449:\tlearn: 56.3749776\ttotal: 866ms\tremaining: 1.06s\n",
      "450:\tlearn: 56.2172319\ttotal: 867ms\tremaining: 1.05s\n",
      "451:\tlearn: 55.9461925\ttotal: 869ms\tremaining: 1.05s\n",
      "452:\tlearn: 55.8884270\ttotal: 871ms\tremaining: 1.05s\n",
      "453:\tlearn: 55.7987432\ttotal: 872ms\tremaining: 1.05s\n",
      "454:\tlearn: 55.7376337\ttotal: 874ms\tremaining: 1.05s\n",
      "455:\tlearn: 55.5150595\ttotal: 876ms\tremaining: 1.04s\n",
      "456:\tlearn: 55.4819680\ttotal: 877ms\tremaining: 1.04s\n",
      "457:\tlearn: 55.1719919\ttotal: 879ms\tremaining: 1.04s\n",
      "458:\tlearn: 55.1295759\ttotal: 880ms\tremaining: 1.04s\n",
      "459:\tlearn: 55.0856302\ttotal: 882ms\tremaining: 1.03s\n",
      "460:\tlearn: 54.8056235\ttotal: 884ms\tremaining: 1.03s\n",
      "461:\tlearn: 54.4030407\ttotal: 885ms\tremaining: 1.03s\n",
      "462:\tlearn: 54.3308204\ttotal: 887ms\tremaining: 1.03s\n",
      "463:\tlearn: 54.0283724\ttotal: 888ms\tremaining: 1.03s\n",
      "464:\tlearn: 53.9962714\ttotal: 890ms\tremaining: 1.02s\n",
      "465:\tlearn: 53.8149476\ttotal: 891ms\tremaining: 1.02s\n",
      "466:\tlearn: 53.7806209\ttotal: 893ms\tremaining: 1.02s\n",
      "467:\tlearn: 53.7585727\ttotal: 894ms\tremaining: 1.02s\n",
      "468:\tlearn: 53.5042777\ttotal: 895ms\tremaining: 1.01s\n",
      "469:\tlearn: 53.3257034\ttotal: 897ms\tremaining: 1.01s\n",
      "470:\tlearn: 53.0801119\ttotal: 898ms\tremaining: 1.01s\n",
      "471:\tlearn: 53.0136550\ttotal: 899ms\tremaining: 1.01s\n",
      "472:\tlearn: 52.9408930\ttotal: 901ms\tremaining: 1s\n",
      "473:\tlearn: 52.7089062\ttotal: 902ms\tremaining: 1s\n",
      "474:\tlearn: 52.6819781\ttotal: 904ms\tremaining: 999ms\n",
      "475:\tlearn: 52.5065568\ttotal: 905ms\tremaining: 996ms\n",
      "476:\tlearn: 52.3688770\ttotal: 906ms\tremaining: 994ms\n",
      "477:\tlearn: 52.2402473\ttotal: 908ms\tremaining: 991ms\n",
      "478:\tlearn: 52.1406517\ttotal: 909ms\tremaining: 989ms\n",
      "479:\tlearn: 52.1107144\ttotal: 910ms\tremaining: 986ms\n",
      "480:\tlearn: 51.9239449\ttotal: 912ms\tremaining: 984ms\n",
      "481:\tlearn: 51.7096820\ttotal: 913ms\tremaining: 981ms\n",
      "482:\tlearn: 51.6266918\ttotal: 914ms\tremaining: 979ms\n",
      "483:\tlearn: 51.5969797\ttotal: 916ms\tremaining: 976ms\n",
      "484:\tlearn: 51.4480162\ttotal: 917ms\tremaining: 974ms\n",
      "485:\tlearn: 51.2269261\ttotal: 918ms\tremaining: 971ms\n",
      "486:\tlearn: 50.9904632\ttotal: 920ms\tremaining: 969ms\n",
      "487:\tlearn: 50.9342043\ttotal: 921ms\tremaining: 966ms\n",
      "488:\tlearn: 50.8423680\ttotal: 922ms\tremaining: 964ms\n",
      "489:\tlearn: 50.7269788\ttotal: 924ms\tremaining: 961ms\n",
      "490:\tlearn: 50.5384699\ttotal: 925ms\tremaining: 959ms\n",
      "491:\tlearn: 50.5047793\ttotal: 926ms\tremaining: 957ms\n",
      "492:\tlearn: 50.3234448\ttotal: 928ms\tremaining: 954ms\n",
      "493:\tlearn: 50.1653421\ttotal: 929ms\tremaining: 952ms\n",
      "494:\tlearn: 49.9835558\ttotal: 931ms\tremaining: 949ms\n",
      "495:\tlearn: 49.8884283\ttotal: 932ms\tremaining: 947ms\n",
      "496:\tlearn: 49.6217364\ttotal: 933ms\tremaining: 945ms\n",
      "497:\tlearn: 49.5268562\ttotal: 935ms\tremaining: 942ms\n",
      "498:\tlearn: 49.3078402\ttotal: 937ms\tremaining: 941ms\n",
      "499:\tlearn: 49.2571676\ttotal: 938ms\tremaining: 938ms\n",
      "500:\tlearn: 49.2173141\ttotal: 940ms\tremaining: 936ms\n",
      "501:\tlearn: 48.9813103\ttotal: 942ms\tremaining: 934ms\n",
      "502:\tlearn: 48.8304542\ttotal: 943ms\tremaining: 932ms\n",
      "503:\tlearn: 48.7430936\ttotal: 945ms\tremaining: 930ms\n",
      "504:\tlearn: 48.5493989\ttotal: 946ms\tremaining: 927ms\n",
      "505:\tlearn: 48.5134839\ttotal: 948ms\tremaining: 925ms\n",
      "506:\tlearn: 48.3516141\ttotal: 949ms\tremaining: 923ms\n",
      "507:\tlearn: 48.0631542\ttotal: 951ms\tremaining: 921ms\n",
      "508:\tlearn: 47.8591880\ttotal: 952ms\tremaining: 919ms\n",
      "509:\tlearn: 47.7182444\ttotal: 954ms\tremaining: 916ms\n",
      "510:\tlearn: 47.6301870\ttotal: 955ms\tremaining: 914ms\n",
      "511:\tlearn: 47.4767324\ttotal: 957ms\tremaining: 912ms\n",
      "512:\tlearn: 47.2822625\ttotal: 958ms\tremaining: 910ms\n",
      "513:\tlearn: 47.1022658\ttotal: 960ms\tremaining: 908ms\n",
      "514:\tlearn: 47.0536181\ttotal: 961ms\tremaining: 905ms\n",
      "515:\tlearn: 47.0249559\ttotal: 963ms\tremaining: 903ms\n",
      "516:\tlearn: 46.8789720\ttotal: 964ms\tremaining: 901ms\n",
      "517:\tlearn: 46.7133769\ttotal: 966ms\tremaining: 898ms\n",
      "518:\tlearn: 46.5157986\ttotal: 967ms\tremaining: 896ms\n",
      "519:\tlearn: 46.3630405\ttotal: 968ms\tremaining: 894ms\n",
      "520:\tlearn: 46.1730188\ttotal: 970ms\tremaining: 892ms\n",
      "521:\tlearn: 46.1360908\ttotal: 971ms\tremaining: 890ms\n",
      "522:\tlearn: 45.9652487\ttotal: 974ms\tremaining: 888ms\n",
      "523:\tlearn: 45.8122703\ttotal: 975ms\tremaining: 886ms\n",
      "524:\tlearn: 45.4984451\ttotal: 977ms\tremaining: 884ms\n",
      "525:\tlearn: 45.3161076\ttotal: 978ms\tremaining: 881ms\n",
      "526:\tlearn: 45.2802854\ttotal: 980ms\tremaining: 879ms\n",
      "527:\tlearn: 45.2448275\ttotal: 981ms\tremaining: 877ms\n",
      "528:\tlearn: 45.0816321\ttotal: 983ms\tremaining: 875ms\n",
      "529:\tlearn: 44.9794319\ttotal: 984ms\tremaining: 873ms\n",
      "530:\tlearn: 44.6832140\ttotal: 986ms\tremaining: 871ms\n",
      "531:\tlearn: 44.4460046\ttotal: 987ms\tremaining: 869ms\n",
      "532:\tlearn: 44.2118287\ttotal: 989ms\tremaining: 866ms\n",
      "533:\tlearn: 44.0693524\ttotal: 990ms\tremaining: 864ms\n",
      "534:\tlearn: 43.7781614\ttotal: 992ms\tremaining: 862ms\n",
      "535:\tlearn: 43.5541731\ttotal: 994ms\tremaining: 860ms\n",
      "536:\tlearn: 43.5134866\ttotal: 995ms\tremaining: 858ms\n",
      "537:\tlearn: 43.3609810\ttotal: 997ms\tremaining: 856ms\n",
      "538:\tlearn: 43.1828364\ttotal: 998ms\tremaining: 854ms\n",
      "539:\tlearn: 43.1681810\ttotal: 999ms\tremaining: 851ms\n",
      "540:\tlearn: 43.0597548\ttotal: 1s\tremaining: 849ms\n",
      "541:\tlearn: 43.0399237\ttotal: 1s\tremaining: 847ms\n",
      "542:\tlearn: 42.7955247\ttotal: 1s\tremaining: 845ms\n",
      "543:\tlearn: 42.5339065\ttotal: 1s\tremaining: 843ms\n",
      "544:\tlearn: 42.4295635\ttotal: 1.01s\tremaining: 841ms\n",
      "545:\tlearn: 42.2338376\ttotal: 1.01s\tremaining: 839ms\n",
      "546:\tlearn: 42.0124060\ttotal: 1.01s\tremaining: 837ms\n",
      "547:\tlearn: 41.8255183\ttotal: 1.01s\tremaining: 835ms\n",
      "548:\tlearn: 41.6388681\ttotal: 1.01s\tremaining: 833ms\n",
      "549:\tlearn: 41.4001270\ttotal: 1.01s\tremaining: 831ms\n",
      "550:\tlearn: 41.1013528\ttotal: 1.02s\tremaining: 829ms\n",
      "551:\tlearn: 41.0100295\ttotal: 1.02s\tremaining: 827ms\n",
      "552:\tlearn: 40.9906076\ttotal: 1.02s\tremaining: 825ms\n",
      "553:\tlearn: 40.8809109\ttotal: 1.02s\tremaining: 823ms\n",
      "554:\tlearn: 40.7831302\ttotal: 1.02s\tremaining: 821ms\n",
      "555:\tlearn: 40.7317763\ttotal: 1.02s\tremaining: 819ms\n",
      "556:\tlearn: 40.6321710\ttotal: 1.03s\tremaining: 817ms\n",
      "557:\tlearn: 40.4475073\ttotal: 1.03s\tremaining: 815ms\n",
      "558:\tlearn: 40.2859957\ttotal: 1.03s\tremaining: 813ms\n",
      "559:\tlearn: 40.0262057\ttotal: 1.03s\tremaining: 811ms\n",
      "560:\tlearn: 39.9326350\ttotal: 1.03s\tremaining: 809ms\n",
      "561:\tlearn: 39.8735956\ttotal: 1.03s\tremaining: 807ms\n",
      "562:\tlearn: 39.7083019\ttotal: 1.04s\tremaining: 805ms\n",
      "563:\tlearn: 39.5379855\ttotal: 1.04s\tremaining: 803ms\n",
      "564:\tlearn: 39.3451301\ttotal: 1.04s\tremaining: 800ms\n",
      "565:\tlearn: 39.2041273\ttotal: 1.04s\tremaining: 798ms\n",
      "566:\tlearn: 38.9870162\ttotal: 1.04s\tremaining: 796ms\n",
      "567:\tlearn: 38.8638040\ttotal: 1.04s\tremaining: 794ms\n",
      "568:\tlearn: 38.7752116\ttotal: 1.04s\tremaining: 792ms\n",
      "569:\tlearn: 38.6530297\ttotal: 1.05s\tremaining: 790ms\n",
      "570:\tlearn: 38.5505372\ttotal: 1.05s\tremaining: 788ms\n",
      "571:\tlearn: 38.5134486\ttotal: 1.05s\tremaining: 786ms\n",
      "572:\tlearn: 38.3680902\ttotal: 1.05s\tremaining: 784ms\n",
      "573:\tlearn: 38.1897295\ttotal: 1.05s\tremaining: 782ms\n",
      "574:\tlearn: 38.1083536\ttotal: 1.05s\tremaining: 780ms\n",
      "575:\tlearn: 37.9229216\ttotal: 1.06s\tremaining: 778ms\n",
      "576:\tlearn: 37.8377087\ttotal: 1.06s\tremaining: 776ms\n",
      "577:\tlearn: 37.7966900\ttotal: 1.06s\tremaining: 774ms\n",
      "578:\tlearn: 37.6700761\ttotal: 1.06s\tremaining: 772ms\n",
      "579:\tlearn: 37.6355177\ttotal: 1.06s\tremaining: 769ms\n",
      "580:\tlearn: 37.4648199\ttotal: 1.06s\tremaining: 768ms\n",
      "581:\tlearn: 37.2959505\ttotal: 1.07s\tremaining: 766ms\n",
      "582:\tlearn: 37.1423961\ttotal: 1.07s\tremaining: 764ms\n",
      "583:\tlearn: 36.9297315\ttotal: 1.07s\tremaining: 762ms\n",
      "584:\tlearn: 36.8850382\ttotal: 1.07s\tremaining: 760ms\n",
      "585:\tlearn: 36.7546519\ttotal: 1.07s\tremaining: 758ms\n",
      "586:\tlearn: 36.7377554\ttotal: 1.07s\tremaining: 756ms\n",
      "587:\tlearn: 36.6899102\ttotal: 1.08s\tremaining: 754ms\n",
      "588:\tlearn: 36.5617094\ttotal: 1.08s\tremaining: 752ms\n",
      "589:\tlearn: 36.4272921\ttotal: 1.08s\tremaining: 750ms\n",
      "590:\tlearn: 36.2657889\ttotal: 1.08s\tremaining: 748ms\n",
      "591:\tlearn: 36.2539345\ttotal: 1.08s\tremaining: 746ms\n",
      "592:\tlearn: 36.2314399\ttotal: 1.08s\tremaining: 744ms\n",
      "593:\tlearn: 36.0683824\ttotal: 1.08s\tremaining: 742ms\n",
      "594:\tlearn: 35.9283095\ttotal: 1.09s\tremaining: 740ms\n",
      "595:\tlearn: 35.7968288\ttotal: 1.09s\tremaining: 738ms\n",
      "596:\tlearn: 35.7223423\ttotal: 1.09s\tremaining: 736ms\n",
      "597:\tlearn: 35.5848854\ttotal: 1.09s\tremaining: 734ms\n",
      "598:\tlearn: 35.4754344\ttotal: 1.09s\tremaining: 732ms\n",
      "599:\tlearn: 35.3533890\ttotal: 1.09s\tremaining: 730ms\n",
      "600:\tlearn: 35.2201505\ttotal: 1.1s\tremaining: 728ms\n",
      "601:\tlearn: 35.0873272\ttotal: 1.1s\tremaining: 726ms\n",
      "602:\tlearn: 35.0461873\ttotal: 1.1s\tremaining: 724ms\n",
      "603:\tlearn: 34.9273071\ttotal: 1.1s\tremaining: 722ms\n",
      "604:\tlearn: 34.8162855\ttotal: 1.1s\tremaining: 720ms\n",
      "605:\tlearn: 34.7130059\ttotal: 1.1s\tremaining: 718ms\n",
      "606:\tlearn: 34.5585617\ttotal: 1.11s\tremaining: 716ms\n",
      "607:\tlearn: 34.4611907\ttotal: 1.11s\tremaining: 714ms\n",
      "608:\tlearn: 34.4326546\ttotal: 1.11s\tremaining: 712ms\n",
      "609:\tlearn: 34.2846979\ttotal: 1.11s\tremaining: 710ms\n",
      "610:\tlearn: 34.1734501\ttotal: 1.11s\tremaining: 708ms\n",
      "611:\tlearn: 34.0230965\ttotal: 1.11s\tremaining: 707ms\n",
      "612:\tlearn: 33.8282501\ttotal: 1.12s\tremaining: 705ms\n",
      "613:\tlearn: 33.7746747\ttotal: 1.12s\tremaining: 703ms\n",
      "614:\tlearn: 33.7068386\ttotal: 1.12s\tremaining: 701ms\n",
      "615:\tlearn: 33.5780800\ttotal: 1.12s\tremaining: 699ms\n",
      "616:\tlearn: 33.4695325\ttotal: 1.12s\tremaining: 697ms\n",
      "617:\tlearn: 33.3463443\ttotal: 1.12s\tremaining: 695ms\n",
      "618:\tlearn: 33.2877395\ttotal: 1.13s\tremaining: 693ms\n",
      "619:\tlearn: 33.2418826\ttotal: 1.13s\tremaining: 691ms\n",
      "620:\tlearn: 33.1045465\ttotal: 1.13s\tremaining: 689ms\n",
      "621:\tlearn: 32.9400639\ttotal: 1.13s\tremaining: 687ms\n",
      "622:\tlearn: 32.8996970\ttotal: 1.13s\tremaining: 685ms\n",
      "623:\tlearn: 32.7429487\ttotal: 1.13s\tremaining: 683ms\n",
      "624:\tlearn: 32.6132355\ttotal: 1.14s\tremaining: 681ms\n",
      "625:\tlearn: 32.4714976\ttotal: 1.14s\tremaining: 679ms\n",
      "626:\tlearn: 32.4320448\ttotal: 1.14s\tremaining: 677ms\n",
      "627:\tlearn: 32.2628258\ttotal: 1.14s\tremaining: 675ms\n",
      "628:\tlearn: 32.2038569\ttotal: 1.14s\tremaining: 674ms\n",
      "629:\tlearn: 32.0940738\ttotal: 1.14s\tremaining: 672ms\n",
      "630:\tlearn: 32.0068495\ttotal: 1.14s\tremaining: 670ms\n",
      "631:\tlearn: 31.9053748\ttotal: 1.15s\tremaining: 668ms\n",
      "632:\tlearn: 31.7715772\ttotal: 1.15s\tremaining: 666ms\n",
      "633:\tlearn: 31.6687835\ttotal: 1.15s\tremaining: 664ms\n",
      "634:\tlearn: 31.6368050\ttotal: 1.15s\tremaining: 662ms\n",
      "635:\tlearn: 31.5709628\ttotal: 1.15s\tremaining: 660ms\n",
      "636:\tlearn: 31.4052213\ttotal: 1.15s\tremaining: 658ms\n",
      "637:\tlearn: 31.2452229\ttotal: 1.16s\tremaining: 656ms\n",
      "638:\tlearn: 31.1221828\ttotal: 1.16s\tremaining: 654ms\n",
      "639:\tlearn: 31.0853500\ttotal: 1.16s\tremaining: 652ms\n",
      "640:\tlearn: 30.9167355\ttotal: 1.16s\tremaining: 650ms\n",
      "641:\tlearn: 30.8667253\ttotal: 1.16s\tremaining: 648ms\n",
      "642:\tlearn: 30.7427129\ttotal: 1.16s\tremaining: 646ms\n",
      "643:\tlearn: 30.5748228\ttotal: 1.16s\tremaining: 644ms\n",
      "644:\tlearn: 30.5080592\ttotal: 1.17s\tremaining: 642ms\n",
      "645:\tlearn: 30.3444228\ttotal: 1.17s\tremaining: 640ms\n",
      "646:\tlearn: 30.1858385\ttotal: 1.17s\tremaining: 638ms\n",
      "647:\tlearn: 30.1481951\ttotal: 1.17s\tremaining: 636ms\n",
      "648:\tlearn: 30.1139150\ttotal: 1.17s\tremaining: 634ms\n",
      "649:\tlearn: 30.0147177\ttotal: 1.17s\tremaining: 632ms\n",
      "650:\tlearn: 29.8610501\ttotal: 1.18s\tremaining: 630ms\n",
      "651:\tlearn: 29.7793561\ttotal: 1.18s\tremaining: 628ms\n",
      "652:\tlearn: 29.6870188\ttotal: 1.18s\tremaining: 626ms\n",
      "653:\tlearn: 29.6229921\ttotal: 1.18s\tremaining: 624ms\n",
      "654:\tlearn: 29.5806823\ttotal: 1.18s\tremaining: 622ms\n",
      "655:\tlearn: 29.4903496\ttotal: 1.18s\tremaining: 620ms\n",
      "656:\tlearn: 29.4011642\ttotal: 1.18s\tremaining: 618ms\n",
      "657:\tlearn: 29.3880977\ttotal: 1.19s\tremaining: 617ms\n",
      "658:\tlearn: 29.2615919\ttotal: 1.19s\tremaining: 615ms\n",
      "659:\tlearn: 29.1004727\ttotal: 1.19s\tremaining: 613ms\n",
      "660:\tlearn: 29.0530692\ttotal: 1.19s\tremaining: 611ms\n",
      "661:\tlearn: 28.9863628\ttotal: 1.19s\tremaining: 609ms\n",
      "662:\tlearn: 28.8714304\ttotal: 1.19s\tremaining: 607ms\n",
      "663:\tlearn: 28.7331979\ttotal: 1.2s\tremaining: 605ms\n",
      "664:\tlearn: 28.6366801\ttotal: 1.2s\tremaining: 603ms\n",
      "665:\tlearn: 28.5716341\ttotal: 1.2s\tremaining: 601ms\n",
      "666:\tlearn: 28.4974876\ttotal: 1.2s\tremaining: 599ms\n",
      "667:\tlearn: 28.4112710\ttotal: 1.2s\tremaining: 597ms\n",
      "668:\tlearn: 28.2984651\ttotal: 1.2s\tremaining: 595ms\n",
      "669:\tlearn: 28.1339510\ttotal: 1.2s\tremaining: 593ms\n",
      "670:\tlearn: 28.1075789\ttotal: 1.21s\tremaining: 591ms\n",
      "671:\tlearn: 28.0922293\ttotal: 1.21s\tremaining: 589ms\n",
      "672:\tlearn: 27.9723760\ttotal: 1.21s\tremaining: 587ms\n",
      "673:\tlearn: 27.9055283\ttotal: 1.21s\tremaining: 585ms\n",
      "674:\tlearn: 27.8205243\ttotal: 1.21s\tremaining: 583ms\n",
      "675:\tlearn: 27.8084834\ttotal: 1.21s\tremaining: 582ms\n",
      "676:\tlearn: 27.7891840\ttotal: 1.21s\tremaining: 580ms\n",
      "677:\tlearn: 27.6730952\ttotal: 1.22s\tremaining: 578ms\n",
      "678:\tlearn: 27.6094279\ttotal: 1.22s\tremaining: 576ms\n",
      "679:\tlearn: 27.5709406\ttotal: 1.22s\tremaining: 574ms\n",
      "680:\tlearn: 27.5062932\ttotal: 1.22s\tremaining: 572ms\n",
      "681:\tlearn: 27.4149358\ttotal: 1.22s\tremaining: 570ms\n",
      "682:\tlearn: 27.3480578\ttotal: 1.22s\tremaining: 568ms\n",
      "683:\tlearn: 27.2546632\ttotal: 1.23s\tremaining: 566ms\n",
      "684:\tlearn: 27.1581242\ttotal: 1.23s\tremaining: 564ms\n",
      "685:\tlearn: 27.1291330\ttotal: 1.23s\tremaining: 562ms\n",
      "686:\tlearn: 27.0589760\ttotal: 1.23s\tremaining: 560ms\n",
      "687:\tlearn: 26.9207571\ttotal: 1.23s\tremaining: 558ms\n",
      "688:\tlearn: 26.8046340\ttotal: 1.23s\tremaining: 557ms\n",
      "689:\tlearn: 26.7346039\ttotal: 1.23s\tremaining: 555ms\n",
      "690:\tlearn: 26.6359238\ttotal: 1.24s\tremaining: 553ms\n",
      "691:\tlearn: 26.5458163\ttotal: 1.24s\tremaining: 551ms\n",
      "692:\tlearn: 26.5287024\ttotal: 1.24s\tremaining: 549ms\n",
      "693:\tlearn: 26.4436127\ttotal: 1.24s\tremaining: 548ms\n",
      "694:\tlearn: 26.3860996\ttotal: 1.24s\tremaining: 546ms\n",
      "695:\tlearn: 26.3271824\ttotal: 1.25s\tremaining: 544ms\n",
      "696:\tlearn: 26.1929180\ttotal: 1.25s\tremaining: 542ms\n",
      "697:\tlearn: 26.0989501\ttotal: 1.25s\tremaining: 540ms\n",
      "698:\tlearn: 26.0348052\ttotal: 1.25s\tremaining: 538ms\n",
      "699:\tlearn: 25.9715846\ttotal: 1.25s\tremaining: 537ms\n",
      "700:\tlearn: 25.8624783\ttotal: 1.25s\tremaining: 535ms\n",
      "701:\tlearn: 25.8020332\ttotal: 1.25s\tremaining: 533ms\n",
      "702:\tlearn: 25.7940141\ttotal: 1.26s\tremaining: 531ms\n",
      "703:\tlearn: 25.6937173\ttotal: 1.26s\tremaining: 529ms\n",
      "704:\tlearn: 25.6133995\ttotal: 1.26s\tremaining: 527ms\n",
      "705:\tlearn: 25.5272559\ttotal: 1.26s\tremaining: 526ms\n",
      "706:\tlearn: 25.5087600\ttotal: 1.26s\tremaining: 524ms\n",
      "707:\tlearn: 25.3506858\ttotal: 1.26s\tremaining: 522ms\n",
      "708:\tlearn: 25.3314352\ttotal: 1.27s\tremaining: 520ms\n",
      "709:\tlearn: 25.3263712\ttotal: 1.27s\tremaining: 518ms\n",
      "710:\tlearn: 25.2377772\ttotal: 1.27s\tremaining: 516ms\n",
      "711:\tlearn: 25.1296003\ttotal: 1.27s\tremaining: 514ms\n",
      "712:\tlearn: 25.1138661\ttotal: 1.27s\tremaining: 512ms\n",
      "713:\tlearn: 25.0606164\ttotal: 1.27s\tremaining: 510ms\n",
      "714:\tlearn: 24.9701122\ttotal: 1.27s\tremaining: 509ms\n",
      "715:\tlearn: 24.9266980\ttotal: 1.28s\tremaining: 507ms\n",
      "716:\tlearn: 24.8355245\ttotal: 1.28s\tremaining: 505ms\n",
      "717:\tlearn: 24.7892595\ttotal: 1.28s\tremaining: 503ms\n",
      "718:\tlearn: 24.7784156\ttotal: 1.28s\tremaining: 501ms\n",
      "719:\tlearn: 24.7204068\ttotal: 1.28s\tremaining: 499ms\n",
      "720:\tlearn: 24.6868946\ttotal: 1.28s\tremaining: 497ms\n",
      "721:\tlearn: 24.5835248\ttotal: 1.29s\tremaining: 496ms\n",
      "722:\tlearn: 24.4605667\ttotal: 1.29s\tremaining: 494ms\n",
      "723:\tlearn: 24.3780491\ttotal: 1.29s\tremaining: 492ms\n",
      "724:\tlearn: 24.3695387\ttotal: 1.29s\tremaining: 490ms\n",
      "725:\tlearn: 24.2713928\ttotal: 1.29s\tremaining: 488ms\n",
      "726:\tlearn: 24.2564573\ttotal: 1.29s\tremaining: 486ms\n",
      "727:\tlearn: 24.1259045\ttotal: 1.3s\tremaining: 485ms\n",
      "728:\tlearn: 24.0410925\ttotal: 1.3s\tremaining: 483ms\n",
      "729:\tlearn: 23.9454740\ttotal: 1.3s\tremaining: 481ms\n",
      "730:\tlearn: 23.9293944\ttotal: 1.3s\tremaining: 479ms\n",
      "731:\tlearn: 23.8408373\ttotal: 1.3s\tremaining: 477ms\n",
      "732:\tlearn: 23.7301307\ttotal: 1.3s\tremaining: 476ms\n",
      "733:\tlearn: 23.6751178\ttotal: 1.31s\tremaining: 474ms\n",
      "734:\tlearn: 23.5518474\ttotal: 1.31s\tremaining: 472ms\n",
      "735:\tlearn: 23.5054838\ttotal: 1.31s\tremaining: 470ms\n",
      "736:\tlearn: 23.4781040\ttotal: 1.31s\tremaining: 468ms\n",
      "737:\tlearn: 23.3774725\ttotal: 1.31s\tremaining: 467ms\n",
      "738:\tlearn: 23.3081022\ttotal: 1.32s\tremaining: 465ms\n",
      "739:\tlearn: 23.2915892\ttotal: 1.32s\tremaining: 463ms\n",
      "740:\tlearn: 23.2095735\ttotal: 1.32s\tremaining: 461ms\n",
      "741:\tlearn: 23.1588315\ttotal: 1.32s\tremaining: 460ms\n",
      "742:\tlearn: 23.1197993\ttotal: 1.32s\tremaining: 458ms\n",
      "743:\tlearn: 23.0327780\ttotal: 1.32s\tremaining: 456ms\n",
      "744:\tlearn: 22.9759480\ttotal: 1.33s\tremaining: 454ms\n",
      "745:\tlearn: 22.8751423\ttotal: 1.33s\tremaining: 452ms\n",
      "746:\tlearn: 22.7768127\ttotal: 1.33s\tremaining: 451ms\n",
      "747:\tlearn: 22.6474970\ttotal: 1.33s\tremaining: 449ms\n",
      "748:\tlearn: 22.5780525\ttotal: 1.33s\tremaining: 447ms\n",
      "749:\tlearn: 22.5338308\ttotal: 1.33s\tremaining: 445ms\n",
      "750:\tlearn: 22.4330276\ttotal: 1.34s\tremaining: 443ms\n",
      "751:\tlearn: 22.4193891\ttotal: 1.34s\tremaining: 442ms\n",
      "752:\tlearn: 22.4093040\ttotal: 1.34s\tremaining: 440ms\n",
      "753:\tlearn: 22.3758979\ttotal: 1.34s\tremaining: 438ms\n",
      "754:\tlearn: 22.3560173\ttotal: 1.34s\tremaining: 436ms\n",
      "755:\tlearn: 22.3264261\ttotal: 1.34s\tremaining: 434ms\n",
      "756:\tlearn: 22.2796605\ttotal: 1.35s\tremaining: 432ms\n",
      "757:\tlearn: 22.2253439\ttotal: 1.35s\tremaining: 431ms\n",
      "758:\tlearn: 22.1636409\ttotal: 1.35s\tremaining: 429ms\n",
      "759:\tlearn: 22.1078491\ttotal: 1.35s\tremaining: 427ms\n",
      "760:\tlearn: 22.0275756\ttotal: 1.35s\tremaining: 425ms\n",
      "761:\tlearn: 22.0174143\ttotal: 1.35s\tremaining: 423ms\n",
      "762:\tlearn: 21.9887391\ttotal: 1.36s\tremaining: 421ms\n",
      "763:\tlearn: 21.9746733\ttotal: 1.36s\tremaining: 420ms\n",
      "764:\tlearn: 21.9529216\ttotal: 1.36s\tremaining: 418ms\n",
      "765:\tlearn: 21.8767644\ttotal: 1.36s\tremaining: 416ms\n",
      "766:\tlearn: 21.8668039\ttotal: 1.36s\tremaining: 414ms\n",
      "767:\tlearn: 21.8008688\ttotal: 1.36s\tremaining: 412ms\n",
      "768:\tlearn: 21.7612208\ttotal: 1.37s\tremaining: 410ms\n",
      "769:\tlearn: 21.6977978\ttotal: 1.37s\tremaining: 409ms\n",
      "770:\tlearn: 21.6870461\ttotal: 1.37s\tremaining: 407ms\n",
      "771:\tlearn: 21.6599780\ttotal: 1.37s\tremaining: 405ms\n",
      "772:\tlearn: 21.5522064\ttotal: 1.37s\tremaining: 403ms\n",
      "773:\tlearn: 21.5426327\ttotal: 1.37s\tremaining: 401ms\n",
      "774:\tlearn: 21.4391089\ttotal: 1.38s\tremaining: 399ms\n",
      "775:\tlearn: 21.4042993\ttotal: 1.38s\tremaining: 398ms\n",
      "776:\tlearn: 21.3284836\ttotal: 1.38s\tremaining: 396ms\n",
      "777:\tlearn: 21.3163774\ttotal: 1.38s\tremaining: 394ms\n",
      "778:\tlearn: 21.2708416\ttotal: 1.38s\tremaining: 392ms\n",
      "779:\tlearn: 21.2056943\ttotal: 1.38s\tremaining: 390ms\n",
      "780:\tlearn: 21.1434774\ttotal: 1.39s\tremaining: 388ms\n",
      "781:\tlearn: 21.0672473\ttotal: 1.39s\tremaining: 387ms\n",
      "782:\tlearn: 20.9629645\ttotal: 1.39s\tremaining: 385ms\n",
      "783:\tlearn: 20.9522537\ttotal: 1.39s\tremaining: 383ms\n",
      "784:\tlearn: 20.9252425\ttotal: 1.39s\tremaining: 381ms\n",
      "785:\tlearn: 20.8576799\ttotal: 1.39s\tremaining: 379ms\n",
      "786:\tlearn: 20.7922970\ttotal: 1.39s\tremaining: 377ms\n",
      "787:\tlearn: 20.7802134\ttotal: 1.4s\tremaining: 376ms\n",
      "788:\tlearn: 20.7125213\ttotal: 1.4s\tremaining: 374ms\n",
      "789:\tlearn: 20.7000005\ttotal: 1.4s\tremaining: 372ms\n",
      "790:\tlearn: 20.6366378\ttotal: 1.4s\tremaining: 370ms\n",
      "791:\tlearn: 20.6170923\ttotal: 1.4s\tremaining: 368ms\n",
      "792:\tlearn: 20.5485950\ttotal: 1.4s\tremaining: 367ms\n",
      "793:\tlearn: 20.5212323\ttotal: 1.41s\tremaining: 365ms\n",
      "794:\tlearn: 20.5004347\ttotal: 1.41s\tremaining: 363ms\n",
      "795:\tlearn: 20.4884649\ttotal: 1.41s\tremaining: 361ms\n",
      "796:\tlearn: 20.3727007\ttotal: 1.41s\tremaining: 360ms\n",
      "797:\tlearn: 20.2776166\ttotal: 1.41s\tremaining: 358ms\n",
      "798:\tlearn: 20.2690965\ttotal: 1.42s\tremaining: 356ms\n",
      "799:\tlearn: 20.2166634\ttotal: 1.42s\tremaining: 354ms\n",
      "800:\tlearn: 20.1160179\ttotal: 1.42s\tremaining: 352ms\n",
      "801:\tlearn: 20.0642268\ttotal: 1.42s\tremaining: 351ms\n",
      "802:\tlearn: 20.0323601\ttotal: 1.42s\tremaining: 349ms\n",
      "803:\tlearn: 19.9485334\ttotal: 1.42s\tremaining: 347ms\n",
      "804:\tlearn: 19.9071725\ttotal: 1.43s\tremaining: 345ms\n",
      "805:\tlearn: 19.8943564\ttotal: 1.43s\tremaining: 343ms\n",
      "806:\tlearn: 19.7804687\ttotal: 1.43s\tremaining: 342ms\n",
      "807:\tlearn: 19.7343406\ttotal: 1.43s\tremaining: 340ms\n",
      "808:\tlearn: 19.6963930\ttotal: 1.43s\tremaining: 338ms\n",
      "809:\tlearn: 19.6705675\ttotal: 1.43s\tremaining: 336ms\n",
      "810:\tlearn: 19.6382933\ttotal: 1.44s\tremaining: 334ms\n",
      "811:\tlearn: 19.5889191\ttotal: 1.44s\tremaining: 333ms\n",
      "812:\tlearn: 19.5638487\ttotal: 1.44s\tremaining: 331ms\n",
      "813:\tlearn: 19.4926424\ttotal: 1.44s\tremaining: 329ms\n",
      "814:\tlearn: 19.3961396\ttotal: 1.44s\tremaining: 327ms\n",
      "815:\tlearn: 19.3880242\ttotal: 1.44s\tremaining: 325ms\n",
      "816:\tlearn: 19.2808372\ttotal: 1.45s\tremaining: 324ms\n",
      "817:\tlearn: 19.1712815\ttotal: 1.45s\tremaining: 322ms\n",
      "818:\tlearn: 19.0909823\ttotal: 1.45s\tremaining: 320ms\n",
      "819:\tlearn: 18.9993504\ttotal: 1.45s\tremaining: 318ms\n",
      "820:\tlearn: 18.9773399\ttotal: 1.45s\tremaining: 316ms\n",
      "821:\tlearn: 18.8989735\ttotal: 1.45s\tremaining: 315ms\n",
      "822:\tlearn: 18.8275176\ttotal: 1.45s\tremaining: 313ms\n",
      "823:\tlearn: 18.8092278\ttotal: 1.46s\tremaining: 311ms\n",
      "824:\tlearn: 18.7938447\ttotal: 1.46s\tremaining: 309ms\n",
      "825:\tlearn: 18.7871267\ttotal: 1.46s\tremaining: 307ms\n",
      "826:\tlearn: 18.7299674\ttotal: 1.46s\tremaining: 305ms\n",
      "827:\tlearn: 18.6808264\ttotal: 1.46s\tremaining: 304ms\n",
      "828:\tlearn: 18.5984875\ttotal: 1.46s\tremaining: 302ms\n",
      "829:\tlearn: 18.5170088\ttotal: 1.46s\tremaining: 300ms\n",
      "830:\tlearn: 18.4707382\ttotal: 1.47s\tremaining: 298ms\n",
      "831:\tlearn: 18.4368619\ttotal: 1.47s\tremaining: 296ms\n",
      "832:\tlearn: 18.3683191\ttotal: 1.47s\tremaining: 295ms\n",
      "833:\tlearn: 18.3295058\ttotal: 1.47s\tremaining: 293ms\n",
      "834:\tlearn: 18.2587263\ttotal: 1.47s\tremaining: 291ms\n",
      "835:\tlearn: 18.2103679\ttotal: 1.47s\tremaining: 289ms\n",
      "836:\tlearn: 18.1781032\ttotal: 1.47s\tremaining: 287ms\n",
      "837:\tlearn: 18.0746921\ttotal: 1.48s\tremaining: 285ms\n",
      "838:\tlearn: 18.0131984\ttotal: 1.48s\tremaining: 284ms\n",
      "839:\tlearn: 17.9510877\ttotal: 1.48s\tremaining: 282ms\n",
      "840:\tlearn: 17.8893536\ttotal: 1.48s\tremaining: 280ms\n",
      "841:\tlearn: 17.8813583\ttotal: 1.48s\tremaining: 278ms\n",
      "842:\tlearn: 17.8129857\ttotal: 1.48s\tremaining: 276ms\n",
      "843:\tlearn: 17.7981202\ttotal: 1.49s\tremaining: 275ms\n",
      "844:\tlearn: 17.7414627\ttotal: 1.49s\tremaining: 273ms\n",
      "845:\tlearn: 17.7255534\ttotal: 1.49s\tremaining: 271ms\n",
      "846:\tlearn: 17.6965545\ttotal: 1.49s\tremaining: 269ms\n",
      "847:\tlearn: 17.6499397\ttotal: 1.49s\tremaining: 267ms\n",
      "848:\tlearn: 17.6133852\ttotal: 1.49s\tremaining: 266ms\n",
      "849:\tlearn: 17.5621620\ttotal: 1.49s\tremaining: 264ms\n",
      "850:\tlearn: 17.5064049\ttotal: 1.5s\tremaining: 262ms\n",
      "851:\tlearn: 17.4643467\ttotal: 1.5s\tremaining: 260ms\n",
      "852:\tlearn: 17.4569544\ttotal: 1.5s\tremaining: 258ms\n",
      "853:\tlearn: 17.3731897\ttotal: 1.5s\tremaining: 256ms\n",
      "854:\tlearn: 17.3313609\ttotal: 1.5s\tremaining: 255ms\n",
      "855:\tlearn: 17.2781582\ttotal: 1.5s\tremaining: 253ms\n",
      "856:\tlearn: 17.2283433\ttotal: 1.5s\tremaining: 251ms\n",
      "857:\tlearn: 17.1944614\ttotal: 1.5s\tremaining: 249ms\n",
      "858:\tlearn: 17.1573393\ttotal: 1.51s\tremaining: 247ms\n",
      "859:\tlearn: 17.0975067\ttotal: 1.51s\tremaining: 246ms\n",
      "860:\tlearn: 17.0462043\ttotal: 1.51s\tremaining: 244ms\n",
      "861:\tlearn: 17.0118805\ttotal: 1.51s\tremaining: 242ms\n",
      "862:\tlearn: 17.0045195\ttotal: 1.51s\tremaining: 240ms\n",
      "863:\tlearn: 16.9528999\ttotal: 1.51s\tremaining: 238ms\n",
      "864:\tlearn: 16.9270632\ttotal: 1.51s\tremaining: 237ms\n",
      "865:\tlearn: 16.8915252\ttotal: 1.52s\tremaining: 235ms\n",
      "866:\tlearn: 16.7946576\ttotal: 1.52s\tremaining: 233ms\n",
      "867:\tlearn: 16.7737222\ttotal: 1.52s\tremaining: 231ms\n",
      "868:\tlearn: 16.7192509\ttotal: 1.52s\tremaining: 229ms\n",
      "869:\tlearn: 16.7138388\ttotal: 1.52s\tremaining: 228ms\n",
      "870:\tlearn: 16.6877768\ttotal: 1.52s\tremaining: 226ms\n",
      "871:\tlearn: 16.6265748\ttotal: 1.52s\tremaining: 224ms\n",
      "872:\tlearn: 16.5641199\ttotal: 1.53s\tremaining: 222ms\n",
      "873:\tlearn: 16.4935111\ttotal: 1.53s\tremaining: 220ms\n",
      "874:\tlearn: 16.4250863\ttotal: 1.53s\tremaining: 219ms\n",
      "875:\tlearn: 16.3566947\ttotal: 1.53s\tremaining: 217ms\n",
      "876:\tlearn: 16.2731185\ttotal: 1.53s\tremaining: 215ms\n",
      "877:\tlearn: 16.2207923\ttotal: 1.53s\tremaining: 213ms\n",
      "878:\tlearn: 16.2073108\ttotal: 1.53s\tremaining: 211ms\n",
      "879:\tlearn: 16.1336576\ttotal: 1.54s\tremaining: 210ms\n",
      "880:\tlearn: 16.0994139\ttotal: 1.54s\tremaining: 208ms\n",
      "881:\tlearn: 16.0720217\ttotal: 1.54s\tremaining: 206ms\n",
      "882:\tlearn: 16.0192163\ttotal: 1.54s\tremaining: 204ms\n",
      "883:\tlearn: 16.0021989\ttotal: 1.54s\tremaining: 202ms\n",
      "884:\tlearn: 15.9003005\ttotal: 1.54s\tremaining: 201ms\n",
      "885:\tlearn: 15.8685768\ttotal: 1.54s\tremaining: 199ms\n",
      "886:\tlearn: 15.7757199\ttotal: 1.55s\tremaining: 197ms\n",
      "887:\tlearn: 15.7280015\ttotal: 1.55s\tremaining: 195ms\n",
      "888:\tlearn: 15.7037867\ttotal: 1.55s\tremaining: 194ms\n",
      "889:\tlearn: 15.6876254\ttotal: 1.55s\tremaining: 192ms\n",
      "890:\tlearn: 15.6002589\ttotal: 1.55s\tremaining: 190ms\n",
      "891:\tlearn: 15.5663914\ttotal: 1.55s\tremaining: 188ms\n",
      "892:\tlearn: 15.4827503\ttotal: 1.55s\tremaining: 186ms\n",
      "893:\tlearn: 15.4422647\ttotal: 1.56s\tremaining: 185ms\n",
      "894:\tlearn: 15.4230904\ttotal: 1.56s\tremaining: 183ms\n",
      "895:\tlearn: 15.3907978\ttotal: 1.56s\tremaining: 181ms\n",
      "896:\tlearn: 15.3022423\ttotal: 1.56s\tremaining: 179ms\n",
      "897:\tlearn: 15.2770800\ttotal: 1.56s\tremaining: 177ms\n",
      "898:\tlearn: 15.2708396\ttotal: 1.56s\tremaining: 176ms\n",
      "899:\tlearn: 15.2217814\ttotal: 1.57s\tremaining: 174ms\n",
      "900:\tlearn: 15.2150872\ttotal: 1.57s\tremaining: 172ms\n",
      "901:\tlearn: 15.1938758\ttotal: 1.57s\tremaining: 171ms\n",
      "902:\tlearn: 15.1087389\ttotal: 1.57s\tremaining: 169ms\n",
      "903:\tlearn: 15.0270836\ttotal: 1.57s\tremaining: 167ms\n",
      "904:\tlearn: 14.9579009\ttotal: 1.57s\tremaining: 165ms\n",
      "905:\tlearn: 14.9321713\ttotal: 1.58s\tremaining: 164ms\n",
      "906:\tlearn: 14.9254894\ttotal: 1.58s\tremaining: 162ms\n",
      "907:\tlearn: 14.8662999\ttotal: 1.58s\tremaining: 160ms\n",
      "908:\tlearn: 14.7969088\ttotal: 1.58s\tremaining: 158ms\n",
      "909:\tlearn: 14.7187437\ttotal: 1.58s\tremaining: 157ms\n",
      "910:\tlearn: 14.6594229\ttotal: 1.58s\tremaining: 155ms\n",
      "911:\tlearn: 14.6109629\ttotal: 1.59s\tremaining: 153ms\n",
      "912:\tlearn: 14.5833869\ttotal: 1.59s\tremaining: 151ms\n",
      "913:\tlearn: 14.5677206\ttotal: 1.59s\tremaining: 150ms\n",
      "914:\tlearn: 14.5260964\ttotal: 1.59s\tremaining: 148ms\n",
      "915:\tlearn: 14.4838792\ttotal: 1.59s\tremaining: 146ms\n",
      "916:\tlearn: 14.4614097\ttotal: 1.59s\tremaining: 144ms\n",
      "917:\tlearn: 14.4432212\ttotal: 1.59s\tremaining: 142ms\n",
      "918:\tlearn: 14.4363977\ttotal: 1.6s\tremaining: 141ms\n",
      "919:\tlearn: 14.3740822\ttotal: 1.6s\tremaining: 139ms\n",
      "920:\tlearn: 14.3363459\ttotal: 1.6s\tremaining: 137ms\n",
      "921:\tlearn: 14.2862425\ttotal: 1.6s\tremaining: 135ms\n",
      "922:\tlearn: 14.2195191\ttotal: 1.6s\tremaining: 134ms\n",
      "923:\tlearn: 14.1752422\ttotal: 1.6s\tremaining: 132ms\n",
      "924:\tlearn: 14.1582897\ttotal: 1.6s\tremaining: 130ms\n",
      "925:\tlearn: 14.0892518\ttotal: 1.61s\tremaining: 128ms\n",
      "926:\tlearn: 14.0163904\ttotal: 1.61s\tremaining: 127ms\n",
      "927:\tlearn: 13.9674906\ttotal: 1.61s\tremaining: 125ms\n",
      "928:\tlearn: 13.9421041\ttotal: 1.61s\tremaining: 123ms\n",
      "929:\tlearn: 13.9264108\ttotal: 1.61s\tremaining: 121ms\n",
      "930:\tlearn: 13.8953443\ttotal: 1.61s\tremaining: 120ms\n",
      "931:\tlearn: 13.8514821\ttotal: 1.61s\tremaining: 118ms\n",
      "932:\tlearn: 13.8317730\ttotal: 1.62s\tremaining: 116ms\n",
      "933:\tlearn: 13.7980615\ttotal: 1.62s\tremaining: 114ms\n",
      "934:\tlearn: 13.7252551\ttotal: 1.62s\tremaining: 113ms\n",
      "935:\tlearn: 13.6867475\ttotal: 1.62s\tremaining: 111ms\n",
      "936:\tlearn: 13.6663164\ttotal: 1.62s\tremaining: 109ms\n",
      "937:\tlearn: 13.6108173\ttotal: 1.63s\tremaining: 107ms\n",
      "938:\tlearn: 13.5827380\ttotal: 1.63s\tremaining: 106ms\n",
      "939:\tlearn: 13.5211246\ttotal: 1.63s\tremaining: 104ms\n",
      "940:\tlearn: 13.4752089\ttotal: 1.63s\tremaining: 102ms\n",
      "941:\tlearn: 13.4283115\ttotal: 1.63s\tremaining: 100ms\n",
      "942:\tlearn: 13.3912327\ttotal: 1.63s\tremaining: 98.7ms\n",
      "943:\tlearn: 13.3593766\ttotal: 1.63s\tremaining: 97ms\n",
      "944:\tlearn: 13.3015250\ttotal: 1.64s\tremaining: 95.2ms\n",
      "945:\tlearn: 13.2587480\ttotal: 1.64s\tremaining: 93.5ms\n",
      "946:\tlearn: 13.1949436\ttotal: 1.64s\tremaining: 91.7ms\n",
      "947:\tlearn: 13.1552441\ttotal: 1.64s\tremaining: 90ms\n",
      "948:\tlearn: 13.0700947\ttotal: 1.64s\tremaining: 88.2ms\n",
      "949:\tlearn: 13.0460884\ttotal: 1.64s\tremaining: 86.5ms\n",
      "950:\tlearn: 13.0315972\ttotal: 1.65s\tremaining: 84.8ms\n",
      "951:\tlearn: 12.9964111\ttotal: 1.65s\tremaining: 83ms\n",
      "952:\tlearn: 12.9757139\ttotal: 1.65s\tremaining: 81.3ms\n",
      "953:\tlearn: 12.9120533\ttotal: 1.65s\tremaining: 79.5ms\n",
      "954:\tlearn: 12.8776679\ttotal: 1.65s\tremaining: 77.8ms\n",
      "955:\tlearn: 12.8703243\ttotal: 1.65s\tremaining: 76.1ms\n",
      "956:\tlearn: 12.8058615\ttotal: 1.65s\tremaining: 74.3ms\n",
      "957:\tlearn: 12.7637381\ttotal: 1.66s\tremaining: 72.6ms\n",
      "958:\tlearn: 12.7517063\ttotal: 1.66s\tremaining: 70.8ms\n",
      "959:\tlearn: 12.7382108\ttotal: 1.66s\tremaining: 69.1ms\n",
      "960:\tlearn: 12.6881713\ttotal: 1.66s\tremaining: 67.4ms\n",
      "961:\tlearn: 12.6728317\ttotal: 1.66s\tremaining: 65.6ms\n",
      "962:\tlearn: 12.6386609\ttotal: 1.66s\tremaining: 63.9ms\n",
      "963:\tlearn: 12.5837642\ttotal: 1.66s\tremaining: 62.2ms\n",
      "964:\tlearn: 12.5689789\ttotal: 1.67s\tremaining: 60.4ms\n",
      "965:\tlearn: 12.5362136\ttotal: 1.67s\tremaining: 58.7ms\n",
      "966:\tlearn: 12.5186020\ttotal: 1.67s\tremaining: 56.9ms\n",
      "967:\tlearn: 12.4787889\ttotal: 1.67s\tremaining: 55.2ms\n",
      "968:\tlearn: 12.4463866\ttotal: 1.67s\tremaining: 53.5ms\n",
      "969:\tlearn: 12.3919484\ttotal: 1.67s\tremaining: 51.7ms\n",
      "970:\tlearn: 12.3583173\ttotal: 1.67s\tremaining: 50ms\n",
      "971:\tlearn: 12.3430204\ttotal: 1.68s\tremaining: 48.3ms\n",
      "972:\tlearn: 12.3036135\ttotal: 1.68s\tremaining: 46.5ms\n",
      "973:\tlearn: 12.2785886\ttotal: 1.68s\tremaining: 44.8ms\n",
      "974:\tlearn: 12.2424148\ttotal: 1.68s\tremaining: 43.1ms\n",
      "975:\tlearn: 12.2287225\ttotal: 1.68s\tremaining: 41.3ms\n",
      "976:\tlearn: 12.1894056\ttotal: 1.68s\tremaining: 39.6ms\n",
      "977:\tlearn: 12.1399699\ttotal: 1.68s\tremaining: 37.9ms\n",
      "978:\tlearn: 12.1165698\ttotal: 1.69s\tremaining: 36.2ms\n",
      "979:\tlearn: 12.1084930\ttotal: 1.69s\tremaining: 34.4ms\n",
      "980:\tlearn: 12.1041455\ttotal: 1.69s\tremaining: 32.7ms\n",
      "981:\tlearn: 12.0749440\ttotal: 1.69s\tremaining: 31ms\n",
      "982:\tlearn: 12.0676323\ttotal: 1.69s\tremaining: 29.3ms\n",
      "983:\tlearn: 12.0253491\ttotal: 1.69s\tremaining: 27.5ms\n",
      "984:\tlearn: 11.9725269\ttotal: 1.69s\tremaining: 25.8ms\n",
      "985:\tlearn: 11.9344239\ttotal: 1.7s\tremaining: 24.1ms\n",
      "986:\tlearn: 11.8870660\ttotal: 1.7s\tremaining: 22.4ms\n",
      "987:\tlearn: 11.8411099\ttotal: 1.7s\tremaining: 20.6ms\n",
      "988:\tlearn: 11.7973602\ttotal: 1.7s\tremaining: 18.9ms\n",
      "989:\tlearn: 11.7514376\ttotal: 1.7s\tremaining: 17.2ms\n",
      "990:\tlearn: 11.7232746\ttotal: 1.7s\tremaining: 15.5ms\n",
      "991:\tlearn: 11.6852796\ttotal: 1.7s\tremaining: 13.7ms\n",
      "992:\tlearn: 11.6463794\ttotal: 1.71s\tremaining: 12ms\n",
      "993:\tlearn: 11.6106308\ttotal: 1.71s\tremaining: 10.3ms\n",
      "994:\tlearn: 11.5731961\ttotal: 1.71s\tremaining: 8.58ms\n",
      "995:\tlearn: 11.5417359\ttotal: 1.71s\tremaining: 6.87ms\n",
      "996:\tlearn: 11.5167117\ttotal: 1.71s\tremaining: 5.15ms\n",
      "997:\tlearn: 11.4745232\ttotal: 1.71s\tremaining: 3.43ms\n",
      "998:\tlearn: 11.4604481\ttotal: 1.71s\tremaining: 1.72ms\n",
      "999:\tlearn: 11.4510502\ttotal: 1.72s\tremaining: 0us\n"
     ]
    }
   ],
   "source": [
    "catb_model = CatBoostRegressor().fit(X_train, y_train)"
   ]
  },
  {
   "cell_type": "code",
   "execution_count": 58,
   "id": "bd1872dd-2bff-4417-9b1f-602ee2232cc7",
   "metadata": {
    "collapsed": true,
    "jupyter": {
     "outputs_hidden": true
    },
    "tags": []
   },
   "outputs": [
    {
     "data": {
      "text/plain": [
       "['__class__',\n",
       " '__copy__',\n",
       " '__deepcopy__',\n",
       " '__delattr__',\n",
       " '__dict__',\n",
       " '__dir__',\n",
       " '__doc__',\n",
       " '__eq__',\n",
       " '__format__',\n",
       " '__ge__',\n",
       " '__getattribute__',\n",
       " '__getstate__',\n",
       " '__gt__',\n",
       " '__hash__',\n",
       " '__init__',\n",
       " '__init_subclass__',\n",
       " '__le__',\n",
       " '__lt__',\n",
       " '__module__',\n",
       " '__ne__',\n",
       " '__new__',\n",
       " '__reduce__',\n",
       " '__reduce_ex__',\n",
       " '__repr__',\n",
       " '__setattr__',\n",
       " '__setstate__',\n",
       " '__sizeof__',\n",
       " '__str__',\n",
       " '__subclasshook__',\n",
       " '__weakref__',\n",
       " '_base_calc_leaf_indexes',\n",
       " '_base_drop_unused_features',\n",
       " '_base_eval_metrics',\n",
       " '_base_predict',\n",
       " '_base_shrink',\n",
       " '_base_virtual_ensembles_predict',\n",
       " '_calc_fstr',\n",
       " '_calc_leaf_indexes',\n",
       " '_calc_ostr',\n",
       " '_check_is_compatible_loss',\n",
       " '_convert_to_asymmetric_representation',\n",
       " '_deserialize_model',\n",
       " '_estimator_type',\n",
       " '_eval_metrics',\n",
       " '_fit',\n",
       " '_get_borders',\n",
       " '_get_cat_feature_indices',\n",
       " '_get_default_prediction_type',\n",
       " '_get_embedding_feature_indices',\n",
       " '_get_float_feature_indices',\n",
       " '_get_nan_treatments',\n",
       " '_get_params',\n",
       " '_get_tags',\n",
       " '_get_text_feature_indices',\n",
       " '_get_tree_leaf_values',\n",
       " '_get_tree_node_to_leaf',\n",
       " '_get_tree_splits',\n",
       " '_get_tree_step_nodes',\n",
       " '_init_params',\n",
       " '_is_classification_objective',\n",
       " '_is_comparable_to',\n",
       " '_is_fitted_',\n",
       " '_is_multiregression_objective',\n",
       " '_is_multitarget_objective',\n",
       " '_is_ranking_objective',\n",
       " '_is_regression_objective',\n",
       " '_is_survivalregression_objective',\n",
       " '_iterate_leaf_indexes',\n",
       " '_leaf_indexes_iterator',\n",
       " '_learning_rate',\n",
       " '_load_from_stream',\n",
       " '_load_from_string',\n",
       " '_load_model',\n",
       " '_n_features_in',\n",
       " '_object',\n",
       " '_plot_nonsymmetric_tree',\n",
       " '_plot_oblivious_tree',\n",
       " '_predict',\n",
       " '_prediction_values_change',\n",
       " '_prepare_train_params',\n",
       " '_process_predict_input_data',\n",
       " '_random_seed',\n",
       " '_save_borders',\n",
       " '_save_model',\n",
       " '_serialize_model',\n",
       " '_set_test_evals',\n",
       " '_set_trained_model_attributes',\n",
       " '_staged_predict',\n",
       " '_staged_predict_iterator',\n",
       " '_sum_models',\n",
       " '_train',\n",
       " '_tree_count',\n",
       " '_tune_hyperparams',\n",
       " '_validate_prediction_type',\n",
       " '_virtual_ensembles_predict',\n",
       " 'best_iteration_',\n",
       " 'best_score_',\n",
       " 'calc_feature_statistics',\n",
       " 'calc_leaf_indexes',\n",
       " 'classes_',\n",
       " 'compare',\n",
       " 'copy',\n",
       " 'create_metric_calcer',\n",
       " 'drop_unused_features',\n",
       " 'eval_metrics',\n",
       " 'evals_result_',\n",
       " 'feature_importances_',\n",
       " 'feature_names_',\n",
       " 'fit',\n",
       " 'get_all_params',\n",
       " 'get_best_iteration',\n",
       " 'get_best_score',\n",
       " 'get_borders',\n",
       " 'get_cat_feature_indices',\n",
       " 'get_embedding_feature_indices',\n",
       " 'get_evals_result',\n",
       " 'get_feature_importance',\n",
       " 'get_leaf_values',\n",
       " 'get_leaf_weights',\n",
       " 'get_metadata',\n",
       " 'get_n_features_in',\n",
       " 'get_object_importance',\n",
       " 'get_param',\n",
       " 'get_params',\n",
       " 'get_scale_and_bias',\n",
       " 'get_test_eval',\n",
       " 'get_test_evals',\n",
       " 'get_text_feature_indices',\n",
       " 'get_tree_leaf_counts',\n",
       " 'grid_search',\n",
       " 'is_fitted',\n",
       " 'iterate_leaf_indexes',\n",
       " 'learning_rate_',\n",
       " 'load_model',\n",
       " 'n_features_in_',\n",
       " 'plot_partial_dependence',\n",
       " 'plot_predictions',\n",
       " 'plot_tree',\n",
       " 'predict',\n",
       " 'random_seed_',\n",
       " 'randomized_search',\n",
       " 'save_borders',\n",
       " 'save_model',\n",
       " 'score',\n",
       " 'select_features',\n",
       " 'set_feature_names',\n",
       " 'set_leaf_values',\n",
       " 'set_params',\n",
       " 'set_scale_and_bias',\n",
       " 'shrink',\n",
       " 'staged_predict',\n",
       " 'tree_count_',\n",
       " 'virtual_ensembles_predict']"
      ]
     },
     "execution_count": 58,
     "metadata": {},
     "output_type": "execute_result"
    }
   ],
   "source": [
    "dir(catb_model)"
   ]
  },
  {
   "cell_type": "code",
   "execution_count": 59,
   "id": "9467802a-6545-4463-b451-e3934827b0f1",
   "metadata": {},
   "outputs": [],
   "source": [
    "y_pred = catb_model.predict(X_test)"
   ]
  },
  {
   "cell_type": "code",
   "execution_count": 60,
   "id": "56391252-71c9-44cc-94ed-a58bea27a462",
   "metadata": {},
   "outputs": [
    {
     "data": {
      "text/plain": [
       "351.194631344607"
      ]
     },
     "execution_count": 60,
     "metadata": {},
     "output_type": "execute_result"
    }
   ],
   "source": [
    "np.sqrt(mean_squared_error(y_test, y_pred))"
   ]
  },
  {
   "cell_type": "markdown",
   "id": "e37b0510-b6d9-4f36-825d-413d4198c8bc",
   "metadata": {},
   "source": [
    "## Model Tuning"
   ]
  },
  {
   "cell_type": "code",
   "execution_count": 61,
   "id": "1ff62633-fb9a-4ac8-83a7-cded47df40da",
   "metadata": {},
   "outputs": [],
   "source": [
    "catb_model = CatBoostRegressor()"
   ]
  },
  {
   "cell_type": "code",
   "execution_count": 62,
   "id": "651c27aa-9c1f-494f-b673-b823e07de4f0",
   "metadata": {},
   "outputs": [],
   "source": [
    "catb_params = {\"iterations\": [200,500,100],\n",
    "              \"learning_rate\": [0.01,0.1],\n",
    "              \"depth\": [3,6,8]}\n",
    "#iterations burada ağaç sayısıdır.Fit edilecek model sayısıdır."
   ]
  },
  {
   "cell_type": "code",
   "execution_count": 63,
   "id": "69e5d7ee-0683-4e7f-bb33-9d09c78c9e8b",
   "metadata": {
    "collapsed": true,
    "jupyter": {
     "outputs_hidden": true
    },
    "tags": []
   },
   "outputs": [
    {
     "name": "stdout",
     "output_type": "stream",
     "text": [
      "Fitting 5 folds for each of 18 candidates, totalling 90 fits\n",
      "0:\tlearn: 425.7900818\ttotal: 1.41ms\tremaining: 280ms\n",
      "1:\tlearn: 404.8723520\ttotal: 2.74ms\tremaining: 271ms\n",
      "2:\tlearn: 387.4057666\ttotal: 3.92ms\tremaining: 257ms\n",
      "3:\tlearn: 372.2801584\ttotal: 5.01ms\tremaining: 246ms\n",
      "4:\tlearn: 358.9204229\ttotal: 6.2ms\tremaining: 242ms\n",
      "5:\tlearn: 347.0083933\ttotal: 7.28ms\tremaining: 235ms\n",
      "6:\tlearn: 336.0130818\ttotal: 8.43ms\tremaining: 233ms\n",
      "7:\tlearn: 324.3923300\ttotal: 9.45ms\tremaining: 227ms\n",
      "8:\tlearn: 314.8690957\ttotal: 10.8ms\tremaining: 228ms\n",
      "9:\tlearn: 308.5075563\ttotal: 12ms\tremaining: 228ms\n",
      "10:\tlearn: 298.8587285\ttotal: 12.9ms\tremaining: 222ms\n",
      "11:\tlearn: 294.7655438\ttotal: 14.3ms\tremaining: 224ms\n",
      "12:\tlearn: 288.0697862\ttotal: 15.4ms\tremaining: 221ms\n",
      "13:\tlearn: 282.6697154\ttotal: 16.3ms\tremaining: 216ms\n",
      "14:\tlearn: 277.6121667\ttotal: 17.2ms\tremaining: 212ms\n",
      "15:\tlearn: 273.4383979\ttotal: 18.2ms\tremaining: 209ms\n",
      "16:\tlearn: 269.1556201\ttotal: 19.2ms\tremaining: 207ms\n",
      "17:\tlearn: 264.8098704\ttotal: 20.3ms\tremaining: 205ms\n",
      "18:\tlearn: 261.6700768\ttotal: 21.2ms\tremaining: 202ms\n",
      "19:\tlearn: 257.3961290\ttotal: 22ms\tremaining: 198ms\n",
      "20:\tlearn: 252.2691509\ttotal: 23.1ms\tremaining: 197ms\n",
      "21:\tlearn: 249.0686482\ttotal: 24.1ms\tremaining: 195ms\n",
      "22:\tlearn: 244.1881041\ttotal: 24.9ms\tremaining: 192ms\n",
      "23:\tlearn: 242.1696687\ttotal: 25.7ms\tremaining: 188ms\n",
      "24:\tlearn: 239.2131476\ttotal: 26.5ms\tremaining: 185ms\n",
      "25:\tlearn: 236.6883901\ttotal: 27.4ms\tremaining: 184ms\n",
      "26:\tlearn: 234.5295613\ttotal: 28.3ms\tremaining: 181ms\n",
      "27:\tlearn: 231.7788834\ttotal: 29.4ms\tremaining: 181ms\n",
      "28:\tlearn: 228.8020330\ttotal: 30.4ms\tremaining: 179ms\n",
      "29:\tlearn: 226.8420565\ttotal: 31.4ms\tremaining: 178ms\n",
      "30:\tlearn: 224.0686558\ttotal: 32.3ms\tremaining: 176ms\n",
      "31:\tlearn: 222.6644699\ttotal: 33.2ms\tremaining: 174ms\n",
      "32:\tlearn: 221.6889573\ttotal: 34ms\tremaining: 172ms\n",
      "33:\tlearn: 220.5171653\ttotal: 34.8ms\tremaining: 170ms\n",
      "34:\tlearn: 217.7686033\ttotal: 35.6ms\tremaining: 168ms\n",
      "35:\tlearn: 214.8462789\ttotal: 36.4ms\tremaining: 166ms\n",
      "36:\tlearn: 214.4799251\ttotal: 37.2ms\tremaining: 164ms\n",
      "37:\tlearn: 212.3480429\ttotal: 38ms\tremaining: 162ms\n",
      "38:\tlearn: 210.0040644\ttotal: 38.7ms\tremaining: 160ms\n",
      "39:\tlearn: 208.3086913\ttotal: 39.7ms\tremaining: 159ms\n",
      "40:\tlearn: 207.5469119\ttotal: 40.6ms\tremaining: 158ms\n",
      "41:\tlearn: 205.9351113\ttotal: 41.4ms\tremaining: 156ms\n",
      "42:\tlearn: 205.3580824\ttotal: 42.2ms\tremaining: 154ms\n",
      "43:\tlearn: 204.6204266\ttotal: 43ms\tremaining: 153ms\n",
      "44:\tlearn: 202.5023220\ttotal: 43.9ms\tremaining: 151ms\n",
      "45:\tlearn: 201.4347853\ttotal: 44.7ms\tremaining: 150ms\n",
      "46:\tlearn: 200.8752553\ttotal: 45.7ms\tremaining: 149ms\n",
      "47:\tlearn: 200.4047344\ttotal: 46.5ms\tremaining: 147ms\n",
      "48:\tlearn: 197.5433004\ttotal: 47.4ms\tremaining: 146ms\n",
      "49:\tlearn: 194.6943292\ttotal: 48.2ms\tremaining: 145ms\n",
      "50:\tlearn: 194.3011982\ttotal: 49ms\tremaining: 143ms\n",
      "51:\tlearn: 193.4011843\ttotal: 49.8ms\tremaining: 142ms\n",
      "52:\tlearn: 193.0109753\ttotal: 50.7ms\tremaining: 141ms\n",
      "53:\tlearn: 192.6071142\ttotal: 51.4ms\tremaining: 139ms\n",
      "54:\tlearn: 191.9666153\ttotal: 52.3ms\tremaining: 138ms\n",
      "55:\tlearn: 191.5789727\ttotal: 53.2ms\tremaining: 137ms\n",
      "56:\tlearn: 190.7186284\ttotal: 54.1ms\tremaining: 136ms\n",
      "57:\tlearn: 190.4543087\ttotal: 55.1ms\tremaining: 135ms\n",
      "58:\tlearn: 190.1336317\ttotal: 56ms\tremaining: 134ms\n",
      "59:\tlearn: 188.2286484\ttotal: 56.7ms\tremaining: 132ms\n",
      "60:\tlearn: 187.7652417\ttotal: 57.6ms\tremaining: 131ms\n",
      "61:\tlearn: 187.4227950\ttotal: 58.4ms\tremaining: 130ms\n",
      "62:\tlearn: 186.9289182\ttotal: 59.4ms\tremaining: 129ms\n",
      "63:\tlearn: 185.2993487\ttotal: 60.2ms\tremaining: 128ms\n",
      "64:\tlearn: 185.0349598\ttotal: 61.1ms\tremaining: 127ms\n",
      "65:\tlearn: 183.9773430\ttotal: 61.9ms\tremaining: 126ms\n",
      "66:\tlearn: 183.4463166\ttotal: 62.7ms\tremaining: 124ms\n",
      "67:\tlearn: 181.6627740\ttotal: 63.4ms\tremaining: 123ms\n",
      "68:\tlearn: 179.8785055\ttotal: 64.1ms\tremaining: 122ms\n",
      "69:\tlearn: 179.6737527\ttotal: 65ms\tremaining: 121ms\n",
      "70:\tlearn: 177.0830981\ttotal: 65.8ms\tremaining: 120ms\n",
      "71:\tlearn: 176.5917790\ttotal: 66.7ms\tremaining: 119ms\n",
      "72:\tlearn: 176.1240502\ttotal: 67.5ms\tremaining: 117ms\n",
      "73:\tlearn: 174.4828953\ttotal: 68.3ms\tremaining: 116ms\n",
      "74:\tlearn: 173.4220482\ttotal: 69.1ms\tremaining: 115ms\n",
      "75:\tlearn: 171.9903405\ttotal: 69.8ms\tremaining: 114ms\n",
      "76:\tlearn: 171.5803116\ttotal: 70.7ms\tremaining: 113ms\n",
      "77:\tlearn: 170.1411594\ttotal: 71.5ms\tremaining: 112ms\n",
      "78:\tlearn: 167.9868133\ttotal: 72.3ms\tremaining: 111ms\n",
      "79:\tlearn: 166.5304475\ttotal: 73.1ms\tremaining: 110ms\n",
      "80:\tlearn: 166.1741622\ttotal: 73.9ms\tremaining: 109ms\n",
      "81:\tlearn: 165.8411762\ttotal: 74.7ms\tremaining: 107ms\n",
      "82:\tlearn: 165.1041583\ttotal: 75.6ms\tremaining: 107ms\n",
      "83:\tlearn: 163.5641543\ttotal: 76.4ms\tremaining: 106ms\n",
      "84:\tlearn: 163.2003311\ttotal: 77.3ms\tremaining: 105ms\n",
      "85:\tlearn: 161.1781702\ttotal: 78.2ms\tremaining: 104ms\n",
      "86:\tlearn: 160.8727658\ttotal: 79.1ms\tremaining: 103ms\n",
      "87:\tlearn: 159.7954077\ttotal: 80ms\tremaining: 102ms\n",
      "88:\tlearn: 158.8759132\ttotal: 80.7ms\tremaining: 101ms\n",
      "89:\tlearn: 158.4831323\ttotal: 81.5ms\tremaining: 99.6ms\n",
      "90:\tlearn: 157.4808127\ttotal: 82.3ms\tremaining: 98.6ms\n",
      "91:\tlearn: 157.1703230\ttotal: 83ms\tremaining: 97.4ms\n",
      "92:\tlearn: 155.3184755\ttotal: 83.7ms\tremaining: 96.3ms\n",
      "93:\tlearn: 154.3988879\ttotal: 84.5ms\tremaining: 95.3ms\n",
      "94:\tlearn: 153.4591935\ttotal: 85.3ms\tremaining: 94.2ms\n",
      "95:\tlearn: 153.1206893\ttotal: 86ms\tremaining: 93.2ms\n",
      "96:\tlearn: 152.7897351\ttotal: 86.8ms\tremaining: 92.2ms\n",
      "97:\tlearn: 150.9293164\ttotal: 87.5ms\tremaining: 91.1ms\n",
      "98:\tlearn: 149.7127171\ttotal: 88.3ms\tremaining: 90.1ms\n",
      "99:\tlearn: 149.5089324\ttotal: 89.2ms\tremaining: 89.2ms\n",
      "100:\tlearn: 149.3156312\ttotal: 89.8ms\tremaining: 88.1ms\n",
      "101:\tlearn: 147.7226718\ttotal: 90.7ms\tremaining: 87.2ms\n",
      "102:\tlearn: 146.7692282\ttotal: 91.4ms\tremaining: 86.1ms\n",
      "103:\tlearn: 145.9084983\ttotal: 92.2ms\tremaining: 85.1ms\n",
      "104:\tlearn: 144.8780979\ttotal: 93.1ms\tremaining: 84.2ms\n",
      "105:\tlearn: 143.8090268\ttotal: 93.9ms\tremaining: 83.2ms\n",
      "106:\tlearn: 143.1272551\ttotal: 94.6ms\tremaining: 82.3ms\n",
      "107:\tlearn: 142.4863018\ttotal: 95.4ms\tremaining: 81.3ms\n",
      "108:\tlearn: 141.4861279\ttotal: 96.2ms\tremaining: 80.3ms\n",
      "109:\tlearn: 140.8689530\ttotal: 97ms\tremaining: 79.4ms\n",
      "110:\tlearn: 140.4009570\ttotal: 97.7ms\tremaining: 78.3ms\n",
      "111:\tlearn: 140.0344439\ttotal: 98.5ms\tremaining: 77.4ms\n",
      "112:\tlearn: 139.4290096\ttotal: 99.2ms\tremaining: 76.4ms\n",
      "113:\tlearn: 139.2008874\ttotal: 99.9ms\tremaining: 75.4ms\n",
      "114:\tlearn: 138.6000188\ttotal: 101ms\tremaining: 74.5ms\n",
      "115:\tlearn: 138.3962706\ttotal: 101ms\tremaining: 73.5ms\n",
      "116:\tlearn: 138.1737256\ttotal: 102ms\tremaining: 72.6ms\n",
      "117:\tlearn: 137.6342361\ttotal: 103ms\tremaining: 71.6ms\n",
      "118:\tlearn: 136.7119826\ttotal: 104ms\tremaining: 70.6ms\n",
      "119:\tlearn: 135.3057402\ttotal: 105ms\tremaining: 69.7ms\n",
      "120:\tlearn: 134.4797815\ttotal: 105ms\tremaining: 68.7ms\n",
      "121:\tlearn: 133.0774331\ttotal: 106ms\tremaining: 67.7ms\n",
      "122:\tlearn: 131.8739238\ttotal: 107ms\tremaining: 66.8ms\n",
      "123:\tlearn: 131.3203837\ttotal: 107ms\tremaining: 65.9ms\n",
      "124:\tlearn: 130.8294604\ttotal: 108ms\tremaining: 64.9ms\n",
      "125:\tlearn: 130.6107905\ttotal: 109ms\tremaining: 64ms\n",
      "126:\tlearn: 130.1614924\ttotal: 110ms\tremaining: 63ms\n",
      "127:\tlearn: 129.3166972\ttotal: 110ms\tremaining: 62.1ms\n",
      "128:\tlearn: 129.1038672\ttotal: 111ms\tremaining: 61.2ms\n",
      "129:\tlearn: 128.9594874\ttotal: 112ms\tremaining: 60.3ms\n",
      "130:\tlearn: 128.1849638\ttotal: 113ms\tremaining: 59.4ms\n",
      "131:\tlearn: 128.0307033\ttotal: 113ms\tremaining: 58.4ms\n",
      "132:\tlearn: 127.3373882\ttotal: 114ms\tremaining: 57.5ms\n",
      "133:\tlearn: 126.2856989\ttotal: 115ms\tremaining: 56.6ms\n",
      "134:\tlearn: 126.1379832\ttotal: 116ms\tremaining: 55.7ms\n",
      "135:\tlearn: 126.0180019\ttotal: 117ms\tremaining: 54.8ms\n",
      "136:\tlearn: 125.8843963\ttotal: 117ms\tremaining: 54ms\n",
      "137:\tlearn: 125.7576333\ttotal: 118ms\tremaining: 53.1ms\n",
      "138:\tlearn: 125.4794581\ttotal: 119ms\tremaining: 52.2ms\n",
      "139:\tlearn: 124.7920270\ttotal: 120ms\tremaining: 51.3ms\n",
      "140:\tlearn: 124.6530278\ttotal: 120ms\tremaining: 50.4ms\n",
      "141:\tlearn: 123.4539010\ttotal: 121ms\tremaining: 49.5ms\n",
      "142:\tlearn: 122.8980001\ttotal: 122ms\tremaining: 48.6ms\n",
      "143:\tlearn: 122.0911177\ttotal: 123ms\tremaining: 47.7ms\n",
      "144:\tlearn: 121.1209154\ttotal: 123ms\tremaining: 46.8ms\n",
      "145:\tlearn: 120.1613553\ttotal: 124ms\tremaining: 45.9ms\n",
      "146:\tlearn: 119.1894727\ttotal: 125ms\tremaining: 45ms\n",
      "147:\tlearn: 118.0325732\ttotal: 126ms\tremaining: 44.1ms\n",
      "148:\tlearn: 117.9138240\ttotal: 126ms\tremaining: 43.2ms\n",
      "149:\tlearn: 117.3831462\ttotal: 127ms\tremaining: 42.3ms\n",
      "150:\tlearn: 116.8475244\ttotal: 128ms\tremaining: 41.5ms\n",
      "151:\tlearn: 116.3821954\ttotal: 129ms\tremaining: 40.6ms\n",
      "152:\tlearn: 115.5293176\ttotal: 129ms\tremaining: 39.7ms\n",
      "153:\tlearn: 115.0975175\ttotal: 130ms\tremaining: 38.9ms\n",
      "154:\tlearn: 114.0649594\ttotal: 131ms\tremaining: 38ms\n",
      "155:\tlearn: 113.2562326\ttotal: 132ms\tremaining: 37.1ms\n",
      "156:\tlearn: 112.7557871\ttotal: 132ms\tremaining: 36.2ms\n",
      "157:\tlearn: 112.5657565\ttotal: 133ms\tremaining: 35.3ms\n",
      "158:\tlearn: 112.3541525\ttotal: 134ms\tremaining: 34.5ms\n",
      "159:\tlearn: 111.8527982\ttotal: 134ms\tremaining: 33.6ms\n",
      "160:\tlearn: 111.1619644\ttotal: 135ms\tremaining: 32.7ms\n",
      "161:\tlearn: 110.3588257\ttotal: 136ms\tremaining: 31.9ms\n",
      "162:\tlearn: 109.6664293\ttotal: 137ms\tremaining: 31ms\n",
      "163:\tlearn: 109.5577303\ttotal: 137ms\tremaining: 30.1ms\n",
      "164:\tlearn: 109.0570285\ttotal: 138ms\tremaining: 29.3ms\n",
      "165:\tlearn: 108.7601467\ttotal: 139ms\tremaining: 28.4ms\n",
      "166:\tlearn: 108.0448620\ttotal: 140ms\tremaining: 27.6ms\n",
      "167:\tlearn: 107.5593372\ttotal: 140ms\tremaining: 26.7ms\n",
      "168:\tlearn: 106.3862999\ttotal: 141ms\tremaining: 25.9ms\n",
      "169:\tlearn: 106.2180807\ttotal: 142ms\tremaining: 25ms\n",
      "170:\tlearn: 106.0695603\ttotal: 142ms\tremaining: 24.1ms\n",
      "171:\tlearn: 105.6940213\ttotal: 144ms\tremaining: 23.4ms\n",
      "172:\tlearn: 104.7598987\ttotal: 144ms\tremaining: 22.5ms\n",
      "173:\tlearn: 104.6589992\ttotal: 145ms\tremaining: 21.7ms\n",
      "174:\tlearn: 103.7203657\ttotal: 146ms\tremaining: 20.9ms\n",
      "175:\tlearn: 103.2660987\ttotal: 147ms\tremaining: 20.1ms\n",
      "176:\tlearn: 103.0926213\ttotal: 148ms\tremaining: 19.3ms\n",
      "177:\tlearn: 102.6925209\ttotal: 149ms\tremaining: 18.4ms\n",
      "178:\tlearn: 102.1655154\ttotal: 150ms\tremaining: 17.6ms\n",
      "179:\tlearn: 101.8273108\ttotal: 151ms\tremaining: 16.7ms\n",
      "180:\tlearn: 101.7264515\ttotal: 151ms\tremaining: 15.9ms\n",
      "181:\tlearn: 101.1102333\ttotal: 152ms\tremaining: 15.1ms\n",
      "182:\tlearn: 100.7880364\ttotal: 153ms\tremaining: 14.2ms\n",
      "183:\tlearn: 100.6673014\ttotal: 154ms\tremaining: 13.4ms\n",
      "184:\tlearn: 100.0153055\ttotal: 155ms\tremaining: 12.6ms\n",
      "185:\tlearn: 99.7667281\ttotal: 156ms\tremaining: 11.7ms\n",
      "186:\tlearn: 99.1860593\ttotal: 157ms\tremaining: 10.9ms\n",
      "187:\tlearn: 99.0408133\ttotal: 157ms\tremaining: 10.1ms\n",
      "188:\tlearn: 98.9030718\ttotal: 158ms\tremaining: 9.21ms\n",
      "189:\tlearn: 97.4513860\ttotal: 159ms\tremaining: 8.38ms\n",
      "190:\tlearn: 97.3322959\ttotal: 160ms\tremaining: 7.55ms\n",
      "191:\tlearn: 97.1950848\ttotal: 161ms\tremaining: 6.7ms\n",
      "192:\tlearn: 96.6789532\ttotal: 162ms\tremaining: 5.86ms\n",
      "193:\tlearn: 96.5506179\ttotal: 162ms\tremaining: 5.02ms\n",
      "194:\tlearn: 95.6635039\ttotal: 163ms\tremaining: 4.18ms\n",
      "195:\tlearn: 94.8850777\ttotal: 164ms\tremaining: 3.34ms\n",
      "196:\tlearn: 94.1624589\ttotal: 165ms\tremaining: 2.51ms\n",
      "197:\tlearn: 93.8220662\ttotal: 165ms\tremaining: 1.67ms\n",
      "198:\tlearn: 93.7300351\ttotal: 166ms\tremaining: 834us\n",
      "199:\tlearn: 93.3339522\ttotal: 167ms\tremaining: 0us\n"
     ]
    }
   ],
   "source": [
    "catb_cv_model = GridSearchCV(catb_model, \n",
    "                           catb_params, \n",
    "                           cv = 5, \n",
    "                           n_jobs = -1, \n",
    "                           verbose = 2).fit(X_train, y_train)"
   ]
  },
  {
   "cell_type": "code",
   "execution_count": 64,
   "id": "792f1a6f-586c-4991-9c03-f6bdb947589d",
   "metadata": {},
   "outputs": [
    {
     "data": {
      "text/plain": [
       "{'depth': 3, 'iterations': 200, 'learning_rate': 0.1}"
      ]
     },
     "execution_count": 64,
     "metadata": {},
     "output_type": "execute_result"
    }
   ],
   "source": [
    "catb_cv_model.best_params_"
   ]
  },
  {
   "cell_type": "code",
   "execution_count": 65,
   "id": "a150dc58-fb7b-45a2-8f58-fe607a4ea6b0",
   "metadata": {
    "collapsed": true,
    "jupyter": {
     "outputs_hidden": true
    },
    "tags": []
   },
   "outputs": [
    {
     "name": "stdout",
     "output_type": "stream",
     "text": [
      "0:\tlearn: 425.7900818\ttotal: 957us\tremaining: 191ms\n",
      "1:\tlearn: 404.8723520\ttotal: 2.07ms\tremaining: 205ms\n",
      "2:\tlearn: 387.4057666\ttotal: 3.01ms\tremaining: 198ms\n",
      "3:\tlearn: 372.2801584\ttotal: 3.96ms\tremaining: 194ms\n",
      "4:\tlearn: 358.9204229\ttotal: 4.84ms\tremaining: 189ms\n",
      "5:\tlearn: 347.0083933\ttotal: 5.6ms\tremaining: 181ms\n",
      "6:\tlearn: 336.0130818\ttotal: 6.44ms\tremaining: 177ms\n",
      "7:\tlearn: 324.3923300\ttotal: 7.38ms\tremaining: 177ms\n",
      "8:\tlearn: 314.8690957\ttotal: 8.21ms\tremaining: 174ms\n",
      "9:\tlearn: 308.5075563\ttotal: 9ms\tremaining: 171ms\n",
      "10:\tlearn: 298.8587285\ttotal: 9.82ms\tremaining: 169ms\n",
      "11:\tlearn: 294.7655438\ttotal: 10.7ms\tremaining: 167ms\n",
      "12:\tlearn: 288.0697862\ttotal: 11.5ms\tremaining: 166ms\n",
      "13:\tlearn: 282.6697154\ttotal: 12.3ms\tremaining: 163ms\n",
      "14:\tlearn: 277.6121667\ttotal: 13.1ms\tremaining: 162ms\n",
      "15:\tlearn: 273.4383979\ttotal: 13.9ms\tremaining: 160ms\n",
      "16:\tlearn: 269.1556201\ttotal: 14.8ms\tremaining: 159ms\n",
      "17:\tlearn: 264.8098704\ttotal: 15.7ms\tremaining: 159ms\n",
      "18:\tlearn: 261.6700768\ttotal: 16.7ms\tremaining: 159ms\n",
      "19:\tlearn: 257.3961290\ttotal: 17.5ms\tremaining: 158ms\n",
      "20:\tlearn: 252.2691509\ttotal: 18.4ms\tremaining: 157ms\n",
      "21:\tlearn: 249.0686482\ttotal: 20ms\tremaining: 161ms\n",
      "22:\tlearn: 244.1881041\ttotal: 20.8ms\tremaining: 160ms\n",
      "23:\tlearn: 242.1696687\ttotal: 21.7ms\tremaining: 159ms\n",
      "24:\tlearn: 239.2131476\ttotal: 22.5ms\tremaining: 157ms\n",
      "25:\tlearn: 236.6883901\ttotal: 23.3ms\tremaining: 156ms\n",
      "26:\tlearn: 234.5295613\ttotal: 24.6ms\tremaining: 157ms\n",
      "27:\tlearn: 231.7788834\ttotal: 25.4ms\tremaining: 156ms\n",
      "28:\tlearn: 228.8020330\ttotal: 26.3ms\tremaining: 155ms\n",
      "29:\tlearn: 226.8420565\ttotal: 27.1ms\tremaining: 154ms\n",
      "30:\tlearn: 224.0686558\ttotal: 27.9ms\tremaining: 152ms\n",
      "31:\tlearn: 222.6644699\ttotal: 28.8ms\tremaining: 151ms\n",
      "32:\tlearn: 221.6889573\ttotal: 29.7ms\tremaining: 151ms\n",
      "33:\tlearn: 220.5171653\ttotal: 30.5ms\tremaining: 149ms\n",
      "34:\tlearn: 217.7686033\ttotal: 31.4ms\tremaining: 148ms\n",
      "35:\tlearn: 214.8462789\ttotal: 32.2ms\tremaining: 147ms\n",
      "36:\tlearn: 214.4799251\ttotal: 33.1ms\tremaining: 146ms\n",
      "37:\tlearn: 212.3480429\ttotal: 34ms\tremaining: 145ms\n",
      "38:\tlearn: 210.0040644\ttotal: 34.9ms\tremaining: 144ms\n",
      "39:\tlearn: 208.3086913\ttotal: 35.7ms\tremaining: 143ms\n",
      "40:\tlearn: 207.5469119\ttotal: 36.5ms\tremaining: 142ms\n",
      "41:\tlearn: 205.9351113\ttotal: 37.4ms\tremaining: 141ms\n",
      "42:\tlearn: 205.3580824\ttotal: 38.2ms\tremaining: 140ms\n",
      "43:\tlearn: 204.6204266\ttotal: 39ms\tremaining: 138ms\n",
      "44:\tlearn: 202.5023220\ttotal: 39.8ms\tremaining: 137ms\n",
      "45:\tlearn: 201.4347853\ttotal: 40.8ms\tremaining: 137ms\n",
      "46:\tlearn: 200.8752553\ttotal: 41.5ms\tremaining: 135ms\n",
      "47:\tlearn: 200.4047344\ttotal: 42.3ms\tremaining: 134ms\n",
      "48:\tlearn: 197.5433004\ttotal: 43.2ms\tremaining: 133ms\n",
      "49:\tlearn: 194.6943292\ttotal: 43.9ms\tremaining: 132ms\n",
      "50:\tlearn: 194.3011982\ttotal: 44.7ms\tremaining: 131ms\n",
      "51:\tlearn: 193.4011843\ttotal: 45.4ms\tremaining: 129ms\n",
      "52:\tlearn: 193.0109753\ttotal: 46.1ms\tremaining: 128ms\n",
      "53:\tlearn: 192.6071142\ttotal: 47.1ms\tremaining: 127ms\n",
      "54:\tlearn: 191.9666153\ttotal: 47.9ms\tremaining: 126ms\n",
      "55:\tlearn: 191.5789727\ttotal: 48.6ms\tremaining: 125ms\n",
      "56:\tlearn: 190.7186284\ttotal: 49.4ms\tremaining: 124ms\n",
      "57:\tlearn: 190.4543087\ttotal: 50.1ms\tremaining: 123ms\n",
      "58:\tlearn: 190.1336317\ttotal: 50.9ms\tremaining: 122ms\n",
      "59:\tlearn: 188.2286484\ttotal: 51.6ms\tremaining: 120ms\n",
      "60:\tlearn: 187.7652417\ttotal: 52.4ms\tremaining: 119ms\n",
      "61:\tlearn: 187.4227950\ttotal: 53.3ms\tremaining: 119ms\n",
      "62:\tlearn: 186.9289182\ttotal: 54.1ms\tremaining: 118ms\n",
      "63:\tlearn: 185.2993487\ttotal: 55ms\tremaining: 117ms\n",
      "64:\tlearn: 185.0349598\ttotal: 55.7ms\tremaining: 116ms\n",
      "65:\tlearn: 183.9773430\ttotal: 56.4ms\tremaining: 115ms\n",
      "66:\tlearn: 183.4463166\ttotal: 57.2ms\tremaining: 113ms\n",
      "67:\tlearn: 181.6627740\ttotal: 57.9ms\tremaining: 112ms\n",
      "68:\tlearn: 179.8785055\ttotal: 58.7ms\tremaining: 111ms\n",
      "69:\tlearn: 179.6737527\ttotal: 59.5ms\tremaining: 110ms\n",
      "70:\tlearn: 177.0830981\ttotal: 60.2ms\tremaining: 109ms\n",
      "71:\tlearn: 176.5917790\ttotal: 61.1ms\tremaining: 109ms\n",
      "72:\tlearn: 176.1240502\ttotal: 61.9ms\tremaining: 108ms\n",
      "73:\tlearn: 174.4828953\ttotal: 62.7ms\tremaining: 107ms\n",
      "74:\tlearn: 173.4220482\ttotal: 63.5ms\tremaining: 106ms\n",
      "75:\tlearn: 171.9903405\ttotal: 64.3ms\tremaining: 105ms\n",
      "76:\tlearn: 171.5803116\ttotal: 65ms\tremaining: 104ms\n",
      "77:\tlearn: 170.1411594\ttotal: 65.7ms\tremaining: 103ms\n",
      "78:\tlearn: 167.9868133\ttotal: 66.5ms\tremaining: 102ms\n",
      "79:\tlearn: 166.5304475\ttotal: 67.6ms\tremaining: 101ms\n",
      "80:\tlearn: 166.1741622\ttotal: 68.3ms\tremaining: 100ms\n",
      "81:\tlearn: 165.8411762\ttotal: 69ms\tremaining: 99.3ms\n",
      "82:\tlearn: 165.1041583\ttotal: 69.7ms\tremaining: 98.3ms\n",
      "83:\tlearn: 163.5641543\ttotal: 70.4ms\tremaining: 97.2ms\n",
      "84:\tlearn: 163.2003311\ttotal: 71.1ms\tremaining: 96.2ms\n",
      "85:\tlearn: 161.1781702\ttotal: 71.8ms\tremaining: 95.2ms\n",
      "86:\tlearn: 160.8727658\ttotal: 72.6ms\tremaining: 94.3ms\n",
      "87:\tlearn: 159.7954077\ttotal: 73.3ms\tremaining: 93.3ms\n",
      "88:\tlearn: 158.8759132\ttotal: 74.2ms\tremaining: 92.6ms\n",
      "89:\tlearn: 158.4831323\ttotal: 74.9ms\tremaining: 91.6ms\n",
      "90:\tlearn: 157.4808127\ttotal: 75.8ms\tremaining: 90.7ms\n",
      "91:\tlearn: 157.1703230\ttotal: 76.6ms\tremaining: 89.9ms\n",
      "92:\tlearn: 155.3184755\ttotal: 77.3ms\tremaining: 89ms\n",
      "93:\tlearn: 154.3988879\ttotal: 78ms\tremaining: 88ms\n",
      "94:\tlearn: 153.4591935\ttotal: 78.7ms\tremaining: 87ms\n",
      "95:\tlearn: 153.1206893\ttotal: 79.5ms\tremaining: 86.1ms\n",
      "96:\tlearn: 152.7897351\ttotal: 80.4ms\tremaining: 85.3ms\n",
      "97:\tlearn: 150.9293164\ttotal: 81.2ms\tremaining: 84.5ms\n",
      "98:\tlearn: 149.7127171\ttotal: 81.9ms\tremaining: 83.6ms\n",
      "99:\tlearn: 149.5089324\ttotal: 82.7ms\tremaining: 82.7ms\n",
      "100:\tlearn: 149.3156312\ttotal: 84ms\tremaining: 82.3ms\n",
      "101:\tlearn: 147.7226718\ttotal: 84.7ms\tremaining: 81.4ms\n",
      "102:\tlearn: 146.7692282\ttotal: 85.4ms\tremaining: 80.4ms\n",
      "103:\tlearn: 145.9084983\ttotal: 86.1ms\tremaining: 79.5ms\n",
      "104:\tlearn: 144.8780979\ttotal: 86.8ms\tremaining: 78.5ms\n",
      "105:\tlearn: 143.8090268\ttotal: 87.7ms\tremaining: 77.8ms\n",
      "106:\tlearn: 143.1272551\ttotal: 88.7ms\tremaining: 77.1ms\n",
      "107:\tlearn: 142.4863018\ttotal: 89.9ms\tremaining: 76.6ms\n",
      "108:\tlearn: 141.4861279\ttotal: 90.7ms\tremaining: 75.7ms\n",
      "109:\tlearn: 140.8689530\ttotal: 91.9ms\tremaining: 75.2ms\n",
      "110:\tlearn: 140.4009570\ttotal: 92.7ms\tremaining: 74.3ms\n",
      "111:\tlearn: 140.0344439\ttotal: 93.5ms\tremaining: 73.5ms\n",
      "112:\tlearn: 139.4290096\ttotal: 94.3ms\tremaining: 72.6ms\n",
      "113:\tlearn: 139.2008874\ttotal: 95.1ms\tremaining: 71.8ms\n",
      "114:\tlearn: 138.6000188\ttotal: 96ms\tremaining: 71ms\n",
      "115:\tlearn: 138.3962706\ttotal: 96.7ms\tremaining: 70ms\n",
      "116:\tlearn: 138.1737256\ttotal: 97.3ms\tremaining: 69ms\n",
      "117:\tlearn: 137.6342361\ttotal: 98.1ms\tremaining: 68.2ms\n",
      "118:\tlearn: 136.7119826\ttotal: 98.8ms\tremaining: 67.3ms\n",
      "119:\tlearn: 135.3057402\ttotal: 99.5ms\tremaining: 66.3ms\n",
      "120:\tlearn: 134.4797815\ttotal: 100ms\tremaining: 65.4ms\n",
      "121:\tlearn: 133.0774331\ttotal: 102ms\tremaining: 65.2ms\n",
      "122:\tlearn: 131.8739238\ttotal: 115ms\tremaining: 72ms\n",
      "123:\tlearn: 131.3203837\ttotal: 116ms\tremaining: 71.3ms\n",
      "124:\tlearn: 130.8294604\ttotal: 118ms\tremaining: 70.8ms\n",
      "125:\tlearn: 130.6107905\ttotal: 119ms\tremaining: 69.9ms\n",
      "126:\tlearn: 130.1614924\ttotal: 120ms\tremaining: 69.1ms\n",
      "127:\tlearn: 129.3166972\ttotal: 121ms\tremaining: 68.2ms\n",
      "128:\tlearn: 129.1038672\ttotal: 123ms\tremaining: 67.7ms\n",
      "129:\tlearn: 128.9594874\ttotal: 128ms\tremaining: 69.1ms\n",
      "130:\tlearn: 128.1849638\ttotal: 130ms\tremaining: 68.7ms\n",
      "131:\tlearn: 128.0307033\ttotal: 133ms\tremaining: 68.5ms\n",
      "132:\tlearn: 127.3373882\ttotal: 134ms\tremaining: 67.5ms\n",
      "133:\tlearn: 126.2856989\ttotal: 135ms\tremaining: 66.4ms\n",
      "134:\tlearn: 126.1379832\ttotal: 136ms\tremaining: 65.3ms\n",
      "135:\tlearn: 126.0180019\ttotal: 136ms\tremaining: 64.1ms\n",
      "136:\tlearn: 125.8843963\ttotal: 137ms\tremaining: 63ms\n",
      "137:\tlearn: 125.7576333\ttotal: 138ms\tremaining: 61.8ms\n",
      "138:\tlearn: 125.4794581\ttotal: 138ms\tremaining: 60.8ms\n",
      "139:\tlearn: 124.7920270\ttotal: 139ms\tremaining: 59.6ms\n",
      "140:\tlearn: 124.6530278\ttotal: 140ms\tremaining: 58.5ms\n",
      "141:\tlearn: 123.4539010\ttotal: 140ms\tremaining: 57.4ms\n",
      "142:\tlearn: 122.8980001\ttotal: 141ms\tremaining: 56.3ms\n",
      "143:\tlearn: 122.0911177\ttotal: 142ms\tremaining: 55.1ms\n",
      "144:\tlearn: 121.1209154\ttotal: 142ms\tremaining: 54ms\n",
      "145:\tlearn: 120.1613553\ttotal: 143ms\tremaining: 52.9ms\n",
      "146:\tlearn: 119.1894727\ttotal: 144ms\tremaining: 51.8ms\n",
      "147:\tlearn: 118.0325732\ttotal: 144ms\tremaining: 50.7ms\n",
      "148:\tlearn: 117.9138240\ttotal: 145ms\tremaining: 49.7ms\n",
      "149:\tlearn: 117.3831462\ttotal: 146ms\tremaining: 48.6ms\n",
      "150:\tlearn: 116.8475244\ttotal: 147ms\tremaining: 47.6ms\n",
      "151:\tlearn: 116.3821954\ttotal: 147ms\tremaining: 46.5ms\n",
      "152:\tlearn: 115.5293176\ttotal: 148ms\tremaining: 45.5ms\n",
      "153:\tlearn: 115.0975175\ttotal: 149ms\tremaining: 44.4ms\n",
      "154:\tlearn: 114.0649594\ttotal: 149ms\tremaining: 43.4ms\n",
      "155:\tlearn: 113.2562326\ttotal: 150ms\tremaining: 42.3ms\n",
      "156:\tlearn: 112.7557871\ttotal: 151ms\tremaining: 41.3ms\n",
      "157:\tlearn: 112.5657565\ttotal: 151ms\tremaining: 40.3ms\n",
      "158:\tlearn: 112.3541525\ttotal: 152ms\tremaining: 39.2ms\n",
      "159:\tlearn: 111.8527982\ttotal: 153ms\tremaining: 38.2ms\n",
      "160:\tlearn: 111.1619644\ttotal: 154ms\tremaining: 37.2ms\n",
      "161:\tlearn: 110.3588257\ttotal: 154ms\tremaining: 36.2ms\n",
      "162:\tlearn: 109.6664293\ttotal: 155ms\tremaining: 35.2ms\n",
      "163:\tlearn: 109.5577303\ttotal: 156ms\tremaining: 34.1ms\n",
      "164:\tlearn: 109.0570285\ttotal: 156ms\tremaining: 33.1ms\n",
      "165:\tlearn: 108.7601467\ttotal: 157ms\tremaining: 32.2ms\n",
      "166:\tlearn: 108.0448620\ttotal: 158ms\tremaining: 31.2ms\n",
      "167:\tlearn: 107.5593372\ttotal: 159ms\tremaining: 30.3ms\n",
      "168:\tlearn: 106.3862999\ttotal: 160ms\tremaining: 29.4ms\n",
      "169:\tlearn: 106.2180807\ttotal: 161ms\tremaining: 28.4ms\n",
      "170:\tlearn: 106.0695603\ttotal: 162ms\tremaining: 27.4ms\n",
      "171:\tlearn: 105.6940213\ttotal: 162ms\tremaining: 26.4ms\n",
      "172:\tlearn: 104.7598987\ttotal: 163ms\tremaining: 25.5ms\n",
      "173:\tlearn: 104.6589992\ttotal: 164ms\tremaining: 24.5ms\n",
      "174:\tlearn: 103.7203657\ttotal: 165ms\tremaining: 23.5ms\n",
      "175:\tlearn: 103.2660987\ttotal: 165ms\tremaining: 22.6ms\n",
      "176:\tlearn: 103.0926213\ttotal: 166ms\tremaining: 21.6ms\n",
      "177:\tlearn: 102.6925209\ttotal: 167ms\tremaining: 20.6ms\n",
      "178:\tlearn: 102.1655154\ttotal: 168ms\tremaining: 19.7ms\n",
      "179:\tlearn: 101.8273108\ttotal: 168ms\tremaining: 18.7ms\n",
      "180:\tlearn: 101.7264515\ttotal: 169ms\tremaining: 17.7ms\n",
      "181:\tlearn: 101.1102333\ttotal: 169ms\tremaining: 16.8ms\n",
      "182:\tlearn: 100.7880364\ttotal: 170ms\tremaining: 15.8ms\n",
      "183:\tlearn: 100.6673014\ttotal: 171ms\tremaining: 14.9ms\n",
      "184:\tlearn: 100.0153055\ttotal: 172ms\tremaining: 13.9ms\n",
      "185:\tlearn: 99.7667281\ttotal: 172ms\tremaining: 13ms\n",
      "186:\tlearn: 99.1860593\ttotal: 173ms\tremaining: 12ms\n",
      "187:\tlearn: 99.0408133\ttotal: 174ms\tremaining: 11.1ms\n",
      "188:\tlearn: 98.9030718\ttotal: 175ms\tremaining: 10.2ms\n",
      "189:\tlearn: 97.4513860\ttotal: 175ms\tremaining: 9.23ms\n",
      "190:\tlearn: 97.3322959\ttotal: 176ms\tremaining: 8.29ms\n",
      "191:\tlearn: 97.1950848\ttotal: 177ms\tremaining: 7.36ms\n",
      "192:\tlearn: 96.6789532\ttotal: 177ms\tremaining: 6.43ms\n",
      "193:\tlearn: 96.5506179\ttotal: 178ms\tremaining: 5.51ms\n",
      "194:\tlearn: 95.6635039\ttotal: 179ms\tremaining: 4.59ms\n",
      "195:\tlearn: 94.8850777\ttotal: 180ms\tremaining: 3.66ms\n",
      "196:\tlearn: 94.1624589\ttotal: 180ms\tremaining: 2.75ms\n",
      "197:\tlearn: 93.8220662\ttotal: 181ms\tremaining: 1.83ms\n",
      "198:\tlearn: 93.7300351\ttotal: 182ms\tremaining: 912us\n",
      "199:\tlearn: 93.3339522\ttotal: 182ms\tremaining: 0us\n"
     ]
    }
   ],
   "source": [
    "catb_tuned = CatBoostRegressor(depth = 3, iterations = 200, learning_rate = 0.1).fit(X_train, y_train)"
   ]
  },
  {
   "cell_type": "code",
   "execution_count": 66,
   "id": "7e41a91b-ba43-48e2-a2e1-ddaff860573b",
   "metadata": {},
   "outputs": [],
   "source": [
    "y_pred = catb_tuned.predict(X_test)"
   ]
  },
  {
   "cell_type": "code",
   "execution_count": 67,
   "id": "269dd13c-06bd-43ac-b129-f03f40c4ea9c",
   "metadata": {},
   "outputs": [
    {
     "data": {
      "text/plain": [
       "344.3125832615482"
      ]
     },
     "execution_count": 67,
     "metadata": {},
     "output_type": "execute_result"
    }
   ],
   "source": [
    "np.sqrt(mean_squared_error(y_test, y_pred))"
   ]
  },
  {
   "cell_type": "markdown",
   "id": "15206712-ad6b-4120-98d8-7577ecd7e402",
   "metadata": {},
   "source": [
    "# MAKİNE ÖĞRENMESİ GÖREVLERİNİN OTOMATİKLEŞTİRİLMESİ"
   ]
  },
  {
   "cell_type": "code",
   "execution_count": 80,
   "id": "a1ebb520-1565-4b0a-8a7d-e6dac308a7d7",
   "metadata": {},
   "outputs": [],
   "source": [
    "df = pd.read_csv(\"Hitters.csv\")\n",
    "df = df.dropna()\n",
    "dms = pd.get_dummies(df[['League', 'Division', 'NewLeague']])"
   ]
  },
  {
   "cell_type": "code",
   "execution_count": 81,
   "id": "8858c80c-e26f-4776-b96e-6649ab0bbf37",
   "metadata": {},
   "outputs": [],
   "source": [
    "def compML(df, y, alg): #İlk argüman veri setimiz.İkincisi bağımlı değişkenimiz.Üçüncüsü algoritma ismi.\n",
    "    #train-test ayrimi\n",
    "    y = df[y]\n",
    "    X_ = df.drop(['Salary', 'League', 'Division', 'NewLeague'], axis=1).astype('float64')\n",
    "    X = pd.concat([X_, dms[['League_N', 'Division_W', 'NewLeague_N']]], axis=1)\n",
    "    X_train, X_test, y_train, y_test = train_test_split(X,y,test_size=0.25,random_state=42)\n",
    "    #modelleme\n",
    "    model = alg().fit(X_train, y_train)#ben buraya hangi algoritmayı girersem bu algoritma burada bu kısmı çalıştıracak.\n",
    "    y_pred = model.predict(X_test)#modeli tahmin ettik.\n",
    "    RMSE = np.sqrt(mean_squared_error(y_test, y_pred))#Hata kareler ortalaması karekökünü hesapladık.\n",
    "    model_ismi = alg.__name__\n",
    "    print(model_ismi, \"Modeli Test Hatası:\",RMSE)"
   ]
  },
  {
   "cell_type": "code",
   "execution_count": 82,
   "id": "9b250977-5735-4440-83af-79bb4da9b6ce",
   "metadata": {},
   "outputs": [
    {
     "name": "stdout",
     "output_type": "stream",
     "text": [
      "LGBMRegressor Modeli Test Hatası: 363.8712087611089\n"
     ]
    }
   ],
   "source": [
    "compML(df, \"Salary\", LGBMRegressor)"
   ]
  },
  {
   "cell_type": "code",
   "execution_count": 83,
   "id": "92edac3a-bd41-4ee3-8c94-1a5a8b5c0d31",
   "metadata": {},
   "outputs": [],
   "source": [
    "models = [LGBMRegressor, \n",
    "          XGBRegressor, \n",
    "          GradientBoostingRegressor, \n",
    "          RandomForestRegressor, \n",
    "          DecisionTreeRegressor,\n",
    "          MLPRegressor,\n",
    "          KNeighborsRegressor, \n",
    "          SVR]\n",
    "#ELİMİZDE BİR MODEL NESNESİ VAR VE ELİMİZDEKİ FONKSİYON BU MODELLERİN İÇİNDE GEZECEK."
   ]
  },
  {
   "cell_type": "code",
   "execution_count": 84,
   "id": "e3fa7551-a712-4865-8eeb-b830e64ea562",
   "metadata": {},
   "outputs": [
    {
     "name": "stdout",
     "output_type": "stream",
     "text": [
      "LGBMRegressor Modeli Test Hatası: 363.8712087611089\n",
      "XGBRegressor Modeli Test Hatası: 355.46515176059927\n",
      "GradientBoostingRegressor Modeli Test Hatası: 353.2348533661816\n",
      "RandomForestRegressor Modeli Test Hatası: 343.4646322420088\n",
      "DecisionTreeRegressor Modeli Test Hatası: 490.95552273821255\n",
      "MLPRegressor Modeli Test Hatası: 424.2975131755213\n",
      "KNeighborsRegressor Modeli Test Hatası: 426.6570764525201\n",
      "SVR Modeli Test Hatası: 460.0032657244849\n"
     ]
    }
   ],
   "source": [
    "for i in models:\n",
    "    compML(df, \"Salary\", i)"
   ]
  },
  {
   "cell_type": "code",
   "execution_count": null,
   "id": "175fc12e-5f44-41b9-8bdd-556d52bf910e",
   "metadata": {},
   "outputs": [],
   "source": []
  }
 ],
 "metadata": {
  "kernelspec": {
   "display_name": "Python 3 (ipykernel)",
   "language": "python",
   "name": "python3"
  },
  "language_info": {
   "codemirror_mode": {
    "name": "ipython",
    "version": 3
   },
   "file_extension": ".py",
   "mimetype": "text/x-python",
   "name": "python",
   "nbconvert_exporter": "python",
   "pygments_lexer": "ipython3",
   "version": "3.9.12"
  }
 },
 "nbformat": 4,
 "nbformat_minor": 5
}
