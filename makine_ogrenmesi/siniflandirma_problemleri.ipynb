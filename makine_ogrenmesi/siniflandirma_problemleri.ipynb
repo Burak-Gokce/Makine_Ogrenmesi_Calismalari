{
 "cells": [
  {
   "cell_type": "markdown",
   "id": "89e8d483-47fe-470f-996b-88af8ef25f01",
   "metadata": {},
   "source": [
    "# Sınıflandırma Modelleri"
   ]
  },
  {
   "cell_type": "markdown",
   "id": "3823f58b-2244-4d08-a550-7c550ed11c33",
   "metadata": {},
   "source": [
    "# Gerekli Kütüphane ve Fonksiyonlar"
   ]
  },
  {
   "cell_type": "code",
   "execution_count": 116,
   "id": "83514428-a9f7-43cf-9627-4783103a93ca",
   "metadata": {},
   "outputs": [],
   "source": [
    "import numpy as np\n",
    "import pandas as pd \n",
    "import statsmodels.api as sm\n",
    "import seaborn as sns\n",
    "import matplotlib.pyplot as plt\n",
    "from sklearn.preprocessing import scale, StandardScaler\n",
    "from sklearn.model_selection import train_test_split, GridSearchCV, cross_val_score\n",
    "from sklearn.metrics import confusion_matrix, accuracy_score, mean_squared_error, r2_score, roc_auc_score, roc_curve, classification_report\n",
    "from sklearn.linear_model import LogisticRegression\n",
    "from sklearn.neighbors import KNeighborsClassifier\n",
    "from sklearn.svm import SVC\n",
    "from sklearn.neural_network import MLPClassifier\n",
    "from sklearn.tree import DecisionTreeClassifier\n",
    "from sklearn.ensemble import RandomForestClassifier\n",
    "from sklearn.ensemble import GradientBoostingClassifier"
   ]
  },
  {
   "cell_type": "code",
   "execution_count": 117,
   "id": "53fa55f5-0518-40e4-a3e4-598bd543e285",
   "metadata": {},
   "outputs": [],
   "source": [
    "import warnings\n",
    "warnings.filterwarnings(\"ignore\", category=DeprecationWarning) \n",
    "warnings.filterwarnings(\"ignore\", category=FutureWarning) "
   ]
  },
  {
   "cell_type": "markdown",
   "id": "23bca4dc-4e99-4f31-b9a9-4155e0869b42",
   "metadata": {},
   "source": [
    "# Veri Seti Hikayesi ve Problem: Şeker Hastalığı Tahmini"
   ]
  },
  {
   "cell_type": "code",
   "execution_count": 118,
   "id": "f6169d10-2e87-480b-b3fa-6804b095ff1d",
   "metadata": {},
   "outputs": [],
   "source": [
    "df = pd.read_csv(\"./diabetes.csv\")"
   ]
  },
  {
   "cell_type": "code",
   "execution_count": 119,
   "id": "257da58b-8c4a-4f70-9386-0956deecd045",
   "metadata": {},
   "outputs": [
    {
     "data": {
      "text/html": [
       "<div>\n",
       "<style scoped>\n",
       "    .dataframe tbody tr th:only-of-type {\n",
       "        vertical-align: middle;\n",
       "    }\n",
       "\n",
       "    .dataframe tbody tr th {\n",
       "        vertical-align: top;\n",
       "    }\n",
       "\n",
       "    .dataframe thead th {\n",
       "        text-align: right;\n",
       "    }\n",
       "</style>\n",
       "<table border=\"1\" class=\"dataframe\">\n",
       "  <thead>\n",
       "    <tr style=\"text-align: right;\">\n",
       "      <th></th>\n",
       "      <th>Pregnancies</th>\n",
       "      <th>Glucose</th>\n",
       "      <th>BloodPressure</th>\n",
       "      <th>SkinThickness</th>\n",
       "      <th>Insulin</th>\n",
       "      <th>BMI</th>\n",
       "      <th>DiabetesPedigreeFunction</th>\n",
       "      <th>Age</th>\n",
       "      <th>Outcome</th>\n",
       "    </tr>\n",
       "  </thead>\n",
       "  <tbody>\n",
       "    <tr>\n",
       "      <th>0</th>\n",
       "      <td>6</td>\n",
       "      <td>148</td>\n",
       "      <td>72</td>\n",
       "      <td>35</td>\n",
       "      <td>0</td>\n",
       "      <td>33.6</td>\n",
       "      <td>0.627</td>\n",
       "      <td>50</td>\n",
       "      <td>1</td>\n",
       "    </tr>\n",
       "    <tr>\n",
       "      <th>1</th>\n",
       "      <td>1</td>\n",
       "      <td>85</td>\n",
       "      <td>66</td>\n",
       "      <td>29</td>\n",
       "      <td>0</td>\n",
       "      <td>26.6</td>\n",
       "      <td>0.351</td>\n",
       "      <td>31</td>\n",
       "      <td>0</td>\n",
       "    </tr>\n",
       "    <tr>\n",
       "      <th>2</th>\n",
       "      <td>8</td>\n",
       "      <td>183</td>\n",
       "      <td>64</td>\n",
       "      <td>0</td>\n",
       "      <td>0</td>\n",
       "      <td>23.3</td>\n",
       "      <td>0.672</td>\n",
       "      <td>32</td>\n",
       "      <td>1</td>\n",
       "    </tr>\n",
       "    <tr>\n",
       "      <th>3</th>\n",
       "      <td>1</td>\n",
       "      <td>89</td>\n",
       "      <td>66</td>\n",
       "      <td>23</td>\n",
       "      <td>94</td>\n",
       "      <td>28.1</td>\n",
       "      <td>0.167</td>\n",
       "      <td>21</td>\n",
       "      <td>0</td>\n",
       "    </tr>\n",
       "    <tr>\n",
       "      <th>4</th>\n",
       "      <td>0</td>\n",
       "      <td>137</td>\n",
       "      <td>40</td>\n",
       "      <td>35</td>\n",
       "      <td>168</td>\n",
       "      <td>43.1</td>\n",
       "      <td>2.288</td>\n",
       "      <td>33</td>\n",
       "      <td>1</td>\n",
       "    </tr>\n",
       "  </tbody>\n",
       "</table>\n",
       "</div>"
      ],
      "text/plain": [
       "   Pregnancies  Glucose  BloodPressure  SkinThickness  Insulin   BMI  \\\n",
       "0            6      148             72             35        0  33.6   \n",
       "1            1       85             66             29        0  26.6   \n",
       "2            8      183             64              0        0  23.3   \n",
       "3            1       89             66             23       94  28.1   \n",
       "4            0      137             40             35      168  43.1   \n",
       "\n",
       "   DiabetesPedigreeFunction  Age  Outcome  \n",
       "0                     0.627   50        1  \n",
       "1                     0.351   31        0  \n",
       "2                     0.672   32        1  \n",
       "3                     0.167   21        0  \n",
       "4                     2.288   33        1  "
      ]
     },
     "execution_count": 119,
     "metadata": {},
     "output_type": "execute_result"
    }
   ],
   "source": [
    "df.head()"
   ]
  },
  {
   "cell_type": "markdown",
   "id": "2fc2ce1e-11dc-4735-8568-83081149f6b5",
   "metadata": {},
   "source": [
    "# Lojistik Regresyon (Logistic Regression)"
   ]
  },
  {
   "cell_type": "markdown",
   "id": "a88f7cc1-1127-4b66-b71c-7e038a06c9bd",
   "metadata": {},
   "source": [
    "# Model & Tahmin"
   ]
  },
  {
   "cell_type": "code",
   "execution_count": 120,
   "id": "3cdc350b-b3f5-4fff-afc7-0cb81d0b8803",
   "metadata": {},
   "outputs": [
    {
     "data": {
      "text/plain": [
       "0    500\n",
       "1    268\n",
       "Name: Outcome, dtype: int64"
      ]
     },
     "execution_count": 120,
     "metadata": {},
     "output_type": "execute_result"
    }
   ],
   "source": [
    "df[\"Outcome\"].value_counts()\n",
    "# Outcome şeker hastalığını ifade eden bir değişken. 1 şeker hastalığına sahip 0 değili ifade ediyor."
   ]
  },
  {
   "cell_type": "code",
   "execution_count": 121,
   "id": "702ef178-c38e-4195-89a1-4ef2d878a26c",
   "metadata": {},
   "outputs": [
    {
     "data": {
      "text/html": [
       "<div>\n",
       "<style scoped>\n",
       "    .dataframe tbody tr th:only-of-type {\n",
       "        vertical-align: middle;\n",
       "    }\n",
       "\n",
       "    .dataframe tbody tr th {\n",
       "        vertical-align: top;\n",
       "    }\n",
       "\n",
       "    .dataframe thead th {\n",
       "        text-align: right;\n",
       "    }\n",
       "</style>\n",
       "<table border=\"1\" class=\"dataframe\">\n",
       "  <thead>\n",
       "    <tr style=\"text-align: right;\">\n",
       "      <th></th>\n",
       "      <th>count</th>\n",
       "      <th>mean</th>\n",
       "      <th>std</th>\n",
       "      <th>min</th>\n",
       "      <th>25%</th>\n",
       "      <th>50%</th>\n",
       "      <th>75%</th>\n",
       "      <th>max</th>\n",
       "    </tr>\n",
       "  </thead>\n",
       "  <tbody>\n",
       "    <tr>\n",
       "      <th>Pregnancies</th>\n",
       "      <td>768.0</td>\n",
       "      <td>3.845052</td>\n",
       "      <td>3.369578</td>\n",
       "      <td>0.000</td>\n",
       "      <td>1.00000</td>\n",
       "      <td>3.0000</td>\n",
       "      <td>6.00000</td>\n",
       "      <td>17.00</td>\n",
       "    </tr>\n",
       "    <tr>\n",
       "      <th>Glucose</th>\n",
       "      <td>768.0</td>\n",
       "      <td>120.894531</td>\n",
       "      <td>31.972618</td>\n",
       "      <td>0.000</td>\n",
       "      <td>99.00000</td>\n",
       "      <td>117.0000</td>\n",
       "      <td>140.25000</td>\n",
       "      <td>199.00</td>\n",
       "    </tr>\n",
       "    <tr>\n",
       "      <th>BloodPressure</th>\n",
       "      <td>768.0</td>\n",
       "      <td>69.105469</td>\n",
       "      <td>19.355807</td>\n",
       "      <td>0.000</td>\n",
       "      <td>62.00000</td>\n",
       "      <td>72.0000</td>\n",
       "      <td>80.00000</td>\n",
       "      <td>122.00</td>\n",
       "    </tr>\n",
       "    <tr>\n",
       "      <th>SkinThickness</th>\n",
       "      <td>768.0</td>\n",
       "      <td>20.536458</td>\n",
       "      <td>15.952218</td>\n",
       "      <td>0.000</td>\n",
       "      <td>0.00000</td>\n",
       "      <td>23.0000</td>\n",
       "      <td>32.00000</td>\n",
       "      <td>99.00</td>\n",
       "    </tr>\n",
       "    <tr>\n",
       "      <th>Insulin</th>\n",
       "      <td>768.0</td>\n",
       "      <td>79.799479</td>\n",
       "      <td>115.244002</td>\n",
       "      <td>0.000</td>\n",
       "      <td>0.00000</td>\n",
       "      <td>30.5000</td>\n",
       "      <td>127.25000</td>\n",
       "      <td>846.00</td>\n",
       "    </tr>\n",
       "    <tr>\n",
       "      <th>BMI</th>\n",
       "      <td>768.0</td>\n",
       "      <td>31.992578</td>\n",
       "      <td>7.884160</td>\n",
       "      <td>0.000</td>\n",
       "      <td>27.30000</td>\n",
       "      <td>32.0000</td>\n",
       "      <td>36.60000</td>\n",
       "      <td>67.10</td>\n",
       "    </tr>\n",
       "    <tr>\n",
       "      <th>DiabetesPedigreeFunction</th>\n",
       "      <td>768.0</td>\n",
       "      <td>0.471876</td>\n",
       "      <td>0.331329</td>\n",
       "      <td>0.078</td>\n",
       "      <td>0.24375</td>\n",
       "      <td>0.3725</td>\n",
       "      <td>0.62625</td>\n",
       "      <td>2.42</td>\n",
       "    </tr>\n",
       "    <tr>\n",
       "      <th>Age</th>\n",
       "      <td>768.0</td>\n",
       "      <td>33.240885</td>\n",
       "      <td>11.760232</td>\n",
       "      <td>21.000</td>\n",
       "      <td>24.00000</td>\n",
       "      <td>29.0000</td>\n",
       "      <td>41.00000</td>\n",
       "      <td>81.00</td>\n",
       "    </tr>\n",
       "    <tr>\n",
       "      <th>Outcome</th>\n",
       "      <td>768.0</td>\n",
       "      <td>0.348958</td>\n",
       "      <td>0.476951</td>\n",
       "      <td>0.000</td>\n",
       "      <td>0.00000</td>\n",
       "      <td>0.0000</td>\n",
       "      <td>1.00000</td>\n",
       "      <td>1.00</td>\n",
       "    </tr>\n",
       "  </tbody>\n",
       "</table>\n",
       "</div>"
      ],
      "text/plain": [
       "                          count        mean         std     min       25%  \\\n",
       "Pregnancies               768.0    3.845052    3.369578   0.000   1.00000   \n",
       "Glucose                   768.0  120.894531   31.972618   0.000  99.00000   \n",
       "BloodPressure             768.0   69.105469   19.355807   0.000  62.00000   \n",
       "SkinThickness             768.0   20.536458   15.952218   0.000   0.00000   \n",
       "Insulin                   768.0   79.799479  115.244002   0.000   0.00000   \n",
       "BMI                       768.0   31.992578    7.884160   0.000  27.30000   \n",
       "DiabetesPedigreeFunction  768.0    0.471876    0.331329   0.078   0.24375   \n",
       "Age                       768.0   33.240885   11.760232  21.000  24.00000   \n",
       "Outcome                   768.0    0.348958    0.476951   0.000   0.00000   \n",
       "\n",
       "                               50%        75%     max  \n",
       "Pregnancies                 3.0000    6.00000   17.00  \n",
       "Glucose                   117.0000  140.25000  199.00  \n",
       "BloodPressure              72.0000   80.00000  122.00  \n",
       "SkinThickness              23.0000   32.00000   99.00  \n",
       "Insulin                    30.5000  127.25000  846.00  \n",
       "BMI                        32.0000   36.60000   67.10  \n",
       "DiabetesPedigreeFunction    0.3725    0.62625    2.42  \n",
       "Age                        29.0000   41.00000   81.00  \n",
       "Outcome                     0.0000    1.00000    1.00  "
      ]
     },
     "execution_count": 121,
     "metadata": {},
     "output_type": "execute_result"
    }
   ],
   "source": [
    "df.describe().T"
   ]
  },
  {
   "cell_type": "code",
   "execution_count": 122,
   "id": "c64e9921-cc1e-4852-ad14-24f638732b8c",
   "metadata": {},
   "outputs": [],
   "source": [
    "y = df[\"Outcome\"] #bağımlı değişken\n",
    "X = df.drop([\"Outcome\"], axis = 1) # bağımsız değişken"
   ]
  },
  {
   "cell_type": "code",
   "execution_count": 123,
   "id": "c694a8b3-eb50-4406-a6b7-6d49d4c15fc0",
   "metadata": {},
   "outputs": [
    {
     "data": {
      "text/html": [
       "<div>\n",
       "<style scoped>\n",
       "    .dataframe tbody tr th:only-of-type {\n",
       "        vertical-align: middle;\n",
       "    }\n",
       "\n",
       "    .dataframe tbody tr th {\n",
       "        vertical-align: top;\n",
       "    }\n",
       "\n",
       "    .dataframe thead th {\n",
       "        text-align: right;\n",
       "    }\n",
       "</style>\n",
       "<table border=\"1\" class=\"dataframe\">\n",
       "  <thead>\n",
       "    <tr style=\"text-align: right;\">\n",
       "      <th></th>\n",
       "      <th>Pregnancies</th>\n",
       "      <th>Glucose</th>\n",
       "      <th>BloodPressure</th>\n",
       "      <th>SkinThickness</th>\n",
       "      <th>Insulin</th>\n",
       "      <th>BMI</th>\n",
       "      <th>DiabetesPedigreeFunction</th>\n",
       "      <th>Age</th>\n",
       "    </tr>\n",
       "  </thead>\n",
       "  <tbody>\n",
       "    <tr>\n",
       "      <th>0</th>\n",
       "      <td>6</td>\n",
       "      <td>148</td>\n",
       "      <td>72</td>\n",
       "      <td>35</td>\n",
       "      <td>0</td>\n",
       "      <td>33.6</td>\n",
       "      <td>0.627</td>\n",
       "      <td>50</td>\n",
       "    </tr>\n",
       "    <tr>\n",
       "      <th>1</th>\n",
       "      <td>1</td>\n",
       "      <td>85</td>\n",
       "      <td>66</td>\n",
       "      <td>29</td>\n",
       "      <td>0</td>\n",
       "      <td>26.6</td>\n",
       "      <td>0.351</td>\n",
       "      <td>31</td>\n",
       "    </tr>\n",
       "    <tr>\n",
       "      <th>2</th>\n",
       "      <td>8</td>\n",
       "      <td>183</td>\n",
       "      <td>64</td>\n",
       "      <td>0</td>\n",
       "      <td>0</td>\n",
       "      <td>23.3</td>\n",
       "      <td>0.672</td>\n",
       "      <td>32</td>\n",
       "    </tr>\n",
       "    <tr>\n",
       "      <th>3</th>\n",
       "      <td>1</td>\n",
       "      <td>89</td>\n",
       "      <td>66</td>\n",
       "      <td>23</td>\n",
       "      <td>94</td>\n",
       "      <td>28.1</td>\n",
       "      <td>0.167</td>\n",
       "      <td>21</td>\n",
       "    </tr>\n",
       "    <tr>\n",
       "      <th>4</th>\n",
       "      <td>0</td>\n",
       "      <td>137</td>\n",
       "      <td>40</td>\n",
       "      <td>35</td>\n",
       "      <td>168</td>\n",
       "      <td>43.1</td>\n",
       "      <td>2.288</td>\n",
       "      <td>33</td>\n",
       "    </tr>\n",
       "  </tbody>\n",
       "</table>\n",
       "</div>"
      ],
      "text/plain": [
       "   Pregnancies  Glucose  BloodPressure  SkinThickness  Insulin   BMI  \\\n",
       "0            6      148             72             35        0  33.6   \n",
       "1            1       85             66             29        0  26.6   \n",
       "2            8      183             64              0        0  23.3   \n",
       "3            1       89             66             23       94  28.1   \n",
       "4            0      137             40             35      168  43.1   \n",
       "\n",
       "   DiabetesPedigreeFunction  Age  \n",
       "0                     0.627   50  \n",
       "1                     0.351   31  \n",
       "2                     0.672   32  \n",
       "3                     0.167   21  \n",
       "4                     2.288   33  "
      ]
     },
     "execution_count": 123,
     "metadata": {},
     "output_type": "execute_result"
    }
   ],
   "source": [
    "X.head()"
   ]
  },
  {
   "cell_type": "code",
   "execution_count": 124,
   "id": "e8d8c1b1-9526-402e-abd2-de1141a595d6",
   "metadata": {},
   "outputs": [],
   "source": [
    "loj_model = LogisticRegression(solver = \"liblinear\").fit(X, y)"
   ]
  },
  {
   "cell_type": "code",
   "execution_count": 125,
   "id": "9a90e45a-adb8-4888-ab73-10b788a40340",
   "metadata": {},
   "outputs": [
    {
     "data": {
      "text/plain": [
       "array([-5.89175767])"
      ]
     },
     "execution_count": 125,
     "metadata": {},
     "output_type": "execute_result"
    }
   ],
   "source": [
    "loj_model.intercept_\n",
    "#modelimiz doğrusal bir formdadır."
   ]
  },
  {
   "cell_type": "code",
   "execution_count": 126,
   "id": "8474e4d9-8821-4832-831e-cf4f8120f08b",
   "metadata": {},
   "outputs": [
    {
     "data": {
      "text/plain": [
       "array([[ 1.17053857e-01,  2.83878105e-02, -1.68895448e-02,\n",
       "         7.55295336e-04, -6.42779727e-04,  5.97631361e-02,\n",
       "         6.77641093e-01,  7.23986346e-03]])"
      ]
     },
     "execution_count": 126,
     "metadata": {},
     "output_type": "execute_result"
    }
   ],
   "source": [
    "loj_model.coef_"
   ]
  },
  {
   "cell_type": "code",
   "execution_count": 127,
   "id": "f1f8cf9b-5ddf-4457-a115-72bccd3d88ce",
   "metadata": {},
   "outputs": [
    {
     "data": {
      "text/plain": [
       "array([1, 0, 1, 0, 1, 0, 0, 1, 1, 0], dtype=int64)"
      ]
     },
     "execution_count": 127,
     "metadata": {},
     "output_type": "execute_result"
    }
   ],
   "source": [
    "loj_model.predict(X)[0:10]"
   ]
  },
  {
   "cell_type": "code",
   "execution_count": 128,
   "id": "39266572-bd53-48be-ac0a-eeece0b2cff5",
   "metadata": {},
   "outputs": [
    {
     "data": {
      "text/plain": [
       "0    1\n",
       "1    0\n",
       "2    1\n",
       "3    0\n",
       "4    1\n",
       "5    0\n",
       "6    1\n",
       "7    0\n",
       "8    1\n",
       "9    1\n",
       "Name: Outcome, dtype: int64"
      ]
     },
     "execution_count": 128,
     "metadata": {},
     "output_type": "execute_result"
    }
   ],
   "source": [
    "y[0:10]"
   ]
  },
  {
   "cell_type": "code",
   "execution_count": 129,
   "id": "064ddd17-14fb-4a4b-8a31-bfc44c2b3e7c",
   "metadata": {},
   "outputs": [],
   "source": [
    "y_pred = loj_model.predict(X)"
   ]
  },
  {
   "cell_type": "code",
   "execution_count": 130,
   "id": "4a2d5594-ad54-4a55-9729-ea1f26c547fe",
   "metadata": {},
   "outputs": [
    {
     "data": {
      "text/plain": [
       "array([[448,  52],\n",
       "       [121, 147]], dtype=int64)"
      ]
     },
     "execution_count": 130,
     "metadata": {},
     "output_type": "execute_result"
    }
   ],
   "source": [
    "confusion_matrix(y, y_pred)"
   ]
  },
  {
   "cell_type": "code",
   "execution_count": 131,
   "id": "49bfbf79-7210-4d23-8f03-4f8c28fdcbf9",
   "metadata": {},
   "outputs": [
    {
     "data": {
      "text/plain": [
       "0.7747395833333334"
      ]
     },
     "execution_count": 131,
     "metadata": {},
     "output_type": "execute_result"
    }
   ],
   "source": [
    "accuracy_score(y, y_pred)\n",
    "#Doğruluk oranını verecek.Başarılı yaptığımız durumlar bölü tüm durumdu."
   ]
  },
  {
   "cell_type": "code",
   "execution_count": 132,
   "id": "d3779559-5fb5-4c30-ab71-f2754ed83a14",
   "metadata": {},
   "outputs": [
    {
     "name": "stdout",
     "output_type": "stream",
     "text": [
      "              precision    recall  f1-score   support\n",
      "\n",
      "           0       0.79      0.90      0.84       500\n",
      "           1       0.74      0.55      0.63       268\n",
      "\n",
      "    accuracy                           0.77       768\n",
      "   macro avg       0.76      0.72      0.73       768\n",
      "weighted avg       0.77      0.77      0.77       768\n",
      "\n"
     ]
    }
   ],
   "source": [
    "print(classification_report(y, y_pred))"
   ]
  },
  {
   "cell_type": "code",
   "execution_count": 133,
   "id": "77ceaa35-7562-4086-b6f6-06ef00abccb5",
   "metadata": {},
   "outputs": [
    {
     "data": {
      "text/plain": [
       "array([[0.35040373, 0.64959627],\n",
       "       [0.91702224, 0.08297776],\n",
       "       [0.22474194, 0.77525806],\n",
       "       [0.92139118, 0.07860882],\n",
       "       [0.16722986, 0.83277014],\n",
       "       [0.7989895 , 0.2010105 ],\n",
       "       [0.88019422, 0.11980578],\n",
       "       [0.27812572, 0.72187428],\n",
       "       [0.3206045 , 0.6793955 ],\n",
       "       [0.92273361, 0.07726639]])"
      ]
     },
     "execution_count": 133,
     "metadata": {},
     "output_type": "execute_result"
    }
   ],
   "source": [
    "loj_model.predict_proba(X)[0:10]\n",
    "#sınıf olasılık değerlerine erişmiş olduk.Sağ taraf 1 ve 0 sınıfı olarak ilerliyor."
   ]
  },
  {
   "cell_type": "code",
   "execution_count": 134,
   "id": "08cd2eed-18a1-4cf3-bcee-b164fe25f443",
   "metadata": {},
   "outputs": [
    {
     "data": {
      "image/png": "[encoded data removed]",
      "text/plain": [
       "<Figure size 432x288 with 1 Axes>"
      ]
     },
     "metadata": {
      "needs_background": "light"
     },
     "output_type": "display_data"
    }
   ],
   "source": [
    "logit_roc_auc = roc_auc_score(y, loj_model.predict(X)) #model başarımızı değerlendirmek üzere False-Positive rate ve True-Positive rate üzerinden oluşturulan bir grafik \n",
    "# aracılığıyla bize bilgi sunan bir değerdir.Eğri altındaki alanla ilgileniyoruz.Eğri altındaki alan ne kadar büyükse modelimiz o kdar başarılıdır.\n",
    "fpr, tpr, thresholds = roc_curve(y, loj_model.predict_proba(X)[:,1])\n",
    "plt.figure()\n",
    "plt.plot(fpr, tpr, label='AUC (area = %0.2f)' % logit_roc_auc)\n",
    "plt.plot([0, 1], [0, 1],'r--')\n",
    "plt.xlim([0.0, 1.0])\n",
    "plt.ylim([0.0, 1.05])\n",
    "plt.xlabel('False Positive Rate')\n",
    "plt.ylabel('True Positive Rate')\n",
    "plt.title('Receiver operating characteristic')\n",
    "plt.legend(loc=\"lower right\")\n",
    "plt.savefig('Log_ROC')\n",
    "plt.show()"
   ]
  },
  {
   "cell_type": "markdown",
   "id": "15b8e54e-b323-466b-8ee4-85aeeab05a76",
   "metadata": {},
   "source": [
    "# Model Tuning (Model Doğrulama)"
   ]
  },
  {
   "cell_type": "code",
   "execution_count": 135,
   "id": "14fc10e1-2a1e-4a7a-9e68-aa1ddd2999bb",
   "metadata": {},
   "outputs": [],
   "source": [
    "X_train, X_test, y_train, y_test = train_test_split(X, \n",
    "                                                    y, \n",
    "                                                    test_size=0.30, \n",
    "                                                    random_state=42)"
   ]
  },
  {
   "cell_type": "code",
   "execution_count": 136,
   "id": "79a7d41d-15f0-4d53-89ec-cfafe3beb1ca",
   "metadata": {},
   "outputs": [],
   "source": [
    "loj_model = LogisticRegression(solver = \"liblinear\").fit(X_train,y_train)"
   ]
  },
  {
   "cell_type": "code",
   "execution_count": 137,
   "id": "1320febe-9cf6-4e43-a315-258b97540dec",
   "metadata": {},
   "outputs": [],
   "source": [
    "y_pred = loj_model.predict(X_test)"
   ]
  },
  {
   "cell_type": "code",
   "execution_count": 138,
   "id": "c07f70b7-ad22-484b-ba11-3f9566a031e0",
   "metadata": {},
   "outputs": [
    {
     "name": "stdout",
     "output_type": "stream",
     "text": [
      "0.7532467532467533\n"
     ]
    }
   ],
   "source": [
    "print(accuracy_score(y_test, y_pred))"
   ]
  },
  {
   "cell_type": "code",
   "execution_count": 139,
   "id": "9ef51080-0c42-4d45-9697-f3c8129a0753",
   "metadata": {},
   "outputs": [
    {
     "data": {
      "text/plain": [
       "0.7704710144927536"
      ]
     },
     "execution_count": 139,
     "metadata": {},
     "output_type": "execute_result"
    }
   ],
   "source": [
    "cross_val_score(loj_model, X_test, y_test, cv = 10).mean()\n",
    "# k katlı çapraz doğrulama yöntemini kullandık.Test setine ilişkin daha doğru test hatasına erişmiş olduk."
   ]
  },
  {
   "cell_type": "code",
   "execution_count": 140,
   "id": "8cbddee8-b567-4369-b897-0a31a6a2c992",
   "metadata": {},
   "outputs": [],
   "source": [
    "#Bizim modelin başarısını değerlendirmek için izleyeceğimiz yol accuracy_score olacak.Bu skor ne kadar büyük olursa sınıflandırmamız o kadar başarılı olacak.\n",
    "#Hiperparametrelerin optimum değerlerine ulaşmak için de cross validation yöntemini kullanacağız."
   ]
  },
  {
   "cell_type": "markdown",
   "id": "ec31c8a8-8c50-442d-adc0-ce563a0258f3",
   "metadata": {},
   "source": [
    "# K-En Yakın Komşu (KNN)"
   ]
  },
  {
   "cell_type": "code",
   "execution_count": 141,
   "id": "ee778ca1-7e6d-4c3d-8f25-af968c71a2b9",
   "metadata": {},
   "outputs": [
    {
     "data": {
      "text/html": [
       "<div>\n",
       "<style scoped>\n",
       "    .dataframe tbody tr th:only-of-type {\n",
       "        vertical-align: middle;\n",
       "    }\n",
       "\n",
       "    .dataframe tbody tr th {\n",
       "        vertical-align: top;\n",
       "    }\n",
       "\n",
       "    .dataframe thead th {\n",
       "        text-align: right;\n",
       "    }\n",
       "</style>\n",
       "<table border=\"1\" class=\"dataframe\">\n",
       "  <thead>\n",
       "    <tr style=\"text-align: right;\">\n",
       "      <th></th>\n",
       "      <th>Pregnancies</th>\n",
       "      <th>Glucose</th>\n",
       "      <th>BloodPressure</th>\n",
       "      <th>SkinThickness</th>\n",
       "      <th>Insulin</th>\n",
       "      <th>BMI</th>\n",
       "      <th>DiabetesPedigreeFunction</th>\n",
       "      <th>Age</th>\n",
       "      <th>Outcome</th>\n",
       "    </tr>\n",
       "  </thead>\n",
       "  <tbody>\n",
       "    <tr>\n",
       "      <th>0</th>\n",
       "      <td>6</td>\n",
       "      <td>148</td>\n",
       "      <td>72</td>\n",
       "      <td>35</td>\n",
       "      <td>0</td>\n",
       "      <td>33.6</td>\n",
       "      <td>0.627</td>\n",
       "      <td>50</td>\n",
       "      <td>1</td>\n",
       "    </tr>\n",
       "    <tr>\n",
       "      <th>1</th>\n",
       "      <td>1</td>\n",
       "      <td>85</td>\n",
       "      <td>66</td>\n",
       "      <td>29</td>\n",
       "      <td>0</td>\n",
       "      <td>26.6</td>\n",
       "      <td>0.351</td>\n",
       "      <td>31</td>\n",
       "      <td>0</td>\n",
       "    </tr>\n",
       "    <tr>\n",
       "      <th>2</th>\n",
       "      <td>8</td>\n",
       "      <td>183</td>\n",
       "      <td>64</td>\n",
       "      <td>0</td>\n",
       "      <td>0</td>\n",
       "      <td>23.3</td>\n",
       "      <td>0.672</td>\n",
       "      <td>32</td>\n",
       "      <td>1</td>\n",
       "    </tr>\n",
       "    <tr>\n",
       "      <th>3</th>\n",
       "      <td>1</td>\n",
       "      <td>89</td>\n",
       "      <td>66</td>\n",
       "      <td>23</td>\n",
       "      <td>94</td>\n",
       "      <td>28.1</td>\n",
       "      <td>0.167</td>\n",
       "      <td>21</td>\n",
       "      <td>0</td>\n",
       "    </tr>\n",
       "    <tr>\n",
       "      <th>4</th>\n",
       "      <td>0</td>\n",
       "      <td>137</td>\n",
       "      <td>40</td>\n",
       "      <td>35</td>\n",
       "      <td>168</td>\n",
       "      <td>43.1</td>\n",
       "      <td>2.288</td>\n",
       "      <td>33</td>\n",
       "      <td>1</td>\n",
       "    </tr>\n",
       "  </tbody>\n",
       "</table>\n",
       "</div>"
      ],
      "text/plain": [
       "   Pregnancies  Glucose  BloodPressure  SkinThickness  Insulin   BMI  \\\n",
       "0            6      148             72             35        0  33.6   \n",
       "1            1       85             66             29        0  26.6   \n",
       "2            8      183             64              0        0  23.3   \n",
       "3            1       89             66             23       94  28.1   \n",
       "4            0      137             40             35      168  43.1   \n",
       "\n",
       "   DiabetesPedigreeFunction  Age  Outcome  \n",
       "0                     0.627   50        1  \n",
       "1                     0.351   31        0  \n",
       "2                     0.672   32        1  \n",
       "3                     0.167   21        0  \n",
       "4                     2.288   33        1  "
      ]
     },
     "execution_count": 141,
     "metadata": {},
     "output_type": "execute_result"
    }
   ],
   "source": [
    "df.head()"
   ]
  },
  {
   "cell_type": "code",
   "execution_count": 142,
   "id": "415af914-2390-434a-bf33-c7ea52fec51d",
   "metadata": {},
   "outputs": [],
   "source": [
    "y = df[\"Outcome\"]\n",
    "X = df.drop(['Outcome'], axis=1)\n",
    "X_train, X_test, y_train, y_test = train_test_split(X, y, \n",
    "                                                    test_size=0.30, \n",
    "                                                    random_state=42)"
   ]
  },
  {
   "cell_type": "markdown",
   "id": "8b0cf9cc-77a6-4efa-b13d-b563d12d4e99",
   "metadata": {},
   "source": [
    "# Model & Tahmin"
   ]
  },
  {
   "cell_type": "code",
   "execution_count": 143,
   "id": "9da2d137-30a8-466d-82a1-eafad569523e",
   "metadata": {},
   "outputs": [],
   "source": [
    "knn_model = KNeighborsClassifier().fit(X_train, y_train)"
   ]
  },
  {
   "cell_type": "code",
   "execution_count": 144,
   "id": "448fc253-66e3-42dc-859e-ce3b674ad743",
   "metadata": {},
   "outputs": [
    {
     "data": {
      "text/plain": [
       "KNeighborsClassifier()"
      ]
     },
     "execution_count": 144,
     "metadata": {},
     "output_type": "execute_result"
    }
   ],
   "source": [
    "knn_model"
   ]
  },
  {
   "cell_type": "code",
   "execution_count": 145,
   "id": "abcf780c-e2fc-4a1d-8458-ee50abd62e92",
   "metadata": {},
   "outputs": [],
   "source": [
    "y_pred = knn_model.predict(X_test)"
   ]
  },
  {
   "cell_type": "code",
   "execution_count": 146,
   "id": "67ae8cc4-19ba-414e-a471-10ba7a7d2dbd",
   "metadata": {},
   "outputs": [
    {
     "data": {
      "text/plain": [
       "0.6883116883116883"
      ]
     },
     "execution_count": 146,
     "metadata": {},
     "output_type": "execute_result"
    }
   ],
   "source": [
    "accuracy_score(y_test,y_pred)\n",
    "#doğru sınıflandırma oranımız."
   ]
  },
  {
   "cell_type": "code",
   "execution_count": 147,
   "id": "8c6b3e7d-a37e-4fe1-9ae1-1917a3ceb474",
   "metadata": {},
   "outputs": [
    {
     "name": "stdout",
     "output_type": "stream",
     "text": [
      "              precision    recall  f1-score   support\n",
      "\n",
      "           0       0.77      0.75      0.76       151\n",
      "           1       0.55      0.56      0.56        80\n",
      "\n",
      "    accuracy                           0.69       231\n",
      "   macro avg       0.66      0.66      0.66       231\n",
      "weighted avg       0.69      0.69      0.69       231\n",
      "\n"
     ]
    }
   ],
   "source": [
    "print(classification_report(y_test, y_pred))"
   ]
  },
  {
   "cell_type": "markdown",
   "id": "ea3da6c7-ef9f-4954-b0ee-d36455294033",
   "metadata": {},
   "source": [
    "# Model Tuning"
   ]
  },
  {
   "cell_type": "code",
   "execution_count": 148,
   "id": "1e2ba0ac-e984-49d0-a7e6-13975207646a",
   "metadata": {},
   "outputs": [],
   "source": [
    "knn = KNeighborsClassifier()"
   ]
  },
  {
   "cell_type": "code",
   "execution_count": 149,
   "id": "68cc62ca-b221-4b5b-9dea-632522c51d3a",
   "metadata": {},
   "outputs": [],
   "source": [
    "knn_params = {\"n_neighbors\": np.arange(1,50)}"
   ]
  },
  {
   "cell_type": "code",
   "execution_count": 150,
   "id": "911cb4f0-b493-4399-bf70-8b1ccb87c75a",
   "metadata": {},
   "outputs": [],
   "source": [
    "knn_cv_model = GridSearchCV(knn, knn_params, cv=10).fit(X_train, y_train)"
   ]
  },
  {
   "cell_type": "code",
   "execution_count": 151,
   "id": "ec37a75b-df07-414c-9976-4ebf5904be6d",
   "metadata": {},
   "outputs": [
    {
     "data": {
      "text/plain": [
       "0.748637316561845"
      ]
     },
     "execution_count": 151,
     "metadata": {},
     "output_type": "execute_result"
    }
   ],
   "source": [
    "knn_cv_model.best_score_"
   ]
  },
  {
   "cell_type": "code",
   "execution_count": 152,
   "id": "6f530676-7d52-4564-836e-a457538f9409",
   "metadata": {},
   "outputs": [
    {
     "data": {
      "text/plain": [
       "{'n_neighbors': 11}"
      ]
     },
     "execution_count": 152,
     "metadata": {},
     "output_type": "execute_result"
    }
   ],
   "source": [
    "knn_cv_model.best_params_"
   ]
  },
  {
   "cell_type": "code",
   "execution_count": 153,
   "id": "04bdf8a0-c9bb-411e-bec5-ccd4f5aca01e",
   "metadata": {},
   "outputs": [],
   "source": [
    "#Final Modelimiz"
   ]
  },
  {
   "cell_type": "code",
   "execution_count": 154,
   "id": "e99cbc1d-e3ee-4a83-b65a-f4dfe771a4bf",
   "metadata": {},
   "outputs": [],
   "source": [
    "knn_tuned = KNeighborsClassifier(n_neighbors = 11).fit(X_train, y_train)"
   ]
  },
  {
   "cell_type": "code",
   "execution_count": 155,
   "id": "0e69be46-53e4-412a-8c1c-6a7aab03f542",
   "metadata": {},
   "outputs": [],
   "source": [
    "y_pred = knn_tuned.predict(X_test)"
   ]
  },
  {
   "cell_type": "code",
   "execution_count": 156,
   "id": "d4e3e800-0644-463e-a2ba-a86ad4fb5ada",
   "metadata": {},
   "outputs": [
    {
     "data": {
      "text/plain": [
       "0.7316017316017316"
      ]
     },
     "execution_count": 156,
     "metadata": {},
     "output_type": "execute_result"
    }
   ],
   "source": [
    "accuracy_score(y_test, y_pred)"
   ]
  },
  {
   "cell_type": "code",
   "execution_count": 157,
   "id": "8ba378e8-e142-49ec-a7fc-cc731b0a019e",
   "metadata": {},
   "outputs": [
    {
     "data": {
      "text/plain": [
       "0.7316017316017316"
      ]
     },
     "execution_count": 157,
     "metadata": {},
     "output_type": "execute_result"
    }
   ],
   "source": [
    "knn_tuned.score(X_test, y_test)\n",
    "#yukarıdaki ile aynı işlemdir."
   ]
  },
  {
   "cell_type": "markdown",
   "id": "6a105b8b-00fd-492d-af93-120bc787ec46",
   "metadata": {},
   "source": [
    "# Destek Vektör Makineleri (SVM)"
   ]
  },
  {
   "cell_type": "code",
   "execution_count": 70,
   "id": "94e8dee9-58f8-4dca-be18-6fa0d144a40e",
   "metadata": {},
   "outputs": [
    {
     "data": {
      "text/html": [
       "<div>\n",
       "<style scoped>\n",
       "    .dataframe tbody tr th:only-of-type {\n",
       "        vertical-align: middle;\n",
       "    }\n",
       "\n",
       "    .dataframe tbody tr th {\n",
       "        vertical-align: top;\n",
       "    }\n",
       "\n",
       "    .dataframe thead th {\n",
       "        text-align: right;\n",
       "    }\n",
       "</style>\n",
       "<table border=\"1\" class=\"dataframe\">\n",
       "  <thead>\n",
       "    <tr style=\"text-align: right;\">\n",
       "      <th></th>\n",
       "      <th>Pregnancies</th>\n",
       "      <th>Glucose</th>\n",
       "      <th>BloodPressure</th>\n",
       "      <th>SkinThickness</th>\n",
       "      <th>Insulin</th>\n",
       "      <th>BMI</th>\n",
       "      <th>DiabetesPedigreeFunction</th>\n",
       "      <th>Age</th>\n",
       "      <th>Outcome</th>\n",
       "    </tr>\n",
       "  </thead>\n",
       "  <tbody>\n",
       "    <tr>\n",
       "      <th>0</th>\n",
       "      <td>6</td>\n",
       "      <td>148</td>\n",
       "      <td>72</td>\n",
       "      <td>35</td>\n",
       "      <td>0</td>\n",
       "      <td>33.6</td>\n",
       "      <td>0.627</td>\n",
       "      <td>50</td>\n",
       "      <td>1</td>\n",
       "    </tr>\n",
       "    <tr>\n",
       "      <th>1</th>\n",
       "      <td>1</td>\n",
       "      <td>85</td>\n",
       "      <td>66</td>\n",
       "      <td>29</td>\n",
       "      <td>0</td>\n",
       "      <td>26.6</td>\n",
       "      <td>0.351</td>\n",
       "      <td>31</td>\n",
       "      <td>0</td>\n",
       "    </tr>\n",
       "    <tr>\n",
       "      <th>2</th>\n",
       "      <td>8</td>\n",
       "      <td>183</td>\n",
       "      <td>64</td>\n",
       "      <td>0</td>\n",
       "      <td>0</td>\n",
       "      <td>23.3</td>\n",
       "      <td>0.672</td>\n",
       "      <td>32</td>\n",
       "      <td>1</td>\n",
       "    </tr>\n",
       "    <tr>\n",
       "      <th>3</th>\n",
       "      <td>1</td>\n",
       "      <td>89</td>\n",
       "      <td>66</td>\n",
       "      <td>23</td>\n",
       "      <td>94</td>\n",
       "      <td>28.1</td>\n",
       "      <td>0.167</td>\n",
       "      <td>21</td>\n",
       "      <td>0</td>\n",
       "    </tr>\n",
       "    <tr>\n",
       "      <th>4</th>\n",
       "      <td>0</td>\n",
       "      <td>137</td>\n",
       "      <td>40</td>\n",
       "      <td>35</td>\n",
       "      <td>168</td>\n",
       "      <td>43.1</td>\n",
       "      <td>2.288</td>\n",
       "      <td>33</td>\n",
       "      <td>1</td>\n",
       "    </tr>\n",
       "  </tbody>\n",
       "</table>\n",
       "</div>"
      ],
      "text/plain": [
       "   Pregnancies  Glucose  BloodPressure  SkinThickness  Insulin   BMI  \\\n",
       "0            6      148             72             35        0  33.6   \n",
       "1            1       85             66             29        0  26.6   \n",
       "2            8      183             64              0        0  23.3   \n",
       "3            1       89             66             23       94  28.1   \n",
       "4            0      137             40             35      168  43.1   \n",
       "\n",
       "   DiabetesPedigreeFunction  Age  Outcome  \n",
       "0                     0.627   50        1  \n",
       "1                     0.351   31        0  \n",
       "2                     0.672   32        1  \n",
       "3                     0.167   21        0  \n",
       "4                     2.288   33        1  "
      ]
     },
     "execution_count": 70,
     "metadata": {},
     "output_type": "execute_result"
    }
   ],
   "source": [
    "df.head()"
   ]
  },
  {
   "cell_type": "code",
   "execution_count": 71,
   "id": "551b2056-7166-481a-a0aa-7c1452f78644",
   "metadata": {},
   "outputs": [],
   "source": [
    "X_train, X_test, y_train, y_test = train_test_split(X, y, \n",
    "                                                    test_size=0.30, \n",
    "                                                    random_state=42)"
   ]
  },
  {
   "cell_type": "markdown",
   "id": "9a770888-f36c-4049-a8a7-ec6c79abb1d1",
   "metadata": {},
   "source": [
    "# Model & Tahmin"
   ]
  },
  {
   "cell_type": "code",
   "execution_count": 72,
   "id": "cca696c0-1a10-4139-a860-def3b3a1a8d7",
   "metadata": {},
   "outputs": [],
   "source": [
    "svm_model = SVC(kernel = \"linear\").fit(X_train, y_train)"
   ]
  },
  {
   "cell_type": "markdown",
   "id": "723c566b-cf06-4af5-a258-2c3b274abdab",
   "metadata": {},
   "source": [
    "SVM'de doğrusal ve doğrusal olmayan birbirinden farklı yaklaşımlar söz konusu.Burada model ve tahmin bölümünde doğrusal bir yapı ele alacağız.Model tuning bölümündeyse hem\n",
    "rbf adı verilen hem de linear olan iki farklı yaklaşımı değerlendirmiş olacağız.Yani doğrusal ve doğrusal olmayan SVM'yi model tuning bölümünde ele alacağız."
   ]
  },
  {
   "cell_type": "code",
   "execution_count": 73,
   "id": "636e3ac3-46a6-4eef-8213-0aca30c20bd2",
   "metadata": {},
   "outputs": [
    {
     "data": {
      "text/plain": [
       "SVC(kernel='linear')"
      ]
     },
     "execution_count": 73,
     "metadata": {},
     "output_type": "execute_result"
    }
   ],
   "source": [
    "svm_model"
   ]
  },
  {
   "cell_type": "code",
   "execution_count": 74,
   "id": "06963664-744b-4c3b-b5c4-0bde7a123aad",
   "metadata": {},
   "outputs": [],
   "source": [
    "y_pred = svm_model.predict(X_test)"
   ]
  },
  {
   "cell_type": "code",
   "execution_count": 75,
   "id": "0ba798a7-9c4d-4116-84d3-7b538a54b3a8",
   "metadata": {},
   "outputs": [
    {
     "data": {
      "text/plain": [
       "0.7445887445887446"
      ]
     },
     "execution_count": 75,
     "metadata": {},
     "output_type": "execute_result"
    }
   ],
   "source": [
    "accuracy_score(y_test, y_pred)"
   ]
  },
  {
   "cell_type": "markdown",
   "id": "53701c63-f989-439f-a5b2-8a7372a36e9d",
   "metadata": {},
   "source": [
    "# Model Tuning"
   ]
  },
  {
   "cell_type": "code",
   "execution_count": 76,
   "id": "a4311d40-959f-47e2-a838-7ab3313963b4",
   "metadata": {},
   "outputs": [],
   "source": [
    "svm = SVC()"
   ]
  },
  {
   "cell_type": "code",
   "execution_count": 78,
   "id": "f29ea732-1429-40ac-b6ee-6cbccb4a4ee3",
   "metadata": {},
   "outputs": [],
   "source": [
    "svm_params = {\"C\": np.arange(1,10), \"kernel\": [\"linear\",\"rbf\"]}\n",
    "#C bizim ceza parametremiz.\n",
    "#\"kernel\": [\"linear\",\"rbf\"] iki farklı kerneli denemesini istiyoruz."
   ]
  },
  {
   "cell_type": "code",
   "execution_count": 79,
   "id": "e91dc1b7-7339-494b-817a-33073a348b60",
   "metadata": {},
   "outputs": [
    {
     "name": "stdout",
     "output_type": "stream",
     "text": [
      "Fitting 5 folds for each of 18 candidates, totalling 90 fits\n"
     ]
    }
   ],
   "source": [
    "svm_cv_model = GridSearchCV(svm, svm_params, cv = 5, n_jobs = -1, verbose = 2).fit(X_train, y_train)"
   ]
  },
  {
   "cell_type": "code",
   "execution_count": 80,
   "id": "815279cf-3c1c-4b3e-84c2-7bc4aa84f1bd",
   "metadata": {},
   "outputs": [
    {
     "data": {
      "text/plain": [
       "{'C': 2, 'kernel': 'linear'}"
      ]
     },
     "execution_count": 80,
     "metadata": {},
     "output_type": "execute_result"
    }
   ],
   "source": [
    "svm_cv_model.best_params_"
   ]
  },
  {
   "cell_type": "code",
   "execution_count": 82,
   "id": "82b73829-1f78-4b59-9a50-9a27a642e962",
   "metadata": {},
   "outputs": [
    {
     "data": {
      "text/plain": [
       "0.7839044652128765"
      ]
     },
     "execution_count": 82,
     "metadata": {},
     "output_type": "execute_result"
    }
   ],
   "source": [
    "svm_cv_model.best_score_"
   ]
  },
  {
   "cell_type": "code",
   "execution_count": 83,
   "id": "106bb696-6213-4836-9b16-f668505a3c4c",
   "metadata": {},
   "outputs": [],
   "source": [
    "svm_tuned = SVC(C = 2, kernel = \"linear\").fit(X_train, y_train)"
   ]
  },
  {
   "cell_type": "code",
   "execution_count": 84,
   "id": "0248e43f-72ff-46c4-a78e-1cfd22ea3d3f",
   "metadata": {},
   "outputs": [],
   "source": [
    "y_pred = svm_tuned.predict(X_test)"
   ]
  },
  {
   "cell_type": "code",
   "execution_count": 85,
   "id": "b475a731-16ec-4c09-8c94-64536e8b996c",
   "metadata": {},
   "outputs": [
    {
     "data": {
      "text/plain": [
       "0.7445887445887446"
      ]
     },
     "execution_count": 85,
     "metadata": {},
     "output_type": "execute_result"
    }
   ],
   "source": [
    "accuracy_score(y_test, y_pred)"
   ]
  },
  {
   "cell_type": "markdown",
   "id": "1be73806-74ef-476b-8373-bb6046ea5cca",
   "metadata": {},
   "source": [
    "# Yapay Sinir Ağları (Çok Katmanlı Algılayıcılar)"
   ]
  },
  {
   "cell_type": "code",
   "execution_count": 86,
   "id": "d00022ad-93a7-4438-9f78-39ba2a38732e",
   "metadata": {},
   "outputs": [
    {
     "data": {
      "text/html": [
       "<div>\n",
       "<style scoped>\n",
       "    .dataframe tbody tr th:only-of-type {\n",
       "        vertical-align: middle;\n",
       "    }\n",
       "\n",
       "    .dataframe tbody tr th {\n",
       "        vertical-align: top;\n",
       "    }\n",
       "\n",
       "    .dataframe thead th {\n",
       "        text-align: right;\n",
       "    }\n",
       "</style>\n",
       "<table border=\"1\" class=\"dataframe\">\n",
       "  <thead>\n",
       "    <tr style=\"text-align: right;\">\n",
       "      <th></th>\n",
       "      <th>Pregnancies</th>\n",
       "      <th>Glucose</th>\n",
       "      <th>BloodPressure</th>\n",
       "      <th>SkinThickness</th>\n",
       "      <th>Insulin</th>\n",
       "      <th>BMI</th>\n",
       "      <th>DiabetesPedigreeFunction</th>\n",
       "      <th>Age</th>\n",
       "      <th>Outcome</th>\n",
       "    </tr>\n",
       "  </thead>\n",
       "  <tbody>\n",
       "    <tr>\n",
       "      <th>0</th>\n",
       "      <td>6</td>\n",
       "      <td>148</td>\n",
       "      <td>72</td>\n",
       "      <td>35</td>\n",
       "      <td>0</td>\n",
       "      <td>33.6</td>\n",
       "      <td>0.627</td>\n",
       "      <td>50</td>\n",
       "      <td>1</td>\n",
       "    </tr>\n",
       "    <tr>\n",
       "      <th>1</th>\n",
       "      <td>1</td>\n",
       "      <td>85</td>\n",
       "      <td>66</td>\n",
       "      <td>29</td>\n",
       "      <td>0</td>\n",
       "      <td>26.6</td>\n",
       "      <td>0.351</td>\n",
       "      <td>31</td>\n",
       "      <td>0</td>\n",
       "    </tr>\n",
       "    <tr>\n",
       "      <th>2</th>\n",
       "      <td>8</td>\n",
       "      <td>183</td>\n",
       "      <td>64</td>\n",
       "      <td>0</td>\n",
       "      <td>0</td>\n",
       "      <td>23.3</td>\n",
       "      <td>0.672</td>\n",
       "      <td>32</td>\n",
       "      <td>1</td>\n",
       "    </tr>\n",
       "    <tr>\n",
       "      <th>3</th>\n",
       "      <td>1</td>\n",
       "      <td>89</td>\n",
       "      <td>66</td>\n",
       "      <td>23</td>\n",
       "      <td>94</td>\n",
       "      <td>28.1</td>\n",
       "      <td>0.167</td>\n",
       "      <td>21</td>\n",
       "      <td>0</td>\n",
       "    </tr>\n",
       "    <tr>\n",
       "      <th>4</th>\n",
       "      <td>0</td>\n",
       "      <td>137</td>\n",
       "      <td>40</td>\n",
       "      <td>35</td>\n",
       "      <td>168</td>\n",
       "      <td>43.1</td>\n",
       "      <td>2.288</td>\n",
       "      <td>33</td>\n",
       "      <td>1</td>\n",
       "    </tr>\n",
       "  </tbody>\n",
       "</table>\n",
       "</div>"
      ],
      "text/plain": [
       "   Pregnancies  Glucose  BloodPressure  SkinThickness  Insulin   BMI  \\\n",
       "0            6      148             72             35        0  33.6   \n",
       "1            1       85             66             29        0  26.6   \n",
       "2            8      183             64              0        0  23.3   \n",
       "3            1       89             66             23       94  28.1   \n",
       "4            0      137             40             35      168  43.1   \n",
       "\n",
       "   DiabetesPedigreeFunction  Age  Outcome  \n",
       "0                     0.627   50        1  \n",
       "1                     0.351   31        0  \n",
       "2                     0.672   32        1  \n",
       "3                     0.167   21        0  \n",
       "4                     2.288   33        1  "
      ]
     },
     "execution_count": 86,
     "metadata": {},
     "output_type": "execute_result"
    }
   ],
   "source": [
    "df.head()"
   ]
  },
  {
   "cell_type": "code",
   "execution_count": 92,
   "id": "7a0153c3-bf35-4220-985a-8172f15d6af3",
   "metadata": {},
   "outputs": [],
   "source": [
    "X_train, X_test, y_train, y_test = train_test_split(X, y, \n",
    "                                                    test_size=0.30, \n",
    "                                                    random_state=42)"
   ]
  },
  {
   "cell_type": "code",
   "execution_count": 93,
   "id": "07eee7bc-c25a-4a6c-b2a4-810a66636f48",
   "metadata": {},
   "outputs": [],
   "source": [
    "scaler = StandardScaler()"
   ]
  },
  {
   "cell_type": "code",
   "execution_count": 94,
   "id": "ec634357-2643-48c5-8bd7-d3aa4e87a695",
   "metadata": {},
   "outputs": [],
   "source": [
    "scaler.fit(X_train)\n",
    "X_train = scaler.transform(X_train)"
   ]
  },
  {
   "cell_type": "code",
   "execution_count": 95,
   "id": "136dbf11-7b32-452e-b06e-6b970aa3dffa",
   "metadata": {},
   "outputs": [],
   "source": [
    "scaler.fit(X_test)\n",
    "X_test = scaler.transform(X_test)"
   ]
  },
  {
   "cell_type": "markdown",
   "id": "aed1cb07-3ae1-4b73-acdc-88f61703bab7",
   "metadata": {},
   "source": [
    "# Model & Tahmin"
   ]
  },
  {
   "cell_type": "code",
   "execution_count": 96,
   "id": "13c0678f-b800-49da-9abf-b917b379efbd",
   "metadata": {},
   "outputs": [
    {
     "name": "stderr",
     "output_type": "stream",
     "text": [
      "C:\\ProgramData\\Anaconda3\\lib\\site-packages\\sklearn\\neural_network\\_multilayer_perceptron.py:692: ConvergenceWarning: Stochastic Optimizer: Maximum iterations (200) reached and the optimization hasn't converged yet.\n",
      "  warnings.warn(\n"
     ]
    }
   ],
   "source": [
    "mlpc_model = MLPClassifier().fit(X_train, y_train)"
   ]
  },
  {
   "cell_type": "code",
   "execution_count": 97,
   "id": "baac8de4-0be1-4c48-b88e-f23bc190f40f",
   "metadata": {
    "collapsed": true,
    "jupyter": {
     "outputs_hidden": true
    },
    "tags": []
   },
   "outputs": [
    {
     "data": {
      "text/plain": [
       "[array([[-1.16484044e-02, -1.57917286e-01,  9.70296776e-03,\n",
       "         -1.23857074e-01,  1.60385902e-01,  1.04666140e-02,\n",
       "          3.86660497e-01,  9.81797232e-03, -1.15017649e-01,\n",
       "         -2.04040318e-01,  1.60451771e-01,  8.05445588e-02,\n",
       "         -2.20779948e-01,  1.45657428e-01, -1.81936963e-01,\n",
       "         -6.68810050e-02,  1.29703822e-02,  3.17714970e-01,\n",
       "          8.58716436e-02, -1.28451288e-01, -2.63160666e-01,\n",
       "         -5.39666552e-02,  2.23742865e-01, -1.66828400e-01,\n",
       "          1.06027634e-01,  2.75927820e-01, -1.55489466e-01,\n",
       "          1.14284918e-01, -3.15901267e-01,  2.36854510e-02,\n",
       "         -1.09956327e-01, -2.91389203e-01,  2.30348583e-01,\n",
       "         -1.04273790e-01, -1.59197946e-01, -1.19947147e-02,\n",
       "         -2.18724462e-01,  1.16758893e-01,  1.14332983e-01,\n",
       "         -2.03882583e-01, -3.81330068e-01,  7.37540229e-03,\n",
       "         -1.04981282e-02, -5.92733041e-02,  2.57345132e-01,\n",
       "          2.21798751e-01,  1.97727069e-01,  3.79101958e-02,\n",
       "         -8.08443835e-02, -1.25771370e-01, -1.13277581e-02,\n",
       "         -1.59951003e-01, -2.95419575e-01, -8.53170055e-03,\n",
       "         -2.97453757e-01,  1.44333856e-01,  2.44028159e-01,\n",
       "         -3.28716111e-01,  1.68092657e-01, -8.33513537e-02,\n",
       "         -2.09853628e-01,  1.90358161e-01, -3.46415299e-01,\n",
       "         -1.90692119e-01,  3.27732409e-02, -1.77224013e-01,\n",
       "          2.01030970e-01, -1.23021165e-01, -2.06589260e-01,\n",
       "         -4.18288536e-01, -1.36727444e-01, -1.21693460e-01,\n",
       "          3.57352138e-02,  1.99324204e-01, -5.50769949e-02,\n",
       "          1.87109289e-01,  2.89148000e-02,  4.85607128e-03,\n",
       "         -3.85255259e-01, -4.40448214e-02,  2.14229437e-02,\n",
       "          3.21244687e-01,  1.17166939e-01, -1.19974764e-01,\n",
       "          2.79361333e-01,  8.06558543e-02,  2.81775477e-01,\n",
       "         -3.87637985e-02, -1.37168380e-01, -2.88738355e-01,\n",
       "          1.84439830e-01, -6.68406028e-02,  3.13365921e-01,\n",
       "         -1.45859177e-01, -1.76961647e-01, -1.15805841e-01,\n",
       "         -3.50820939e-01,  2.92101700e-01,  1.66725602e-02,\n",
       "         -1.66912659e-01],\n",
       "        [-4.61995622e-02, -1.72768144e-01, -1.52435981e-01,\n",
       "         -9.56380628e-02, -1.85936264e-01, -2.56637610e-01,\n",
       "         -1.50201888e-01, -4.87388634e-02,  1.73317077e-01,\n",
       "          1.02794371e-01,  1.18018122e-01,  2.75614243e-01,\n",
       "         -1.81070467e-01,  2.72817830e-01, -3.98340877e-02,\n",
       "         -5.21189085e-03, -3.76469328e-02,  1.36505782e-01,\n",
       "          1.89381080e-01, -1.46826134e-01,  1.13688914e-01,\n",
       "         -9.59950599e-02, -5.83286289e-02,  3.33880789e-01,\n",
       "          2.91344378e-01, -2.69048735e-02, -1.64304045e-01,\n",
       "          1.21983986e-01, -2.36762291e-01, -6.21138995e-02,\n",
       "          8.78315223e-02, -1.22185539e-01, -5.45245395e-02,\n",
       "         -2.15042084e-02, -3.30583829e-01, -2.49836646e-01,\n",
       "         -1.34541297e-01, -1.86483234e-01, -1.70821254e-01,\n",
       "         -1.24709519e-02, -7.13791252e-02,  8.24283805e-03,\n",
       "          2.21645338e-01, -4.66787923e-02,  1.23049033e-01,\n",
       "          5.80825527e-02, -3.89185252e-02, -6.92689178e-03,\n",
       "         -1.59889227e-02,  2.29011871e-01, -1.66945097e-01,\n",
       "         -7.70015543e-02, -3.05863784e-01, -6.87707774e-02,\n",
       "         -2.42077748e-01, -1.91296774e-01, -3.61639813e-01,\n",
       "         -1.56219046e-01, -9.64269124e-02,  8.24330951e-03,\n",
       "          2.02074708e-01,  2.03137681e-01,  2.98125558e-01,\n",
       "         -1.51054915e-01,  2.62676032e-01, -2.48035513e-02,\n",
       "          8.77821310e-02,  2.47627228e-01, -1.40405064e-01,\n",
       "          4.61406833e-01,  4.73604998e-01,  2.55681083e-01,\n",
       "         -1.10219677e-01,  3.32953866e-02, -1.07081506e-01,\n",
       "         -5.63976041e-02, -4.64000404e-02, -1.49908429e-01,\n",
       "          3.85702377e-01,  4.14110540e-02,  9.82044774e-02,\n",
       "          1.51308942e-01, -1.12322574e-01, -3.19142792e-01,\n",
       "          4.58775438e-02, -1.01831966e-02,  1.75911748e-01,\n",
       "         -1.60124203e-01,  2.81232256e-01,  2.02689686e-01,\n",
       "         -2.65077639e-01, -1.16491456e-01, -7.54281075e-02,\n",
       "          9.21602604e-03, -1.52308658e-02, -3.13504372e-02,\n",
       "         -1.43691894e-01, -2.16459629e-01,  1.85373170e-01,\n",
       "          1.05259481e-02],\n",
       "        [-2.52302473e-01, -3.09781480e-03, -1.53595714e-01,\n",
       "         -3.22086681e-02, -1.80026563e-01,  1.67451749e-02,\n",
       "         -2.85607133e-01, -3.03588835e-01, -7.15287897e-02,\n",
       "          2.53602976e-01,  4.66039203e-02, -3.21780605e-01,\n",
       "         -1.31681954e-01, -3.30698907e-02,  2.47531511e-01,\n",
       "          6.56978124e-02,  2.61282375e-01, -1.48037622e-01,\n",
       "         -6.20188216e-02,  2.44079707e-01, -1.69636625e-01,\n",
       "         -1.59214001e-01,  1.57603554e-02, -1.86234085e-01,\n",
       "          2.11842640e-01,  8.89452915e-02, -5.55033697e-01,\n",
       "          6.81944893e-02, -1.50452709e-01, -1.95341164e-01,\n",
       "         -5.50392443e-02,  2.75672898e-01, -1.39141957e-01,\n",
       "         -1.39101456e-01,  3.82837165e-02,  2.42198258e-02,\n",
       "          8.06875345e-02,  1.64580816e-01,  1.44274015e-04,\n",
       "          1.35806581e-01,  1.34479006e-01,  4.18389280e-02,\n",
       "          8.13294070e-02, -3.44727791e-01,  3.07944373e-01,\n",
       "          1.31199099e-01,  5.70701551e-03, -1.16417559e-01,\n",
       "          7.66103419e-02,  2.55469402e-01,  3.27847339e-01,\n",
       "          3.34589513e-01, -3.89885303e-02,  1.08386599e-01,\n",
       "          2.26747645e-01, -1.85340737e-01, -8.02117362e-02,\n",
       "          3.59049646e-02, -2.18786458e-02,  3.88563548e-01,\n",
       "          1.87344929e-01, -1.05558851e-01, -9.27319108e-02,\n",
       "         -1.30844565e-01, -5.21683267e-02,  1.55989164e-01,\n",
       "         -1.22717164e-01,  1.51057208e-02,  3.24636290e-01,\n",
       "         -2.59948426e-01, -2.42477033e-01, -6.34658169e-02,\n",
       "          3.32702517e-01, -7.04412954e-02, -2.19073902e-01,\n",
       "         -2.15212240e-01,  1.25406791e-01,  1.40601828e-01,\n",
       "          2.06694278e-01, -4.98019033e-02,  5.43084599e-02,\n",
       "         -2.80014768e-01, -2.18889597e-02,  1.91162096e-01,\n",
       "         -1.67428895e-01, -3.87543545e-01, -1.14116737e-01,\n",
       "          1.63065518e-01, -1.43129780e-01,  2.70622559e-01,\n",
       "          2.18197303e-02, -5.44423987e-02,  1.59870194e-01,\n",
       "         -2.23359790e-01,  7.71708715e-02,  1.51237529e-01,\n",
       "          8.63364702e-03,  3.77185969e-02, -2.83283842e-01,\n",
       "         -3.33574307e-01],\n",
       "        [-3.67801439e-02, -1.30908950e-01, -1.79029000e-01,\n",
       "          1.03861866e-01, -8.83123339e-02, -1.78062154e-02,\n",
       "         -9.67444749e-02, -9.94869176e-02, -2.62365801e-01,\n",
       "         -2.73140042e-01, -1.35877444e-01,  2.82266033e-01,\n",
       "          3.11574803e-01, -2.66699391e-01,  2.70192129e-01,\n",
       "         -2.10864140e-01, -1.46142753e-01,  1.51658804e-01,\n",
       "         -1.63427470e-01,  7.96757786e-02,  2.29646399e-03,\n",
       "         -1.56736286e-01, -7.06369020e-02, -3.10070679e-01,\n",
       "          2.25069727e-01,  1.87272540e-01,  9.61940490e-02,\n",
       "          5.19927328e-02, -1.99121157e-03, -3.23327553e-03,\n",
       "         -2.08991346e-01,  1.84686100e-01, -1.10498162e-01,\n",
       "          7.56359604e-03, -1.23813819e-01,  2.41997390e-01,\n",
       "          2.16475138e-02,  2.48480101e-01, -1.73622869e-01,\n",
       "         -2.28274595e-01,  1.20862681e-01,  2.38675380e-01,\n",
       "         -6.14956481e-02,  8.03230289e-02, -2.99786817e-01,\n",
       "         -1.59598356e-01,  1.96474103e-01, -1.04986745e-01,\n",
       "         -7.35750581e-02,  1.55118910e-01,  5.87635419e-02,\n",
       "         -1.51457035e-01, -1.31030021e-02, -2.06910456e-01,\n",
       "         -4.32995811e-01,  1.34932261e-01,  1.29197527e-01,\n",
       "         -1.69354623e-01, -1.83501156e-01,  1.11838606e-01,\n",
       "         -1.43234050e-01,  2.48583598e-01, -2.65554852e-01,\n",
       "         -1.37654356e-02,  2.45215180e-01, -8.72272953e-02,\n",
       "          1.36052218e-01,  1.07123808e-01,  1.46247735e-01,\n",
       "         -9.04553594e-02,  2.14661796e-01, -1.46495729e-02,\n",
       "         -1.97130118e-01,  2.35888655e-01,  2.10619681e-01,\n",
       "         -2.31444002e-01, -1.93739613e-01,  7.87181712e-02,\n",
       "         -1.01958636e-01, -2.50536111e-01,  2.13170314e-01,\n",
       "          2.42624831e-01, -3.30491471e-01,  6.54223611e-02,\n",
       "         -2.62443985e-01, -4.34026710e-02,  1.42007682e-02,\n",
       "         -4.73976130e-02, -1.38858494e-01,  4.84755989e-02,\n",
       "         -1.80280558e-01,  2.32536586e-01,  2.23713115e-01,\n",
       "          1.10759889e-01,  5.63207150e-02, -4.03732228e-02,\n",
       "         -1.60606724e-01, -2.24535066e-02, -1.24242311e-01,\n",
       "         -3.72699540e-02],\n",
       "        [ 2.58897694e-01,  1.62287567e-01,  2.14461158e-01,\n",
       "         -1.86731584e-01, -5.91811436e-02, -7.68420977e-02,\n",
       "         -1.98331703e-01, -2.26525225e-01, -2.75411507e-01,\n",
       "          1.94977308e-01,  6.55636593e-02, -1.35660691e-01,\n",
       "         -3.20835616e-01,  7.32580488e-02,  1.93675683e-01,\n",
       "          9.43446069e-02,  3.46017559e-02,  6.50357519e-03,\n",
       "          5.35316751e-05,  2.76875488e-01,  1.34726749e-01,\n",
       "          1.50566510e-01,  1.41250119e-01, -3.91357434e-01,\n",
       "          3.28131876e-01,  2.59852707e-01,  5.85507858e-02,\n",
       "         -1.86303585e-01,  2.15834364e-01, -4.57188329e-01,\n",
       "          2.21919034e-01, -4.26145177e-02, -5.84074901e-01,\n",
       "         -1.92843002e-01,  2.58160635e-01, -2.54407648e-01,\n",
       "          1.35703850e-01,  2.15967313e-01, -2.52926431e-01,\n",
       "          1.12109670e-01, -4.21306107e-01,  1.74979244e-01,\n",
       "          2.84440278e-01,  4.08870720e-02, -3.41510388e-01,\n",
       "          2.70228565e-02, -1.70602432e-02, -2.27749268e-01,\n",
       "          6.53419603e-02,  2.46625605e-01, -4.33352834e-01,\n",
       "          4.33363106e-02,  2.51759072e-01,  1.26612967e-01,\n",
       "          1.88808309e-01,  4.42601102e-02,  2.79973418e-01,\n",
       "          1.95891735e-01, -1.89934601e-01, -1.17355724e-01,\n",
       "          1.91385729e-01, -2.23457292e-04,  6.14468219e-02,\n",
       "          3.47591539e-03, -1.08390527e-01,  7.27613951e-02,\n",
       "          2.10139950e-01, -2.10244701e-01,  3.16018260e-02,\n",
       "          8.78125754e-02, -1.93980149e-01,  8.63341608e-02,\n",
       "          6.12562719e-02,  1.80263242e-01,  1.91603871e-01,\n",
       "         -3.48157861e-01, -2.79681392e-01,  2.84458457e-01,\n",
       "         -2.34742883e-01,  1.97071922e-01,  2.94197378e-01,\n",
       "          2.00867744e-01,  1.94618843e-01,  1.64657986e-01,\n",
       "         -1.32480732e-01,  2.79615560e-01,  2.14034204e-01,\n",
       "         -1.14950277e-01, -1.80438105e-01, -1.08593137e-01,\n",
       "          1.68105785e-01, -1.60079221e-01,  2.13665071e-01,\n",
       "         -1.60747573e-02, -6.68057620e-02,  2.60852923e-03,\n",
       "         -1.77840723e-01,  8.59182440e-02, -5.24861293e-02,\n",
       "          1.92022426e-02],\n",
       "        [-1.25811755e-01, -1.87473167e-01, -1.83726595e-01,\n",
       "         -2.86013592e-01, -1.74773932e-01, -1.62909682e-01,\n",
       "          1.48731443e-01,  2.04316862e-01,  1.17356707e-01,\n",
       "         -1.20683906e-01, -8.87158025e-02,  7.94367629e-03,\n",
       "         -5.10888767e-02, -6.68693927e-02, -1.05845044e-01,\n",
       "         -6.51453974e-02, -1.52265997e-01,  2.78174058e-01,\n",
       "          5.02586563e-03,  1.65728530e-01,  8.02416318e-02,\n",
       "         -3.52999482e-01, -2.05236204e-01,  1.03288942e-01,\n",
       "         -1.28984567e-01, -2.26401431e-01, -2.35644618e-01,\n",
       "         -2.04367282e-01, -5.09033052e-02,  2.18071420e-01,\n",
       "         -2.67639001e-01, -1.48566912e-02,  2.87510417e-01,\n",
       "          2.58442712e-01,  1.90132565e-01,  3.28399455e-02,\n",
       "          1.78118832e-01,  2.00414011e-01,  1.00790919e-01,\n",
       "          3.56784549e-01, -1.37105202e-01, -1.83231113e-02,\n",
       "          1.95891759e-01,  1.05360883e-01,  7.91161679e-02,\n",
       "          1.99915862e-01, -3.15121131e-02,  1.34783834e-01,\n",
       "         -1.00641917e-01,  2.08665727e-01,  1.83275419e-01,\n",
       "          2.56911660e-01, -1.44106143e-02, -1.82841440e-01,\n",
       "         -9.72101332e-02, -9.67347801e-02,  2.05407544e-01,\n",
       "         -1.38052786e-01, -3.35291406e-01,  1.64710683e-01,\n",
       "         -1.79515501e-01, -3.86555506e-02,  2.32206243e-01,\n",
       "         -1.52515263e-01, -1.45204935e-01, -6.34255442e-02,\n",
       "          7.37424119e-02, -7.64305319e-02, -2.58860792e-01,\n",
       "          3.39007480e-01,  1.25752892e-01,  1.80278356e-01,\n",
       "          4.12848687e-01, -1.09286502e-01, -2.46472178e-01,\n",
       "          3.22551080e-01, -2.39615388e-01, -1.10985831e-01,\n",
       "         -1.51835121e-01,  7.59862625e-02,  6.23575888e-02,\n",
       "          4.34223413e-02, -3.00288344e-01,  1.71042850e-01,\n",
       "          1.58884663e-01, -1.68476785e-01,  1.23773735e-01,\n",
       "          1.56451828e-01,  1.32055360e-01, -1.52779680e-01,\n",
       "          2.58353753e-01,  7.37648927e-02, -2.53155899e-01,\n",
       "          1.29256747e-01, -5.63908554e-02,  2.84669470e-02,\n",
       "         -1.19948929e-01, -1.09048839e-01, -1.19903476e-01,\n",
       "         -2.76272799e-01],\n",
       "        [ 2.74298768e-02, -3.23964005e-01,  2.18899220e-01,\n",
       "         -4.26421673e-02, -4.82294511e-01, -2.69519850e-01,\n",
       "          4.42565798e-02,  9.85510750e-02,  2.14050340e-01,\n",
       "         -2.02873092e-01, -7.38409658e-02,  1.21093781e-01,\n",
       "         -7.29230783e-02, -1.51558574e-01, -1.27101234e-01,\n",
       "         -4.39614459e-02,  2.90115624e-01,  2.66280737e-01,\n",
       "         -1.05390683e-01,  2.91934132e-02, -2.14849660e-01,\n",
       "          1.90966855e-01, -6.01355761e-02,  1.43189014e-01,\n",
       "          1.91894325e-01, -4.28728972e-02,  3.03807291e-01,\n",
       "         -1.85885218e-01, -1.03459529e-01, -3.83909118e-02,\n",
       "          1.90831301e-01, -2.24835631e-01, -9.69618712e-02,\n",
       "         -1.18372227e-01, -1.86348375e-02, -2.87680454e-01,\n",
       "          9.02766220e-02,  1.83258503e-01,  2.10710600e-01,\n",
       "          1.14840123e-01, -1.56626955e-01, -3.15287577e-02,\n",
       "          9.81429380e-02, -1.76324594e-01,  9.68295698e-02,\n",
       "          9.68033031e-02, -4.66618555e-01,  9.81421098e-02,\n",
       "          2.78360510e-01,  2.65860081e-01,  1.60491145e-01,\n",
       "         -1.12015648e-01,  1.50777843e-01,  4.85365906e-02,\n",
       "          3.56497189e-01, -5.17402985e-01, -1.17160162e-01,\n",
       "          1.97064515e-01, -2.25962623e-01,  1.74642285e-01,\n",
       "         -1.80734657e-01,  1.34514292e-01, -1.07023728e-01,\n",
       "         -4.94595924e-01,  5.82468233e-02,  1.83611758e-01,\n",
       "         -1.59753301e-01,  7.27217503e-02,  2.10871009e-01,\n",
       "         -3.45282025e-01, -5.43050942e-02,  1.00455254e-01,\n",
       "          1.81358115e-01, -1.34810061e-01, -3.39759705e-01,\n",
       "          8.67421642e-02,  6.68949134e-02,  1.62679935e-01,\n",
       "         -3.64705225e-02, -4.83380681e-02,  9.99810699e-02,\n",
       "         -3.22108517e-01,  2.09269096e-01,  1.37290836e-01,\n",
       "         -1.22313946e-01,  3.29611181e-03, -7.73017969e-02,\n",
       "         -4.11764660e-01,  4.24961018e-02,  1.87247741e-02,\n",
       "         -4.02584670e-02,  1.87723773e-01,  2.15823114e-01,\n",
       "         -1.47094152e-01, -5.50431416e-01, -2.25182974e-01,\n",
       "          4.61284867e-02,  1.69810196e-01, -4.08566797e-02,\n",
       "         -8.47849544e-02],\n",
       "        [-2.47327423e-01, -3.24471813e-01, -1.83026539e-01,\n",
       "         -2.73639532e-01,  1.35557110e-01, -1.28492050e-02,\n",
       "         -6.08837587e-02, -2.96387748e-02, -1.61370891e-01,\n",
       "          2.08325297e-01,  1.24050009e-01, -1.63808348e-01,\n",
       "          7.75694096e-02, -1.31292746e-01,  2.87593584e-01,\n",
       "          6.09231949e-02, -1.59025070e-01, -1.05500625e-01,\n",
       "         -2.88364340e-02,  7.84506845e-02,  1.48428106e-01,\n",
       "          2.41585631e-01, -1.42486273e-01, -1.23657744e-01,\n",
       "          1.26256406e-01, -6.72695953e-02,  2.94244045e-01,\n",
       "         -2.48103062e-01, -3.39194713e-01,  4.72989659e-02,\n",
       "          3.18627340e-02, -2.62273579e-01, -1.21588317e-01,\n",
       "          6.52200057e-02, -2.73355374e-01, -3.88128464e-01,\n",
       "          1.03706658e-01, -3.97535022e-02,  4.56731924e-01,\n",
       "         -2.25177966e-01, -2.75224360e-01, -3.80058631e-01,\n",
       "          9.67763288e-02, -2.55853530e-01,  3.88824183e-01,\n",
       "          1.61153370e-01, -2.39644686e-01,  2.50530648e-01,\n",
       "         -3.54122108e-01, -2.86656669e-02,  2.19171159e-01,\n",
       "         -1.23762210e-01, -2.72273894e-01, -3.43919657e-01,\n",
       "         -5.12363465e-01, -1.80694481e-01,  6.07929512e-02,\n",
       "         -5.05278629e-01,  3.86954199e-01,  1.17404441e-01,\n",
       "          1.85690694e-01, -1.68551130e-01,  1.99330245e-01,\n",
       "         -2.58371201e-01, -1.58318945e-01, -3.29217564e-01,\n",
       "          3.04591978e-01,  5.54850351e-02, -5.11929230e-02,\n",
       "          2.47320211e-01, -1.63284323e-01, -5.44744898e-03,\n",
       "         -1.92653975e-01, -3.54270378e-01, -3.63676669e-01,\n",
       "          1.17504405e-01,  1.32191611e-01,  1.28833839e-01,\n",
       "          9.41322850e-03, -1.95896821e-01,  6.94623286e-02,\n",
       "          3.26857006e-01,  8.03769379e-02,  2.29567722e-01,\n",
       "         -1.70947929e-01,  2.25730197e-01,  3.07932361e-01,\n",
       "         -1.23422471e-01, -3.30192927e-02,  8.70396364e-03,\n",
       "          1.30719584e-01, -2.00888825e-01,  2.60046973e-02,\n",
       "         -8.16329245e-02, -1.40836258e-01, -3.72395688e-01,\n",
       "         -2.46696560e-01, -1.14730523e-01, -1.72751949e-01,\n",
       "          2.11341315e-01]]),\n",
       " array([[-0.26577159],\n",
       "        [-0.2086185 ],\n",
       "        [-0.33220944],\n",
       "        [-0.32211739],\n",
       "        [-0.34423842],\n",
       "        [-0.18064717],\n",
       "        [ 0.27983647],\n",
       "        [ 0.12741037],\n",
       "        [ 0.23044195],\n",
       "        [ 0.31624252],\n",
       "        [ 0.09293899],\n",
       "        [ 0.22610745],\n",
       "        [-0.41308374],\n",
       "        [ 0.39765786],\n",
       "        [ 0.12616122],\n",
       "        [-0.20346305],\n",
       "        [-0.33484871],\n",
       "        [ 0.25001497],\n",
       "        [ 0.21780104],\n",
       "        [ 0.11118372],\n",
       "        [ 0.09932589],\n",
       "        [-0.26611198],\n",
       "        [ 0.22494718],\n",
       "        [ 0.18367648],\n",
       "        [ 0.26292395],\n",
       "        [ 0.22551349],\n",
       "        [-0.33312203],\n",
       "        [-0.22288413],\n",
       "        [-0.19653093],\n",
       "        [ 0.34609115],\n",
       "        [-0.14420709],\n",
       "        [-0.28453117],\n",
       "        [ 0.34920835],\n",
       "        [ 0.09420257],\n",
       "        [-0.16708548],\n",
       "        [-0.11376638],\n",
       "        [ 0.16573894],\n",
       "        [ 0.13059996],\n",
       "        [-0.27951761],\n",
       "        [-0.14422795],\n",
       "        [-0.25475945],\n",
       "        [-0.24381361],\n",
       "        [ 0.28674139],\n",
       "        [-0.22447688],\n",
       "        [-0.10754167],\n",
       "        [-0.20158336],\n",
       "        [-0.51558483],\n",
       "        [-0.05525986],\n",
       "        [-0.14266453],\n",
       "        [ 0.30465863],\n",
       "        [-0.30850085],\n",
       "        [-0.047077  ],\n",
       "        [-0.3619991 ],\n",
       "        [-0.29856134],\n",
       "        [-0.25900623],\n",
       "        [-0.27837511],\n",
       "        [ 0.42863741],\n",
       "        [-0.16941622],\n",
       "        [-0.23526667],\n",
       "        [-0.146318  ],\n",
       "        [ 0.44112398],\n",
       "        [ 0.21472651],\n",
       "        [ 0.40698979],\n",
       "        [-0.28144505],\n",
       "        [ 0.29743815],\n",
       "        [-0.26072758],\n",
       "        [-0.3864128 ],\n",
       "        [ 0.18418119],\n",
       "        [-0.20379635],\n",
       "        [ 0.26494315],\n",
       "        [ 0.37295585],\n",
       "        [ 0.20643748],\n",
       "        [-0.4537575 ],\n",
       "        [-0.34264578],\n",
       "        [-0.18722178],\n",
       "        [ 0.32262047],\n",
       "        [-0.23371882],\n",
       "        [ 0.21399766],\n",
       "        [ 0.45970646],\n",
       "        [-0.12599569],\n",
       "        [ 0.28443888],\n",
       "        [-0.17989521],\n",
       "        [-0.15099009],\n",
       "        [ 0.40450269],\n",
       "        [ 0.30495893],\n",
       "        [-0.24916048],\n",
       "        [-0.13557762],\n",
       "        [-0.2296392 ],\n",
       "        [ 0.32726134],\n",
       "        [ 0.15825802],\n",
       "        [ 0.26280155],\n",
       "        [ 0.15513419],\n",
       "        [ 0.31212542],\n",
       "        [ 0.18574848],\n",
       "        [-0.39040955],\n",
       "        [-0.08835384],\n",
       "        [-0.37584634],\n",
       "        [ 0.15228394],\n",
       "        [ 0.2120709 ],\n",
       "        [-0.28031523]])]"
      ]
     },
     "execution_count": 97,
     "metadata": {},
     "output_type": "execute_result"
    }
   ],
   "source": [
    "mlpc_model.coefs_"
   ]
  },
  {
   "cell_type": "code",
   "execution_count": 98,
   "id": "b1d326dd-8521-4aa3-8ef3-8cca94710a27",
   "metadata": {},
   "outputs": [],
   "source": [
    "y_pred = mlpc_model.predict(X_test)"
   ]
  },
  {
   "cell_type": "code",
   "execution_count": 99,
   "id": "ca6ddce4-6a50-41a9-a0a5-a66ee0d06e1d",
   "metadata": {},
   "outputs": [
    {
     "data": {
      "text/plain": [
       "0.7316017316017316"
      ]
     },
     "execution_count": 99,
     "metadata": {},
     "output_type": "execute_result"
    }
   ],
   "source": [
    "accuracy_score(y_test, y_pred)"
   ]
  },
  {
   "cell_type": "markdown",
   "id": "17b43fe5-19a4-4161-8780-f1e119304d75",
   "metadata": {},
   "source": [
    "# Model Tuning"
   ]
  },
  {
   "cell_type": "code",
   "execution_count": 100,
   "id": "410ed5ad-6049-435c-bb08-1c4d918c179d",
   "metadata": {},
   "outputs": [],
   "source": [
    "mlpc_params = {\"alpha\":[1,5, 0.1,0.01, 0.03, 0.005, 0.0001],\n",
    "              \"hidden_layer_sizes\": [(10,10), (100,100,100), (100,100), (3,5)]}"
   ]
  },
  {
   "cell_type": "code",
   "execution_count": 101,
   "id": "2241918a-179d-4446-ad3f-860186d873e4",
   "metadata": {},
   "outputs": [],
   "source": [
    "mlpc = MLPClassifier(solver = \"lbfgs\", activation = \"logistic\")"
   ]
  },
  {
   "cell_type": "code",
   "execution_count": 102,
   "id": "997c7505-2822-43a6-b7dc-72542736e0f6",
   "metadata": {},
   "outputs": [
    {
     "name": "stdout",
     "output_type": "stream",
     "text": [
      "Fitting 10 folds for each of 28 candidates, totalling 280 fits\n"
     ]
    }
   ],
   "source": [
    "mlpc_cv_model = GridSearchCV(mlpc, mlpc_params, cv = 10, n_jobs = -1, verbose = 2).fit(X_train, y_train)"
   ]
  },
  {
   "cell_type": "code",
   "execution_count": 103,
   "id": "cfbe50fa-a12e-409a-959e-161cb46a50ce",
   "metadata": {},
   "outputs": [
    {
     "data": {
      "text/plain": [
       "{'alpha': 1, 'hidden_layer_sizes': (3, 5)}"
      ]
     },
     "execution_count": 103,
     "metadata": {},
     "output_type": "execute_result"
    }
   ],
   "source": [
    "mlpc_cv_model.best_params_"
   ]
  },
  {
   "cell_type": "code",
   "execution_count": 104,
   "id": "2e4485cb-0eef-4136-92bb-ac23e3491e37",
   "metadata": {},
   "outputs": [],
   "source": [
    "#finalmodel"
   ]
  },
  {
   "cell_type": "code",
   "execution_count": 105,
   "id": "113a78eb-82a6-4107-81cc-d8dd3125877b",
   "metadata": {},
   "outputs": [],
   "source": [
    "mlpc_tuned = MLPClassifier(solver = \"lbfgs\",activation='logistic', alpha = 1, hidden_layer_sizes = (3,5)).fit(X_train, y_train)"
   ]
  },
  {
   "cell_type": "code",
   "execution_count": 106,
   "id": "db78328d-7f3a-4b88-a8e2-a7fc5a5e1019",
   "metadata": {},
   "outputs": [],
   "source": [
    "y_pred = mlpc_tuned.predict(X_test)"
   ]
  },
  {
   "cell_type": "code",
   "execution_count": 107,
   "id": "75f6ed7b-1d6d-44dd-8144-152cf2cba456",
   "metadata": {},
   "outputs": [
    {
     "data": {
      "text/plain": [
       "0.7575757575757576"
      ]
     },
     "execution_count": 107,
     "metadata": {},
     "output_type": "execute_result"
    }
   ],
   "source": [
    "accuracy_score(y_test, y_pred)"
   ]
  },
  {
   "cell_type": "markdown",
   "id": "2dfca42a-9b23-40b9-964c-70c10817510a",
   "metadata": {},
   "source": [
    "# CART (Classification and Regression Tree)"
   ]
  },
  {
   "cell_type": "code",
   "execution_count": 16,
   "id": "cfdb47d7-611c-4431-9da1-d18224e81470",
   "metadata": {},
   "outputs": [
    {
     "data": {
      "text/html": [
       "<div>\n",
       "<style scoped>\n",
       "    .dataframe tbody tr th:only-of-type {\n",
       "        vertical-align: middle;\n",
       "    }\n",
       "\n",
       "    .dataframe tbody tr th {\n",
       "        vertical-align: top;\n",
       "    }\n",
       "\n",
       "    .dataframe thead th {\n",
       "        text-align: right;\n",
       "    }\n",
       "</style>\n",
       "<table border=\"1\" class=\"dataframe\">\n",
       "  <thead>\n",
       "    <tr style=\"text-align: right;\">\n",
       "      <th></th>\n",
       "      <th>Pregnancies</th>\n",
       "      <th>Glucose</th>\n",
       "      <th>BloodPressure</th>\n",
       "      <th>SkinThickness</th>\n",
       "      <th>Insulin</th>\n",
       "      <th>BMI</th>\n",
       "      <th>DiabetesPedigreeFunction</th>\n",
       "      <th>Age</th>\n",
       "      <th>Outcome</th>\n",
       "    </tr>\n",
       "  </thead>\n",
       "  <tbody>\n",
       "    <tr>\n",
       "      <th>0</th>\n",
       "      <td>6</td>\n",
       "      <td>148</td>\n",
       "      <td>72</td>\n",
       "      <td>35</td>\n",
       "      <td>0</td>\n",
       "      <td>33.6</td>\n",
       "      <td>0.627</td>\n",
       "      <td>50</td>\n",
       "      <td>1</td>\n",
       "    </tr>\n",
       "    <tr>\n",
       "      <th>1</th>\n",
       "      <td>1</td>\n",
       "      <td>85</td>\n",
       "      <td>66</td>\n",
       "      <td>29</td>\n",
       "      <td>0</td>\n",
       "      <td>26.6</td>\n",
       "      <td>0.351</td>\n",
       "      <td>31</td>\n",
       "      <td>0</td>\n",
       "    </tr>\n",
       "    <tr>\n",
       "      <th>2</th>\n",
       "      <td>8</td>\n",
       "      <td>183</td>\n",
       "      <td>64</td>\n",
       "      <td>0</td>\n",
       "      <td>0</td>\n",
       "      <td>23.3</td>\n",
       "      <td>0.672</td>\n",
       "      <td>32</td>\n",
       "      <td>1</td>\n",
       "    </tr>\n",
       "    <tr>\n",
       "      <th>3</th>\n",
       "      <td>1</td>\n",
       "      <td>89</td>\n",
       "      <td>66</td>\n",
       "      <td>23</td>\n",
       "      <td>94</td>\n",
       "      <td>28.1</td>\n",
       "      <td>0.167</td>\n",
       "      <td>21</td>\n",
       "      <td>0</td>\n",
       "    </tr>\n",
       "    <tr>\n",
       "      <th>4</th>\n",
       "      <td>0</td>\n",
       "      <td>137</td>\n",
       "      <td>40</td>\n",
       "      <td>35</td>\n",
       "      <td>168</td>\n",
       "      <td>43.1</td>\n",
       "      <td>2.288</td>\n",
       "      <td>33</td>\n",
       "      <td>1</td>\n",
       "    </tr>\n",
       "  </tbody>\n",
       "</table>\n",
       "</div>"
      ],
      "text/plain": [
       "   Pregnancies  Glucose  BloodPressure  SkinThickness  Insulin   BMI  \\\n",
       "0            6      148             72             35        0  33.6   \n",
       "1            1       85             66             29        0  26.6   \n",
       "2            8      183             64              0        0  23.3   \n",
       "3            1       89             66             23       94  28.1   \n",
       "4            0      137             40             35      168  43.1   \n",
       "\n",
       "   DiabetesPedigreeFunction  Age  Outcome  \n",
       "0                     0.627   50        1  \n",
       "1                     0.351   31        0  \n",
       "2                     0.672   32        1  \n",
       "3                     0.167   21        0  \n",
       "4                     2.288   33        1  "
      ]
     },
     "execution_count": 16,
     "metadata": {},
     "output_type": "execute_result"
    }
   ],
   "source": [
    "df.head()"
   ]
  },
  {
   "cell_type": "code",
   "execution_count": 17,
   "id": "465b3a4d-7e52-40cf-ba8d-b348c0cace44",
   "metadata": {},
   "outputs": [],
   "source": [
    "X_train, X_test, y_train, y_test = train_test_split(X, y, \n",
    "                                                    test_size=0.30, \n",
    "                                                    random_state=42)"
   ]
  },
  {
   "cell_type": "markdown",
   "id": "0abfe4dd-5961-42b6-96f1-25a8bd453856",
   "metadata": {},
   "source": [
    "# Model & Tahmin"
   ]
  },
  {
   "cell_type": "code",
   "execution_count": 18,
   "id": "ccad0939-769b-4a05-8974-a3e3d1a2d0c1",
   "metadata": {},
   "outputs": [],
   "source": [
    "cart_model = DecisionTreeClassifier().fit(X_train, y_train)"
   ]
  },
  {
   "cell_type": "code",
   "execution_count": 19,
   "id": "7a4b6821-c13b-471d-be0a-e64a547b842c",
   "metadata": {},
   "outputs": [
    {
     "data": {
      "text/plain": [
       "DecisionTreeClassifier()"
      ]
     },
     "execution_count": 19,
     "metadata": {},
     "output_type": "execute_result"
    }
   ],
   "source": [
    "cart_model"
   ]
  },
  {
   "cell_type": "code",
   "execution_count": 20,
   "id": "5393d167-7ff7-4165-9336-7124d9a1697a",
   "metadata": {},
   "outputs": [],
   "source": [
    "y_pred = cart_model.predict(X_test)"
   ]
  },
  {
   "cell_type": "code",
   "execution_count": 21,
   "id": "188b01b9-ca18-48d3-97f1-93fe665a7b22",
   "metadata": {},
   "outputs": [
    {
     "data": {
      "text/plain": [
       "0.7012987012987013"
      ]
     },
     "execution_count": 21,
     "metadata": {},
     "output_type": "execute_result"
    }
   ],
   "source": [
    "accuracy_score(y_test, y_pred)"
   ]
  },
  {
   "cell_type": "markdown",
   "id": "e4039e10-4031-4e89-8185-0018b5a14f64",
   "metadata": {},
   "source": [
    "# Model Tuning"
   ]
  },
  {
   "cell_type": "code",
   "execution_count": 23,
   "id": "d868f59e-dbb8-482a-84ae-89b62817e6c7",
   "metadata": {},
   "outputs": [],
   "source": [
    "cart = DecisionTreeClassifier()"
   ]
  },
  {
   "cell_type": "code",
   "execution_count": 26,
   "id": "475d756a-9f2f-4750-95e1-d4da3320a59d",
   "metadata": {},
   "outputs": [],
   "source": [
    "cart_params = {\"max_depth\": [1,3,5,8,10],\n",
    "              \"min_samples_split\": [2,3,5,10,20,50]}"
   ]
  },
  {
   "cell_type": "code",
   "execution_count": 27,
   "id": "dc8282ff-9d40-4e9b-ae02-2868b84812ba",
   "metadata": {},
   "outputs": [
    {
     "name": "stdout",
     "output_type": "stream",
     "text": [
      "Fitting 10 folds for each of 30 candidates, totalling 300 fits\n"
     ]
    }
   ],
   "source": [
    "cart_cv_model = GridSearchCV(cart, cart_params, cv=10, n_jobs = -1, verbose = 2).fit(X_train, y_train)"
   ]
  },
  {
   "cell_type": "code",
   "execution_count": 28,
   "id": "a68d4bc2-eb27-45bb-ba4a-26eee6e170b9",
   "metadata": {},
   "outputs": [
    {
     "data": {
      "text/plain": [
       "{'max_depth': 5, 'min_samples_split': 20}"
      ]
     },
     "execution_count": 28,
     "metadata": {},
     "output_type": "execute_result"
    }
   ],
   "source": [
    "cart_cv_model.best_params_"
   ]
  },
  {
   "cell_type": "code",
   "execution_count": 29,
   "id": "6f9e3823-d391-46f6-a5bb-71195f4a44bf",
   "metadata": {},
   "outputs": [],
   "source": [
    "#final bölüm"
   ]
  },
  {
   "cell_type": "code",
   "execution_count": 30,
   "id": "c971fe47-588a-4eb5-aa08-f0f6c51d960c",
   "metadata": {},
   "outputs": [],
   "source": [
    "cart_tuned = DecisionTreeClassifier(max_depth = 5, min_samples_split=20).fit(X_train, y_train)"
   ]
  },
  {
   "cell_type": "code",
   "execution_count": 31,
   "id": "e5566c57-3370-41d4-8dc1-9eecd4f2519f",
   "metadata": {},
   "outputs": [],
   "source": [
    "y_pred = cart_tuned.predict(X_test)"
   ]
  },
  {
   "cell_type": "code",
   "execution_count": 32,
   "id": "89c93341-67d0-4b4f-b203-d1b3842f9c21",
   "metadata": {},
   "outputs": [
    {
     "data": {
      "text/plain": [
       "0.7532467532467533"
      ]
     },
     "execution_count": 32,
     "metadata": {},
     "output_type": "execute_result"
    }
   ],
   "source": [
    "accuracy_score(y_test, y_pred)"
   ]
  },
  {
   "cell_type": "markdown",
   "id": "e08e64cc-78bd-4d19-8751-168fb9059bb5",
   "metadata": {},
   "source": [
    "# Random Forests"
   ]
  },
  {
   "cell_type": "code",
   "execution_count": 33,
   "id": "8f2767b6-28f3-4221-9d27-e8966b677be8",
   "metadata": {},
   "outputs": [
    {
     "data": {
      "text/html": [
       "<div>\n",
       "<style scoped>\n",
       "    .dataframe tbody tr th:only-of-type {\n",
       "        vertical-align: middle;\n",
       "    }\n",
       "\n",
       "    .dataframe tbody tr th {\n",
       "        vertical-align: top;\n",
       "    }\n",
       "\n",
       "    .dataframe thead th {\n",
       "        text-align: right;\n",
       "    }\n",
       "</style>\n",
       "<table border=\"1\" class=\"dataframe\">\n",
       "  <thead>\n",
       "    <tr style=\"text-align: right;\">\n",
       "      <th></th>\n",
       "      <th>Pregnancies</th>\n",
       "      <th>Glucose</th>\n",
       "      <th>BloodPressure</th>\n",
       "      <th>SkinThickness</th>\n",
       "      <th>Insulin</th>\n",
       "      <th>BMI</th>\n",
       "      <th>DiabetesPedigreeFunction</th>\n",
       "      <th>Age</th>\n",
       "      <th>Outcome</th>\n",
       "    </tr>\n",
       "  </thead>\n",
       "  <tbody>\n",
       "    <tr>\n",
       "      <th>0</th>\n",
       "      <td>6</td>\n",
       "      <td>148</td>\n",
       "      <td>72</td>\n",
       "      <td>35</td>\n",
       "      <td>0</td>\n",
       "      <td>33.6</td>\n",
       "      <td>0.627</td>\n",
       "      <td>50</td>\n",
       "      <td>1</td>\n",
       "    </tr>\n",
       "    <tr>\n",
       "      <th>1</th>\n",
       "      <td>1</td>\n",
       "      <td>85</td>\n",
       "      <td>66</td>\n",
       "      <td>29</td>\n",
       "      <td>0</td>\n",
       "      <td>26.6</td>\n",
       "      <td>0.351</td>\n",
       "      <td>31</td>\n",
       "      <td>0</td>\n",
       "    </tr>\n",
       "    <tr>\n",
       "      <th>2</th>\n",
       "      <td>8</td>\n",
       "      <td>183</td>\n",
       "      <td>64</td>\n",
       "      <td>0</td>\n",
       "      <td>0</td>\n",
       "      <td>23.3</td>\n",
       "      <td>0.672</td>\n",
       "      <td>32</td>\n",
       "      <td>1</td>\n",
       "    </tr>\n",
       "    <tr>\n",
       "      <th>3</th>\n",
       "      <td>1</td>\n",
       "      <td>89</td>\n",
       "      <td>66</td>\n",
       "      <td>23</td>\n",
       "      <td>94</td>\n",
       "      <td>28.1</td>\n",
       "      <td>0.167</td>\n",
       "      <td>21</td>\n",
       "      <td>0</td>\n",
       "    </tr>\n",
       "    <tr>\n",
       "      <th>4</th>\n",
       "      <td>0</td>\n",
       "      <td>137</td>\n",
       "      <td>40</td>\n",
       "      <td>35</td>\n",
       "      <td>168</td>\n",
       "      <td>43.1</td>\n",
       "      <td>2.288</td>\n",
       "      <td>33</td>\n",
       "      <td>1</td>\n",
       "    </tr>\n",
       "  </tbody>\n",
       "</table>\n",
       "</div>"
      ],
      "text/plain": [
       "   Pregnancies  Glucose  BloodPressure  SkinThickness  Insulin   BMI  \\\n",
       "0            6      148             72             35        0  33.6   \n",
       "1            1       85             66             29        0  26.6   \n",
       "2            8      183             64              0        0  23.3   \n",
       "3            1       89             66             23       94  28.1   \n",
       "4            0      137             40             35      168  43.1   \n",
       "\n",
       "   DiabetesPedigreeFunction  Age  Outcome  \n",
       "0                     0.627   50        1  \n",
       "1                     0.351   31        0  \n",
       "2                     0.672   32        1  \n",
       "3                     0.167   21        0  \n",
       "4                     2.288   33        1  "
      ]
     },
     "execution_count": 33,
     "metadata": {},
     "output_type": "execute_result"
    }
   ],
   "source": [
    "df.head()"
   ]
  },
  {
   "cell_type": "code",
   "execution_count": 34,
   "id": "32ea177a-3511-48b4-aaaf-d25abf3c2af0",
   "metadata": {},
   "outputs": [],
   "source": [
    "X_train, X_test, y_train, y_test = train_test_split(X, y, \n",
    "                                                    test_size=0.30, \n",
    "                                                    random_state=42)"
   ]
  },
  {
   "cell_type": "markdown",
   "id": "4dde75c8-c202-4bd3-a3d1-c5e262ff0020",
   "metadata": {},
   "source": [
    "# Model & Tahmin"
   ]
  },
  {
   "cell_type": "code",
   "execution_count": 35,
   "id": "6573d52c-6e54-41c3-8100-b293a5eac7b3",
   "metadata": {},
   "outputs": [],
   "source": [
    "rf_model = RandomForestClassifier().fit(X_train, y_train)"
   ]
  },
  {
   "cell_type": "code",
   "execution_count": 36,
   "id": "566be357-d13f-4b37-8294-1924883fe6b0",
   "metadata": {},
   "outputs": [
    {
     "data": {
      "text/plain": [
       "RandomForestClassifier()"
      ]
     },
     "execution_count": 36,
     "metadata": {},
     "output_type": "execute_result"
    }
   ],
   "source": [
    "rf_model"
   ]
  },
  {
   "cell_type": "code",
   "execution_count": 37,
   "id": "040e1a61-e977-49c1-957f-60a34a298ed1",
   "metadata": {},
   "outputs": [],
   "source": [
    "y_pred = rf_model.predict(X_test)"
   ]
  },
  {
   "cell_type": "code",
   "execution_count": 38,
   "id": "30e23305-0b79-4092-8632-dac61e5fca9f",
   "metadata": {},
   "outputs": [
    {
     "data": {
      "text/plain": [
       "0.7359307359307359"
      ]
     },
     "execution_count": 38,
     "metadata": {},
     "output_type": "execute_result"
    }
   ],
   "source": [
    "accuracy_score(y_test, y_pred)"
   ]
  },
  {
   "cell_type": "markdown",
   "id": "13b4f2c7-49ac-4cd1-b102-6666f9452096",
   "metadata": {},
   "source": [
    "# Model Tuning"
   ]
  },
  {
   "cell_type": "code",
   "execution_count": 39,
   "id": "8862ae77-f1d8-435d-ad35-40ed4e60f3f6",
   "metadata": {},
   "outputs": [],
   "source": [
    "rf = RandomForestClassifier()"
   ]
  },
  {
   "cell_type": "code",
   "execution_count": 41,
   "id": "1ef3432a-7f05-4c2c-8e6d-b64334f72690",
   "metadata": {},
   "outputs": [],
   "source": [
    "rf_params = {\"n_estimators\": [100,200,500,1000],\n",
    "            \"max_features\": [3,5,7,8],\n",
    "            \"min_samples_split\": [2,5,10,20]}\n",
    "# n_estimators:kullanılacak olan ağaç sayısı\n",
    "# max_features:bölünmelerde göz önünde bulundurulması gereken maksimum değişken sayısını ifade ediyor."
   ]
  },
  {
   "cell_type": "code",
   "execution_count": 42,
   "id": "a46b8313-511c-469e-9c76-6adda47b9354",
   "metadata": {},
   "outputs": [
    {
     "name": "stdout",
     "output_type": "stream",
     "text": [
      "Fitting 10 folds for each of 64 candidates, totalling 640 fits\n"
     ]
    }
   ],
   "source": [
    "rf_cv_model = GridSearchCV(rf, rf_params, cv=10, n_jobs=-1, verbose=2).fit(X_train, y_train)"
   ]
  },
  {
   "cell_type": "code",
   "execution_count": 43,
   "id": "4490fa52-50b0-453e-96fd-9f9521d6e692",
   "metadata": {},
   "outputs": [
    {
     "data": {
      "text/plain": [
       "{'max_features': 5, 'min_samples_split': 5, 'n_estimators': 1000}"
      ]
     },
     "execution_count": 43,
     "metadata": {},
     "output_type": "execute_result"
    }
   ],
   "source": [
    "rf_cv_model.best_params_"
   ]
  },
  {
   "cell_type": "code",
   "execution_count": 44,
   "id": "2ff07031-0892-40a1-a622-c0d1e8d48aa7",
   "metadata": {},
   "outputs": [],
   "source": [
    "rf_tuned = RandomForestClassifier(max_features = 5, min_samples_split=5, n_estimators=1000).fit(X_train, y_train)"
   ]
  },
  {
   "cell_type": "code",
   "execution_count": 45,
   "id": "b7ef08fa-0d86-4339-a338-ad0002960715",
   "metadata": {},
   "outputs": [],
   "source": [
    "y_pred = rf_tuned.predict(X_test)"
   ]
  },
  {
   "cell_type": "code",
   "execution_count": 46,
   "id": "cd2a8001-b4de-473f-b667-7d8489bc0eab",
   "metadata": {},
   "outputs": [
    {
     "data": {
      "text/plain": [
       "0.7489177489177489"
      ]
     },
     "execution_count": 46,
     "metadata": {},
     "output_type": "execute_result"
    }
   ],
   "source": [
    "accuracy_score(y_test, y_pred)"
   ]
  },
  {
   "cell_type": "markdown",
   "id": "0a198d0f-06af-4139-9d57-48b616049cf9",
   "metadata": {},
   "source": [
    "# Değişken Önem Düzeyleri"
   ]
  },
  {
   "cell_type": "code",
   "execution_count": 47,
   "id": "6e0a32ef-e1cc-4c81-998e-e790d6626ba5",
   "metadata": {},
   "outputs": [
    {
     "data": {
      "image/png": "[encoded data removed]",
      "text/plain": [
       "<Figure size 432x288 with 1 Axes>"
      ]
     },
     "metadata": {
      "needs_background": "light"
     },
     "output_type": "display_data"
    }
   ],
   "source": [
    "feature_imp = pd.Series(rf_tuned.feature_importances_,\n",
    "                        index=X_train.columns).sort_values(ascending=False)\n",
    "#Amacımız daha az değişkenle en çok açıklanabilirliği sağlamak.\n",
    "sns.barplot(x=feature_imp, y=feature_imp.index)\n",
    "plt.xlabel('Değişken Önem Skorları')\n",
    "plt.ylabel('Değişkenler')\n",
    "plt.title(\"Değişken Önem Düzeyleri\")\n",
    "plt.show()"
   ]
  },
  {
   "cell_type": "markdown",
   "id": "e14062e6-a062-4319-ac85-d1e0302ba769",
   "metadata": {},
   "source": [
    "# Gradient Boosting Machines"
   ]
  },
  {
   "cell_type": "markdown",
   "id": "9f62f4b3-c502-4924-9795-5473c9df50f4",
   "metadata": {},
   "source": [
    "# Model & Tahmin"
   ]
  },
  {
   "cell_type": "code",
   "execution_count": 48,
   "id": "be7adc27-28d5-4a9e-a28b-e6309695b8be",
   "metadata": {},
   "outputs": [],
   "source": [
    "gbm_model = GradientBoostingClassifier().fit(X_train, y_train)"
   ]
  },
  {
   "cell_type": "code",
   "execution_count": 49,
   "id": "b162db70-cce1-4440-b0ea-fa5a0e9f78c3",
   "metadata": {},
   "outputs": [
    {
     "data": {
      "text/plain": [
       "GradientBoostingClassifier()"
      ]
     },
     "execution_count": 49,
     "metadata": {},
     "output_type": "execute_result"
    }
   ],
   "source": [
    "gbm_model"
   ]
  },
  {
   "cell_type": "code",
   "execution_count": 50,
   "id": "6e6f65f4-457f-4272-9a70-c8083af44f66",
   "metadata": {},
   "outputs": [],
   "source": [
    "y_pred = gbm_model.predict(X_test)"
   ]
  },
  {
   "cell_type": "code",
   "execution_count": 51,
   "id": "8d41ab82-fae2-4741-828a-e312b787104e",
   "metadata": {},
   "outputs": [
    {
     "data": {
      "text/plain": [
       "0.7445887445887446"
      ]
     },
     "execution_count": 51,
     "metadata": {},
     "output_type": "execute_result"
    }
   ],
   "source": [
    "accuracy_score(y_test, y_pred)"
   ]
  },
  {
   "cell_type": "markdown",
   "id": "d1a3591f-7b7a-4da1-b18a-c382660af12f",
   "metadata": {},
   "source": [
    "# Model Tuning"
   ]
  },
  {
   "cell_type": "code",
   "execution_count": 52,
   "id": "3ec94c5d-5837-41ec-b42c-01f22b4ab6cf",
   "metadata": {},
   "outputs": [],
   "source": [
    "gbm_model = GradientBoostingClassifier()"
   ]
  },
  {
   "cell_type": "code",
   "execution_count": 53,
   "id": "ad792b6f-20c8-4d90-b501-1fd19d7ae6fb",
   "metadata": {},
   "outputs": [],
   "source": [
    "gbm_params = {\"learning_rate\": [0.1, 0.01, 0.001, 0.05],\n",
    "             \"n_estimators\": [100, 300, 500, 1000],\n",
    "             \"max_depth\":[2,3,5,8]}"
   ]
  },
  {
   "cell_type": "code",
   "execution_count": 54,
   "id": "396c58b7-bb8a-4d08-b76c-7d5f6a2c26eb",
   "metadata": {},
   "outputs": [
    {
     "name": "stdout",
     "output_type": "stream",
     "text": [
      "Fitting 10 folds for each of 64 candidates, totalling 640 fits\n"
     ]
    }
   ],
   "source": [
    "gbm_cv_model = GridSearchCV(gbm_model, gbm_params, cv=10, n_jobs=-1, verbose=2).fit(X_train, y_train)"
   ]
  },
  {
   "cell_type": "code",
   "execution_count": 55,
   "id": "26fb90c9-daba-4ac0-801f-4f41afcb3530",
   "metadata": {},
   "outputs": [
    {
     "data": {
      "text/plain": [
       "{'learning_rate': 0.01, 'max_depth': 5, 'n_estimators': 300}"
      ]
     },
     "execution_count": 55,
     "metadata": {},
     "output_type": "execute_result"
    }
   ],
   "source": [
    "gbm_cv_model.best_params_"
   ]
  },
  {
   "cell_type": "code",
   "execution_count": 56,
   "id": "8fa03e06-c240-45f2-8502-c60cac42ee7f",
   "metadata": {},
   "outputs": [],
   "source": [
    "#final model"
   ]
  },
  {
   "cell_type": "code",
   "execution_count": 57,
   "id": "dfcbfc7a-ebe8-436e-8f75-abd056bc1da7",
   "metadata": {},
   "outputs": [],
   "source": [
    "gbm_tuned = GradientBoostingClassifier(learning_rate=0.01, max_depth=5, n_estimators=300).fit(X_train, y_train)"
   ]
  },
  {
   "cell_type": "code",
   "execution_count": 58,
   "id": "25da4f02-b37d-431f-8fc9-686971ffdfe4",
   "metadata": {},
   "outputs": [],
   "source": [
    "y_pred = gbm_tuned.predict(X_test)"
   ]
  },
  {
   "cell_type": "code",
   "execution_count": 59,
   "id": "54d166b8-5a22-400b-ba2c-5b24ebdf35f8",
   "metadata": {},
   "outputs": [
    {
     "data": {
      "text/plain": [
       "0.7402597402597403"
      ]
     },
     "execution_count": 59,
     "metadata": {},
     "output_type": "execute_result"
    }
   ],
   "source": [
    "accuracy_score(y_test, y_pred)"
   ]
  },
  {
   "cell_type": "code",
   "execution_count": 60,
   "id": "5a51c046-bb9d-4f4f-a2b3-c04e25a674fc",
   "metadata": {},
   "outputs": [
    {
     "data": {
      "image/png": "[encoded data removed]",
      "text/plain": [
       "<Figure size 432x288 with 1 Axes>"
      ]
     },
     "metadata": {
      "needs_background": "light"
     },
     "output_type": "display_data"
    }
   ],
   "source": [
    "feature_imp = pd.Series(gbm_tuned.feature_importances_,\n",
    "                        index=X_train.columns).sort_values(ascending=False)\n",
    "\n",
    "sns.barplot(x=feature_imp, y=feature_imp.index)\n",
    "plt.xlabel('Değişken Önem Skorları')\n",
    "plt.ylabel('Değişkenler')\n",
    "plt.title(\"Değişken Önem Düzeyleri\")\n",
    "plt.show()"
   ]
  },
  {
   "cell_type": "markdown",
   "id": "68d11ee5-460e-47c2-8331-64664395912f",
   "metadata": {},
   "source": [
    "# XGBoost"
   ]
  },
  {
   "cell_type": "markdown",
   "id": "3026d7d0-27b2-4c8f-809f-5402064193d1",
   "metadata": {},
   "source": [
    "# Model & Tahmin"
   ]
  },
  {
   "cell_type": "code",
   "execution_count": 61,
   "id": "4bae86c1-ca24-45a8-ba9c-0b1716430d97",
   "metadata": {},
   "outputs": [
    {
     "name": "stdout",
     "output_type": "stream",
     "text": [
      "Requirement already satisfied: xgboost in c:\\programdata\\anaconda3\\lib\\site-packages (1.6.1)\n",
      "Requirement already satisfied: numpy in c:\\programdata\\anaconda3\\lib\\site-packages (from xgboost) (1.21.5)\n",
      "Requirement already satisfied: scipy in c:\\programdata\\anaconda3\\lib\\site-packages (from xgboost) (1.7.3)\n"
     ]
    }
   ],
   "source": [
    "!pip install xgboost"
   ]
  },
  {
   "cell_type": "code",
   "execution_count": 62,
   "id": "c98aa020-cfb9-47f9-a6a5-eb82d8b9f29d",
   "metadata": {},
   "outputs": [],
   "source": [
    "from xgboost import XGBClassifier"
   ]
  },
  {
   "cell_type": "code",
   "execution_count": 63,
   "id": "0dc3a7de-39c1-417c-90d6-33fadcc2aa28",
   "metadata": {},
   "outputs": [],
   "source": [
    "xgb_model = XGBClassifier().fit(X_train, y_train)"
   ]
  },
  {
   "cell_type": "code",
   "execution_count": 67,
   "id": "15c21f1b-e7b8-4f9c-9e5f-3808d82dd70c",
   "metadata": {},
   "outputs": [],
   "source": [
    "y_pred = xgb_model.predict(X_test)"
   ]
  },
  {
   "cell_type": "code",
   "execution_count": 68,
   "id": "583b8102-f758-491e-8ad8-5aa7573666e0",
   "metadata": {},
   "outputs": [
    {
     "data": {
      "text/plain": [
       "0.7359307359307359"
      ]
     },
     "execution_count": 68,
     "metadata": {},
     "output_type": "execute_result"
    }
   ],
   "source": [
    "accuracy_score(y_test,y_pred)"
   ]
  },
  {
   "cell_type": "markdown",
   "id": "6ac226e3-ae16-4707-b577-64bdd1586ac0",
   "metadata": {},
   "source": [
    "# Model Tuning"
   ]
  },
  {
   "cell_type": "code",
   "execution_count": 69,
   "id": "f6f2bc71-fafa-437f-8d11-b2db6f1be315",
   "metadata": {},
   "outputs": [],
   "source": [
    "xgb = XGBClassifier()"
   ]
  },
  {
   "cell_type": "code",
   "execution_count": 70,
   "id": "73d7f377-58b2-4e19-95f6-f42fccbe4d9d",
   "metadata": {},
   "outputs": [],
   "source": [
    "xgb_params = {\"n_estimators\": [100, 500, 1000],\n",
    "             \"subsample\":[0.6,0.8,1],\n",
    "             \"max_depth\":[3,5,7],\n",
    "             \"learning_rate\":[0.1,0.001,0.01]}"
   ]
  },
  {
   "cell_type": "code",
   "execution_count": 71,
   "id": "86dff6be-b37e-43e2-babf-9780c00351a8",
   "metadata": {},
   "outputs": [
    {
     "name": "stdout",
     "output_type": "stream",
     "text": [
      "Fitting 10 folds for each of 81 candidates, totalling 810 fits\n"
     ]
    }
   ],
   "source": [
    "xgb_cv_model = GridSearchCV(xgb, xgb_params, cv = 10, \n",
    "                            n_jobs = -1, verbose = 2).fit(X_train, y_train)"
   ]
  },
  {
   "cell_type": "code",
   "execution_count": 72,
   "id": "282dff2a-e335-4a14-882a-1b52739bb335",
   "metadata": {},
   "outputs": [
    {
     "data": {
      "text/plain": [
       "{'learning_rate': 0.001, 'max_depth': 7, 'n_estimators': 500, 'subsample': 0.6}"
      ]
     },
     "execution_count": 72,
     "metadata": {},
     "output_type": "execute_result"
    }
   ],
   "source": [
    "xgb_cv_model.best_params_"
   ]
  },
  {
   "cell_type": "code",
   "execution_count": 74,
   "id": "e0a39465-0dac-46ce-9193-d21f47d7d534",
   "metadata": {},
   "outputs": [],
   "source": [
    "xgb_tuned = XGBClassifier(learning_rate=0.001, max_depth=7, n_estimators=500, subsample=0.6).fit(X_train, y_train)"
   ]
  },
  {
   "cell_type": "code",
   "execution_count": 75,
   "id": "878a944c-eb14-4661-977a-90e88b1f89a5",
   "metadata": {},
   "outputs": [],
   "source": [
    "y_pred = xgb_tuned.predict(X_test)"
   ]
  },
  {
   "cell_type": "code",
   "execution_count": 76,
   "id": "ed635c0d-c8e8-41a0-a318-3972276958df",
   "metadata": {},
   "outputs": [
    {
     "data": {
      "text/plain": [
       "0.7575757575757576"
      ]
     },
     "execution_count": 76,
     "metadata": {},
     "output_type": "execute_result"
    }
   ],
   "source": [
    "accuracy_score(y_test, y_pred)"
   ]
  },
  {
   "cell_type": "code",
   "execution_count": 77,
   "id": "92fb57ed-5509-4d25-a445-2608cad83c67",
   "metadata": {},
   "outputs": [
    {
     "data": {
      "image/png": "[encoded data removed]",
      "text/plain": [
       "<Figure size 432x288 with 1 Axes>"
      ]
     },
     "metadata": {
      "needs_background": "light"
     },
     "output_type": "display_data"
    }
   ],
   "source": [
    "feature_imp = pd.Series(xgb_tuned.feature_importances_,\n",
    "                        index=X_train.columns).sort_values(ascending=False)\n",
    "\n",
    "sns.barplot(x=feature_imp, y=feature_imp.index)\n",
    "plt.xlabel('Değişken Önem Skorları')\n",
    "plt.ylabel('Değişkenler')\n",
    "plt.title(\"Değişken Önem Düzeyleri\")\n",
    "plt.show()"
   ]
  },
  {
   "cell_type": "markdown",
   "id": "52f385ae-80e8-4dbc-9315-87b7e6ef3cb1",
   "metadata": {},
   "source": [
    "# Light GBM"
   ]
  },
  {
   "cell_type": "markdown",
   "id": "9285f904-bf74-4c0e-a5a7-2c634ee3b188",
   "metadata": {},
   "source": [
    "# Model & Tahmin"
   ]
  },
  {
   "cell_type": "code",
   "execution_count": 78,
   "id": "fa72dae3-60ee-4c68-a1b9-45bc255fb6b1",
   "metadata": {},
   "outputs": [
    {
     "name": "stdout",
     "output_type": "stream",
     "text": [
      "Requirement already satisfied: lightgbm in c:\\programdata\\anaconda3\\lib\\site-packages (3.3.2)\n",
      "Requirement already satisfied: scipy in c:\\programdata\\anaconda3\\lib\\site-packages (from lightgbm) (1.7.3)\n",
      "Requirement already satisfied: wheel in c:\\programdata\\anaconda3\\lib\\site-packages (from lightgbm) (0.37.1)\n",
      "Requirement already satisfied: scikit-learn!=0.22.0 in c:\\programdata\\anaconda3\\lib\\site-packages (from lightgbm) (1.0.2)\n",
      "Requirement already satisfied: numpy in c:\\programdata\\anaconda3\\lib\\site-packages (from lightgbm) (1.21.5)\n",
      "Requirement already satisfied: joblib>=0.11 in c:\\programdata\\anaconda3\\lib\\site-packages (from scikit-learn!=0.22.0->lightgbm) (1.1.0)\n",
      "Requirement already satisfied: threadpoolctl>=2.0.0 in c:\\programdata\\anaconda3\\lib\\site-packages (from scikit-learn!=0.22.0->lightgbm) (2.2.0)\n"
     ]
    }
   ],
   "source": [
    "!pip install lightgbm"
   ]
  },
  {
   "cell_type": "code",
   "execution_count": 86,
   "id": "a7a6b53e-868f-41dc-9362-5bfdf3e16a75",
   "metadata": {},
   "outputs": [],
   "source": [
    "from lightgbm import LGBMClassifier"
   ]
  },
  {
   "cell_type": "code",
   "execution_count": 87,
   "id": "67c6ae2c-0b57-4293-9d29-32ff5a748e26",
   "metadata": {},
   "outputs": [],
   "source": [
    "lgbm_model = LGBMClassifier().fit(X_train, y_train)"
   ]
  },
  {
   "cell_type": "code",
   "execution_count": 88,
   "id": "a0c68336-eecc-4469-a9c8-646ec837d8c1",
   "metadata": {},
   "outputs": [],
   "source": [
    "y_pred = lgbm_model.predict(X_test)"
   ]
  },
  {
   "cell_type": "code",
   "execution_count": 89,
   "id": "846072bf-e035-419c-83c0-31f75f01f08a",
   "metadata": {},
   "outputs": [
    {
     "data": {
      "text/plain": [
       "0.7229437229437229"
      ]
     },
     "execution_count": 89,
     "metadata": {},
     "output_type": "execute_result"
    }
   ],
   "source": [
    "accuracy_score(y_test, y_pred)"
   ]
  },
  {
   "cell_type": "markdown",
   "id": "2c441b01-e112-44e1-8e53-006d0e86793a",
   "metadata": {},
   "source": [
    "# Model Tuning"
   ]
  },
  {
   "cell_type": "code",
   "execution_count": 90,
   "id": "d3bc0b60-a6d9-4b0c-85b2-143968798811",
   "metadata": {},
   "outputs": [],
   "source": [
    "lgbm = LGBMClassifier()"
   ]
  },
  {
   "cell_type": "code",
   "execution_count": 91,
   "id": "0fe9dd74-1b52-45f4-97b9-2f4e09c8a771",
   "metadata": {},
   "outputs": [],
   "source": [
    "lgbm_params = {\"learning_rate\": [0.001, 0.01, 0.1],\n",
    "              \"n_estimators\": [200, 500, 100],\n",
    "              \"max_depth\":[1,2,35,8]}"
   ]
  },
  {
   "cell_type": "code",
   "execution_count": 92,
   "id": "4cbd3665-d95c-440e-a55d-b8aa83cefbcd",
   "metadata": {},
   "outputs": [
    {
     "name": "stdout",
     "output_type": "stream",
     "text": [
      "Fitting 10 folds for each of 36 candidates, totalling 360 fits\n"
     ]
    }
   ],
   "source": [
    "lgbm_cv_model = GridSearchCV(lgbm, lgbm_params, cv=10, n_jobs=-1, verbose=2).fit(X_train, y_train)"
   ]
  },
  {
   "cell_type": "code",
   "execution_count": 93,
   "id": "eb3dbcd1-4858-41d5-a513-77717ebe6c64",
   "metadata": {},
   "outputs": [
    {
     "data": {
      "text/plain": [
       "{'learning_rate': 0.01, 'max_depth': 1, 'n_estimators': 500}"
      ]
     },
     "execution_count": 93,
     "metadata": {},
     "output_type": "execute_result"
    }
   ],
   "source": [
    "lgbm_cv_model.best_params_"
   ]
  },
  {
   "cell_type": "code",
   "execution_count": 94,
   "id": "892de15d-e168-4522-9d78-ba8ae095df1e",
   "metadata": {},
   "outputs": [],
   "source": [
    "lgbm_tuned = LGBMClassifier(learning_rate=0.01, max_depth=1, n_estimators=500).fit(X_train, y_train)"
   ]
  },
  {
   "cell_type": "code",
   "execution_count": 95,
   "id": "ef9aabfc-f61a-4ece-9e09-4079e9029a88",
   "metadata": {},
   "outputs": [],
   "source": [
    "y_pred = lgbm_tuned.predict(X_test)"
   ]
  },
  {
   "cell_type": "code",
   "execution_count": 96,
   "id": "dfed7102-2ec4-4b85-80c5-b934b8d6069f",
   "metadata": {},
   "outputs": [
    {
     "data": {
      "text/plain": [
       "0.7575757575757576"
      ]
     },
     "execution_count": 96,
     "metadata": {},
     "output_type": "execute_result"
    }
   ],
   "source": [
    "accuracy_score(y_test, y_pred)"
   ]
  },
  {
   "cell_type": "code",
   "execution_count": 97,
   "id": "c6f71be1-5052-4c9c-abf9-7c0fcc6726a9",
   "metadata": {},
   "outputs": [
    {
     "data": {
      "image/png": "[encoded data removed]",
      "text/plain": [
       "<Figure size 432x288 with 1 Axes>"
      ]
     },
     "metadata": {
      "needs_background": "light"
     },
     "output_type": "display_data"
    }
   ],
   "source": [
    "feature_imp = pd.Series(lgbm_tuned.feature_importances_,\n",
    "                        index=X_train.columns).sort_values(ascending=False)\n",
    "\n",
    "sns.barplot(x=feature_imp, y=feature_imp.index)\n",
    "plt.xlabel('Değişken Önem Skorları')\n",
    "plt.ylabel('Değişkenler')\n",
    "plt.title(\"Değişken Önem Düzeyleri\")\n",
    "plt.show()"
   ]
  },
  {
   "cell_type": "markdown",
   "id": "7584dffb-119b-4f50-8ba0-95fed7aff0e0",
   "metadata": {},
   "source": [
    "# CatBoost"
   ]
  },
  {
   "cell_type": "markdown",
   "id": "51fcb316-cbb8-41eb-afd8-50206684bd05",
   "metadata": {},
   "source": [
    "# Model & Tahmin"
   ]
  },
  {
   "cell_type": "code",
   "execution_count": 98,
   "id": "03eebdd9-f531-49e1-af6c-7cf1f302d631",
   "metadata": {
    "collapsed": true,
    "jupyter": {
     "outputs_hidden": true
    },
    "tags": []
   },
   "outputs": [
    {
     "name": "stdout",
     "output_type": "stream",
     "text": [
      "Requirement already satisfied: catboost in c:\\programdata\\anaconda3\\lib\\site-packages (1.0.6)\n",
      "Requirement already satisfied: plotly in c:\\programdata\\anaconda3\\lib\\site-packages (from catboost) (5.6.0)\n",
      "Requirement already satisfied: six in c:\\programdata\\anaconda3\\lib\\site-packages (from catboost) (1.16.0)\n",
      "Requirement already satisfied: matplotlib in c:\\programdata\\anaconda3\\lib\\site-packages (from catboost) (3.5.1)\n",
      "Requirement already satisfied: graphviz in c:\\programdata\\anaconda3\\lib\\site-packages (from catboost) (0.20.1)\n",
      "Requirement already satisfied: scipy in c:\\programdata\\anaconda3\\lib\\site-packages (from catboost) (1.7.3)\n",
      "Requirement already satisfied: pandas>=0.24.0 in c:\\programdata\\anaconda3\\lib\\site-packages (from catboost) (1.4.2)\n",
      "Requirement already satisfied: numpy>=1.16.0 in c:\\programdata\\anaconda3\\lib\\site-packages (from catboost) (1.21.5)\n",
      "Requirement already satisfied: pytz>=2020.1 in c:\\programdata\\anaconda3\\lib\\site-packages (from pandas>=0.24.0->catboost) (2021.3)\n",
      "Requirement already satisfied: python-dateutil>=2.8.1 in c:\\programdata\\anaconda3\\lib\\site-packages (from pandas>=0.24.0->catboost) (2.8.2)\n",
      "Requirement already satisfied: cycler>=0.10 in c:\\programdata\\anaconda3\\lib\\site-packages (from matplotlib->catboost) (0.11.0)\n",
      "Requirement already satisfied: packaging>=20.0 in c:\\programdata\\anaconda3\\lib\\site-packages (from matplotlib->catboost) (21.3)\n",
      "Requirement already satisfied: kiwisolver>=1.0.1 in c:\\programdata\\anaconda3\\lib\\site-packages (from matplotlib->catboost) (1.3.2)\n",
      "Requirement already satisfied: pillow>=6.2.0 in c:\\programdata\\anaconda3\\lib\\site-packages (from matplotlib->catboost) (9.0.1)\n",
      "Requirement already satisfied: pyparsing>=2.2.1 in c:\\programdata\\anaconda3\\lib\\site-packages (from matplotlib->catboost) (3.0.4)\n",
      "Requirement already satisfied: fonttools>=4.22.0 in c:\\programdata\\anaconda3\\lib\\site-packages (from matplotlib->catboost) (4.25.0)\n",
      "Requirement already satisfied: tenacity>=6.2.0 in c:\\programdata\\anaconda3\\lib\\site-packages (from plotly->catboost) (8.0.1)\n"
     ]
    }
   ],
   "source": [
    "!pip install catboost"
   ]
  },
  {
   "cell_type": "code",
   "execution_count": 99,
   "id": "c7ab382d-3008-4617-ae34-4bf5d257c1d5",
   "metadata": {},
   "outputs": [],
   "source": [
    "from catboost import CatBoostClassifier"
   ]
  },
  {
   "cell_type": "code",
   "execution_count": 101,
   "id": "af32ddc7-fce2-48ca-a133-afcd8abd0195",
   "metadata": {
    "tags": []
   },
   "outputs": [],
   "source": [
    "catb_model = CatBoostClassifier().fit(X_train, y_train, verbose = False)"
   ]
  },
  {
   "cell_type": "code",
   "execution_count": 102,
   "id": "6b473d6c-1e7c-410a-9118-7e2ee9c614b6",
   "metadata": {},
   "outputs": [],
   "source": [
    "y_pred = catb_model.predict(X_test)"
   ]
  },
  {
   "cell_type": "code",
   "execution_count": 103,
   "id": "e2884947-037b-4cd9-95f1-904f60d56b22",
   "metadata": {},
   "outputs": [
    {
     "data": {
      "text/plain": [
       "0.7402597402597403"
      ]
     },
     "execution_count": 103,
     "metadata": {},
     "output_type": "execute_result"
    }
   ],
   "source": [
    "accuracy_score(y_test, y_pred)"
   ]
  },
  {
   "cell_type": "markdown",
   "id": "c09d113e-9b99-4bf8-bcc4-4299e87a45f3",
   "metadata": {},
   "source": [
    "# Model Tuning"
   ]
  },
  {
   "cell_type": "code",
   "execution_count": 104,
   "id": "bfca2175-63e1-43b3-974f-b503a2a34092",
   "metadata": {},
   "outputs": [],
   "source": [
    "catb = CatBoostClassifier()"
   ]
  },
  {
   "cell_type": "code",
   "execution_count": 106,
   "id": "bbac7b0c-a01c-4daa-a3b2-c7eac05ae868",
   "metadata": {},
   "outputs": [],
   "source": [
    "catb_params = {\"iterations\":[200,500,100],\n",
    "              \"learning_rate\":[0.01, 0.03, 0.1],\n",
    "              \"depth\":[4,5,8]}\n",
    "# iterations:Ağaç sayısını anlamına gelir."
   ]
  },
  {
   "cell_type": "code",
   "execution_count": 107,
   "id": "7be75f7b-285c-4f00-a7a4-3579b251c369",
   "metadata": {
    "collapsed": true,
    "jupyter": {
     "outputs_hidden": true
    },
    "tags": []
   },
   "outputs": [
    {
     "name": "stdout",
     "output_type": "stream",
     "text": [
      "Fitting 5 folds for each of 27 candidates, totalling 135 fits\n",
      "0:\tlearn: 0.6863312\ttotal: 5.22ms\tremaining: 1.04s\n",
      "1:\tlearn: 0.6811157\ttotal: 9.96ms\tremaining: 986ms\n",
      "2:\tlearn: 0.6752970\ttotal: 14.8ms\tremaining: 971ms\n",
      "3:\tlearn: 0.6697432\ttotal: 19.6ms\tremaining: 960ms\n",
      "4:\tlearn: 0.6641758\ttotal: 24.3ms\tremaining: 949ms\n",
      "5:\tlearn: 0.6576656\ttotal: 29ms\tremaining: 938ms\n",
      "6:\tlearn: 0.6521870\ttotal: 34ms\tremaining: 936ms\n",
      "7:\tlearn: 0.6465564\ttotal: 38.8ms\tremaining: 931ms\n",
      "8:\tlearn: 0.6407595\ttotal: 43.6ms\tremaining: 926ms\n",
      "9:\tlearn: 0.6357725\ttotal: 48.4ms\tremaining: 919ms\n",
      "10:\tlearn: 0.6299942\ttotal: 53.2ms\tremaining: 914ms\n",
      "11:\tlearn: 0.6240480\ttotal: 58.2ms\tremaining: 912ms\n",
      "12:\tlearn: 0.6196095\ttotal: 63.3ms\tremaining: 911ms\n",
      "13:\tlearn: 0.6148715\ttotal: 68.2ms\tremaining: 906ms\n",
      "14:\tlearn: 0.6092626\ttotal: 73.1ms\tremaining: 901ms\n",
      "15:\tlearn: 0.6046764\ttotal: 77.9ms\tremaining: 895ms\n",
      "16:\tlearn: 0.6012725\ttotal: 82.6ms\tremaining: 890ms\n",
      "17:\tlearn: 0.5958121\ttotal: 87.4ms\tremaining: 884ms\n",
      "18:\tlearn: 0.5903243\ttotal: 92ms\tremaining: 877ms\n",
      "19:\tlearn: 0.5866024\ttotal: 96.5ms\tremaining: 869ms\n",
      "20:\tlearn: 0.5831390\ttotal: 101ms\tremaining: 864ms\n",
      "21:\tlearn: 0.5787381\ttotal: 106ms\tremaining: 859ms\n",
      "22:\tlearn: 0.5749016\ttotal: 111ms\tremaining: 854ms\n",
      "23:\tlearn: 0.5703199\ttotal: 116ms\tremaining: 849ms\n",
      "24:\tlearn: 0.5662368\ttotal: 120ms\tremaining: 843ms\n",
      "25:\tlearn: 0.5628682\ttotal: 125ms\tremaining: 838ms\n",
      "26:\tlearn: 0.5589082\ttotal: 130ms\tremaining: 834ms\n",
      "27:\tlearn: 0.5543910\ttotal: 135ms\tremaining: 829ms\n",
      "28:\tlearn: 0.5503864\ttotal: 140ms\tremaining: 823ms\n",
      "29:\tlearn: 0.5470574\ttotal: 145ms\tremaining: 819ms\n",
      "30:\tlearn: 0.5441267\ttotal: 149ms\tremaining: 813ms\n",
      "31:\tlearn: 0.5396280\ttotal: 154ms\tremaining: 808ms\n",
      "32:\tlearn: 0.5356242\ttotal: 159ms\tremaining: 802ms\n",
      "33:\tlearn: 0.5315397\ttotal: 163ms\tremaining: 797ms\n",
      "34:\tlearn: 0.5279847\ttotal: 168ms\tremaining: 792ms\n",
      "35:\tlearn: 0.5248380\ttotal: 173ms\tremaining: 786ms\n",
      "36:\tlearn: 0.5223885\ttotal: 177ms\tremaining: 781ms\n",
      "37:\tlearn: 0.5198269\ttotal: 182ms\tremaining: 776ms\n",
      "38:\tlearn: 0.5167431\ttotal: 187ms\tremaining: 772ms\n",
      "39:\tlearn: 0.5138833\ttotal: 192ms\tremaining: 768ms\n",
      "40:\tlearn: 0.5101494\ttotal: 197ms\tremaining: 765ms\n",
      "41:\tlearn: 0.5066102\ttotal: 202ms\tremaining: 760ms\n",
      "42:\tlearn: 0.5033714\ttotal: 207ms\tremaining: 756ms\n",
      "43:\tlearn: 0.5005898\ttotal: 212ms\tremaining: 751ms\n",
      "44:\tlearn: 0.4980703\ttotal: 217ms\tremaining: 747ms\n",
      "45:\tlearn: 0.4959251\ttotal: 222ms\tremaining: 742ms\n",
      "46:\tlearn: 0.4933987\ttotal: 227ms\tremaining: 738ms\n",
      "47:\tlearn: 0.4906194\ttotal: 232ms\tremaining: 734ms\n",
      "48:\tlearn: 0.4878359\ttotal: 236ms\tremaining: 729ms\n",
      "49:\tlearn: 0.4850755\ttotal: 241ms\tremaining: 723ms\n",
      "50:\tlearn: 0.4825927\ttotal: 246ms\tremaining: 718ms\n",
      "51:\tlearn: 0.4798298\ttotal: 250ms\tremaining: 713ms\n",
      "52:\tlearn: 0.4776108\ttotal: 255ms\tremaining: 707ms\n",
      "53:\tlearn: 0.4754405\ttotal: 260ms\tremaining: 702ms\n",
      "54:\tlearn: 0.4733501\ttotal: 264ms\tremaining: 697ms\n",
      "55:\tlearn: 0.4706076\ttotal: 269ms\tremaining: 691ms\n",
      "56:\tlearn: 0.4677355\ttotal: 273ms\tremaining: 686ms\n",
      "57:\tlearn: 0.4656740\ttotal: 278ms\tremaining: 682ms\n",
      "58:\tlearn: 0.4637413\ttotal: 283ms\tremaining: 677ms\n",
      "59:\tlearn: 0.4615248\ttotal: 288ms\tremaining: 672ms\n",
      "60:\tlearn: 0.4599759\ttotal: 292ms\tremaining: 666ms\n",
      "61:\tlearn: 0.4583985\ttotal: 294ms\tremaining: 655ms\n",
      "62:\tlearn: 0.4567064\ttotal: 299ms\tremaining: 650ms\n",
      "63:\tlearn: 0.4540942\ttotal: 303ms\tremaining: 645ms\n",
      "64:\tlearn: 0.4529822\ttotal: 305ms\tremaining: 633ms\n",
      "65:\tlearn: 0.4512090\ttotal: 310ms\tremaining: 629ms\n",
      "66:\tlearn: 0.4486739\ttotal: 314ms\tremaining: 624ms\n",
      "67:\tlearn: 0.4467865\ttotal: 319ms\tremaining: 619ms\n",
      "68:\tlearn: 0.4449614\ttotal: 324ms\tremaining: 614ms\n",
      "69:\tlearn: 0.4426120\ttotal: 328ms\tremaining: 609ms\n",
      "70:\tlearn: 0.4401612\ttotal: 333ms\tremaining: 605ms\n",
      "71:\tlearn: 0.4380696\ttotal: 337ms\tremaining: 600ms\n",
      "72:\tlearn: 0.4367153\ttotal: 342ms\tremaining: 595ms\n",
      "73:\tlearn: 0.4353223\ttotal: 347ms\tremaining: 591ms\n",
      "74:\tlearn: 0.4339943\ttotal: 352ms\tremaining: 586ms\n",
      "75:\tlearn: 0.4315641\ttotal: 356ms\tremaining: 581ms\n",
      "76:\tlearn: 0.4298680\ttotal: 361ms\tremaining: 576ms\n",
      "77:\tlearn: 0.4285275\ttotal: 365ms\tremaining: 572ms\n",
      "78:\tlearn: 0.4265791\ttotal: 370ms\tremaining: 567ms\n",
      "79:\tlearn: 0.4244024\ttotal: 375ms\tremaining: 563ms\n",
      "80:\tlearn: 0.4228361\ttotal: 380ms\tremaining: 558ms\n",
      "81:\tlearn: 0.4214212\ttotal: 385ms\tremaining: 554ms\n",
      "82:\tlearn: 0.4200602\ttotal: 390ms\tremaining: 550ms\n",
      "83:\tlearn: 0.4184320\ttotal: 395ms\tremaining: 545ms\n",
      "84:\tlearn: 0.4167986\ttotal: 400ms\tremaining: 541ms\n",
      "85:\tlearn: 0.4156404\ttotal: 405ms\tremaining: 537ms\n",
      "86:\tlearn: 0.4140656\ttotal: 409ms\tremaining: 532ms\n",
      "87:\tlearn: 0.4124223\ttotal: 414ms\tremaining: 527ms\n",
      "88:\tlearn: 0.4107329\ttotal: 419ms\tremaining: 522ms\n",
      "89:\tlearn: 0.4090922\ttotal: 424ms\tremaining: 518ms\n",
      "90:\tlearn: 0.4075416\ttotal: 428ms\tremaining: 513ms\n",
      "91:\tlearn: 0.4062399\ttotal: 433ms\tremaining: 509ms\n",
      "92:\tlearn: 0.4044658\ttotal: 438ms\tremaining: 504ms\n",
      "93:\tlearn: 0.4030179\ttotal: 443ms\tremaining: 500ms\n",
      "94:\tlearn: 0.4012034\ttotal: 448ms\tremaining: 495ms\n",
      "95:\tlearn: 0.3994677\ttotal: 453ms\tremaining: 491ms\n",
      "96:\tlearn: 0.3983236\ttotal: 458ms\tremaining: 486ms\n",
      "97:\tlearn: 0.3969830\ttotal: 462ms\tremaining: 481ms\n",
      "98:\tlearn: 0.3955620\ttotal: 467ms\tremaining: 476ms\n",
      "99:\tlearn: 0.3946122\ttotal: 471ms\tremaining: 471ms\n",
      "100:\tlearn: 0.3932345\ttotal: 476ms\tremaining: 467ms\n",
      "101:\tlearn: 0.3920746\ttotal: 481ms\tremaining: 462ms\n",
      "102:\tlearn: 0.3911707\ttotal: 486ms\tremaining: 457ms\n",
      "103:\tlearn: 0.3895752\ttotal: 491ms\tremaining: 453ms\n",
      "104:\tlearn: 0.3880976\ttotal: 495ms\tremaining: 448ms\n",
      "105:\tlearn: 0.3867508\ttotal: 500ms\tremaining: 444ms\n",
      "106:\tlearn: 0.3855281\ttotal: 505ms\tremaining: 439ms\n",
      "107:\tlearn: 0.3841015\ttotal: 510ms\tremaining: 434ms\n",
      "108:\tlearn: 0.3829276\ttotal: 514ms\tremaining: 429ms\n",
      "109:\tlearn: 0.3818795\ttotal: 519ms\tremaining: 425ms\n",
      "110:\tlearn: 0.3809667\ttotal: 524ms\tremaining: 420ms\n",
      "111:\tlearn: 0.3790017\ttotal: 529ms\tremaining: 415ms\n",
      "112:\tlearn: 0.3774333\ttotal: 533ms\tremaining: 411ms\n",
      "113:\tlearn: 0.3762372\ttotal: 538ms\tremaining: 406ms\n",
      "114:\tlearn: 0.3750418\ttotal: 543ms\tremaining: 401ms\n",
      "115:\tlearn: 0.3735203\ttotal: 548ms\tremaining: 397ms\n",
      "116:\tlearn: 0.3727671\ttotal: 553ms\tremaining: 392ms\n",
      "117:\tlearn: 0.3713847\ttotal: 558ms\tremaining: 388ms\n",
      "118:\tlearn: 0.3705588\ttotal: 563ms\tremaining: 383ms\n",
      "119:\tlearn: 0.3694386\ttotal: 567ms\tremaining: 378ms\n",
      "120:\tlearn: 0.3687438\ttotal: 572ms\tremaining: 374ms\n",
      "121:\tlearn: 0.3679429\ttotal: 577ms\tremaining: 369ms\n",
      "122:\tlearn: 0.3666192\ttotal: 582ms\tremaining: 364ms\n",
      "123:\tlearn: 0.3654787\ttotal: 586ms\tremaining: 359ms\n",
      "124:\tlearn: 0.3643185\ttotal: 591ms\tremaining: 355ms\n",
      "125:\tlearn: 0.3636195\ttotal: 596ms\tremaining: 350ms\n",
      "126:\tlearn: 0.3625184\ttotal: 601ms\tremaining: 345ms\n",
      "127:\tlearn: 0.3609778\ttotal: 605ms\tremaining: 341ms\n",
      "128:\tlearn: 0.3595979\ttotal: 610ms\tremaining: 336ms\n",
      "129:\tlearn: 0.3583702\ttotal: 615ms\tremaining: 331ms\n",
      "130:\tlearn: 0.3569225\ttotal: 619ms\tremaining: 326ms\n",
      "131:\tlearn: 0.3558535\ttotal: 624ms\tremaining: 321ms\n",
      "132:\tlearn: 0.3548312\ttotal: 628ms\tremaining: 316ms\n",
      "133:\tlearn: 0.3533459\ttotal: 633ms\tremaining: 312ms\n",
      "134:\tlearn: 0.3524239\ttotal: 637ms\tremaining: 307ms\n",
      "135:\tlearn: 0.3517958\ttotal: 642ms\tremaining: 302ms\n",
      "136:\tlearn: 0.3504984\ttotal: 646ms\tremaining: 297ms\n",
      "137:\tlearn: 0.3497339\ttotal: 651ms\tremaining: 292ms\n",
      "138:\tlearn: 0.3488643\ttotal: 656ms\tremaining: 288ms\n",
      "139:\tlearn: 0.3482265\ttotal: 661ms\tremaining: 283ms\n",
      "140:\tlearn: 0.3470774\ttotal: 666ms\tremaining: 278ms\n",
      "141:\tlearn: 0.3458237\ttotal: 670ms\tremaining: 274ms\n",
      "142:\tlearn: 0.3445470\ttotal: 675ms\tremaining: 269ms\n",
      "143:\tlearn: 0.3436377\ttotal: 679ms\tremaining: 264ms\n",
      "144:\tlearn: 0.3426585\ttotal: 684ms\tremaining: 259ms\n",
      "145:\tlearn: 0.3417233\ttotal: 689ms\tremaining: 255ms\n",
      "146:\tlearn: 0.3407541\ttotal: 693ms\tremaining: 250ms\n",
      "147:\tlearn: 0.3397798\ttotal: 698ms\tremaining: 245ms\n",
      "148:\tlearn: 0.3390128\ttotal: 703ms\tremaining: 241ms\n",
      "149:\tlearn: 0.3381272\ttotal: 707ms\tremaining: 236ms\n",
      "150:\tlearn: 0.3374740\ttotal: 712ms\tremaining: 231ms\n",
      "151:\tlearn: 0.3365500\ttotal: 717ms\tremaining: 226ms\n",
      "152:\tlearn: 0.3358489\ttotal: 722ms\tremaining: 222ms\n",
      "153:\tlearn: 0.3346096\ttotal: 726ms\tremaining: 217ms\n",
      "154:\tlearn: 0.3335622\ttotal: 731ms\tremaining: 212ms\n",
      "155:\tlearn: 0.3330435\ttotal: 736ms\tremaining: 208ms\n",
      "156:\tlearn: 0.3323843\ttotal: 741ms\tremaining: 203ms\n",
      "157:\tlearn: 0.3312172\ttotal: 745ms\tremaining: 198ms\n",
      "158:\tlearn: 0.3299437\ttotal: 750ms\tremaining: 193ms\n",
      "159:\tlearn: 0.3286515\ttotal: 754ms\tremaining: 189ms\n",
      "160:\tlearn: 0.3275885\ttotal: 759ms\tremaining: 184ms\n",
      "161:\tlearn: 0.3266739\ttotal: 764ms\tremaining: 179ms\n",
      "162:\tlearn: 0.3258986\ttotal: 769ms\tremaining: 174ms\n",
      "163:\tlearn: 0.3249133\ttotal: 773ms\tremaining: 170ms\n",
      "164:\tlearn: 0.3241480\ttotal: 778ms\tremaining: 165ms\n",
      "165:\tlearn: 0.3237404\ttotal: 782ms\tremaining: 160ms\n",
      "166:\tlearn: 0.3228217\ttotal: 788ms\tremaining: 156ms\n",
      "167:\tlearn: 0.3218088\ttotal: 792ms\tremaining: 151ms\n",
      "168:\tlearn: 0.3209179\ttotal: 796ms\tremaining: 146ms\n",
      "169:\tlearn: 0.3200101\ttotal: 801ms\tremaining: 141ms\n",
      "170:\tlearn: 0.3188984\ttotal: 805ms\tremaining: 137ms\n",
      "171:\tlearn: 0.3178642\ttotal: 810ms\tremaining: 132ms\n",
      "172:\tlearn: 0.3172455\ttotal: 814ms\tremaining: 127ms\n",
      "173:\tlearn: 0.3166261\ttotal: 819ms\tremaining: 122ms\n",
      "174:\tlearn: 0.3157320\ttotal: 823ms\tremaining: 118ms\n",
      "175:\tlearn: 0.3149761\ttotal: 827ms\tremaining: 113ms\n",
      "176:\tlearn: 0.3142430\ttotal: 832ms\tremaining: 108ms\n",
      "177:\tlearn: 0.3138263\ttotal: 837ms\tremaining: 103ms\n",
      "178:\tlearn: 0.3133229\ttotal: 841ms\tremaining: 98.7ms\n",
      "179:\tlearn: 0.3124656\ttotal: 846ms\tremaining: 94ms\n",
      "180:\tlearn: 0.3114844\ttotal: 850ms\tremaining: 89.3ms\n",
      "181:\tlearn: 0.3109799\ttotal: 855ms\tremaining: 84.6ms\n",
      "182:\tlearn: 0.3105137\ttotal: 859ms\tremaining: 79.8ms\n",
      "183:\tlearn: 0.3094123\ttotal: 864ms\tremaining: 75.1ms\n",
      "184:\tlearn: 0.3087045\ttotal: 868ms\tremaining: 70.4ms\n",
      "185:\tlearn: 0.3079423\ttotal: 873ms\tremaining: 65.7ms\n",
      "186:\tlearn: 0.3071831\ttotal: 877ms\tremaining: 61ms\n",
      "187:\tlearn: 0.3061123\ttotal: 882ms\tremaining: 56.3ms\n",
      "188:\tlearn: 0.3054302\ttotal: 886ms\tremaining: 51.6ms\n",
      "189:\tlearn: 0.3048047\ttotal: 892ms\tremaining: 46.9ms\n",
      "190:\tlearn: 0.3042241\ttotal: 896ms\tremaining: 42.2ms\n",
      "191:\tlearn: 0.3036602\ttotal: 901ms\tremaining: 37.5ms\n",
      "192:\tlearn: 0.3028507\ttotal: 905ms\tremaining: 32.8ms\n",
      "193:\tlearn: 0.3019733\ttotal: 910ms\tremaining: 28.1ms\n",
      "194:\tlearn: 0.3009586\ttotal: 914ms\tremaining: 23.4ms\n",
      "195:\tlearn: 0.3001835\ttotal: 919ms\tremaining: 18.8ms\n",
      "196:\tlearn: 0.2999266\ttotal: 922ms\tremaining: 14ms\n",
      "197:\tlearn: 0.2993811\ttotal: 927ms\tremaining: 9.36ms\n",
      "198:\tlearn: 0.2986293\ttotal: 931ms\tremaining: 4.68ms\n",
      "199:\tlearn: 0.2980044\ttotal: 936ms\tremaining: 0us\n"
     ]
    }
   ],
   "source": [
    "catb_cv_model = GridSearchCV(catb, catb_params, cv=5, n_jobs=-1, verbose=2).fit(X_train, y_train)"
   ]
  },
  {
   "cell_type": "code",
   "execution_count": 108,
   "id": "7e1d9150-4707-4f08-907f-1bf55b26d283",
   "metadata": {},
   "outputs": [
    {
     "data": {
      "text/plain": [
       "{'depth': 8, 'iterations': 200, 'learning_rate': 0.01}"
      ]
     },
     "execution_count": 108,
     "metadata": {},
     "output_type": "execute_result"
    }
   ],
   "source": [
    "catb_cv_model.best_params_"
   ]
  },
  {
   "cell_type": "code",
   "execution_count": 109,
   "id": "6b360b69-099e-4de5-9137-436f5b4762b7",
   "metadata": {
    "collapsed": true,
    "jupyter": {
     "outputs_hidden": true
    },
    "tags": []
   },
   "outputs": [
    {
     "name": "stdout",
     "output_type": "stream",
     "text": [
      "0:\tlearn: 0.6863312\ttotal: 5.84ms\tremaining: 1.16s\n",
      "1:\tlearn: 0.6811157\ttotal: 11.2ms\tremaining: 1.11s\n",
      "2:\tlearn: 0.6752970\ttotal: 16.6ms\tremaining: 1.09s\n",
      "3:\tlearn: 0.6697432\ttotal: 22ms\tremaining: 1.08s\n",
      "4:\tlearn: 0.6641758\ttotal: 27.1ms\tremaining: 1.06s\n",
      "5:\tlearn: 0.6576656\ttotal: 32.3ms\tremaining: 1.04s\n",
      "6:\tlearn: 0.6521870\ttotal: 37.3ms\tremaining: 1.03s\n",
      "7:\tlearn: 0.6465564\ttotal: 42.2ms\tremaining: 1.01s\n",
      "8:\tlearn: 0.6407595\ttotal: 47.3ms\tremaining: 1s\n",
      "9:\tlearn: 0.6357725\ttotal: 52.9ms\tremaining: 1s\n",
      "10:\tlearn: 0.6299942\ttotal: 58.1ms\tremaining: 998ms\n",
      "11:\tlearn: 0.6240480\ttotal: 63.4ms\tremaining: 993ms\n",
      "12:\tlearn: 0.6196095\ttotal: 68.2ms\tremaining: 981ms\n",
      "13:\tlearn: 0.6148715\ttotal: 73ms\tremaining: 970ms\n",
      "14:\tlearn: 0.6092626\ttotal: 78.2ms\tremaining: 965ms\n",
      "15:\tlearn: 0.6046764\ttotal: 84.3ms\tremaining: 970ms\n",
      "16:\tlearn: 0.6012725\ttotal: 89.2ms\tremaining: 960ms\n",
      "17:\tlearn: 0.5958121\ttotal: 94.4ms\tremaining: 954ms\n",
      "18:\tlearn: 0.5903243\ttotal: 99.1ms\tremaining: 944ms\n",
      "19:\tlearn: 0.5866024\ttotal: 104ms\tremaining: 935ms\n",
      "20:\tlearn: 0.5831390\ttotal: 109ms\tremaining: 929ms\n",
      "21:\tlearn: 0.5787381\ttotal: 114ms\tremaining: 921ms\n",
      "22:\tlearn: 0.5749016\ttotal: 118ms\tremaining: 912ms\n",
      "23:\tlearn: 0.5703199\ttotal: 123ms\tremaining: 903ms\n",
      "24:\tlearn: 0.5662368\ttotal: 128ms\tremaining: 894ms\n",
      "25:\tlearn: 0.5628682\ttotal: 132ms\tremaining: 885ms\n",
      "26:\tlearn: 0.5589082\ttotal: 137ms\tremaining: 877ms\n",
      "27:\tlearn: 0.5543910\ttotal: 141ms\tremaining: 868ms\n",
      "28:\tlearn: 0.5503864\ttotal: 146ms\tremaining: 860ms\n",
      "29:\tlearn: 0.5470574\ttotal: 150ms\tremaining: 851ms\n",
      "30:\tlearn: 0.5441267\ttotal: 155ms\tremaining: 843ms\n",
      "31:\tlearn: 0.5396280\ttotal: 159ms\tremaining: 835ms\n",
      "32:\tlearn: 0.5356242\ttotal: 164ms\tremaining: 828ms\n",
      "33:\tlearn: 0.5315397\ttotal: 168ms\tremaining: 822ms\n",
      "34:\tlearn: 0.5279847\ttotal: 173ms\tremaining: 814ms\n",
      "35:\tlearn: 0.5248380\ttotal: 177ms\tremaining: 807ms\n",
      "36:\tlearn: 0.5223885\ttotal: 182ms\tremaining: 801ms\n",
      "37:\tlearn: 0.5198269\ttotal: 186ms\tremaining: 794ms\n",
      "38:\tlearn: 0.5167431\ttotal: 191ms\tremaining: 788ms\n",
      "39:\tlearn: 0.5138833\ttotal: 196ms\tremaining: 783ms\n",
      "40:\tlearn: 0.5101494\ttotal: 201ms\tremaining: 778ms\n",
      "41:\tlearn: 0.5066102\ttotal: 205ms\tremaining: 771ms\n",
      "42:\tlearn: 0.5033714\ttotal: 210ms\tremaining: 765ms\n",
      "43:\tlearn: 0.5005898\ttotal: 214ms\tremaining: 759ms\n",
      "44:\tlearn: 0.4980703\ttotal: 219ms\tremaining: 753ms\n",
      "45:\tlearn: 0.4959251\ttotal: 223ms\tremaining: 748ms\n",
      "46:\tlearn: 0.4933987\ttotal: 228ms\tremaining: 743ms\n",
      "47:\tlearn: 0.4906194\ttotal: 233ms\tremaining: 737ms\n",
      "48:\tlearn: 0.4878359\ttotal: 238ms\tremaining: 732ms\n",
      "49:\tlearn: 0.4850755\ttotal: 242ms\tremaining: 726ms\n",
      "50:\tlearn: 0.4825927\ttotal: 247ms\tremaining: 721ms\n",
      "51:\tlearn: 0.4798298\ttotal: 252ms\tremaining: 716ms\n",
      "52:\tlearn: 0.4776108\ttotal: 256ms\tremaining: 710ms\n",
      "53:\tlearn: 0.4754405\ttotal: 261ms\tremaining: 704ms\n",
      "54:\tlearn: 0.4733501\ttotal: 265ms\tremaining: 699ms\n",
      "55:\tlearn: 0.4706076\ttotal: 269ms\tremaining: 693ms\n",
      "56:\tlearn: 0.4677355\ttotal: 274ms\tremaining: 687ms\n",
      "57:\tlearn: 0.4656740\ttotal: 278ms\tremaining: 682ms\n",
      "58:\tlearn: 0.4637413\ttotal: 283ms\tremaining: 677ms\n",
      "59:\tlearn: 0.4615248\ttotal: 288ms\tremaining: 672ms\n",
      "60:\tlearn: 0.4599759\ttotal: 293ms\tremaining: 667ms\n",
      "61:\tlearn: 0.4583985\ttotal: 294ms\tremaining: 655ms\n",
      "62:\tlearn: 0.4567064\ttotal: 299ms\tremaining: 650ms\n",
      "63:\tlearn: 0.4540942\ttotal: 303ms\tremaining: 644ms\n",
      "64:\tlearn: 0.4529822\ttotal: 304ms\tremaining: 632ms\n",
      "65:\tlearn: 0.4512090\ttotal: 309ms\tremaining: 628ms\n",
      "66:\tlearn: 0.4486739\ttotal: 313ms\tremaining: 622ms\n",
      "67:\tlearn: 0.4467865\ttotal: 318ms\tremaining: 617ms\n",
      "68:\tlearn: 0.4449614\ttotal: 322ms\tremaining: 612ms\n",
      "69:\tlearn: 0.4426120\ttotal: 327ms\tremaining: 607ms\n",
      "70:\tlearn: 0.4401612\ttotal: 331ms\tremaining: 602ms\n",
      "71:\tlearn: 0.4380696\ttotal: 336ms\tremaining: 597ms\n",
      "72:\tlearn: 0.4367153\ttotal: 340ms\tremaining: 592ms\n",
      "73:\tlearn: 0.4353223\ttotal: 345ms\tremaining: 587ms\n",
      "74:\tlearn: 0.4339943\ttotal: 349ms\tremaining: 582ms\n",
      "75:\tlearn: 0.4315641\ttotal: 354ms\tremaining: 577ms\n",
      "76:\tlearn: 0.4298680\ttotal: 358ms\tremaining: 572ms\n",
      "77:\tlearn: 0.4285275\ttotal: 363ms\tremaining: 568ms\n",
      "78:\tlearn: 0.4265791\ttotal: 368ms\tremaining: 563ms\n",
      "79:\tlearn: 0.4244024\ttotal: 372ms\tremaining: 558ms\n",
      "80:\tlearn: 0.4228361\ttotal: 377ms\tremaining: 554ms\n",
      "81:\tlearn: 0.4214212\ttotal: 381ms\tremaining: 549ms\n",
      "82:\tlearn: 0.4200602\ttotal: 386ms\tremaining: 544ms\n",
      "83:\tlearn: 0.4184320\ttotal: 391ms\tremaining: 540ms\n",
      "84:\tlearn: 0.4167986\ttotal: 395ms\tremaining: 535ms\n",
      "85:\tlearn: 0.4156404\ttotal: 400ms\tremaining: 531ms\n",
      "86:\tlearn: 0.4140656\ttotal: 405ms\tremaining: 526ms\n",
      "87:\tlearn: 0.4124223\ttotal: 410ms\tremaining: 521ms\n",
      "88:\tlearn: 0.4107329\ttotal: 414ms\tremaining: 516ms\n",
      "89:\tlearn: 0.4090922\ttotal: 419ms\tremaining: 512ms\n",
      "90:\tlearn: 0.4075416\ttotal: 423ms\tremaining: 507ms\n",
      "91:\tlearn: 0.4062399\ttotal: 428ms\tremaining: 502ms\n",
      "92:\tlearn: 0.4044658\ttotal: 432ms\tremaining: 497ms\n",
      "93:\tlearn: 0.4030179\ttotal: 437ms\tremaining: 492ms\n",
      "94:\tlearn: 0.4012034\ttotal: 441ms\tremaining: 487ms\n",
      "95:\tlearn: 0.3994677\ttotal: 446ms\tremaining: 483ms\n",
      "96:\tlearn: 0.3983236\ttotal: 450ms\tremaining: 478ms\n",
      "97:\tlearn: 0.3969830\ttotal: 454ms\tremaining: 473ms\n",
      "98:\tlearn: 0.3955620\ttotal: 459ms\tremaining: 468ms\n",
      "99:\tlearn: 0.3946122\ttotal: 464ms\tremaining: 464ms\n",
      "100:\tlearn: 0.3932345\ttotal: 468ms\tremaining: 459ms\n",
      "101:\tlearn: 0.3920746\ttotal: 473ms\tremaining: 454ms\n",
      "102:\tlearn: 0.3911707\ttotal: 477ms\tremaining: 450ms\n",
      "103:\tlearn: 0.3895752\ttotal: 482ms\tremaining: 445ms\n",
      "104:\tlearn: 0.3880976\ttotal: 486ms\tremaining: 440ms\n",
      "105:\tlearn: 0.3867508\ttotal: 491ms\tremaining: 435ms\n",
      "106:\tlearn: 0.3855281\ttotal: 495ms\tremaining: 431ms\n",
      "107:\tlearn: 0.3841015\ttotal: 500ms\tremaining: 426ms\n",
      "108:\tlearn: 0.3829276\ttotal: 504ms\tremaining: 421ms\n",
      "109:\tlearn: 0.3818795\ttotal: 509ms\tremaining: 416ms\n",
      "110:\tlearn: 0.3809667\ttotal: 513ms\tremaining: 411ms\n",
      "111:\tlearn: 0.3790017\ttotal: 517ms\tremaining: 406ms\n",
      "112:\tlearn: 0.3774333\ttotal: 522ms\tremaining: 402ms\n",
      "113:\tlearn: 0.3762372\ttotal: 526ms\tremaining: 397ms\n",
      "114:\tlearn: 0.3750418\ttotal: 530ms\tremaining: 392ms\n",
      "115:\tlearn: 0.3735203\ttotal: 535ms\tremaining: 387ms\n",
      "116:\tlearn: 0.3727671\ttotal: 539ms\tremaining: 383ms\n",
      "117:\tlearn: 0.3713847\ttotal: 544ms\tremaining: 378ms\n",
      "118:\tlearn: 0.3705588\ttotal: 548ms\tremaining: 373ms\n",
      "119:\tlearn: 0.3694386\ttotal: 553ms\tremaining: 369ms\n",
      "120:\tlearn: 0.3687438\ttotal: 558ms\tremaining: 364ms\n",
      "121:\tlearn: 0.3679429\ttotal: 562ms\tremaining: 359ms\n",
      "122:\tlearn: 0.3666192\ttotal: 567ms\tremaining: 355ms\n",
      "123:\tlearn: 0.3654787\ttotal: 572ms\tremaining: 351ms\n",
      "124:\tlearn: 0.3643185\ttotal: 577ms\tremaining: 346ms\n",
      "125:\tlearn: 0.3636195\ttotal: 582ms\tremaining: 342ms\n",
      "126:\tlearn: 0.3625184\ttotal: 586ms\tremaining: 337ms\n",
      "127:\tlearn: 0.3609778\ttotal: 591ms\tremaining: 332ms\n",
      "128:\tlearn: 0.3595979\ttotal: 596ms\tremaining: 328ms\n",
      "129:\tlearn: 0.3583702\ttotal: 600ms\tremaining: 323ms\n",
      "130:\tlearn: 0.3569225\ttotal: 605ms\tremaining: 318ms\n",
      "131:\tlearn: 0.3558535\ttotal: 609ms\tremaining: 314ms\n",
      "132:\tlearn: 0.3548312\ttotal: 614ms\tremaining: 309ms\n",
      "133:\tlearn: 0.3533459\ttotal: 618ms\tremaining: 304ms\n",
      "134:\tlearn: 0.3524239\ttotal: 622ms\tremaining: 300ms\n",
      "135:\tlearn: 0.3517958\ttotal: 627ms\tremaining: 295ms\n",
      "136:\tlearn: 0.3504984\ttotal: 632ms\tremaining: 290ms\n",
      "137:\tlearn: 0.3497339\ttotal: 636ms\tremaining: 286ms\n",
      "138:\tlearn: 0.3488643\ttotal: 640ms\tremaining: 281ms\n",
      "139:\tlearn: 0.3482265\ttotal: 645ms\tremaining: 276ms\n",
      "140:\tlearn: 0.3470774\ttotal: 649ms\tremaining: 272ms\n",
      "141:\tlearn: 0.3458237\ttotal: 654ms\tremaining: 267ms\n",
      "142:\tlearn: 0.3445470\ttotal: 658ms\tremaining: 262ms\n",
      "143:\tlearn: 0.3436377\ttotal: 662ms\tremaining: 257ms\n",
      "144:\tlearn: 0.3426585\ttotal: 666ms\tremaining: 253ms\n",
      "145:\tlearn: 0.3417233\ttotal: 671ms\tremaining: 248ms\n",
      "146:\tlearn: 0.3407541\ttotal: 675ms\tremaining: 243ms\n",
      "147:\tlearn: 0.3397798\ttotal: 679ms\tremaining: 239ms\n",
      "148:\tlearn: 0.3390128\ttotal: 684ms\tremaining: 234ms\n",
      "149:\tlearn: 0.3381272\ttotal: 688ms\tremaining: 229ms\n",
      "150:\tlearn: 0.3374740\ttotal: 693ms\tremaining: 225ms\n",
      "151:\tlearn: 0.3365500\ttotal: 697ms\tremaining: 220ms\n",
      "152:\tlearn: 0.3358489\ttotal: 702ms\tremaining: 216ms\n",
      "153:\tlearn: 0.3346096\ttotal: 706ms\tremaining: 211ms\n",
      "154:\tlearn: 0.3335622\ttotal: 710ms\tremaining: 206ms\n",
      "155:\tlearn: 0.3330435\ttotal: 715ms\tremaining: 202ms\n",
      "156:\tlearn: 0.3323843\ttotal: 719ms\tremaining: 197ms\n",
      "157:\tlearn: 0.3312172\ttotal: 724ms\tremaining: 192ms\n",
      "158:\tlearn: 0.3299437\ttotal: 728ms\tremaining: 188ms\n",
      "159:\tlearn: 0.3286515\ttotal: 732ms\tremaining: 183ms\n",
      "160:\tlearn: 0.3275885\ttotal: 737ms\tremaining: 178ms\n",
      "161:\tlearn: 0.3266739\ttotal: 741ms\tremaining: 174ms\n",
      "162:\tlearn: 0.3258986\ttotal: 746ms\tremaining: 169ms\n",
      "163:\tlearn: 0.3249133\ttotal: 750ms\tremaining: 165ms\n",
      "164:\tlearn: 0.3241480\ttotal: 755ms\tremaining: 160ms\n",
      "165:\tlearn: 0.3237404\ttotal: 760ms\tremaining: 156ms\n",
      "166:\tlearn: 0.3228217\ttotal: 765ms\tremaining: 151ms\n",
      "167:\tlearn: 0.3218088\ttotal: 769ms\tremaining: 147ms\n",
      "168:\tlearn: 0.3209179\ttotal: 774ms\tremaining: 142ms\n",
      "169:\tlearn: 0.3200101\ttotal: 779ms\tremaining: 137ms\n",
      "170:\tlearn: 0.3188984\ttotal: 783ms\tremaining: 133ms\n",
      "171:\tlearn: 0.3178642\ttotal: 788ms\tremaining: 128ms\n",
      "172:\tlearn: 0.3172455\ttotal: 793ms\tremaining: 124ms\n",
      "173:\tlearn: 0.3166261\ttotal: 797ms\tremaining: 119ms\n",
      "174:\tlearn: 0.3157320\ttotal: 802ms\tremaining: 115ms\n",
      "175:\tlearn: 0.3149761\ttotal: 806ms\tremaining: 110ms\n",
      "176:\tlearn: 0.3142430\ttotal: 810ms\tremaining: 105ms\n",
      "177:\tlearn: 0.3138263\ttotal: 815ms\tremaining: 101ms\n",
      "178:\tlearn: 0.3133229\ttotal: 819ms\tremaining: 96.1ms\n",
      "179:\tlearn: 0.3124656\ttotal: 824ms\tremaining: 91.5ms\n",
      "180:\tlearn: 0.3114844\ttotal: 828ms\tremaining: 87ms\n",
      "181:\tlearn: 0.3109799\ttotal: 833ms\tremaining: 82.4ms\n",
      "182:\tlearn: 0.3105137\ttotal: 837ms\tremaining: 77.8ms\n",
      "183:\tlearn: 0.3094123\ttotal: 842ms\tremaining: 73.2ms\n",
      "184:\tlearn: 0.3087045\ttotal: 846ms\tremaining: 68.6ms\n",
      "185:\tlearn: 0.3079423\ttotal: 851ms\tremaining: 64ms\n",
      "186:\tlearn: 0.3071831\ttotal: 855ms\tremaining: 59.4ms\n",
      "187:\tlearn: 0.3061123\ttotal: 859ms\tremaining: 54.8ms\n",
      "188:\tlearn: 0.3054302\ttotal: 864ms\tremaining: 50.3ms\n",
      "189:\tlearn: 0.3048047\ttotal: 868ms\tremaining: 45.7ms\n",
      "190:\tlearn: 0.3042241\ttotal: 873ms\tremaining: 41.1ms\n",
      "191:\tlearn: 0.3036602\ttotal: 877ms\tremaining: 36.6ms\n",
      "192:\tlearn: 0.3028507\ttotal: 882ms\tremaining: 32ms\n",
      "193:\tlearn: 0.3019733\ttotal: 886ms\tremaining: 27.4ms\n",
      "194:\tlearn: 0.3009586\ttotal: 891ms\tremaining: 22.8ms\n",
      "195:\tlearn: 0.3001835\ttotal: 895ms\tremaining: 18.3ms\n",
      "196:\tlearn: 0.2999266\ttotal: 898ms\tremaining: 13.7ms\n",
      "197:\tlearn: 0.2993811\ttotal: 902ms\tremaining: 9.11ms\n",
      "198:\tlearn: 0.2986293\ttotal: 907ms\tremaining: 4.55ms\n",
      "199:\tlearn: 0.2980044\ttotal: 911ms\tremaining: 0us\n"
     ]
    }
   ],
   "source": [
    "catb_tuned =  CatBoostClassifier(depth=8, iterations=200, learning_rate=0.01).fit(X_train, y_train)"
   ]
  },
  {
   "cell_type": "code",
   "execution_count": 110,
   "id": "70a7ec59-9829-488d-8da1-f1e7d0692b12",
   "metadata": {},
   "outputs": [],
   "source": [
    "y_pred = catb_tuned.predict(X_test)"
   ]
  },
  {
   "cell_type": "code",
   "execution_count": 111,
   "id": "8d724ac7-0d32-4492-b8c6-473509d7c7cf",
   "metadata": {},
   "outputs": [
    {
     "data": {
      "text/plain": [
       "0.7532467532467533"
      ]
     },
     "execution_count": 111,
     "metadata": {},
     "output_type": "execute_result"
    }
   ],
   "source": [
    "accuracy_score(y_test, y_pred)"
   ]
  },
  {
   "cell_type": "code",
   "execution_count": 112,
   "id": "75fd56e2-bbff-4e07-8ce0-584644f8cbc6",
   "metadata": {},
   "outputs": [
    {
     "data": {
      "image/png": "[encoded data removed]",
      "text/plain": [
       "<Figure size 432x288 with 1 Axes>"
      ]
     },
     "metadata": {
      "needs_background": "light"
     },
     "output_type": "display_data"
    }
   ],
   "source": [
    "feature_imp = pd.Series(catb_tuned.feature_importances_,\n",
    "                        index=X_train.columns).sort_values(ascending=False)\n",
    "\n",
    "sns.barplot(x=feature_imp, y=feature_imp.index)\n",
    "plt.xlabel('Değişken Önem Skorları')\n",
    "plt.ylabel('Değişkenler')\n",
    "plt.title(\"Değişken Önem Düzeyleri\")\n",
    "plt.show()"
   ]
  }
 ],
 "metadata": {
  "kernelspec": {
   "display_name": "Python 3 (ipykernel)",
   "language": "python",
   "name": "python3"
  },
  "language_info": {
   "codemirror_mode": {
    "name": "ipython",
    "version": 3
   },
   "file_extension": ".py",
   "mimetype": "text/x-python",
   "name": "python",
   "nbconvert_exporter": "python",
   "pygments_lexer": "ipython3",
   "version": "3.9.12"
  }
 },
 "nbformat": 4,
 "nbformat_minor": 5
}
